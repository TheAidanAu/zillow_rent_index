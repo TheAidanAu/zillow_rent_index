{
 "cells": [
  {
   "cell_type": "code",
   "execution_count": 26,
   "id": "06d80119",
   "metadata": {},
   "outputs": [],
   "source": [
    "import numpy as np\n",
    "import pandas as pd"
   ]
  },
  {
   "cell_type": "code",
   "execution_count": 27,
   "id": "c6a842b3",
   "metadata": {},
   "outputs": [],
   "source": [
    "zri = pd.read_csv('../data/Zip_Zri_MultiFamilyResidenceRental.csv')"
   ]
  },
  {
   "cell_type": "code",
   "execution_count": 28,
   "id": "0846d79b",
   "metadata": {},
   "outputs": [
    {
     "data": {
      "text/html": [
       "<div>\n",
       "<style scoped>\n",
       "    .dataframe tbody tr th:only-of-type {\n",
       "        vertical-align: middle;\n",
       "    }\n",
       "\n",
       "    .dataframe tbody tr th {\n",
       "        vertical-align: top;\n",
       "    }\n",
       "\n",
       "    .dataframe thead th {\n",
       "        text-align: right;\n",
       "    }\n",
       "</style>\n",
       "<table border=\"1\" class=\"dataframe\">\n",
       "  <thead>\n",
       "    <tr style=\"text-align: right;\">\n",
       "      <th></th>\n",
       "      <th>RegionID</th>\n",
       "      <th>RegionName</th>\n",
       "      <th>City</th>\n",
       "      <th>State</th>\n",
       "      <th>Metro</th>\n",
       "      <th>CountyName</th>\n",
       "      <th>SizeRank</th>\n",
       "      <th>2010-09</th>\n",
       "      <th>2010-10</th>\n",
       "      <th>2010-11</th>\n",
       "      <th>...</th>\n",
       "      <th>2019-04</th>\n",
       "      <th>2019-05</th>\n",
       "      <th>2019-06</th>\n",
       "      <th>2019-07</th>\n",
       "      <th>2019-08</th>\n",
       "      <th>2019-09</th>\n",
       "      <th>2019-10</th>\n",
       "      <th>2019-11</th>\n",
       "      <th>2019-12</th>\n",
       "      <th>2020-01</th>\n",
       "    </tr>\n",
       "  </thead>\n",
       "  <tbody>\n",
       "    <tr>\n",
       "      <th>0</th>\n",
       "      <td>61639</td>\n",
       "      <td>10025</td>\n",
       "      <td>New York</td>\n",
       "      <td>NY</td>\n",
       "      <td>New York-Newark-Jersey City</td>\n",
       "      <td>New York County</td>\n",
       "      <td>1</td>\n",
       "      <td>2930.0</td>\n",
       "      <td>2952.0</td>\n",
       "      <td>2926.0</td>\n",
       "      <td>...</td>\n",
       "      <td>3484.0</td>\n",
       "      <td>3523.0</td>\n",
       "      <td>3573.0</td>\n",
       "      <td>3622.0</td>\n",
       "      <td>3664.0</td>\n",
       "      <td>3698.0</td>\n",
       "      <td>3704.0</td>\n",
       "      <td>3692.0</td>\n",
       "      <td>3715.0</td>\n",
       "      <td>3676.0</td>\n",
       "    </tr>\n",
       "    <tr>\n",
       "      <th>1</th>\n",
       "      <td>84654</td>\n",
       "      <td>60657</td>\n",
       "      <td>Chicago</td>\n",
       "      <td>IL</td>\n",
       "      <td>Chicago-Naperville-Elgin</td>\n",
       "      <td>Cook County</td>\n",
       "      <td>2</td>\n",
       "      <td>1447.0</td>\n",
       "      <td>1465.0</td>\n",
       "      <td>1469.0</td>\n",
       "      <td>...</td>\n",
       "      <td>1731.0</td>\n",
       "      <td>1749.0</td>\n",
       "      <td>1768.0</td>\n",
       "      <td>1787.0</td>\n",
       "      <td>1801.0</td>\n",
       "      <td>1806.0</td>\n",
       "      <td>1789.0</td>\n",
       "      <td>1761.0</td>\n",
       "      <td>1747.0</td>\n",
       "      <td>1731.0</td>\n",
       "    </tr>\n",
       "    <tr>\n",
       "      <th>2</th>\n",
       "      <td>61637</td>\n",
       "      <td>10023</td>\n",
       "      <td>New York</td>\n",
       "      <td>NY</td>\n",
       "      <td>New York-Newark-Jersey City</td>\n",
       "      <td>New York County</td>\n",
       "      <td>3</td>\n",
       "      <td>2797.0</td>\n",
       "      <td>2811.0</td>\n",
       "      <td>2813.0</td>\n",
       "      <td>...</td>\n",
       "      <td>3449.0</td>\n",
       "      <td>3459.0</td>\n",
       "      <td>3479.0</td>\n",
       "      <td>3491.0</td>\n",
       "      <td>3510.0</td>\n",
       "      <td>3521.0</td>\n",
       "      <td>3574.0</td>\n",
       "      <td>3608.0</td>\n",
       "      <td>3561.0</td>\n",
       "      <td>NaN</td>\n",
       "    </tr>\n",
       "    <tr>\n",
       "      <th>3</th>\n",
       "      <td>91982</td>\n",
       "      <td>77494</td>\n",
       "      <td>Katy</td>\n",
       "      <td>TX</td>\n",
       "      <td>Houston-The Woodlands-Sugar Land</td>\n",
       "      <td>Harris County</td>\n",
       "      <td>4</td>\n",
       "      <td>NaN</td>\n",
       "      <td>NaN</td>\n",
       "      <td>NaN</td>\n",
       "      <td>...</td>\n",
       "      <td>1226.0</td>\n",
       "      <td>1250.0</td>\n",
       "      <td>1264.0</td>\n",
       "      <td>1251.0</td>\n",
       "      <td>1246.0</td>\n",
       "      <td>1252.0</td>\n",
       "      <td>1280.0</td>\n",
       "      <td>1310.0</td>\n",
       "      <td>1294.0</td>\n",
       "      <td>1286.0</td>\n",
       "    </tr>\n",
       "    <tr>\n",
       "      <th>4</th>\n",
       "      <td>84616</td>\n",
       "      <td>60614</td>\n",
       "      <td>Chicago</td>\n",
       "      <td>IL</td>\n",
       "      <td>Chicago-Naperville-Elgin</td>\n",
       "      <td>Cook County</td>\n",
       "      <td>5</td>\n",
       "      <td>1437.0</td>\n",
       "      <td>1469.0</td>\n",
       "      <td>1490.0</td>\n",
       "      <td>...</td>\n",
       "      <td>1888.0</td>\n",
       "      <td>1911.0</td>\n",
       "      <td>1934.0</td>\n",
       "      <td>1950.0</td>\n",
       "      <td>1953.0</td>\n",
       "      <td>1952.0</td>\n",
       "      <td>1921.0</td>\n",
       "      <td>1958.0</td>\n",
       "      <td>NaN</td>\n",
       "      <td>1916.0</td>\n",
       "    </tr>\n",
       "  </tbody>\n",
       "</table>\n",
       "<p>5 rows × 120 columns</p>\n",
       "</div>"
      ],
      "text/plain": [
       "   RegionID  RegionName      City State                             Metro  \\\n",
       "0     61639       10025  New York    NY       New York-Newark-Jersey City   \n",
       "1     84654       60657   Chicago    IL          Chicago-Naperville-Elgin   \n",
       "2     61637       10023  New York    NY       New York-Newark-Jersey City   \n",
       "3     91982       77494      Katy    TX  Houston-The Woodlands-Sugar Land   \n",
       "4     84616       60614   Chicago    IL          Chicago-Naperville-Elgin   \n",
       "\n",
       "        CountyName  SizeRank  2010-09  2010-10  2010-11  ...  2019-04  \\\n",
       "0  New York County         1   2930.0   2952.0   2926.0  ...   3484.0   \n",
       "1      Cook County         2   1447.0   1465.0   1469.0  ...   1731.0   \n",
       "2  New York County         3   2797.0   2811.0   2813.0  ...   3449.0   \n",
       "3    Harris County         4      NaN      NaN      NaN  ...   1226.0   \n",
       "4      Cook County         5   1437.0   1469.0   1490.0  ...   1888.0   \n",
       "\n",
       "   2019-05  2019-06  2019-07  2019-08  2019-09  2019-10  2019-11  2019-12  \\\n",
       "0   3523.0   3573.0   3622.0   3664.0   3698.0   3704.0   3692.0   3715.0   \n",
       "1   1749.0   1768.0   1787.0   1801.0   1806.0   1789.0   1761.0   1747.0   \n",
       "2   3459.0   3479.0   3491.0   3510.0   3521.0   3574.0   3608.0   3561.0   \n",
       "3   1250.0   1264.0   1251.0   1246.0   1252.0   1280.0   1310.0   1294.0   \n",
       "4   1911.0   1934.0   1950.0   1953.0   1952.0   1921.0   1958.0      NaN   \n",
       "\n",
       "   2020-01  \n",
       "0   3676.0  \n",
       "1   1731.0  \n",
       "2      NaN  \n",
       "3   1286.0  \n",
       "4   1916.0  \n",
       "\n",
       "[5 rows x 120 columns]"
      ]
     },
     "execution_count": 28,
     "metadata": {},
     "output_type": "execute_result"
    }
   ],
   "source": [
    "zri.head()"
   ]
  },
  {
   "cell_type": "code",
   "execution_count": 29,
   "id": "28b7d65e",
   "metadata": {},
   "outputs": [
    {
     "name": "stdout",
     "output_type": "stream",
     "text": [
      "Stored 'actual_miami_zip' (list)\n"
     ]
    }
   ],
   "source": [
    "actual_miami_zip=sorted(zri[zri[\"Metro\"]==\"Miami-Fort Lauderdale-West Palm Beach\"].RegionName.unique().tolist())\n",
    "%store actual_miami_zip"
   ]
  },
  {
   "cell_type": "code",
   "execution_count": 30,
   "id": "c4c1ccfa",
   "metadata": {},
   "outputs": [
    {
     "name": "stdout",
     "output_type": "stream",
     "text": [
      "Stored 'actual_orlando_zip' (list)\n"
     ]
    }
   ],
   "source": [
    "actual_orlando_zip=sorted(zri[zri[\"Metro\"]==\"Orlando-Kissimmee-Sanford\"].RegionName.unique().tolist())\n",
    "%store actual_orlando_zip"
   ]
  },
  {
   "cell_type": "code",
   "execution_count": 31,
   "id": "ff2ba85f",
   "metadata": {},
   "outputs": [
    {
     "name": "stdout",
     "output_type": "stream",
     "text": [
      "Stored 'actual_tampa_zip' (list)\n"
     ]
    }
   ],
   "source": [
    "actual_tampa_zip=sorted(zri[zri[\"Metro\"]==\"Tampa-St. Petersburg-Clearwater\"].RegionName.unique().tolist())\n",
    "%store actual_tampa_zip"
   ]
  },
  {
   "cell_type": "code",
   "execution_count": 32,
   "id": "9964921d",
   "metadata": {},
   "outputs": [
    {
     "name": "stdout",
     "output_type": "stream",
     "text": [
      "Stored 'actual_jacksonville_zip' (list)\n"
     ]
    }
   ],
   "source": [
    "actual_jacksonville_zip=sorted(zri[zri[\"Metro\"]==\"Jacksonville\"].RegionName.unique().tolist())\n",
    "%store actual_jacksonville_zip"
   ]
  },
  {
   "cell_type": "code",
   "execution_count": 33,
   "id": "4a4fe7a3",
   "metadata": {},
   "outputs": [
    {
     "data": {
      "text/plain": [
       "[33004,\n",
       " 33009,\n",
       " 33010,\n",
       " 33020,\n",
       " 33021,\n",
       " 33024,\n",
       " 33025,\n",
       " 33027,\n",
       " 33033,\n",
       " 33060,\n",
       " 33062,\n",
       " 33064,\n",
       " 33065,\n",
       " 33066,\n",
       " 33068,\n",
       " 33125,\n",
       " 33126,\n",
       " 33127,\n",
       " 33130,\n",
       " 33131,\n",
       " 33132,\n",
       " 33133,\n",
       " 33134,\n",
       " 33135,\n",
       " 33137,\n",
       " 33138,\n",
       " 33139,\n",
       " 33140,\n",
       " 33141,\n",
       " 33142,\n",
       " 33143,\n",
       " 33145,\n",
       " 33146,\n",
       " 33147,\n",
       " 33150,\n",
       " 33154,\n",
       " 33156,\n",
       " 33157,\n",
       " 33160,\n",
       " 33161,\n",
       " 33172,\n",
       " 33178,\n",
       " 33179,\n",
       " 33180,\n",
       " 33186,\n",
       " 33196,\n",
       " 33301,\n",
       " 33304,\n",
       " 33305,\n",
       " 33308,\n",
       " 33311,\n",
       " 33312,\n",
       " 33313,\n",
       " 33314,\n",
       " 33315,\n",
       " 33316,\n",
       " 33323,\n",
       " 33324,\n",
       " 33334,\n",
       " 33401,\n",
       " 33404,\n",
       " 33407,\n",
       " 33413,\n",
       " 33414,\n",
       " 33418,\n",
       " 33432,\n",
       " 33433,\n",
       " 33435,\n",
       " 33436,\n",
       " 33444,\n",
       " 33445,\n",
       " 33458,\n",
       " 33460,\n",
       " 33461,\n",
       " 33483]"
      ]
     },
     "execution_count": 33,
     "metadata": {},
     "output_type": "execute_result"
    }
   ],
   "source": [
    "actual_miami_zip"
   ]
  },
  {
   "cell_type": "code",
   "execution_count": 34,
   "id": "d4208f78",
   "metadata": {},
   "outputs": [
    {
     "data": {
      "text/plain": [
       "[32701,\n",
       " 32703,\n",
       " 32714,\n",
       " 32751,\n",
       " 32765,\n",
       " 32771,\n",
       " 32792,\n",
       " 32801,\n",
       " 32803,\n",
       " 32806,\n",
       " 32807,\n",
       " 32810,\n",
       " 32811,\n",
       " 32812,\n",
       " 32817,\n",
       " 32821,\n",
       " 32822,\n",
       " 32825,\n",
       " 32826,\n",
       " 32827,\n",
       " 32828,\n",
       " 32835,\n",
       " 32837,\n",
       " 32839,\n",
       " 34711,\n",
       " 34747,\n",
       " 34787]"
      ]
     },
     "execution_count": 34,
     "metadata": {},
     "output_type": "execute_result"
    }
   ],
   "source": [
    "actual_orlando_zip"
   ]
  },
  {
   "cell_type": "code",
   "execution_count": 35,
   "id": "66017f4b",
   "metadata": {},
   "outputs": [
    {
     "data": {
      "text/plain": [
       "[33510,\n",
       " 33511,\n",
       " 33578,\n",
       " 33602,\n",
       " 33604,\n",
       " 33605,\n",
       " 33606,\n",
       " 33607,\n",
       " 33611,\n",
       " 33612,\n",
       " 33613,\n",
       " 33615,\n",
       " 33617,\n",
       " 33626,\n",
       " 33634,\n",
       " 33701,\n",
       " 33702,\n",
       " 33705,\n",
       " 33706,\n",
       " 33707,\n",
       " 33708,\n",
       " 33712,\n",
       " 33716,\n",
       " 33755,\n",
       " 33756,\n",
       " 33759,\n",
       " 33764,\n",
       " 33771,\n",
       " 33774,\n",
       " 34683,\n",
       " 34684,\n",
       " 34698]"
      ]
     },
     "execution_count": 35,
     "metadata": {},
     "output_type": "execute_result"
    }
   ],
   "source": [
    "actual_tampa_zip"
   ]
  },
  {
   "cell_type": "code",
   "execution_count": 36,
   "id": "2476d087",
   "metadata": {},
   "outputs": [
    {
     "data": {
      "text/plain": [
       "[32204, 32205, 32206, 32207, 32209, 32216, 32224, 32225, 32246, 32250, 32256]"
      ]
     },
     "execution_count": 36,
     "metadata": {},
     "output_type": "execute_result"
    }
   ],
   "source": [
    "actual_jax_zip"
   ]
  }
 ],
 "metadata": {
  "kernelspec": {
   "display_name": "Python 3 (ipykernel)",
   "language": "python",
   "name": "python3"
  },
  "language_info": {
   "codemirror_mode": {
    "name": "ipython",
    "version": 3
   },
   "file_extension": ".py",
   "mimetype": "text/x-python",
   "name": "python",
   "nbconvert_exporter": "python",
   "pygments_lexer": "ipython3",
   "version": "3.8.8"
  }
 },
 "nbformat": 4,
 "nbformat_minor": 5
}
