{
 "cells": [
  {
   "cell_type": "code",
   "execution_count": 1,
   "id": "387e76de-3249-44ce-b87c-6ffb04e4606b",
   "metadata": {},
   "outputs": [],
   "source": [
    "import pandas as pd\n",
    "import numpy as np\n",
    "from sklearn.metrics import mean_squared_error"
   ]
  },
  {
   "cell_type": "code",
   "execution_count": 2,
   "id": "1aadbe76-340f-41ef-abcc-38cb25fc660d",
   "metadata": {},
   "outputs": [],
   "source": [
    "df = pd.read_csv(\"./data/total_df.csv\")"
   ]
  },
  {
   "cell_type": "code",
   "execution_count": 3,
   "id": "f7d2577e-1898-47a4-83eb-9b14785c74d9",
   "metadata": {},
   "outputs": [
    {
     "data": {
      "text/html": [
       "<div>\n",
       "<style scoped>\n",
       "    .dataframe tbody tr th:only-of-type {\n",
       "        vertical-align: middle;\n",
       "    }\n",
       "\n",
       "    .dataframe tbody tr th {\n",
       "        vertical-align: top;\n",
       "    }\n",
       "\n",
       "    .dataframe thead th {\n",
       "        text-align: right;\n",
       "    }\n",
       "</style>\n",
       "<table border=\"1\" class=\"dataframe\">\n",
       "  <thead>\n",
       "    <tr style=\"text-align: right;\">\n",
       "      <th></th>\n",
       "      <th>zip_code</th>\n",
       "      <th>Yearly_Avg_Zip</th>\n",
       "      <th>FL_Unemployment</th>\n",
       "      <th>year</th>\n",
       "      <th>Encoded_Zip</th>\n",
       "      <th>Unnamed: 0</th>\n",
       "      <th>total_pop</th>\n",
       "      <th>households</th>\n",
       "      <th>male_pop</th>\n",
       "      <th>female_pop</th>\n",
       "      <th>...</th>\n",
       "      <th>occupation_sales_office</th>\n",
       "      <th>occupation_services</th>\n",
       "      <th>management_business_sci_arts_employed</th>\n",
       "      <th>sales_office_employed</th>\n",
       "      <th>in_grades_1_to_4</th>\n",
       "      <th>in_grades_5_to_8</th>\n",
       "      <th>in_grades_9_to_12</th>\n",
       "      <th>in_school</th>\n",
       "      <th>in_undergrad_college</th>\n",
       "      <th>FLSTHPI_Yearly_Avg</th>\n",
       "    </tr>\n",
       "  </thead>\n",
       "  <tbody>\n",
       "    <tr>\n",
       "      <th>0</th>\n",
       "      <td>33160</td>\n",
       "      <td>1988.000000</td>\n",
       "      <td>5.525</td>\n",
       "      <td>2015</td>\n",
       "      <td>73</td>\n",
       "      <td>26881</td>\n",
       "      <td>39235</td>\n",
       "      <td>19187</td>\n",
       "      <td>19087</td>\n",
       "      <td>20148</td>\n",
       "      <td>...</td>\n",
       "      <td>5554.0</td>\n",
       "      <td>2793.0</td>\n",
       "      <td>8276.0</td>\n",
       "      <td>5554.0</td>\n",
       "      <td>1312</td>\n",
       "      <td>994</td>\n",
       "      <td>1283</td>\n",
       "      <td>6732</td>\n",
       "      <td>1737</td>\n",
       "      <td>348.4425</td>\n",
       "    </tr>\n",
       "    <tr>\n",
       "      <th>1</th>\n",
       "      <td>33025</td>\n",
       "      <td>1433.250000</td>\n",
       "      <td>5.525</td>\n",
       "      <td>2015</td>\n",
       "      <td>41</td>\n",
       "      <td>26942</td>\n",
       "      <td>60994</td>\n",
       "      <td>21770</td>\n",
       "      <td>28737</td>\n",
       "      <td>32257</td>\n",
       "      <td>...</td>\n",
       "      <td>9833.0</td>\n",
       "      <td>5714.0</td>\n",
       "      <td>11785.0</td>\n",
       "      <td>9833.0</td>\n",
       "      <td>3150</td>\n",
       "      <td>3155</td>\n",
       "      <td>3604</td>\n",
       "      <td>18386</td>\n",
       "      <td>5038</td>\n",
       "      <td>348.4425</td>\n",
       "    </tr>\n",
       "    <tr>\n",
       "      <th>2</th>\n",
       "      <td>33139</td>\n",
       "      <td>2046.250000</td>\n",
       "      <td>5.525</td>\n",
       "      <td>2015</td>\n",
       "      <td>61</td>\n",
       "      <td>6298</td>\n",
       "      <td>38035</td>\n",
       "      <td>20149</td>\n",
       "      <td>20756</td>\n",
       "      <td>17279</td>\n",
       "      <td>...</td>\n",
       "      <td>5834.0</td>\n",
       "      <td>6648.0</td>\n",
       "      <td>9524.0</td>\n",
       "      <td>5834.0</td>\n",
       "      <td>922</td>\n",
       "      <td>690</td>\n",
       "      <td>491</td>\n",
       "      <td>5580</td>\n",
       "      <td>1745</td>\n",
       "      <td>348.4425</td>\n",
       "    </tr>\n",
       "    <tr>\n",
       "      <th>3</th>\n",
       "      <td>33024</td>\n",
       "      <td>1356.083333</td>\n",
       "      <td>5.525</td>\n",
       "      <td>2015</td>\n",
       "      <td>40</td>\n",
       "      <td>26203</td>\n",
       "      <td>71860</td>\n",
       "      <td>22838</td>\n",
       "      <td>35172</td>\n",
       "      <td>36688</td>\n",
       "      <td>...</td>\n",
       "      <td>11047.0</td>\n",
       "      <td>7175.0</td>\n",
       "      <td>10101.0</td>\n",
       "      <td>11047.0</td>\n",
       "      <td>3785</td>\n",
       "      <td>3863</td>\n",
       "      <td>3637</td>\n",
       "      <td>19756</td>\n",
       "      <td>5345</td>\n",
       "      <td>348.4425</td>\n",
       "    </tr>\n",
       "    <tr>\n",
       "      <th>4</th>\n",
       "      <td>32256</td>\n",
       "      <td>1074.833333</td>\n",
       "      <td>5.525</td>\n",
       "      <td>2015</td>\n",
       "      <td>10</td>\n",
       "      <td>26314</td>\n",
       "      <td>41609</td>\n",
       "      <td>18606</td>\n",
       "      <td>19462</td>\n",
       "      <td>22147</td>\n",
       "      <td>...</td>\n",
       "      <td>6483.0</td>\n",
       "      <td>3406.0</td>\n",
       "      <td>10984.0</td>\n",
       "      <td>6483.0</td>\n",
       "      <td>1854</td>\n",
       "      <td>1751</td>\n",
       "      <td>1887</td>\n",
       "      <td>10474</td>\n",
       "      <td>2926</td>\n",
       "      <td>348.4425</td>\n",
       "    </tr>\n",
       "  </tbody>\n",
       "</table>\n",
       "<p>5 rows × 220 columns</p>\n",
       "</div>"
      ],
      "text/plain": [
       "   zip_code  Yearly_Avg_Zip  FL_Unemployment  year  Encoded_Zip  Unnamed: 0  \\\n",
       "0     33160     1988.000000            5.525  2015           73       26881   \n",
       "1     33025     1433.250000            5.525  2015           41       26942   \n",
       "2     33139     2046.250000            5.525  2015           61        6298   \n",
       "3     33024     1356.083333            5.525  2015           40       26203   \n",
       "4     32256     1074.833333            5.525  2015           10       26314   \n",
       "\n",
       "   total_pop  households  male_pop  female_pop  ...  occupation_sales_office  \\\n",
       "0      39235       19187     19087       20148  ...                   5554.0   \n",
       "1      60994       21770     28737       32257  ...                   9833.0   \n",
       "2      38035       20149     20756       17279  ...                   5834.0   \n",
       "3      71860       22838     35172       36688  ...                  11047.0   \n",
       "4      41609       18606     19462       22147  ...                   6483.0   \n",
       "\n",
       "   occupation_services  management_business_sci_arts_employed  \\\n",
       "0               2793.0                                 8276.0   \n",
       "1               5714.0                                11785.0   \n",
       "2               6648.0                                 9524.0   \n",
       "3               7175.0                                10101.0   \n",
       "4               3406.0                                10984.0   \n",
       "\n",
       "   sales_office_employed  in_grades_1_to_4  in_grades_5_to_8  \\\n",
       "0                 5554.0              1312               994   \n",
       "1                 9833.0              3150              3155   \n",
       "2                 5834.0               922               690   \n",
       "3                11047.0              3785              3863   \n",
       "4                 6483.0              1854              1751   \n",
       "\n",
       "   in_grades_9_to_12  in_school  in_undergrad_college  FLSTHPI_Yearly_Avg  \n",
       "0               1283       6732                  1737            348.4425  \n",
       "1               3604      18386                  5038            348.4425  \n",
       "2                491       5580                  1745            348.4425  \n",
       "3               3637      19756                  5345            348.4425  \n",
       "4               1887      10474                  2926            348.4425  \n",
       "\n",
       "[5 rows x 220 columns]"
      ]
     },
     "execution_count": 3,
     "metadata": {},
     "output_type": "execute_result"
    }
   ],
   "source": [
    "df.head()"
   ]
  },
  {
   "cell_type": "code",
   "execution_count": 4,
   "id": "5ecf9ad2-fa91-4e92-b500-b8f61a42cbb7",
   "metadata": {},
   "outputs": [
    {
     "data": {
      "text/plain": [
       "array([2015, 2016, 2017, 2018])"
      ]
     },
     "execution_count": 4,
     "metadata": {},
     "output_type": "execute_result"
    }
   ],
   "source": [
    "df.year.unique()"
   ]
  },
  {
   "cell_type": "code",
   "execution_count": 5,
   "id": "1768c649-8b73-4d97-bdb8-c988ab6e70d4",
   "metadata": {},
   "outputs": [
    {
     "data": {
      "text/plain": [
       "(480, 220)"
      ]
     },
     "execution_count": 5,
     "metadata": {},
     "output_type": "execute_result"
    }
   ],
   "source": [
    "df.shape"
   ]
  },
  {
   "cell_type": "code",
   "execution_count": 6,
   "id": "fa261870-3d3d-4dd8-a3c9-0c3aa7035047",
   "metadata": {},
   "outputs": [
    {
     "data": {
      "text/plain": [
       "['zip_code',\n",
       " 'Yearly_Avg_Zip',\n",
       " 'FL_Unemployment',\n",
       " 'year',\n",
       " 'Encoded_Zip',\n",
       " 'Unnamed: 0',\n",
       " 'total_pop',\n",
       " 'households',\n",
       " 'male_pop',\n",
       " 'female_pop',\n",
       " 'median_age',\n",
       " 'male_under_5',\n",
       " 'male_5_to_9',\n",
       " 'male_10_to_14',\n",
       " 'male_15_to_17',\n",
       " 'male_18_to_19',\n",
       " 'male_20',\n",
       " 'male_21',\n",
       " 'male_22_to_24',\n",
       " 'male_25_to_29',\n",
       " 'male_30_to_34',\n",
       " 'male_35_to_39',\n",
       " 'male_40_to_44',\n",
       " 'male_45_to_49',\n",
       " 'male_50_to_54',\n",
       " 'male_55_to_59',\n",
       " 'male_65_to_66',\n",
       " 'male_67_to_69',\n",
       " 'male_70_to_74',\n",
       " 'male_75_to_79',\n",
       " 'male_80_to_84',\n",
       " 'male_85_and_over',\n",
       " 'female_under_5',\n",
       " 'female_5_to_9',\n",
       " 'female_10_to_14',\n",
       " 'female_15_to_17',\n",
       " 'female_18_to_19',\n",
       " 'female_20',\n",
       " 'female_21',\n",
       " 'female_22_to_24',\n",
       " 'female_25_to_29',\n",
       " 'female_30_to_34',\n",
       " 'female_35_to_39',\n",
       " 'female_40_to_44',\n",
       " 'female_45_to_49',\n",
       " 'female_50_to_54',\n",
       " 'female_55_to_59',\n",
       " 'female_60_to_61',\n",
       " 'female_62_to_64',\n",
       " 'female_65_to_66',\n",
       " 'female_67_to_69',\n",
       " 'female_70_to_74',\n",
       " 'female_75_to_79',\n",
       " 'female_80_to_84',\n",
       " 'female_85_and_over',\n",
       " 'population_1_year_and_over',\n",
       " 'population_3_years_over',\n",
       " 'pop_16_over',\n",
       " 'pop_25_years_over',\n",
       " 'pop_25_64',\n",
       " 'not_us_citizen_pop',\n",
       " 'other_race_pop',\n",
       " 'two_or_more_races_pop',\n",
       " 'median_income',\n",
       " 'income_per_capita',\n",
       " 'income_less_10000',\n",
       " 'income_10000_14999',\n",
       " 'income_15000_19999',\n",
       " 'income_20000_24999',\n",
       " 'income_25000_29999',\n",
       " 'income_30000_34999',\n",
       " 'income_35000_39999',\n",
       " 'income_40000_44999',\n",
       " 'income_45000_49999',\n",
       " 'income_50000_59999',\n",
       " 'income_60000_74999',\n",
       " 'income_75000_99999',\n",
       " 'income_100000_124999',\n",
       " 'income_125000_149999',\n",
       " 'income_150000_199999',\n",
       " 'income_200000_or_more',\n",
       " 'pop_determined_poverty_status',\n",
       " 'poverty',\n",
       " 'gini_index',\n",
       " 'housing_units',\n",
       " 'renter_occupied_housing_units_paying_cash_median_gross_rent',\n",
       " 'owner_occupied_housing_units_lower_value_quartile',\n",
       " 'owner_occupied_housing_units_median_value',\n",
       " 'owner_occupied_housing_units_upper_value_quartile',\n",
       " 'occupied_housing_units',\n",
       " 'housing_units_renter_occupied',\n",
       " 'vacant_housing_units',\n",
       " 'vacant_housing_units_for_rent',\n",
       " 'vacant_housing_units_for_sale',\n",
       " 'dwellings_1_units_detached',\n",
       " 'dwellings_1_units_attached',\n",
       " 'dwellings_2_units',\n",
       " 'dwellings_3_to_4_units',\n",
       " 'dwellings_5_to_9_units',\n",
       " 'dwellings_10_to_19_units',\n",
       " 'dwellings_20_to_49_units',\n",
       " 'dwellings_50_or_more_units',\n",
       " 'mobile_homes',\n",
       " 'housing_built_2005_or_later',\n",
       " 'housing_built_2000_to_2004',\n",
       " 'housing_built_1939_or_earlier',\n",
       " 'median_year_structure_built',\n",
       " 'married_households',\n",
       " 'nonfamily_households',\n",
       " 'family_households',\n",
       " 'households_public_asst_or_food_stamps',\n",
       " 'male_male_households',\n",
       " 'female_female_households',\n",
       " 'children',\n",
       " 'children_in_single_female_hh',\n",
       " 'median_rent',\n",
       " 'percent_income_spent_on_rent',\n",
       " 'rent_burden_not_computed',\n",
       " 'rent_over_50_percent',\n",
       " 'rent_40_to_50_percent',\n",
       " 'rent_35_to_40_percent',\n",
       " 'rent_30_to_35_percent',\n",
       " 'rent_25_to_30_percent',\n",
       " 'rent_20_to_25_percent',\n",
       " 'rent_15_to_20_percent',\n",
       " 'rent_10_to_15_percent',\n",
       " 'rent_under_10_percent',\n",
       " 'owner_occupied_housing_units',\n",
       " 'million_dollar_housing_units',\n",
       " 'mortgaged_housing_units',\n",
       " 'different_house_year_ago_different_city',\n",
       " 'different_house_year_ago_same_city',\n",
       " 'families_with_young_children',\n",
       " 'two_parent_families_with_young_children',\n",
       " 'two_parents_in_labor_force_families_with_young_children',\n",
       " 'two_parents_father_in_labor_force_families_with_young_children',\n",
       " 'two_parents_mother_in_labor_force_families_with_young_children',\n",
       " 'two_parents_not_in_labor_force_families_with_young_children',\n",
       " 'one_parent_families_with_young_children',\n",
       " 'father_one_parent_families_with_young_children',\n",
       " 'father_in_labor_force_one_parent_families_with_young_children',\n",
       " 'commute_less_10_mins',\n",
       " 'commute_10_14_mins',\n",
       " 'commute_15_19_mins',\n",
       " 'commute_20_24_mins',\n",
       " 'commute_25_29_mins',\n",
       " 'commute_30_34_mins',\n",
       " 'commute_35_44_mins',\n",
       " 'commute_60_more_mins',\n",
       " 'commute_45_59_mins',\n",
       " 'commuters_16_over',\n",
       " 'walked_to_work',\n",
       " 'worked_at_home',\n",
       " 'no_car',\n",
       " 'no_cars',\n",
       " 'one_car',\n",
       " 'two_cars',\n",
       " 'three_cars',\n",
       " 'four_more_cars',\n",
       " 'aggregate_travel_time_to_work',\n",
       " 'commuters_by_public_transportation',\n",
       " 'commuters_by_bus',\n",
       " 'commuters_by_car_truck_van',\n",
       " 'commuters_by_carpool',\n",
       " 'commuters_by_subway_or_elevated',\n",
       " 'commuters_drove_alone',\n",
       " 'group_quarters',\n",
       " 'associates_degree',\n",
       " 'bachelors_degree',\n",
       " 'high_school_diploma',\n",
       " 'less_one_year_college',\n",
       " 'masters_degree',\n",
       " 'one_year_more_college',\n",
       " 'less_than_high_school_graduate',\n",
       " 'high_school_including_ged',\n",
       " 'bachelors_degree_2',\n",
       " 'bachelors_degree_or_higher_25_64',\n",
       " 'graduate_professional_degree',\n",
       " 'some_college_and_associates_degree',\n",
       " 'male_45_64_associates_degree',\n",
       " 'male_45_64_bachelors_degree',\n",
       " 'male_45_64_graduate_degree',\n",
       " 'male_45_64_less_than_9_grade',\n",
       " 'male_45_64_grade_9_12',\n",
       " 'male_45_64_high_school',\n",
       " 'male_45_64_some_college',\n",
       " 'male_45_to_64',\n",
       " 'employed_pop',\n",
       " 'unemployed_pop',\n",
       " 'pop_in_labor_force',\n",
       " 'not_in_labor_force',\n",
       " 'workers_16_and_over',\n",
       " 'armed_forces',\n",
       " 'civilian_labor_force',\n",
       " 'employed_agriculture_forestry_fishing_hunting_mining',\n",
       " 'employed_arts_entertainment_recreation_accommodation_food',\n",
       " 'employed_construction',\n",
       " 'employed_education_health_social',\n",
       " 'employed_finance_insurance_real_estate',\n",
       " 'employed_information',\n",
       " 'employed_manufacturing',\n",
       " 'employed_other_services_not_public_admin',\n",
       " 'employed_public_administration',\n",
       " 'employed_retail_trade',\n",
       " 'employed_science_management_admin_waste',\n",
       " 'employed_transportation_warehousing_utilities',\n",
       " 'employed_wholesale_trade',\n",
       " 'occupation_management_arts',\n",
       " 'occupation_natural_resources_construction_maintenance',\n",
       " 'occupation_production_transportation_material',\n",
       " 'occupation_sales_office',\n",
       " 'occupation_services',\n",
       " 'management_business_sci_arts_employed',\n",
       " 'sales_office_employed',\n",
       " 'in_grades_1_to_4',\n",
       " 'in_grades_5_to_8',\n",
       " 'in_grades_9_to_12',\n",
       " 'in_school',\n",
       " 'in_undergrad_college',\n",
       " 'FLSTHPI_Yearly_Avg']"
      ]
     },
     "execution_count": 6,
     "metadata": {},
     "output_type": "execute_result"
    }
   ],
   "source": [
    "df.columns.tolist()"
   ]
  },
  {
   "cell_type": "code",
   "execution_count": 7,
   "id": "ea59e1a3",
   "metadata": {},
   "outputs": [],
   "source": [
    "df_2015=df[df[\"year\"]==2015]\n",
    "df_2016=df[df[\"year\"]==2016]\n",
    "df_2017=df[df[\"year\"]==2017]\n",
    "df_2018=df[df[\"year\"]==2018]"
   ]
  },
  {
   "cell_type": "code",
   "execution_count": 8,
   "id": "41acf10b",
   "metadata": {},
   "outputs": [
    {
     "data": {
      "text/plain": [
       "(480, 220)"
      ]
     },
     "execution_count": 8,
     "metadata": {},
     "output_type": "execute_result"
    }
   ],
   "source": [
    "df.shape"
   ]
  },
  {
   "cell_type": "code",
   "execution_count": 9,
   "id": "46839be9",
   "metadata": {},
   "outputs": [
    {
     "data": {
      "text/plain": [
       "(112, 220)"
      ]
     },
     "execution_count": 9,
     "metadata": {},
     "output_type": "execute_result"
    }
   ],
   "source": [
    "df_2015.shape"
   ]
  },
  {
   "cell_type": "code",
   "execution_count": 10,
   "id": "5148c9ab",
   "metadata": {},
   "outputs": [
    {
     "data": {
      "text/plain": [
       "(118, 220)"
      ]
     },
     "execution_count": 10,
     "metadata": {},
     "output_type": "execute_result"
    }
   ],
   "source": [
    "df_2016.shape"
   ]
  },
  {
   "cell_type": "code",
   "execution_count": 11,
   "id": "40e6fd5c-ab00-425f-a13f-e1a9077e5c5b",
   "metadata": {},
   "outputs": [
    {
     "data": {
      "text/plain": [
       "(123, 220)"
      ]
     },
     "execution_count": 11,
     "metadata": {},
     "output_type": "execute_result"
    }
   ],
   "source": [
    "df_2017.shape"
   ]
  },
  {
   "cell_type": "code",
   "execution_count": 12,
   "id": "9fc31857-bb28-42b5-bb5d-0831eda40f66",
   "metadata": {},
   "outputs": [
    {
     "data": {
      "text/plain": [
       "(127, 220)"
      ]
     },
     "execution_count": 12,
     "metadata": {},
     "output_type": "execute_result"
    }
   ],
   "source": [
    "df_2018.shape"
   ]
  },
  {
   "cell_type": "code",
   "execution_count": 13,
   "id": "634aa8dd",
   "metadata": {},
   "outputs": [],
   "source": [
    "from sklearn.ensemble import RandomForestRegressor\n",
    "from sklearn.model_selection import train_test_split, cross_val_score, RandomizedSearchCV, GridSearchCV\n"
   ]
  },
  {
   "cell_type": "code",
   "execution_count": 14,
   "id": "f2f5808b",
   "metadata": {},
   "outputs": [],
   "source": [
    "from sklearn.model_selection import KFold\n",
    "kfold = KFold(n_splits=10, shuffle=True, random_state=0)"
   ]
  },
  {
   "cell_type": "code",
   "execution_count": 15,
   "id": "24132af5",
   "metadata": {},
   "outputs": [],
   "source": [
    "X_train, X_test, y_train, y_test = train_test_split(df_2015.drop(columns = 'Yearly_Avg_Zip'), df_2015.Yearly_Avg_Zip, test_size=0.3, random_state=0)"
   ]
  },
  {
   "cell_type": "code",
   "execution_count": 16,
   "id": "d735d02b-76a3-48d5-a3a8-230febe68cba",
   "metadata": {},
   "outputs": [
    {
     "data": {
      "text/plain": [
       "RandomForestRegressor(random_state=0)"
      ]
     },
     "execution_count": 16,
     "metadata": {},
     "output_type": "execute_result"
    }
   ],
   "source": [
    "rf_2015 = RandomForestRegressor(random_state=0)\n",
    "rf_2015.fit(X_train, y_train)"
   ]
  },
  {
   "cell_type": "code",
   "execution_count": 17,
   "id": "ab6c8957",
   "metadata": {},
   "outputs": [
    {
     "data": {
      "text/plain": [
       "220.13803636684648"
      ]
     },
     "execution_count": 17,
     "metadata": {},
     "output_type": "execute_result"
    }
   ],
   "source": [
    "rf_2015_scores = cross_val_score(rf_2015, X_train, y_train, cv=kfold, scoring=\"neg_mean_squared_error\")\n",
    "rmse_train_rf=np.sqrt(np.mean(-rf_2015_scores))\n",
    "rmse_train_rf"
   ]
  },
  {
   "cell_type": "code",
   "execution_count": 18,
   "id": "a3ed75a7-81f5-4280-b678-592a4b21dfd1",
   "metadata": {},
   "outputs": [
    {
     "name": "stdout",
     "output_type": "stream",
     "text": [
      "183.5834474384529\n"
     ]
    }
   ],
   "source": [
    "rmse_test_rf=np.sqrt(mean_squared_error(y_test, rf_2015.predict(X_test)))\n",
    "print(rmse_test_rf)"
   ]
  },
  {
   "cell_type": "code",
   "execution_count": 19,
   "id": "6c16b8bd",
   "metadata": {},
   "outputs": [],
   "source": [
    "X_train, X_test, y_train, y_test = train_test_split(df_2016.drop(columns = 'Yearly_Avg_Zip'), df_2016.Yearly_Avg_Zip, test_size=0.3, random_state=0)"
   ]
  },
  {
   "cell_type": "code",
   "execution_count": 20,
   "id": "13ab0394",
   "metadata": {},
   "outputs": [
    {
     "data": {
      "text/plain": [
       "RandomForestRegressor(random_state=0)"
      ]
     },
     "execution_count": 20,
     "metadata": {},
     "output_type": "execute_result"
    }
   ],
   "source": [
    "rf_2016 = RandomForestRegressor(random_state=0)\n",
    "rf_2016.fit(X_train, y_train)"
   ]
  },
  {
   "cell_type": "code",
   "execution_count": 21,
   "id": "7a4af8df",
   "metadata": {},
   "outputs": [
    {
     "name": "stdout",
     "output_type": "stream",
     "text": [
      "[-1.19758599  0.53939378  0.77705593 -0.3078767  -0.20101109  0.69114258\n",
      "  0.62653567  0.49639593  0.59950053 -0.57027092]\n"
     ]
    },
    {
     "data": {
      "text/plain": [
       "0.1453279721590974"
      ]
     },
     "execution_count": 21,
     "metadata": {},
     "output_type": "execute_result"
    }
   ],
   "source": [
    "rf_2016_scores = cross_val_score(rf_2016, X_train, y_train, cv=kfold)\n",
    "print(rf_2016_scores)\n",
    "np.mean(rf_2016_scores)"
   ]
  },
  {
   "cell_type": "code",
   "execution_count": 22,
   "id": "040826ff",
   "metadata": {},
   "outputs": [
    {
     "data": {
      "text/plain": [
       "0.7538310554241183"
      ]
     },
     "execution_count": 22,
     "metadata": {},
     "output_type": "execute_result"
    }
   ],
   "source": [
    "rf_2016.score(X_test, y_test)"
   ]
  }
 ],
 "metadata": {
  "kernelspec": {
   "display_name": "Python 3",
   "language": "python",
   "name": "python3"
  },
  "language_info": {
   "codemirror_mode": {
    "name": "ipython",
    "version": 3
   },
   "file_extension": ".py",
   "mimetype": "text/x-python",
   "name": "python",
   "nbconvert_exporter": "python",
   "pygments_lexer": "ipython3",
   "version": "3.8.8"
  }
 },
 "nbformat": 4,
 "nbformat_minor": 5
}
