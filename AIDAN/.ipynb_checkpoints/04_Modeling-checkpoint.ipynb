{
 "cells": [
  {
   "cell_type": "code",
   "execution_count": 695,
   "id": "387e76de-3249-44ce-b87c-6ffb04e4606b",
   "metadata": {},
   "outputs": [],
   "source": [
    "import pandas as pd\n",
    "import numpy as np\n",
    "from sklearn.metrics import mean_squared_error"
   ]
  },
  {
   "cell_type": "code",
   "execution_count": 696,
   "id": "1aadbe76-340f-41ef-abcc-38cb25fc660d",
   "metadata": {},
   "outputs": [],
   "source": [
    "df = pd.read_csv(\"./data/total_df.csv\")"
   ]
  },
  {
   "cell_type": "code",
   "execution_count": 697,
   "id": "f7d2577e-1898-47a4-83eb-9b14785c74d9",
   "metadata": {},
   "outputs": [
    {
     "data": {
      "text/html": [
       "<div>\n",
       "<style scoped>\n",
       "    .dataframe tbody tr th:only-of-type {\n",
       "        vertical-align: middle;\n",
       "    }\n",
       "\n",
       "    .dataframe tbody tr th {\n",
       "        vertical-align: top;\n",
       "    }\n",
       "\n",
       "    .dataframe thead th {\n",
       "        text-align: right;\n",
       "    }\n",
       "</style>\n",
       "<table border=\"1\" class=\"dataframe\">\n",
       "  <thead>\n",
       "    <tr style=\"text-align: right;\">\n",
       "      <th></th>\n",
       "      <th>zip_code</th>\n",
       "      <th>Yearly_Avg_Zip</th>\n",
       "      <th>FL_Unemployment</th>\n",
       "      <th>year</th>\n",
       "      <th>Encoded_Zip</th>\n",
       "      <th>total_pop</th>\n",
       "      <th>households</th>\n",
       "      <th>male_pop</th>\n",
       "      <th>female_pop</th>\n",
       "      <th>median_age</th>\n",
       "      <th>...</th>\n",
       "      <th>occupation_sales_office</th>\n",
       "      <th>occupation_services</th>\n",
       "      <th>management_business_sci_arts_employed</th>\n",
       "      <th>sales_office_employed</th>\n",
       "      <th>in_grades_1_to_4</th>\n",
       "      <th>in_grades_5_to_8</th>\n",
       "      <th>in_grades_9_to_12</th>\n",
       "      <th>in_school</th>\n",
       "      <th>in_undergrad_college</th>\n",
       "      <th>FLSTHPI_Yearly_Avg</th>\n",
       "    </tr>\n",
       "  </thead>\n",
       "  <tbody>\n",
       "    <tr>\n",
       "      <th>0</th>\n",
       "      <td>33160</td>\n",
       "      <td>1866.833333</td>\n",
       "      <td>7.533333</td>\n",
       "      <td>2013</td>\n",
       "      <td>73</td>\n",
       "      <td>37674</td>\n",
       "      <td>19247</td>\n",
       "      <td>18472</td>\n",
       "      <td>19202</td>\n",
       "      <td>49.6</td>\n",
       "      <td>...</td>\n",
       "      <td>4713.0</td>\n",
       "      <td>2773.0</td>\n",
       "      <td>7911.0</td>\n",
       "      <td>4713.0</td>\n",
       "      <td>935</td>\n",
       "      <td>1346</td>\n",
       "      <td>965</td>\n",
       "      <td>6471</td>\n",
       "      <td>2019</td>\n",
       "      <td>291.655</td>\n",
       "    </tr>\n",
       "    <tr>\n",
       "      <th>1</th>\n",
       "      <td>33025</td>\n",
       "      <td>1341.083333</td>\n",
       "      <td>7.533333</td>\n",
       "      <td>2013</td>\n",
       "      <td>41</td>\n",
       "      <td>57766</td>\n",
       "      <td>21206</td>\n",
       "      <td>27852</td>\n",
       "      <td>29914</td>\n",
       "      <td>32.9</td>\n",
       "      <td>...</td>\n",
       "      <td>8948.0</td>\n",
       "      <td>5448.0</td>\n",
       "      <td>10806.0</td>\n",
       "      <td>8948.0</td>\n",
       "      <td>2963</td>\n",
       "      <td>3682</td>\n",
       "      <td>3345</td>\n",
       "      <td>18163</td>\n",
       "      <td>4987</td>\n",
       "      <td>291.655</td>\n",
       "    </tr>\n",
       "    <tr>\n",
       "      <th>2</th>\n",
       "      <td>33139</td>\n",
       "      <td>1842.666667</td>\n",
       "      <td>7.533333</td>\n",
       "      <td>2013</td>\n",
       "      <td>61</td>\n",
       "      <td>38066</td>\n",
       "      <td>20883</td>\n",
       "      <td>22090</td>\n",
       "      <td>15976</td>\n",
       "      <td>38.1</td>\n",
       "      <td>...</td>\n",
       "      <td>4865.0</td>\n",
       "      <td>7164.0</td>\n",
       "      <td>9995.0</td>\n",
       "      <td>4865.0</td>\n",
       "      <td>685</td>\n",
       "      <td>649</td>\n",
       "      <td>379</td>\n",
       "      <td>5387</td>\n",
       "      <td>1906</td>\n",
       "      <td>291.655</td>\n",
       "    </tr>\n",
       "    <tr>\n",
       "      <th>3</th>\n",
       "      <td>32256</td>\n",
       "      <td>947.750000</td>\n",
       "      <td>7.533333</td>\n",
       "      <td>2013</td>\n",
       "      <td>10</td>\n",
       "      <td>40024</td>\n",
       "      <td>18039</td>\n",
       "      <td>18865</td>\n",
       "      <td>21159</td>\n",
       "      <td>32.7</td>\n",
       "      <td>...</td>\n",
       "      <td>6247.0</td>\n",
       "      <td>2597.0</td>\n",
       "      <td>11070.0</td>\n",
       "      <td>6247.0</td>\n",
       "      <td>1638</td>\n",
       "      <td>1598</td>\n",
       "      <td>1629</td>\n",
       "      <td>10962</td>\n",
       "      <td>3429</td>\n",
       "      <td>291.655</td>\n",
       "    </tr>\n",
       "    <tr>\n",
       "      <th>4</th>\n",
       "      <td>33009</td>\n",
       "      <td>1443.416667</td>\n",
       "      <td>7.533333</td>\n",
       "      <td>2013</td>\n",
       "      <td>36</td>\n",
       "      <td>39889</td>\n",
       "      <td>19125</td>\n",
       "      <td>19256</td>\n",
       "      <td>20633</td>\n",
       "      <td>47.1</td>\n",
       "      <td>...</td>\n",
       "      <td>4958.0</td>\n",
       "      <td>3977.0</td>\n",
       "      <td>5087.0</td>\n",
       "      <td>4958.0</td>\n",
       "      <td>1335</td>\n",
       "      <td>1020</td>\n",
       "      <td>1249</td>\n",
       "      <td>6495</td>\n",
       "      <td>1885</td>\n",
       "      <td>291.655</td>\n",
       "    </tr>\n",
       "  </tbody>\n",
       "</table>\n",
       "<p>5 rows × 219 columns</p>\n",
       "</div>"
      ],
      "text/plain": [
       "   zip_code  Yearly_Avg_Zip  FL_Unemployment  year  Encoded_Zip  total_pop  \\\n",
       "0     33160     1866.833333         7.533333  2013           73      37674   \n",
       "1     33025     1341.083333         7.533333  2013           41      57766   \n",
       "2     33139     1842.666667         7.533333  2013           61      38066   \n",
       "3     32256      947.750000         7.533333  2013           10      40024   \n",
       "4     33009     1443.416667         7.533333  2013           36      39889   \n",
       "\n",
       "   households  male_pop  female_pop  median_age  ...  occupation_sales_office  \\\n",
       "0       19247     18472       19202        49.6  ...                   4713.0   \n",
       "1       21206     27852       29914        32.9  ...                   8948.0   \n",
       "2       20883     22090       15976        38.1  ...                   4865.0   \n",
       "3       18039     18865       21159        32.7  ...                   6247.0   \n",
       "4       19125     19256       20633        47.1  ...                   4958.0   \n",
       "\n",
       "   occupation_services  management_business_sci_arts_employed  \\\n",
       "0               2773.0                                 7911.0   \n",
       "1               5448.0                                10806.0   \n",
       "2               7164.0                                 9995.0   \n",
       "3               2597.0                                11070.0   \n",
       "4               3977.0                                 5087.0   \n",
       "\n",
       "   sales_office_employed  in_grades_1_to_4  in_grades_5_to_8  \\\n",
       "0                 4713.0               935              1346   \n",
       "1                 8948.0              2963              3682   \n",
       "2                 4865.0               685               649   \n",
       "3                 6247.0              1638              1598   \n",
       "4                 4958.0              1335              1020   \n",
       "\n",
       "   in_grades_9_to_12  in_school  in_undergrad_college  FLSTHPI_Yearly_Avg  \n",
       "0                965       6471                  2019             291.655  \n",
       "1               3345      18163                  4987             291.655  \n",
       "2                379       5387                  1906             291.655  \n",
       "3               1629      10962                  3429             291.655  \n",
       "4               1249       6495                  1885             291.655  \n",
       "\n",
       "[5 rows x 219 columns]"
      ]
     },
     "execution_count": 697,
     "metadata": {},
     "output_type": "execute_result"
    }
   ],
   "source": [
    "df.head()"
   ]
  },
  {
   "cell_type": "code",
   "execution_count": 698,
   "id": "5ecf9ad2-fa91-4e92-b500-b8f61a42cbb7",
   "metadata": {},
   "outputs": [
    {
     "data": {
      "text/plain": [
       "array([2013, 2014, 2015, 2016, 2017, 2018])"
      ]
     },
     "execution_count": 698,
     "metadata": {},
     "output_type": "execute_result"
    }
   ],
   "source": [
    "df.year.unique()"
   ]
  },
  {
   "cell_type": "code",
   "execution_count": 699,
   "id": "1768c649-8b73-4d97-bdb8-c988ab6e70d4",
   "metadata": {},
   "outputs": [
    {
     "data": {
      "text/plain": [
       "(645, 219)"
      ]
     },
     "execution_count": 699,
     "metadata": {},
     "output_type": "execute_result"
    }
   ],
   "source": [
    "df.shape"
   ]
  },
  {
   "cell_type": "code",
   "execution_count": 700,
   "id": "fa261870-3d3d-4dd8-a3c9-0c3aa7035047",
   "metadata": {
    "scrolled": false
   },
   "outputs": [
    {
     "data": {
      "text/plain": [
       "['zip_code',\n",
       " 'Yearly_Avg_Zip',\n",
       " 'FL_Unemployment',\n",
       " 'year',\n",
       " 'Encoded_Zip',\n",
       " 'total_pop',\n",
       " 'households',\n",
       " 'male_pop',\n",
       " 'female_pop',\n",
       " 'median_age',\n",
       " 'male_under_5',\n",
       " 'male_5_to_9',\n",
       " 'male_10_to_14',\n",
       " 'male_15_to_17',\n",
       " 'male_18_to_19',\n",
       " 'male_20',\n",
       " 'male_21',\n",
       " 'male_22_to_24',\n",
       " 'male_25_to_29',\n",
       " 'male_30_to_34',\n",
       " 'male_35_to_39',\n",
       " 'male_40_to_44',\n",
       " 'male_45_to_49',\n",
       " 'male_50_to_54',\n",
       " 'male_55_to_59',\n",
       " 'male_65_to_66',\n",
       " 'male_67_to_69',\n",
       " 'male_70_to_74',\n",
       " 'male_75_to_79',\n",
       " 'male_80_to_84',\n",
       " 'male_85_and_over',\n",
       " 'female_under_5',\n",
       " 'female_5_to_9',\n",
       " 'female_10_to_14',\n",
       " 'female_15_to_17',\n",
       " 'female_18_to_19',\n",
       " 'female_20',\n",
       " 'female_21',\n",
       " 'female_22_to_24',\n",
       " 'female_25_to_29',\n",
       " 'female_30_to_34',\n",
       " 'female_35_to_39',\n",
       " 'female_40_to_44',\n",
       " 'female_45_to_49',\n",
       " 'female_50_to_54',\n",
       " 'female_55_to_59',\n",
       " 'female_60_to_61',\n",
       " 'female_62_to_64',\n",
       " 'female_65_to_66',\n",
       " 'female_67_to_69',\n",
       " 'female_70_to_74',\n",
       " 'female_75_to_79',\n",
       " 'female_80_to_84',\n",
       " 'female_85_and_over',\n",
       " 'population_1_year_and_over',\n",
       " 'population_3_years_over',\n",
       " 'pop_16_over',\n",
       " 'pop_25_years_over',\n",
       " 'pop_25_64',\n",
       " 'not_us_citizen_pop',\n",
       " 'other_race_pop',\n",
       " 'two_or_more_races_pop',\n",
       " 'median_income',\n",
       " 'income_per_capita',\n",
       " 'income_less_10000',\n",
       " 'income_10000_14999',\n",
       " 'income_15000_19999',\n",
       " 'income_20000_24999',\n",
       " 'income_25000_29999',\n",
       " 'income_30000_34999',\n",
       " 'income_35000_39999',\n",
       " 'income_40000_44999',\n",
       " 'income_45000_49999',\n",
       " 'income_50000_59999',\n",
       " 'income_60000_74999',\n",
       " 'income_75000_99999',\n",
       " 'income_100000_124999',\n",
       " 'income_125000_149999',\n",
       " 'income_150000_199999',\n",
       " 'income_200000_or_more',\n",
       " 'pop_determined_poverty_status',\n",
       " 'poverty',\n",
       " 'gini_index',\n",
       " 'housing_units',\n",
       " 'renter_occupied_housing_units_paying_cash_median_gross_rent',\n",
       " 'owner_occupied_housing_units_lower_value_quartile',\n",
       " 'owner_occupied_housing_units_median_value',\n",
       " 'owner_occupied_housing_units_upper_value_quartile',\n",
       " 'occupied_housing_units',\n",
       " 'housing_units_renter_occupied',\n",
       " 'vacant_housing_units',\n",
       " 'vacant_housing_units_for_rent',\n",
       " 'vacant_housing_units_for_sale',\n",
       " 'dwellings_1_units_detached',\n",
       " 'dwellings_1_units_attached',\n",
       " 'dwellings_2_units',\n",
       " 'dwellings_3_to_4_units',\n",
       " 'dwellings_5_to_9_units',\n",
       " 'dwellings_10_to_19_units',\n",
       " 'dwellings_20_to_49_units',\n",
       " 'dwellings_50_or_more_units',\n",
       " 'mobile_homes',\n",
       " 'housing_built_2005_or_later',\n",
       " 'housing_built_2000_to_2004',\n",
       " 'housing_built_1939_or_earlier',\n",
       " 'median_year_structure_built',\n",
       " 'married_households',\n",
       " 'nonfamily_households',\n",
       " 'family_households',\n",
       " 'households_public_asst_or_food_stamps',\n",
       " 'male_male_households',\n",
       " 'female_female_households',\n",
       " 'children',\n",
       " 'children_in_single_female_hh',\n",
       " 'median_rent',\n",
       " 'percent_income_spent_on_rent',\n",
       " 'rent_burden_not_computed',\n",
       " 'rent_over_50_percent',\n",
       " 'rent_40_to_50_percent',\n",
       " 'rent_35_to_40_percent',\n",
       " 'rent_30_to_35_percent',\n",
       " 'rent_25_to_30_percent',\n",
       " 'rent_20_to_25_percent',\n",
       " 'rent_15_to_20_percent',\n",
       " 'rent_10_to_15_percent',\n",
       " 'rent_under_10_percent',\n",
       " 'owner_occupied_housing_units',\n",
       " 'million_dollar_housing_units',\n",
       " 'mortgaged_housing_units',\n",
       " 'different_house_year_ago_different_city',\n",
       " 'different_house_year_ago_same_city',\n",
       " 'families_with_young_children',\n",
       " 'two_parent_families_with_young_children',\n",
       " 'two_parents_in_labor_force_families_with_young_children',\n",
       " 'two_parents_father_in_labor_force_families_with_young_children',\n",
       " 'two_parents_mother_in_labor_force_families_with_young_children',\n",
       " 'two_parents_not_in_labor_force_families_with_young_children',\n",
       " 'one_parent_families_with_young_children',\n",
       " 'father_one_parent_families_with_young_children',\n",
       " 'father_in_labor_force_one_parent_families_with_young_children',\n",
       " 'commute_less_10_mins',\n",
       " 'commute_10_14_mins',\n",
       " 'commute_15_19_mins',\n",
       " 'commute_20_24_mins',\n",
       " 'commute_25_29_mins',\n",
       " 'commute_30_34_mins',\n",
       " 'commute_35_44_mins',\n",
       " 'commute_60_more_mins',\n",
       " 'commute_45_59_mins',\n",
       " 'commuters_16_over',\n",
       " 'walked_to_work',\n",
       " 'worked_at_home',\n",
       " 'no_car',\n",
       " 'no_cars',\n",
       " 'one_car',\n",
       " 'two_cars',\n",
       " 'three_cars',\n",
       " 'four_more_cars',\n",
       " 'aggregate_travel_time_to_work',\n",
       " 'commuters_by_public_transportation',\n",
       " 'commuters_by_bus',\n",
       " 'commuters_by_car_truck_van',\n",
       " 'commuters_by_carpool',\n",
       " 'commuters_by_subway_or_elevated',\n",
       " 'commuters_drove_alone',\n",
       " 'group_quarters',\n",
       " 'associates_degree',\n",
       " 'bachelors_degree',\n",
       " 'high_school_diploma',\n",
       " 'less_one_year_college',\n",
       " 'masters_degree',\n",
       " 'one_year_more_college',\n",
       " 'less_than_high_school_graduate',\n",
       " 'high_school_including_ged',\n",
       " 'bachelors_degree_2',\n",
       " 'bachelors_degree_or_higher_25_64',\n",
       " 'graduate_professional_degree',\n",
       " 'some_college_and_associates_degree',\n",
       " 'male_45_64_associates_degree',\n",
       " 'male_45_64_bachelors_degree',\n",
       " 'male_45_64_graduate_degree',\n",
       " 'male_45_64_less_than_9_grade',\n",
       " 'male_45_64_grade_9_12',\n",
       " 'male_45_64_high_school',\n",
       " 'male_45_64_some_college',\n",
       " 'male_45_to_64',\n",
       " 'employed_pop',\n",
       " 'unemployed_pop',\n",
       " 'pop_in_labor_force',\n",
       " 'not_in_labor_force',\n",
       " 'workers_16_and_over',\n",
       " 'armed_forces',\n",
       " 'civilian_labor_force',\n",
       " 'employed_agriculture_forestry_fishing_hunting_mining',\n",
       " 'employed_arts_entertainment_recreation_accommodation_food',\n",
       " 'employed_construction',\n",
       " 'employed_education_health_social',\n",
       " 'employed_finance_insurance_real_estate',\n",
       " 'employed_information',\n",
       " 'employed_manufacturing',\n",
       " 'employed_other_services_not_public_admin',\n",
       " 'employed_public_administration',\n",
       " 'employed_retail_trade',\n",
       " 'employed_science_management_admin_waste',\n",
       " 'employed_transportation_warehousing_utilities',\n",
       " 'employed_wholesale_trade',\n",
       " 'occupation_management_arts',\n",
       " 'occupation_natural_resources_construction_maintenance',\n",
       " 'occupation_production_transportation_material',\n",
       " 'occupation_sales_office',\n",
       " 'occupation_services',\n",
       " 'management_business_sci_arts_employed',\n",
       " 'sales_office_employed',\n",
       " 'in_grades_1_to_4',\n",
       " 'in_grades_5_to_8',\n",
       " 'in_grades_9_to_12',\n",
       " 'in_school',\n",
       " 'in_undergrad_college',\n",
       " 'FLSTHPI_Yearly_Avg']"
      ]
     },
     "execution_count": 700,
     "metadata": {},
     "output_type": "execute_result"
    }
   ],
   "source": [
    "df.columns.tolist()"
   ]
  },
  {
   "cell_type": "markdown",
   "id": "60ba6080",
   "metadata": {},
   "source": [
    "# Remove Features That Can Cause Leakage"
   ]
  },
  {
   "cell_type": "code",
   "execution_count": 701,
   "id": "be59bfc5",
   "metadata": {},
   "outputs": [],
   "source": [
    "df=df.drop([\n",
    "    'renter_occupied_housing_units_paying_cash_median_gross_rent', \n",
    "    'median_rent', \n",
    "    'percent_income_spent_on_rent', \n",
    "    'rent_burden_not_computed', \n",
    "    'rent_over_50_percent',\n",
    "    'rent_40_to_50_percent',\n",
    "    'rent_35_to_40_percent',\n",
    "    'rent_30_to_35_percent',\n",
    "    'rent_25_to_30_percent',\n",
    "    'rent_20_to_25_percent',\n",
    "    'rent_15_to_20_percent',\n",
    "    'rent_10_to_15_percent',\n",
    "    'rent_under_10_percent'], axis=1\n",
    ")"
   ]
  },
  {
   "cell_type": "markdown",
   "id": "d29ec552",
   "metadata": {},
   "source": [
    "## Get a list of duplicated columns"
   ]
  },
  {
   "cell_type": "code",
   "execution_count": 702,
   "id": "dd574ad3",
   "metadata": {},
   "outputs": [],
   "source": [
    "def getDuplicateColumns(df):\n",
    "    '''\n",
    "    Get a list of duplicate columns.\n",
    "    It will iterate over all the columns in dataframe and find the columns whose contents are duplicate.\n",
    "    :param df: Dataframe object\n",
    "    :return: List of columns whose contents are duplicates.\n",
    "    '''\n",
    "    duplicateColumnNames = set()\n",
    "    # Iterate over all the columns in dataframe\n",
    "    for x in range(df.shape[1]):\n",
    "        # Select column at xth index.\n",
    "        col = df.iloc[:, x]\n",
    "        # Iterate over all the columns in DataFrame from (x+1)th index till end\n",
    "        for y in range(x + 1, df.shape[1]):\n",
    "            # Select column at yth index.\n",
    "            otherCol = df.iloc[:, y]\n",
    "            # Check if two columns at x 7 y index are equal\n",
    "            if col.equals(otherCol):\n",
    "                duplicateColumnNames.add(df.columns.values[y])\n",
    "    return list(duplicateColumnNames)\n",
    "#from https://thispointer.com/how-to-find-drop-duplicate-columns-in-a-dataframe-python-pandas/"
   ]
  },
  {
   "cell_type": "code",
   "execution_count": 703,
   "id": "d23f0276",
   "metadata": {},
   "outputs": [
    {
     "data": {
      "text/plain": [
       "['management_business_sci_arts_employed',\n",
       " 'occupied_housing_units',\n",
       " 'sales_office_employed']"
      ]
     },
     "execution_count": 703,
     "metadata": {},
     "output_type": "execute_result"
    }
   ],
   "source": [
    "dup_cols=getDuplicateColumns(df)\n",
    "dup_cols"
   ]
  },
  {
   "cell_type": "code",
   "execution_count": 704,
   "id": "1da4dc3e",
   "metadata": {},
   "outputs": [],
   "source": [
    "df=df.drop(dup_cols, axis=1)"
   ]
  },
  {
   "cell_type": "markdown",
   "id": "04e27600",
   "metadata": {},
   "source": [
    "# Standardization/Standard Scaling"
   ]
  },
  {
   "cell_type": "code",
   "execution_count": 705,
   "id": "acdfbb96",
   "metadata": {},
   "outputs": [],
   "source": [
    "df_preprocess=df.drop([\"zip_code\", \"year\", \"Yearly_Avg_Zip\"], axis=1)"
   ]
  },
  {
   "cell_type": "code",
   "execution_count": 706,
   "id": "167dc2a6",
   "metadata": {},
   "outputs": [],
   "source": [
    "df_train=pd.DataFrame()"
   ]
  },
  {
   "cell_type": "code",
   "execution_count": 707,
   "id": "4fcb2d92",
   "metadata": {},
   "outputs": [],
   "source": [
    "from sklearn.preprocessing import StandardScaler\n",
    "standard=StandardScaler() #give each column the same range of values and centered around 0\n",
    "standard.fit(df_preprocess)\n",
    "df_train=pd.DataFrame(standard.transform(df_preprocess), \n",
    "                      index=df_preprocess.index, \n",
    "                      columns=df_preprocess.columns)"
   ]
  },
  {
   "cell_type": "code",
   "execution_count": 708,
   "id": "0634c28e",
   "metadata": {},
   "outputs": [
    {
     "data": {
      "text/html": [
       "<div>\n",
       "<style scoped>\n",
       "    .dataframe tbody tr th:only-of-type {\n",
       "        vertical-align: middle;\n",
       "    }\n",
       "\n",
       "    .dataframe tbody tr th {\n",
       "        vertical-align: top;\n",
       "    }\n",
       "\n",
       "    .dataframe thead th {\n",
       "        text-align: right;\n",
       "    }\n",
       "</style>\n",
       "<table border=\"1\" class=\"dataframe\">\n",
       "  <thead>\n",
       "    <tr style=\"text-align: right;\">\n",
       "      <th></th>\n",
       "      <th>FL_Unemployment</th>\n",
       "      <th>Encoded_Zip</th>\n",
       "      <th>total_pop</th>\n",
       "      <th>households</th>\n",
       "      <th>male_pop</th>\n",
       "      <th>female_pop</th>\n",
       "      <th>median_age</th>\n",
       "      <th>male_under_5</th>\n",
       "      <th>male_5_to_9</th>\n",
       "      <th>male_10_to_14</th>\n",
       "      <th>...</th>\n",
       "      <th>occupation_natural_resources_construction_maintenance</th>\n",
       "      <th>occupation_production_transportation_material</th>\n",
       "      <th>occupation_sales_office</th>\n",
       "      <th>occupation_services</th>\n",
       "      <th>in_grades_1_to_4</th>\n",
       "      <th>in_grades_5_to_8</th>\n",
       "      <th>in_grades_9_to_12</th>\n",
       "      <th>in_school</th>\n",
       "      <th>in_undergrad_college</th>\n",
       "      <th>FLSTHPI_Yearly_Avg</th>\n",
       "    </tr>\n",
       "  </thead>\n",
       "  <tbody>\n",
       "    <tr>\n",
       "      <th>0</th>\n",
       "      <td>2.005619</td>\n",
       "      <td>0.068493</td>\n",
       "      <td>0.094607</td>\n",
       "      <td>1.184796</td>\n",
       "      <td>0.119190</td>\n",
       "      <td>0.071695</td>\n",
       "      <td>1.608587</td>\n",
       "      <td>-0.790637</td>\n",
       "      <td>-0.602021</td>\n",
       "      <td>0.123111</td>\n",
       "      <td>...</td>\n",
       "      <td>-0.581888</td>\n",
       "      <td>-0.347586</td>\n",
       "      <td>0.028752</td>\n",
       "      <td>-0.462638</td>\n",
       "      <td>-0.731641</td>\n",
       "      <td>-0.282780</td>\n",
       "      <td>-0.695893</td>\n",
       "      <td>-0.481108</td>\n",
       "      <td>-0.180243</td>\n",
       "      <td>-1.675376</td>\n",
       "    </tr>\n",
       "    <tr>\n",
       "      <th>1</th>\n",
       "      <td>2.005619</td>\n",
       "      <td>-0.719515</td>\n",
       "      <td>1.416572</td>\n",
       "      <td>1.604604</td>\n",
       "      <td>1.419377</td>\n",
       "      <td>1.400375</td>\n",
       "      <td>-1.041677</td>\n",
       "      <td>1.691040</td>\n",
       "      <td>1.698190</td>\n",
       "      <td>2.346499</td>\n",
       "      <td>...</td>\n",
       "      <td>0.118390</td>\n",
       "      <td>0.925189</td>\n",
       "      <td>1.984141</td>\n",
       "      <td>0.905133</td>\n",
       "      <td>1.357065</td>\n",
       "      <td>2.146299</td>\n",
       "      <td>1.566783</td>\n",
       "      <td>1.933062</td>\n",
       "      <td>1.853966</td>\n",
       "      <td>-1.675376</td>\n",
       "    </tr>\n",
       "    <tr>\n",
       "      <th>2</th>\n",
       "      <td>2.005619</td>\n",
       "      <td>-0.227010</td>\n",
       "      <td>0.120399</td>\n",
       "      <td>1.535386</td>\n",
       "      <td>0.620691</td>\n",
       "      <td>-0.328448</td>\n",
       "      <td>-0.216445</td>\n",
       "      <td>-0.209889</td>\n",
       "      <td>-0.826005</td>\n",
       "      <td>-1.200140</td>\n",
       "      <td>...</td>\n",
       "      <td>-0.497730</td>\n",
       "      <td>-0.654671</td>\n",
       "      <td>0.098934</td>\n",
       "      <td>1.782551</td>\n",
       "      <td>-0.989125</td>\n",
       "      <td>-1.007552</td>\n",
       "      <td>-1.253006</td>\n",
       "      <td>-0.704932</td>\n",
       "      <td>-0.257691</td>\n",
       "      <td>-1.675376</td>\n",
       "    </tr>\n",
       "    <tr>\n",
       "      <th>3</th>\n",
       "      <td>2.005619</td>\n",
       "      <td>-1.482898</td>\n",
       "      <td>0.249227</td>\n",
       "      <td>0.925925</td>\n",
       "      <td>0.173665</td>\n",
       "      <td>0.314434</td>\n",
       "      <td>-1.073416</td>\n",
       "      <td>-0.041390</td>\n",
       "      <td>0.144594</td>\n",
       "      <td>0.165586</td>\n",
       "      <td>...</td>\n",
       "      <td>-0.562147</td>\n",
       "      <td>-0.720828</td>\n",
       "      <td>0.737032</td>\n",
       "      <td>-0.552630</td>\n",
       "      <td>-0.007598</td>\n",
       "      <td>-0.020739</td>\n",
       "      <td>-0.064626</td>\n",
       "      <td>0.446196</td>\n",
       "      <td>0.786143</td>\n",
       "      <td>-1.675376</td>\n",
       "    </tr>\n",
       "    <tr>\n",
       "      <th>4</th>\n",
       "      <td>2.005619</td>\n",
       "      <td>-0.842641</td>\n",
       "      <td>0.240344</td>\n",
       "      <td>1.158652</td>\n",
       "      <td>0.227863</td>\n",
       "      <td>0.249191</td>\n",
       "      <td>1.211841</td>\n",
       "      <td>0.169643</td>\n",
       "      <td>-0.322437</td>\n",
       "      <td>-0.373517</td>\n",
       "      <td>...</td>\n",
       "      <td>-0.214086</td>\n",
       "      <td>-0.419667</td>\n",
       "      <td>0.141874</td>\n",
       "      <td>0.152987</td>\n",
       "      <td>-0.319668</td>\n",
       "      <td>-0.621770</td>\n",
       "      <td>-0.425893</td>\n",
       "      <td>-0.476152</td>\n",
       "      <td>-0.272084</td>\n",
       "      <td>-1.675376</td>\n",
       "    </tr>\n",
       "  </tbody>\n",
       "</table>\n",
       "<p>5 rows × 200 columns</p>\n",
       "</div>"
      ],
      "text/plain": [
       "   FL_Unemployment  Encoded_Zip  total_pop  households  male_pop  female_pop  \\\n",
       "0         2.005619     0.068493   0.094607    1.184796  0.119190    0.071695   \n",
       "1         2.005619    -0.719515   1.416572    1.604604  1.419377    1.400375   \n",
       "2         2.005619    -0.227010   0.120399    1.535386  0.620691   -0.328448   \n",
       "3         2.005619    -1.482898   0.249227    0.925925  0.173665    0.314434   \n",
       "4         2.005619    -0.842641   0.240344    1.158652  0.227863    0.249191   \n",
       "\n",
       "   median_age  male_under_5  male_5_to_9  male_10_to_14  ...  \\\n",
       "0    1.608587     -0.790637    -0.602021       0.123111  ...   \n",
       "1   -1.041677      1.691040     1.698190       2.346499  ...   \n",
       "2   -0.216445     -0.209889    -0.826005      -1.200140  ...   \n",
       "3   -1.073416     -0.041390     0.144594       0.165586  ...   \n",
       "4    1.211841      0.169643    -0.322437      -0.373517  ...   \n",
       "\n",
       "   occupation_natural_resources_construction_maintenance  \\\n",
       "0                                          -0.581888       \n",
       "1                                           0.118390       \n",
       "2                                          -0.497730       \n",
       "3                                          -0.562147       \n",
       "4                                          -0.214086       \n",
       "\n",
       "   occupation_production_transportation_material  occupation_sales_office  \\\n",
       "0                                      -0.347586                 0.028752   \n",
       "1                                       0.925189                 1.984141   \n",
       "2                                      -0.654671                 0.098934   \n",
       "3                                      -0.720828                 0.737032   \n",
       "4                                      -0.419667                 0.141874   \n",
       "\n",
       "   occupation_services  in_grades_1_to_4  in_grades_5_to_8  in_grades_9_to_12  \\\n",
       "0            -0.462638         -0.731641         -0.282780          -0.695893   \n",
       "1             0.905133          1.357065          2.146299           1.566783   \n",
       "2             1.782551         -0.989125         -1.007552          -1.253006   \n",
       "3            -0.552630         -0.007598         -0.020739          -0.064626   \n",
       "4             0.152987         -0.319668         -0.621770          -0.425893   \n",
       "\n",
       "   in_school  in_undergrad_college  FLSTHPI_Yearly_Avg  \n",
       "0  -0.481108             -0.180243           -1.675376  \n",
       "1   1.933062              1.853966           -1.675376  \n",
       "2  -0.704932             -0.257691           -1.675376  \n",
       "3   0.446196              0.786143           -1.675376  \n",
       "4  -0.476152             -0.272084           -1.675376  \n",
       "\n",
       "[5 rows x 200 columns]"
      ]
     },
     "execution_count": 708,
     "metadata": {},
     "output_type": "execute_result"
    }
   ],
   "source": [
    "df_train.head()"
   ]
  },
  {
   "cell_type": "code",
   "execution_count": 709,
   "id": "f4538f10",
   "metadata": {},
   "outputs": [],
   "source": [
    "df_train[\"zip_code\"]=df[\"zip_code\"]\n",
    "df_train[\"year\"]=df[\"year\"]\n",
    "df_train[\"Yearly_Avg_Zip\"]=df[\"Yearly_Avg_Zip\"]"
   ]
  },
  {
   "cell_type": "code",
   "execution_count": 710,
   "id": "75254697",
   "metadata": {},
   "outputs": [
    {
     "data": {
      "text/html": [
       "<div>\n",
       "<style scoped>\n",
       "    .dataframe tbody tr th:only-of-type {\n",
       "        vertical-align: middle;\n",
       "    }\n",
       "\n",
       "    .dataframe tbody tr th {\n",
       "        vertical-align: top;\n",
       "    }\n",
       "\n",
       "    .dataframe thead th {\n",
       "        text-align: right;\n",
       "    }\n",
       "</style>\n",
       "<table border=\"1\" class=\"dataframe\">\n",
       "  <thead>\n",
       "    <tr style=\"text-align: right;\">\n",
       "      <th></th>\n",
       "      <th>FL_Unemployment</th>\n",
       "      <th>Encoded_Zip</th>\n",
       "      <th>total_pop</th>\n",
       "      <th>households</th>\n",
       "      <th>male_pop</th>\n",
       "      <th>female_pop</th>\n",
       "      <th>median_age</th>\n",
       "      <th>male_under_5</th>\n",
       "      <th>male_5_to_9</th>\n",
       "      <th>male_10_to_14</th>\n",
       "      <th>...</th>\n",
       "      <th>occupation_services</th>\n",
       "      <th>in_grades_1_to_4</th>\n",
       "      <th>in_grades_5_to_8</th>\n",
       "      <th>in_grades_9_to_12</th>\n",
       "      <th>in_school</th>\n",
       "      <th>in_undergrad_college</th>\n",
       "      <th>FLSTHPI_Yearly_Avg</th>\n",
       "      <th>zip_code</th>\n",
       "      <th>year</th>\n",
       "      <th>Yearly_Avg_Zip</th>\n",
       "    </tr>\n",
       "  </thead>\n",
       "  <tbody>\n",
       "    <tr>\n",
       "      <th>0</th>\n",
       "      <td>2.005619</td>\n",
       "      <td>0.068493</td>\n",
       "      <td>0.094607</td>\n",
       "      <td>1.184796</td>\n",
       "      <td>0.119190</td>\n",
       "      <td>0.071695</td>\n",
       "      <td>1.608587</td>\n",
       "      <td>-0.790637</td>\n",
       "      <td>-0.602021</td>\n",
       "      <td>0.123111</td>\n",
       "      <td>...</td>\n",
       "      <td>-0.462638</td>\n",
       "      <td>-0.731641</td>\n",
       "      <td>-0.282780</td>\n",
       "      <td>-0.695893</td>\n",
       "      <td>-0.481108</td>\n",
       "      <td>-0.180243</td>\n",
       "      <td>-1.675376</td>\n",
       "      <td>33160</td>\n",
       "      <td>2013</td>\n",
       "      <td>1866.833333</td>\n",
       "    </tr>\n",
       "    <tr>\n",
       "      <th>1</th>\n",
       "      <td>2.005619</td>\n",
       "      <td>-0.719515</td>\n",
       "      <td>1.416572</td>\n",
       "      <td>1.604604</td>\n",
       "      <td>1.419377</td>\n",
       "      <td>1.400375</td>\n",
       "      <td>-1.041677</td>\n",
       "      <td>1.691040</td>\n",
       "      <td>1.698190</td>\n",
       "      <td>2.346499</td>\n",
       "      <td>...</td>\n",
       "      <td>0.905133</td>\n",
       "      <td>1.357065</td>\n",
       "      <td>2.146299</td>\n",
       "      <td>1.566783</td>\n",
       "      <td>1.933062</td>\n",
       "      <td>1.853966</td>\n",
       "      <td>-1.675376</td>\n",
       "      <td>33025</td>\n",
       "      <td>2013</td>\n",
       "      <td>1341.083333</td>\n",
       "    </tr>\n",
       "    <tr>\n",
       "      <th>2</th>\n",
       "      <td>2.005619</td>\n",
       "      <td>-0.227010</td>\n",
       "      <td>0.120399</td>\n",
       "      <td>1.535386</td>\n",
       "      <td>0.620691</td>\n",
       "      <td>-0.328448</td>\n",
       "      <td>-0.216445</td>\n",
       "      <td>-0.209889</td>\n",
       "      <td>-0.826005</td>\n",
       "      <td>-1.200140</td>\n",
       "      <td>...</td>\n",
       "      <td>1.782551</td>\n",
       "      <td>-0.989125</td>\n",
       "      <td>-1.007552</td>\n",
       "      <td>-1.253006</td>\n",
       "      <td>-0.704932</td>\n",
       "      <td>-0.257691</td>\n",
       "      <td>-1.675376</td>\n",
       "      <td>33139</td>\n",
       "      <td>2013</td>\n",
       "      <td>1842.666667</td>\n",
       "    </tr>\n",
       "    <tr>\n",
       "      <th>3</th>\n",
       "      <td>2.005619</td>\n",
       "      <td>-1.482898</td>\n",
       "      <td>0.249227</td>\n",
       "      <td>0.925925</td>\n",
       "      <td>0.173665</td>\n",
       "      <td>0.314434</td>\n",
       "      <td>-1.073416</td>\n",
       "      <td>-0.041390</td>\n",
       "      <td>0.144594</td>\n",
       "      <td>0.165586</td>\n",
       "      <td>...</td>\n",
       "      <td>-0.552630</td>\n",
       "      <td>-0.007598</td>\n",
       "      <td>-0.020739</td>\n",
       "      <td>-0.064626</td>\n",
       "      <td>0.446196</td>\n",
       "      <td>0.786143</td>\n",
       "      <td>-1.675376</td>\n",
       "      <td>32256</td>\n",
       "      <td>2013</td>\n",
       "      <td>947.750000</td>\n",
       "    </tr>\n",
       "    <tr>\n",
       "      <th>4</th>\n",
       "      <td>2.005619</td>\n",
       "      <td>-0.842641</td>\n",
       "      <td>0.240344</td>\n",
       "      <td>1.158652</td>\n",
       "      <td>0.227863</td>\n",
       "      <td>0.249191</td>\n",
       "      <td>1.211841</td>\n",
       "      <td>0.169643</td>\n",
       "      <td>-0.322437</td>\n",
       "      <td>-0.373517</td>\n",
       "      <td>...</td>\n",
       "      <td>0.152987</td>\n",
       "      <td>-0.319668</td>\n",
       "      <td>-0.621770</td>\n",
       "      <td>-0.425893</td>\n",
       "      <td>-0.476152</td>\n",
       "      <td>-0.272084</td>\n",
       "      <td>-1.675376</td>\n",
       "      <td>33009</td>\n",
       "      <td>2013</td>\n",
       "      <td>1443.416667</td>\n",
       "    </tr>\n",
       "  </tbody>\n",
       "</table>\n",
       "<p>5 rows × 203 columns</p>\n",
       "</div>"
      ],
      "text/plain": [
       "   FL_Unemployment  Encoded_Zip  total_pop  households  male_pop  female_pop  \\\n",
       "0         2.005619     0.068493   0.094607    1.184796  0.119190    0.071695   \n",
       "1         2.005619    -0.719515   1.416572    1.604604  1.419377    1.400375   \n",
       "2         2.005619    -0.227010   0.120399    1.535386  0.620691   -0.328448   \n",
       "3         2.005619    -1.482898   0.249227    0.925925  0.173665    0.314434   \n",
       "4         2.005619    -0.842641   0.240344    1.158652  0.227863    0.249191   \n",
       "\n",
       "   median_age  male_under_5  male_5_to_9  male_10_to_14  ...  \\\n",
       "0    1.608587     -0.790637    -0.602021       0.123111  ...   \n",
       "1   -1.041677      1.691040     1.698190       2.346499  ...   \n",
       "2   -0.216445     -0.209889    -0.826005      -1.200140  ...   \n",
       "3   -1.073416     -0.041390     0.144594       0.165586  ...   \n",
       "4    1.211841      0.169643    -0.322437      -0.373517  ...   \n",
       "\n",
       "   occupation_services  in_grades_1_to_4  in_grades_5_to_8  in_grades_9_to_12  \\\n",
       "0            -0.462638         -0.731641         -0.282780          -0.695893   \n",
       "1             0.905133          1.357065          2.146299           1.566783   \n",
       "2             1.782551         -0.989125         -1.007552          -1.253006   \n",
       "3            -0.552630         -0.007598         -0.020739          -0.064626   \n",
       "4             0.152987         -0.319668         -0.621770          -0.425893   \n",
       "\n",
       "   in_school  in_undergrad_college  FLSTHPI_Yearly_Avg  zip_code  year  \\\n",
       "0  -0.481108             -0.180243           -1.675376     33160  2013   \n",
       "1   1.933062              1.853966           -1.675376     33025  2013   \n",
       "2  -0.704932             -0.257691           -1.675376     33139  2013   \n",
       "3   0.446196              0.786143           -1.675376     32256  2013   \n",
       "4  -0.476152             -0.272084           -1.675376     33009  2013   \n",
       "\n",
       "   Yearly_Avg_Zip  \n",
       "0     1866.833333  \n",
       "1     1341.083333  \n",
       "2     1842.666667  \n",
       "3      947.750000  \n",
       "4     1443.416667  \n",
       "\n",
       "[5 rows x 203 columns]"
      ]
     },
     "execution_count": 710,
     "metadata": {},
     "output_type": "execute_result"
    }
   ],
   "source": [
    "df_train.head()"
   ]
  },
  {
   "cell_type": "markdown",
   "id": "1887195a",
   "metadata": {},
   "source": [
    "# Feature Selection (Forward Stepwise)"
   ]
  },
  {
   "cell_type": "code",
   "execution_count": 711,
   "id": "fea990b0",
   "metadata": {},
   "outputs": [],
   "source": [
    "def forward_selection(data, target, significance_level=0.05):\n",
    "    import statsmodels.api as sm\n",
    "    initial_features = data.columns.tolist()\n",
    "    best_features = []\n",
    "    while (len(initial_features)>0):\n",
    "        remaining_features = list(set(initial_features)-set(best_features))\n",
    "        new_pval = pd.Series(index=remaining_features)\n",
    "        for new_column in remaining_features:\n",
    "            model = sm.OLS(target, sm.add_constant(data[best_features+[new_column]])).fit()\n",
    "            new_pval[new_column] = model.pvalues[new_column]\n",
    "        min_p_value = new_pval.min()\n",
    "        if(min_p_value<significance_level):\n",
    "            best_features.append(new_pval.idxmin())\n",
    "        else:\n",
    "            break\n",
    "    return best_features\n",
    "#from here \n",
    "#https://www.analyticsvidhya.com/blog/2020/10/a-comprehensive-guide-to-feature-selection-using-wrapper-methods-in-python/"
   ]
  },
  {
   "cell_type": "code",
   "execution_count": 712,
   "id": "d0fa52e5",
   "metadata": {},
   "outputs": [
    {
     "name": "stderr",
     "output_type": "stream",
     "text": [
      "<ipython-input-711-a5c72ccf8d84>:7: DeprecationWarning: The default dtype for empty Series will be 'object' instead of 'float64' in a future version. Specify a dtype explicitly to silence this warning.\n",
      "  new_pval = pd.Series(index=remaining_features)\n",
      "<ipython-input-711-a5c72ccf8d84>:7: DeprecationWarning: The default dtype for empty Series will be 'object' instead of 'float64' in a future version. Specify a dtype explicitly to silence this warning.\n",
      "  new_pval = pd.Series(index=remaining_features)\n",
      "<ipython-input-711-a5c72ccf8d84>:7: DeprecationWarning: The default dtype for empty Series will be 'object' instead of 'float64' in a future version. Specify a dtype explicitly to silence this warning.\n",
      "  new_pval = pd.Series(index=remaining_features)\n",
      "<ipython-input-711-a5c72ccf8d84>:7: DeprecationWarning: The default dtype for empty Series will be 'object' instead of 'float64' in a future version. Specify a dtype explicitly to silence this warning.\n",
      "  new_pval = pd.Series(index=remaining_features)\n",
      "<ipython-input-711-a5c72ccf8d84>:7: DeprecationWarning: The default dtype for empty Series will be 'object' instead of 'float64' in a future version. Specify a dtype explicitly to silence this warning.\n",
      "  new_pval = pd.Series(index=remaining_features)\n",
      "<ipython-input-711-a5c72ccf8d84>:7: DeprecationWarning: The default dtype for empty Series will be 'object' instead of 'float64' in a future version. Specify a dtype explicitly to silence this warning.\n",
      "  new_pval = pd.Series(index=remaining_features)\n",
      "<ipython-input-711-a5c72ccf8d84>:7: DeprecationWarning: The default dtype for empty Series will be 'object' instead of 'float64' in a future version. Specify a dtype explicitly to silence this warning.\n",
      "  new_pval = pd.Series(index=remaining_features)\n",
      "<ipython-input-711-a5c72ccf8d84>:7: DeprecationWarning: The default dtype for empty Series will be 'object' instead of 'float64' in a future version. Specify a dtype explicitly to silence this warning.\n",
      "  new_pval = pd.Series(index=remaining_features)\n",
      "<ipython-input-711-a5c72ccf8d84>:7: DeprecationWarning: The default dtype for empty Series will be 'object' instead of 'float64' in a future version. Specify a dtype explicitly to silence this warning.\n",
      "  new_pval = pd.Series(index=remaining_features)\n",
      "<ipython-input-711-a5c72ccf8d84>:7: DeprecationWarning: The default dtype for empty Series will be 'object' instead of 'float64' in a future version. Specify a dtype explicitly to silence this warning.\n",
      "  new_pval = pd.Series(index=remaining_features)\n",
      "<ipython-input-711-a5c72ccf8d84>:7: DeprecationWarning: The default dtype for empty Series will be 'object' instead of 'float64' in a future version. Specify a dtype explicitly to silence this warning.\n",
      "  new_pval = pd.Series(index=remaining_features)\n",
      "<ipython-input-711-a5c72ccf8d84>:7: DeprecationWarning: The default dtype for empty Series will be 'object' instead of 'float64' in a future version. Specify a dtype explicitly to silence this warning.\n",
      "  new_pval = pd.Series(index=remaining_features)\n",
      "<ipython-input-711-a5c72ccf8d84>:7: DeprecationWarning: The default dtype for empty Series will be 'object' instead of 'float64' in a future version. Specify a dtype explicitly to silence this warning.\n",
      "  new_pval = pd.Series(index=remaining_features)\n",
      "<ipython-input-711-a5c72ccf8d84>:7: DeprecationWarning: The default dtype for empty Series will be 'object' instead of 'float64' in a future version. Specify a dtype explicitly to silence this warning.\n",
      "  new_pval = pd.Series(index=remaining_features)\n",
      "<ipython-input-711-a5c72ccf8d84>:7: DeprecationWarning: The default dtype for empty Series will be 'object' instead of 'float64' in a future version. Specify a dtype explicitly to silence this warning.\n",
      "  new_pval = pd.Series(index=remaining_features)\n",
      "<ipython-input-711-a5c72ccf8d84>:7: DeprecationWarning: The default dtype for empty Series will be 'object' instead of 'float64' in a future version. Specify a dtype explicitly to silence this warning.\n",
      "  new_pval = pd.Series(index=remaining_features)\n",
      "<ipython-input-711-a5c72ccf8d84>:7: DeprecationWarning: The default dtype for empty Series will be 'object' instead of 'float64' in a future version. Specify a dtype explicitly to silence this warning.\n",
      "  new_pval = pd.Series(index=remaining_features)\n",
      "<ipython-input-711-a5c72ccf8d84>:7: DeprecationWarning: The default dtype for empty Series will be 'object' instead of 'float64' in a future version. Specify a dtype explicitly to silence this warning.\n",
      "  new_pval = pd.Series(index=remaining_features)\n",
      "<ipython-input-711-a5c72ccf8d84>:7: DeprecationWarning: The default dtype for empty Series will be 'object' instead of 'float64' in a future version. Specify a dtype explicitly to silence this warning.\n",
      "  new_pval = pd.Series(index=remaining_features)\n",
      "<ipython-input-711-a5c72ccf8d84>:7: DeprecationWarning: The default dtype for empty Series will be 'object' instead of 'float64' in a future version. Specify a dtype explicitly to silence this warning.\n",
      "  new_pval = pd.Series(index=remaining_features)\n",
      "<ipython-input-711-a5c72ccf8d84>:7: DeprecationWarning: The default dtype for empty Series will be 'object' instead of 'float64' in a future version. Specify a dtype explicitly to silence this warning.\n",
      "  new_pval = pd.Series(index=remaining_features)\n",
      "<ipython-input-711-a5c72ccf8d84>:7: DeprecationWarning: The default dtype for empty Series will be 'object' instead of 'float64' in a future version. Specify a dtype explicitly to silence this warning.\n",
      "  new_pval = pd.Series(index=remaining_features)\n",
      "<ipython-input-711-a5c72ccf8d84>:7: DeprecationWarning: The default dtype for empty Series will be 'object' instead of 'float64' in a future version. Specify a dtype explicitly to silence this warning.\n",
      "  new_pval = pd.Series(index=remaining_features)\n",
      "<ipython-input-711-a5c72ccf8d84>:7: DeprecationWarning: The default dtype for empty Series will be 'object' instead of 'float64' in a future version. Specify a dtype explicitly to silence this warning.\n",
      "  new_pval = pd.Series(index=remaining_features)\n",
      "<ipython-input-711-a5c72ccf8d84>:7: DeprecationWarning: The default dtype for empty Series will be 'object' instead of 'float64' in a future version. Specify a dtype explicitly to silence this warning.\n",
      "  new_pval = pd.Series(index=remaining_features)\n",
      "<ipython-input-711-a5c72ccf8d84>:7: DeprecationWarning: The default dtype for empty Series will be 'object' instead of 'float64' in a future version. Specify a dtype explicitly to silence this warning.\n",
      "  new_pval = pd.Series(index=remaining_features)\n",
      "<ipython-input-711-a5c72ccf8d84>:7: DeprecationWarning: The default dtype for empty Series will be 'object' instead of 'float64' in a future version. Specify a dtype explicitly to silence this warning.\n",
      "  new_pval = pd.Series(index=remaining_features)\n",
      "<ipython-input-711-a5c72ccf8d84>:7: DeprecationWarning: The default dtype for empty Series will be 'object' instead of 'float64' in a future version. Specify a dtype explicitly to silence this warning.\n",
      "  new_pval = pd.Series(index=remaining_features)\n",
      "<ipython-input-711-a5c72ccf8d84>:7: DeprecationWarning: The default dtype for empty Series will be 'object' instead of 'float64' in a future version. Specify a dtype explicitly to silence this warning.\n",
      "  new_pval = pd.Series(index=remaining_features)\n",
      "<ipython-input-711-a5c72ccf8d84>:7: DeprecationWarning: The default dtype for empty Series will be 'object' instead of 'float64' in a future version. Specify a dtype explicitly to silence this warning.\n",
      "  new_pval = pd.Series(index=remaining_features)\n",
      "<ipython-input-711-a5c72ccf8d84>:7: DeprecationWarning: The default dtype for empty Series will be 'object' instead of 'float64' in a future version. Specify a dtype explicitly to silence this warning.\n",
      "  new_pval = pd.Series(index=remaining_features)\n",
      "<ipython-input-711-a5c72ccf8d84>:7: DeprecationWarning: The default dtype for empty Series will be 'object' instead of 'float64' in a future version. Specify a dtype explicitly to silence this warning.\n",
      "  new_pval = pd.Series(index=remaining_features)\n",
      "<ipython-input-711-a5c72ccf8d84>:7: DeprecationWarning: The default dtype for empty Series will be 'object' instead of 'float64' in a future version. Specify a dtype explicitly to silence this warning.\n",
      "  new_pval = pd.Series(index=remaining_features)\n"
     ]
    },
    {
     "name": "stderr",
     "output_type": "stream",
     "text": [
      "<ipython-input-711-a5c72ccf8d84>:7: DeprecationWarning: The default dtype for empty Series will be 'object' instead of 'float64' in a future version. Specify a dtype explicitly to silence this warning.\n",
      "  new_pval = pd.Series(index=remaining_features)\n",
      "<ipython-input-711-a5c72ccf8d84>:7: DeprecationWarning: The default dtype for empty Series will be 'object' instead of 'float64' in a future version. Specify a dtype explicitly to silence this warning.\n",
      "  new_pval = pd.Series(index=remaining_features)\n",
      "<ipython-input-711-a5c72ccf8d84>:7: DeprecationWarning: The default dtype for empty Series will be 'object' instead of 'float64' in a future version. Specify a dtype explicitly to silence this warning.\n",
      "  new_pval = pd.Series(index=remaining_features)\n",
      "<ipython-input-711-a5c72ccf8d84>:7: DeprecationWarning: The default dtype for empty Series will be 'object' instead of 'float64' in a future version. Specify a dtype explicitly to silence this warning.\n",
      "  new_pval = pd.Series(index=remaining_features)\n",
      "<ipython-input-711-a5c72ccf8d84>:7: DeprecationWarning: The default dtype for empty Series will be 'object' instead of 'float64' in a future version. Specify a dtype explicitly to silence this warning.\n",
      "  new_pval = pd.Series(index=remaining_features)\n",
      "<ipython-input-711-a5c72ccf8d84>:7: DeprecationWarning: The default dtype for empty Series will be 'object' instead of 'float64' in a future version. Specify a dtype explicitly to silence this warning.\n",
      "  new_pval = pd.Series(index=remaining_features)\n",
      "<ipython-input-711-a5c72ccf8d84>:7: DeprecationWarning: The default dtype for empty Series will be 'object' instead of 'float64' in a future version. Specify a dtype explicitly to silence this warning.\n",
      "  new_pval = pd.Series(index=remaining_features)\n",
      "<ipython-input-711-a5c72ccf8d84>:7: DeprecationWarning: The default dtype for empty Series will be 'object' instead of 'float64' in a future version. Specify a dtype explicitly to silence this warning.\n",
      "  new_pval = pd.Series(index=remaining_features)\n",
      "<ipython-input-711-a5c72ccf8d84>:7: DeprecationWarning: The default dtype for empty Series will be 'object' instead of 'float64' in a future version. Specify a dtype explicitly to silence this warning.\n",
      "  new_pval = pd.Series(index=remaining_features)\n",
      "<ipython-input-711-a5c72ccf8d84>:7: DeprecationWarning: The default dtype for empty Series will be 'object' instead of 'float64' in a future version. Specify a dtype explicitly to silence this warning.\n",
      "  new_pval = pd.Series(index=remaining_features)\n",
      "<ipython-input-711-a5c72ccf8d84>:7: DeprecationWarning: The default dtype for empty Series will be 'object' instead of 'float64' in a future version. Specify a dtype explicitly to silence this warning.\n",
      "  new_pval = pd.Series(index=remaining_features)\n",
      "<ipython-input-711-a5c72ccf8d84>:7: DeprecationWarning: The default dtype for empty Series will be 'object' instead of 'float64' in a future version. Specify a dtype explicitly to silence this warning.\n",
      "  new_pval = pd.Series(index=remaining_features)\n",
      "<ipython-input-711-a5c72ccf8d84>:7: DeprecationWarning: The default dtype for empty Series will be 'object' instead of 'float64' in a future version. Specify a dtype explicitly to silence this warning.\n",
      "  new_pval = pd.Series(index=remaining_features)\n",
      "<ipython-input-711-a5c72ccf8d84>:7: DeprecationWarning: The default dtype for empty Series will be 'object' instead of 'float64' in a future version. Specify a dtype explicitly to silence this warning.\n",
      "  new_pval = pd.Series(index=remaining_features)\n",
      "<ipython-input-711-a5c72ccf8d84>:7: DeprecationWarning: The default dtype for empty Series will be 'object' instead of 'float64' in a future version. Specify a dtype explicitly to silence this warning.\n",
      "  new_pval = pd.Series(index=remaining_features)\n",
      "<ipython-input-711-a5c72ccf8d84>:7: DeprecationWarning: The default dtype for empty Series will be 'object' instead of 'float64' in a future version. Specify a dtype explicitly to silence this warning.\n",
      "  new_pval = pd.Series(index=remaining_features)\n",
      "<ipython-input-711-a5c72ccf8d84>:7: DeprecationWarning: The default dtype for empty Series will be 'object' instead of 'float64' in a future version. Specify a dtype explicitly to silence this warning.\n",
      "  new_pval = pd.Series(index=remaining_features)\n",
      "<ipython-input-711-a5c72ccf8d84>:7: DeprecationWarning: The default dtype for empty Series will be 'object' instead of 'float64' in a future version. Specify a dtype explicitly to silence this warning.\n",
      "  new_pval = pd.Series(index=remaining_features)\n",
      "<ipython-input-711-a5c72ccf8d84>:7: DeprecationWarning: The default dtype for empty Series will be 'object' instead of 'float64' in a future version. Specify a dtype explicitly to silence this warning.\n",
      "  new_pval = pd.Series(index=remaining_features)\n",
      "<ipython-input-711-a5c72ccf8d84>:7: DeprecationWarning: The default dtype for empty Series will be 'object' instead of 'float64' in a future version. Specify a dtype explicitly to silence this warning.\n",
      "  new_pval = pd.Series(index=remaining_features)\n",
      "<ipython-input-711-a5c72ccf8d84>:7: DeprecationWarning: The default dtype for empty Series will be 'object' instead of 'float64' in a future version. Specify a dtype explicitly to silence this warning.\n",
      "  new_pval = pd.Series(index=remaining_features)\n",
      "<ipython-input-711-a5c72ccf8d84>:7: DeprecationWarning: The default dtype for empty Series will be 'object' instead of 'float64' in a future version. Specify a dtype explicitly to silence this warning.\n",
      "  new_pval = pd.Series(index=remaining_features)\n",
      "<ipython-input-711-a5c72ccf8d84>:7: DeprecationWarning: The default dtype for empty Series will be 'object' instead of 'float64' in a future version. Specify a dtype explicitly to silence this warning.\n",
      "  new_pval = pd.Series(index=remaining_features)\n",
      "<ipython-input-711-a5c72ccf8d84>:7: DeprecationWarning: The default dtype for empty Series will be 'object' instead of 'float64' in a future version. Specify a dtype explicitly to silence this warning.\n",
      "  new_pval = pd.Series(index=remaining_features)\n",
      "<ipython-input-711-a5c72ccf8d84>:7: DeprecationWarning: The default dtype for empty Series will be 'object' instead of 'float64' in a future version. Specify a dtype explicitly to silence this warning.\n",
      "  new_pval = pd.Series(index=remaining_features)\n",
      "<ipython-input-711-a5c72ccf8d84>:7: DeprecationWarning: The default dtype for empty Series will be 'object' instead of 'float64' in a future version. Specify a dtype explicitly to silence this warning.\n",
      "  new_pval = pd.Series(index=remaining_features)\n"
     ]
    }
   ],
   "source": [
    "forward_selected_features=forward_selection(df_train.drop(columns = 'Yearly_Avg_Zip'), \n",
    "                                            df_train.Yearly_Avg_Zip, \n",
    "                                            significance_level=0.05)"
   ]
  },
  {
   "cell_type": "code",
   "execution_count": 713,
   "id": "19987b9b",
   "metadata": {},
   "outputs": [],
   "source": [
    "forward_selected_features=sorted(forward_selected_features)\n",
    "forward_selected_features.extend(\n",
    "    [\"zip_code\", \"year\", \"Yearly_Avg_Zip\"])"
   ]
  },
  {
   "cell_type": "code",
   "execution_count": 714,
   "id": "97b9e1ca",
   "metadata": {},
   "outputs": [
    {
     "data": {
      "text/plain": [
       "['FLSTHPI_Yearly_Avg',\n",
       " 'FL_Unemployment',\n",
       " 'children',\n",
       " 'children_in_single_female_hh',\n",
       " 'commute_10_14_mins',\n",
       " 'commute_35_44_mins',\n",
       " 'commute_45_59_mins',\n",
       " 'commute_less_10_mins',\n",
       " 'commuters_by_bus',\n",
       " 'different_house_year_ago_same_city',\n",
       " 'dwellings_20_to_49_units',\n",
       " 'dwellings_50_or_more_units',\n",
       " 'dwellings_5_to_9_units',\n",
       " 'employed_arts_entertainment_recreation_accommodation_food',\n",
       " 'employed_public_administration',\n",
       " 'employed_transportation_warehousing_utilities',\n",
       " 'female_50_to_54',\n",
       " 'female_5_to_9',\n",
       " 'female_60_to_61',\n",
       " 'female_62_to_64',\n",
       " 'female_65_to_66',\n",
       " 'gini_index',\n",
       " 'group_quarters',\n",
       " 'households_public_asst_or_food_stamps',\n",
       " 'housing_units',\n",
       " 'in_grades_5_to_8',\n",
       " 'income_100000_124999',\n",
       " 'income_125000_149999',\n",
       " 'income_150000_199999',\n",
       " 'income_15000_19999',\n",
       " 'income_200000_or_more',\n",
       " 'income_30000_34999',\n",
       " 'income_40000_44999',\n",
       " 'income_50000_59999',\n",
       " 'less_one_year_college',\n",
       " 'male_15_to_17',\n",
       " 'male_25_to_29',\n",
       " 'male_35_to_39',\n",
       " 'male_45_64_associates_degree',\n",
       " 'male_45_64_grade_9_12',\n",
       " 'male_45_64_less_than_9_grade',\n",
       " 'male_5_to_9',\n",
       " 'male_85_and_over',\n",
       " 'male_male_households',\n",
       " 'married_households',\n",
       " 'median_year_structure_built',\n",
       " 'mortgaged_housing_units',\n",
       " 'not_us_citizen_pop',\n",
       " 'occupation_sales_office',\n",
       " 'owner_occupied_housing_units',\n",
       " 'owner_occupied_housing_units_median_value',\n",
       " 'pop_25_years_over',\n",
       " 'some_college_and_associates_degree',\n",
       " 'two_parents_father_in_labor_force_families_with_young_children',\n",
       " 'two_parents_mother_in_labor_force_families_with_young_children',\n",
       " 'unemployed_pop',\n",
       " 'vacant_housing_units_for_rent',\n",
       " 'walked_to_work',\n",
       " 'zip_code',\n",
       " 'year',\n",
       " 'Yearly_Avg_Zip']"
      ]
     },
     "execution_count": 714,
     "metadata": {},
     "output_type": "execute_result"
    }
   ],
   "source": [
    "forward_selected_features"
   ]
  },
  {
   "cell_type": "code",
   "execution_count": 715,
   "id": "cb2e07d6",
   "metadata": {},
   "outputs": [],
   "source": [
    "df_train_final=pd.DataFrame()"
   ]
  },
  {
   "cell_type": "code",
   "execution_count": 716,
   "id": "efe27807",
   "metadata": {},
   "outputs": [],
   "source": [
    "for feature in forward_selected_features:\n",
    "    df_train_final[feature]=df_train[feature]"
   ]
  },
  {
   "cell_type": "code",
   "execution_count": 717,
   "id": "ca20327c",
   "metadata": {},
   "outputs": [
    {
     "data": {
      "text/html": [
       "<div>\n",
       "<style scoped>\n",
       "    .dataframe tbody tr th:only-of-type {\n",
       "        vertical-align: middle;\n",
       "    }\n",
       "\n",
       "    .dataframe tbody tr th {\n",
       "        vertical-align: top;\n",
       "    }\n",
       "\n",
       "    .dataframe thead th {\n",
       "        text-align: right;\n",
       "    }\n",
       "</style>\n",
       "<table border=\"1\" class=\"dataframe\">\n",
       "  <thead>\n",
       "    <tr style=\"text-align: right;\">\n",
       "      <th></th>\n",
       "      <th>FLSTHPI_Yearly_Avg</th>\n",
       "      <th>FL_Unemployment</th>\n",
       "      <th>children</th>\n",
       "      <th>children_in_single_female_hh</th>\n",
       "      <th>commute_10_14_mins</th>\n",
       "      <th>commute_35_44_mins</th>\n",
       "      <th>commute_45_59_mins</th>\n",
       "      <th>commute_less_10_mins</th>\n",
       "      <th>commuters_by_bus</th>\n",
       "      <th>different_house_year_ago_same_city</th>\n",
       "      <th>...</th>\n",
       "      <th>pop_25_years_over</th>\n",
       "      <th>some_college_and_associates_degree</th>\n",
       "      <th>two_parents_father_in_labor_force_families_with_young_children</th>\n",
       "      <th>two_parents_mother_in_labor_force_families_with_young_children</th>\n",
       "      <th>unemployed_pop</th>\n",
       "      <th>vacant_housing_units_for_rent</th>\n",
       "      <th>walked_to_work</th>\n",
       "      <th>zip_code</th>\n",
       "      <th>year</th>\n",
       "      <th>Yearly_Avg_Zip</th>\n",
       "    </tr>\n",
       "  </thead>\n",
       "  <tbody>\n",
       "    <tr>\n",
       "      <th>0</th>\n",
       "      <td>-1.675376</td>\n",
       "      <td>2.005619</td>\n",
       "      <td>-0.604674</td>\n",
       "      <td>-0.787676</td>\n",
       "      <td>-0.226279</td>\n",
       "      <td>2.314692</td>\n",
       "      <td>0.775059</td>\n",
       "      <td>-0.283637</td>\n",
       "      <td>-0.042198</td>\n",
       "      <td>-0.761251</td>\n",
       "      <td>...</td>\n",
       "      <td>0.541535</td>\n",
       "      <td>0.383085</td>\n",
       "      <td>0.339590</td>\n",
       "      <td>-0.248349</td>\n",
       "      <td>-0.412005</td>\n",
       "      <td>1.612705</td>\n",
       "      <td>0.303524</td>\n",
       "      <td>33160</td>\n",
       "      <td>2013</td>\n",
       "      <td>1866.833333</td>\n",
       "    </tr>\n",
       "    <tr>\n",
       "      <th>1</th>\n",
       "      <td>-1.675376</td>\n",
       "      <td>2.005619</td>\n",
       "      <td>1.821540</td>\n",
       "      <td>1.470348</td>\n",
       "      <td>0.892614</td>\n",
       "      <td>2.283387</td>\n",
       "      <td>2.167135</td>\n",
       "      <td>0.289622</td>\n",
       "      <td>-0.120738</td>\n",
       "      <td>0.660936</td>\n",
       "      <td>...</td>\n",
       "      <td>1.213586</td>\n",
       "      <td>1.883253</td>\n",
       "      <td>0.692808</td>\n",
       "      <td>-0.213120</td>\n",
       "      <td>1.801816</td>\n",
       "      <td>2.143672</td>\n",
       "      <td>-0.503603</td>\n",
       "      <td>33025</td>\n",
       "      <td>2013</td>\n",
       "      <td>1341.083333</td>\n",
       "    </tr>\n",
       "    <tr>\n",
       "      <th>2</th>\n",
       "      <td>-1.675376</td>\n",
       "      <td>2.005619</td>\n",
       "      <td>-0.851691</td>\n",
       "      <td>-0.942912</td>\n",
       "      <td>3.052789</td>\n",
       "      <td>0.157246</td>\n",
       "      <td>-0.599016</td>\n",
       "      <td>3.642101</td>\n",
       "      <td>1.428648</td>\n",
       "      <td>1.816176</td>\n",
       "      <td>...</td>\n",
       "      <td>0.591249</td>\n",
       "      <td>0.157775</td>\n",
       "      <td>-0.029120</td>\n",
       "      <td>0.720441</td>\n",
       "      <td>-0.469948</td>\n",
       "      <td>2.936081</td>\n",
       "      <td>9.543007</td>\n",
       "      <td>33139</td>\n",
       "      <td>2013</td>\n",
       "      <td>1842.666667</td>\n",
       "    </tr>\n",
       "    <tr>\n",
       "      <th>3</th>\n",
       "      <td>-1.675376</td>\n",
       "      <td>2.005619</td>\n",
       "      <td>-0.009587</td>\n",
       "      <td>-0.380379</td>\n",
       "      <td>2.120162</td>\n",
       "      <td>-0.884955</td>\n",
       "      <td>-0.875031</td>\n",
       "      <td>1.673790</td>\n",
       "      <td>-0.677661</td>\n",
       "      <td>2.861721</td>\n",
       "      <td>...</td>\n",
       "      <td>0.201552</td>\n",
       "      <td>0.256348</td>\n",
       "      <td>1.538673</td>\n",
       "      <td>-0.036977</td>\n",
       "      <td>0.216179</td>\n",
       "      <td>0.569637</td>\n",
       "      <td>-0.412270</td>\n",
       "      <td>32256</td>\n",
       "      <td>2013</td>\n",
       "      <td>947.750000</td>\n",
       "    </tr>\n",
       "    <tr>\n",
       "      <th>4</th>\n",
       "      <td>-1.675376</td>\n",
       "      <td>2.005619</td>\n",
       "      <td>-0.399941</td>\n",
       "      <td>-0.187782</td>\n",
       "      <td>-0.932540</td>\n",
       "      <td>0.564213</td>\n",
       "      <td>0.041019</td>\n",
       "      <td>-0.704511</td>\n",
       "      <td>0.329083</td>\n",
       "      <td>0.312677</td>\n",
       "      <td>...</td>\n",
       "      <td>0.647456</td>\n",
       "      <td>0.471171</td>\n",
       "      <td>-0.317272</td>\n",
       "      <td>0.051095</td>\n",
       "      <td>1.025553</td>\n",
       "      <td>0.014412</td>\n",
       "      <td>-0.225357</td>\n",
       "      <td>33009</td>\n",
       "      <td>2013</td>\n",
       "      <td>1443.416667</td>\n",
       "    </tr>\n",
       "  </tbody>\n",
       "</table>\n",
       "<p>5 rows × 61 columns</p>\n",
       "</div>"
      ],
      "text/plain": [
       "   FLSTHPI_Yearly_Avg  FL_Unemployment  children  \\\n",
       "0           -1.675376         2.005619 -0.604674   \n",
       "1           -1.675376         2.005619  1.821540   \n",
       "2           -1.675376         2.005619 -0.851691   \n",
       "3           -1.675376         2.005619 -0.009587   \n",
       "4           -1.675376         2.005619 -0.399941   \n",
       "\n",
       "   children_in_single_female_hh  commute_10_14_mins  commute_35_44_mins  \\\n",
       "0                     -0.787676           -0.226279            2.314692   \n",
       "1                      1.470348            0.892614            2.283387   \n",
       "2                     -0.942912            3.052789            0.157246   \n",
       "3                     -0.380379            2.120162           -0.884955   \n",
       "4                     -0.187782           -0.932540            0.564213   \n",
       "\n",
       "   commute_45_59_mins  commute_less_10_mins  commuters_by_bus  \\\n",
       "0            0.775059             -0.283637         -0.042198   \n",
       "1            2.167135              0.289622         -0.120738   \n",
       "2           -0.599016              3.642101          1.428648   \n",
       "3           -0.875031              1.673790         -0.677661   \n",
       "4            0.041019             -0.704511          0.329083   \n",
       "\n",
       "   different_house_year_ago_same_city  ...  pop_25_years_over  \\\n",
       "0                           -0.761251  ...           0.541535   \n",
       "1                            0.660936  ...           1.213586   \n",
       "2                            1.816176  ...           0.591249   \n",
       "3                            2.861721  ...           0.201552   \n",
       "4                            0.312677  ...           0.647456   \n",
       "\n",
       "   some_college_and_associates_degree  \\\n",
       "0                            0.383085   \n",
       "1                            1.883253   \n",
       "2                            0.157775   \n",
       "3                            0.256348   \n",
       "4                            0.471171   \n",
       "\n",
       "   two_parents_father_in_labor_force_families_with_young_children  \\\n",
       "0                                           0.339590                \n",
       "1                                           0.692808                \n",
       "2                                          -0.029120                \n",
       "3                                           1.538673                \n",
       "4                                          -0.317272                \n",
       "\n",
       "   two_parents_mother_in_labor_force_families_with_young_children  \\\n",
       "0                                          -0.248349                \n",
       "1                                          -0.213120                \n",
       "2                                           0.720441                \n",
       "3                                          -0.036977                \n",
       "4                                           0.051095                \n",
       "\n",
       "   unemployed_pop  vacant_housing_units_for_rent  walked_to_work  zip_code  \\\n",
       "0       -0.412005                       1.612705        0.303524     33160   \n",
       "1        1.801816                       2.143672       -0.503603     33025   \n",
       "2       -0.469948                       2.936081        9.543007     33139   \n",
       "3        0.216179                       0.569637       -0.412270     32256   \n",
       "4        1.025553                       0.014412       -0.225357     33009   \n",
       "\n",
       "   year  Yearly_Avg_Zip  \n",
       "0  2013     1866.833333  \n",
       "1  2013     1341.083333  \n",
       "2  2013     1842.666667  \n",
       "3  2013      947.750000  \n",
       "4  2013     1443.416667  \n",
       "\n",
       "[5 rows x 61 columns]"
      ]
     },
     "execution_count": 717,
     "metadata": {},
     "output_type": "execute_result"
    }
   ],
   "source": [
    "df_train_final.head()"
   ]
  },
  {
   "cell_type": "code",
   "execution_count": 718,
   "id": "d915aa27",
   "metadata": {},
   "outputs": [],
   "source": [
    "df_2013_to_2017=df_train_final[df_train_final[\"year\"].isin(\n",
    "    [2013,2014,2015,2016,2017])]"
   ]
  },
  {
   "cell_type": "code",
   "execution_count": 719,
   "id": "0f7f91d1",
   "metadata": {},
   "outputs": [],
   "source": [
    "df_2018=df_train_final[df_train_final[\"year\"]==2018]"
   ]
  },
  {
   "cell_type": "code",
   "execution_count": 720,
   "id": "3a4bf68b",
   "metadata": {},
   "outputs": [
    {
     "data": {
      "text/plain": [
       "(518, 61)"
      ]
     },
     "execution_count": 720,
     "metadata": {},
     "output_type": "execute_result"
    }
   ],
   "source": [
    "df_2013_to_2017.shape"
   ]
  },
  {
   "cell_type": "code",
   "execution_count": 721,
   "id": "20790b51",
   "metadata": {},
   "outputs": [
    {
     "data": {
      "text/plain": [
       "(127, 61)"
      ]
     },
     "execution_count": 721,
     "metadata": {},
     "output_type": "execute_result"
    }
   ],
   "source": [
    "df_2018.shape"
   ]
  },
  {
   "cell_type": "code",
   "execution_count": 724,
   "id": "67f784f4",
   "metadata": {},
   "outputs": [],
   "source": [
    "df_check=df_train_final.drop(['zip_code','year','Yearly_Avg_Zip'], axis=1)"
   ]
  },
  {
   "cell_type": "code",
   "execution_count": 725,
   "id": "cf957490",
   "metadata": {},
   "outputs": [],
   "source": [
    "from statsmodels.stats.outliers_influence import variance_inflation_factor\n",
    "def get_vif(df):\n",
    "    vif = pd.DataFrame()\n",
    "    vif['VIF'] = [variance_inflation_factor(df.values, i) for i in range(df.shape[1])]\n",
    "    vif['variable'] = df.columns\n",
    "    return vif.sort_values(\"VIF\", ascending=False)   \n",
    "#writing a function to get VIF among remaining features \n",
    "# using VIF to confirm if there's still multicollinearity exists "
   ]
  },
  {
   "cell_type": "code",
   "execution_count": 727,
   "id": "4dbed8a0",
   "metadata": {},
   "outputs": [
    {
     "data": {
      "text/html": [
       "<div>\n",
       "<style scoped>\n",
       "    .dataframe tbody tr th:only-of-type {\n",
       "        vertical-align: middle;\n",
       "    }\n",
       "\n",
       "    .dataframe tbody tr th {\n",
       "        vertical-align: top;\n",
       "    }\n",
       "\n",
       "    .dataframe thead th {\n",
       "        text-align: right;\n",
       "    }\n",
       "</style>\n",
       "<table border=\"1\" class=\"dataframe\">\n",
       "  <thead>\n",
       "    <tr style=\"text-align: right;\">\n",
       "      <th></th>\n",
       "      <th>VIF</th>\n",
       "      <th>variable</th>\n",
       "    </tr>\n",
       "  </thead>\n",
       "  <tbody>\n",
       "    <tr>\n",
       "      <th>51</th>\n",
       "      <td>268.509029</td>\n",
       "      <td>pop_25_years_over</td>\n",
       "    </tr>\n",
       "    <tr>\n",
       "      <th>2</th>\n",
       "      <td>213.219181</td>\n",
       "      <td>children</td>\n",
       "    </tr>\n",
       "    <tr>\n",
       "      <th>44</th>\n",
       "      <td>86.664728</td>\n",
       "      <td>married_households</td>\n",
       "    </tr>\n",
       "    <tr>\n",
       "      <th>49</th>\n",
       "      <td>75.945527</td>\n",
       "      <td>owner_occupied_housing_units</td>\n",
       "    </tr>\n",
       "    <tr>\n",
       "      <th>52</th>\n",
       "      <td>60.709623</td>\n",
       "      <td>some_college_and_associates_degree</td>\n",
       "    </tr>\n",
       "    <tr>\n",
       "      <th>46</th>\n",
       "      <td>59.313197</td>\n",
       "      <td>mortgaged_housing_units</td>\n",
       "    </tr>\n",
       "    <tr>\n",
       "      <th>0</th>\n",
       "      <td>53.497692</td>\n",
       "      <td>FLSTHPI_Yearly_Avg</td>\n",
       "    </tr>\n",
       "    <tr>\n",
       "      <th>1</th>\n",
       "      <td>52.655900</td>\n",
       "      <td>FL_Unemployment</td>\n",
       "    </tr>\n",
       "    <tr>\n",
       "      <th>3</th>\n",
       "      <td>38.133530</td>\n",
       "      <td>children_in_single_female_hh</td>\n",
       "    </tr>\n",
       "    <tr>\n",
       "      <th>48</th>\n",
       "      <td>37.669014</td>\n",
       "      <td>occupation_sales_office</td>\n",
       "    </tr>\n",
       "    <tr>\n",
       "      <th>25</th>\n",
       "      <td>31.879707</td>\n",
       "      <td>in_grades_5_to_8</td>\n",
       "    </tr>\n",
       "    <tr>\n",
       "      <th>24</th>\n",
       "      <td>31.546112</td>\n",
       "      <td>housing_units</td>\n",
       "    </tr>\n",
       "    <tr>\n",
       "      <th>23</th>\n",
       "      <td>25.305154</td>\n",
       "      <td>households_public_asst_or_food_stamps</td>\n",
       "    </tr>\n",
       "    <tr>\n",
       "      <th>47</th>\n",
       "      <td>19.503747</td>\n",
       "      <td>not_us_citizen_pop</td>\n",
       "    </tr>\n",
       "    <tr>\n",
       "      <th>17</th>\n",
       "      <td>18.782708</td>\n",
       "      <td>female_5_to_9</td>\n",
       "    </tr>\n",
       "    <tr>\n",
       "      <th>16</th>\n",
       "      <td>17.704561</td>\n",
       "      <td>female_50_to_54</td>\n",
       "    </tr>\n",
       "    <tr>\n",
       "      <th>26</th>\n",
       "      <td>16.845533</td>\n",
       "      <td>income_100000_124999</td>\n",
       "    </tr>\n",
       "    <tr>\n",
       "      <th>41</th>\n",
       "      <td>16.306716</td>\n",
       "      <td>male_5_to_9</td>\n",
       "    </tr>\n",
       "    <tr>\n",
       "      <th>35</th>\n",
       "      <td>13.546406</td>\n",
       "      <td>male_15_to_17</td>\n",
       "    </tr>\n",
       "    <tr>\n",
       "      <th>28</th>\n",
       "      <td>12.403645</td>\n",
       "      <td>income_150000_199999</td>\n",
       "    </tr>\n",
       "    <tr>\n",
       "      <th>30</th>\n",
       "      <td>12.362779</td>\n",
       "      <td>income_200000_or_more</td>\n",
       "    </tr>\n",
       "    <tr>\n",
       "      <th>6</th>\n",
       "      <td>12.298175</td>\n",
       "      <td>commute_45_59_mins</td>\n",
       "    </tr>\n",
       "    <tr>\n",
       "      <th>29</th>\n",
       "      <td>12.103571</td>\n",
       "      <td>income_15000_19999</td>\n",
       "    </tr>\n",
       "    <tr>\n",
       "      <th>11</th>\n",
       "      <td>11.431867</td>\n",
       "      <td>dwellings_50_or_more_units</td>\n",
       "    </tr>\n",
       "    <tr>\n",
       "      <th>5</th>\n",
       "      <td>11.015127</td>\n",
       "      <td>commute_35_44_mins</td>\n",
       "    </tr>\n",
       "    <tr>\n",
       "      <th>33</th>\n",
       "      <td>10.820090</td>\n",
       "      <td>income_50000_59999</td>\n",
       "    </tr>\n",
       "    <tr>\n",
       "      <th>37</th>\n",
       "      <td>10.733574</td>\n",
       "      <td>male_35_to_39</td>\n",
       "    </tr>\n",
       "    <tr>\n",
       "      <th>27</th>\n",
       "      <td>10.717621</td>\n",
       "      <td>income_125000_149999</td>\n",
       "    </tr>\n",
       "    <tr>\n",
       "      <th>39</th>\n",
       "      <td>9.989798</td>\n",
       "      <td>male_45_64_grade_9_12</td>\n",
       "    </tr>\n",
       "    <tr>\n",
       "      <th>55</th>\n",
       "      <td>9.528629</td>\n",
       "      <td>unemployed_pop</td>\n",
       "    </tr>\n",
       "    <tr>\n",
       "      <th>34</th>\n",
       "      <td>9.397552</td>\n",
       "      <td>less_one_year_college</td>\n",
       "    </tr>\n",
       "    <tr>\n",
       "      <th>36</th>\n",
       "      <td>8.531574</td>\n",
       "      <td>male_25_to_29</td>\n",
       "    </tr>\n",
       "    <tr>\n",
       "      <th>31</th>\n",
       "      <td>8.161904</td>\n",
       "      <td>income_30000_34999</td>\n",
       "    </tr>\n",
       "    <tr>\n",
       "      <th>19</th>\n",
       "      <td>7.805043</td>\n",
       "      <td>female_62_to_64</td>\n",
       "    </tr>\n",
       "    <tr>\n",
       "      <th>40</th>\n",
       "      <td>7.397457</td>\n",
       "      <td>male_45_64_less_than_9_grade</td>\n",
       "    </tr>\n",
       "    <tr>\n",
       "      <th>8</th>\n",
       "      <td>7.116462</td>\n",
       "      <td>commuters_by_bus</td>\n",
       "    </tr>\n",
       "    <tr>\n",
       "      <th>15</th>\n",
       "      <td>7.035979</td>\n",
       "      <td>employed_transportation_warehousing_utilities</td>\n",
       "    </tr>\n",
       "    <tr>\n",
       "      <th>32</th>\n",
       "      <td>6.750199</td>\n",
       "      <td>income_40000_44999</td>\n",
       "    </tr>\n",
       "    <tr>\n",
       "      <th>4</th>\n",
       "      <td>6.396838</td>\n",
       "      <td>commute_10_14_mins</td>\n",
       "    </tr>\n",
       "    <tr>\n",
       "      <th>38</th>\n",
       "      <td>6.332804</td>\n",
       "      <td>male_45_64_associates_degree</td>\n",
       "    </tr>\n",
       "    <tr>\n",
       "      <th>53</th>\n",
       "      <td>6.270339</td>\n",
       "      <td>two_parents_father_in_labor_force_families_wit...</td>\n",
       "    </tr>\n",
       "    <tr>\n",
       "      <th>14</th>\n",
       "      <td>6.160939</td>\n",
       "      <td>employed_public_administration</td>\n",
       "    </tr>\n",
       "    <tr>\n",
       "      <th>50</th>\n",
       "      <td>6.142899</td>\n",
       "      <td>owner_occupied_housing_units_median_value</td>\n",
       "    </tr>\n",
       "    <tr>\n",
       "      <th>13</th>\n",
       "      <td>5.913366</td>\n",
       "      <td>employed_arts_entertainment_recreation_accommo...</td>\n",
       "    </tr>\n",
       "    <tr>\n",
       "      <th>18</th>\n",
       "      <td>5.348656</td>\n",
       "      <td>female_60_to_61</td>\n",
       "    </tr>\n",
       "    <tr>\n",
       "      <th>42</th>\n",
       "      <td>5.325011</td>\n",
       "      <td>male_85_and_over</td>\n",
       "    </tr>\n",
       "    <tr>\n",
       "      <th>12</th>\n",
       "      <td>5.283152</td>\n",
       "      <td>dwellings_5_to_9_units</td>\n",
       "    </tr>\n",
       "    <tr>\n",
       "      <th>20</th>\n",
       "      <td>4.822423</td>\n",
       "      <td>female_65_to_66</td>\n",
       "    </tr>\n",
       "    <tr>\n",
       "      <th>21</th>\n",
       "      <td>4.813991</td>\n",
       "      <td>gini_index</td>\n",
       "    </tr>\n",
       "    <tr>\n",
       "      <th>7</th>\n",
       "      <td>4.416106</td>\n",
       "      <td>commute_less_10_mins</td>\n",
       "    </tr>\n",
       "    <tr>\n",
       "      <th>57</th>\n",
       "      <td>3.442683</td>\n",
       "      <td>walked_to_work</td>\n",
       "    </tr>\n",
       "    <tr>\n",
       "      <th>10</th>\n",
       "      <td>3.353824</td>\n",
       "      <td>dwellings_20_to_49_units</td>\n",
       "    </tr>\n",
       "    <tr>\n",
       "      <th>45</th>\n",
       "      <td>3.313610</td>\n",
       "      <td>median_year_structure_built</td>\n",
       "    </tr>\n",
       "    <tr>\n",
       "      <th>56</th>\n",
       "      <td>3.048757</td>\n",
       "      <td>vacant_housing_units_for_rent</td>\n",
       "    </tr>\n",
       "    <tr>\n",
       "      <th>9</th>\n",
       "      <td>2.925780</td>\n",
       "      <td>different_house_year_ago_same_city</td>\n",
       "    </tr>\n",
       "    <tr>\n",
       "      <th>43</th>\n",
       "      <td>2.311010</td>\n",
       "      <td>male_male_households</td>\n",
       "    </tr>\n",
       "    <tr>\n",
       "      <th>22</th>\n",
       "      <td>1.913283</td>\n",
       "      <td>group_quarters</td>\n",
       "    </tr>\n",
       "    <tr>\n",
       "      <th>54</th>\n",
       "      <td>1.690278</td>\n",
       "      <td>two_parents_mother_in_labor_force_families_wit...</td>\n",
       "    </tr>\n",
       "  </tbody>\n",
       "</table>\n",
       "</div>"
      ],
      "text/plain": [
       "           VIF                                           variable\n",
       "51  268.509029                                  pop_25_years_over\n",
       "2   213.219181                                           children\n",
       "44   86.664728                                 married_households\n",
       "49   75.945527                       owner_occupied_housing_units\n",
       "52   60.709623                 some_college_and_associates_degree\n",
       "46   59.313197                            mortgaged_housing_units\n",
       "0    53.497692                                 FLSTHPI_Yearly_Avg\n",
       "1    52.655900                                    FL_Unemployment\n",
       "3    38.133530                       children_in_single_female_hh\n",
       "48   37.669014                            occupation_sales_office\n",
       "25   31.879707                                   in_grades_5_to_8\n",
       "24   31.546112                                      housing_units\n",
       "23   25.305154              households_public_asst_or_food_stamps\n",
       "47   19.503747                                 not_us_citizen_pop\n",
       "17   18.782708                                      female_5_to_9\n",
       "16   17.704561                                    female_50_to_54\n",
       "26   16.845533                               income_100000_124999\n",
       "41   16.306716                                        male_5_to_9\n",
       "35   13.546406                                      male_15_to_17\n",
       "28   12.403645                               income_150000_199999\n",
       "30   12.362779                              income_200000_or_more\n",
       "6    12.298175                                 commute_45_59_mins\n",
       "29   12.103571                                 income_15000_19999\n",
       "11   11.431867                         dwellings_50_or_more_units\n",
       "5    11.015127                                 commute_35_44_mins\n",
       "33   10.820090                                 income_50000_59999\n",
       "37   10.733574                                      male_35_to_39\n",
       "27   10.717621                               income_125000_149999\n",
       "39    9.989798                              male_45_64_grade_9_12\n",
       "55    9.528629                                     unemployed_pop\n",
       "34    9.397552                              less_one_year_college\n",
       "36    8.531574                                      male_25_to_29\n",
       "31    8.161904                                 income_30000_34999\n",
       "19    7.805043                                    female_62_to_64\n",
       "40    7.397457                       male_45_64_less_than_9_grade\n",
       "8     7.116462                                   commuters_by_bus\n",
       "15    7.035979      employed_transportation_warehousing_utilities\n",
       "32    6.750199                                 income_40000_44999\n",
       "4     6.396838                                 commute_10_14_mins\n",
       "38    6.332804                       male_45_64_associates_degree\n",
       "53    6.270339  two_parents_father_in_labor_force_families_wit...\n",
       "14    6.160939                     employed_public_administration\n",
       "50    6.142899          owner_occupied_housing_units_median_value\n",
       "13    5.913366  employed_arts_entertainment_recreation_accommo...\n",
       "18    5.348656                                    female_60_to_61\n",
       "42    5.325011                                   male_85_and_over\n",
       "12    5.283152                             dwellings_5_to_9_units\n",
       "20    4.822423                                    female_65_to_66\n",
       "21    4.813991                                         gini_index\n",
       "7     4.416106                               commute_less_10_mins\n",
       "57    3.442683                                     walked_to_work\n",
       "10    3.353824                           dwellings_20_to_49_units\n",
       "45    3.313610                        median_year_structure_built\n",
       "56    3.048757                      vacant_housing_units_for_rent\n",
       "9     2.925780                 different_house_year_ago_same_city\n",
       "43    2.311010                               male_male_households\n",
       "22    1.913283                                     group_quarters\n",
       "54    1.690278  two_parents_mother_in_labor_force_families_wit..."
      ]
     },
     "execution_count": 727,
     "metadata": {},
     "output_type": "execute_result"
    }
   ],
   "source": [
    "get_vif(df_check)"
   ]
  },
  {
   "cell_type": "code",
   "execution_count": null,
   "id": "898b42ea",
   "metadata": {},
   "outputs": [],
   "source": []
  },
  {
   "cell_type": "code",
   "execution_count": null,
   "id": "77c1ccfd",
   "metadata": {},
   "outputs": [],
   "source": []
  },
  {
   "cell_type": "markdown",
   "id": "39d0252b",
   "metadata": {},
   "source": [
    "## Linear Models on the 4 Biggest Metro Areas in FL"
   ]
  },
  {
   "cell_type": "code",
   "execution_count": 728,
   "id": "3aedd831",
   "metadata": {},
   "outputs": [],
   "source": [
    "from sklearn.linear_model import LinearRegression, Ridge, Lasso, ElasticNet\n",
    "from sklearn.ensemble import RandomForestRegressor\n",
    "from sklearn.model_selection import train_test_split, cross_val_score, RandomizedSearchCV, GridSearchCV\n"
   ]
  },
  {
   "cell_type": "code",
   "execution_count": 729,
   "id": "ebf3c444",
   "metadata": {},
   "outputs": [],
   "source": [
    "from sklearn.model_selection import KFold\n",
    "kfold = KFold(n_splits=3, shuffle=True, random_state=0)"
   ]
  },
  {
   "cell_type": "code",
   "execution_count": 730,
   "id": "6ad78382",
   "metadata": {},
   "outputs": [],
   "source": [
    "from sklearn import linear_model\n",
    "from sklearn.linear_model import LinearRegression "
   ]
  },
  {
   "cell_type": "code",
   "execution_count": 731,
   "id": "92afb786",
   "metadata": {},
   "outputs": [],
   "source": [
    "%store -r miami_zip\n",
    "%store -r orlando_zip\n",
    "%store -r tampa_zip\n",
    "%store -r jax_zip"
   ]
  },
  {
   "cell_type": "markdown",
   "id": "f0e4f949",
   "metadata": {},
   "source": [
    "## Miami"
   ]
  },
  {
   "cell_type": "code",
   "execution_count": 732,
   "id": "5da6fbc6",
   "metadata": {
    "scrolled": true
   },
   "outputs": [],
   "source": [
    "df_2013_to_2017_miami=df_2013_to_2017[\n",
    "    df_2013_to_2017[\"zip_code\"].isin(miami_zip)]\n",
    "\n",
    "df_2013_to_2017_miami=df_2013_to_2017_miami.drop([\"zip_code\",\"year\"],axis=1)\n",
    "#dropping unique identifiers"
   ]
  },
  {
   "cell_type": "code",
   "execution_count": 733,
   "id": "dcda5805",
   "metadata": {},
   "outputs": [],
   "source": [
    "df_2018_miami=df_2018[df_2018[\"zip_code\"].isin(miami_zip)]\n",
    "df_2018_miami=df_2018_miami.drop([\"zip_code\",\"year\"],axis=1)"
   ]
  },
  {
   "cell_type": "markdown",
   "id": "ec783b3b",
   "metadata": {},
   "source": [
    "### Linear Regression"
   ]
  },
  {
   "cell_type": "code",
   "execution_count": 734,
   "id": "ecbce391",
   "metadata": {},
   "outputs": [
    {
     "data": {
      "text/plain": [
       "LinearRegression()"
      ]
     },
     "execution_count": 734,
     "metadata": {},
     "output_type": "execute_result"
    }
   ],
   "source": [
    "ols_miami = linear_model.LinearRegression()\n",
    "ols_miami.fit(df_2013_to_2017_miami.drop(columns = 'Yearly_Avg_Zip'), \n",
    "              df_2013_to_2017_miami.Yearly_Avg_Zip)"
   ]
  },
  {
   "cell_type": "code",
   "execution_count": 735,
   "id": "07cc8880",
   "metadata": {},
   "outputs": [
    {
     "data": {
      "text/plain": [
       "0.7440131637259504"
      ]
     },
     "execution_count": 735,
     "metadata": {},
     "output_type": "execute_result"
    }
   ],
   "source": [
    "ols_miami.score(df_2018_miami.drop(columns = 'Yearly_Avg_Zip'), \n",
    "               df_2018_miami.Yearly_Avg_Zip)"
   ]
  },
  {
   "cell_type": "code",
   "execution_count": 736,
   "id": "587bbc60",
   "metadata": {
    "scrolled": true
   },
   "outputs": [
    {
     "name": "stdout",
     "output_type": "stream",
     "text": [
      "122.1203309008359\n"
     ]
    }
   ],
   "source": [
    "rmse_test_ols_miami=np.sqrt(\n",
    "    mean_squared_error\n",
    "    (df_2018_miami.Yearly_Avg_Zip, \n",
    "    ols_miami.predict(df_2018_miami.drop(columns = 'Yearly_Avg_Zip'))\n",
    "    )\n",
    ")\n",
    "print(rmse_test_ols_miami)"
   ]
  },
  {
   "cell_type": "markdown",
   "id": "abb36b89",
   "metadata": {},
   "source": [
    "### Lasso Regression"
   ]
  },
  {
   "cell_type": "code",
   "execution_count": 737,
   "id": "2935140d",
   "metadata": {},
   "outputs": [],
   "source": [
    "lasso_miami=Lasso()"
   ]
  },
  {
   "cell_type": "code",
   "execution_count": 738,
   "id": "641c7335",
   "metadata": {},
   "outputs": [
    {
     "name": "stderr",
     "output_type": "stream",
     "text": [
      "/opt/anaconda3/lib/python3.8/site-packages/sklearn/linear_model/_coordinate_descent.py:529: ConvergenceWarning: Objective did not converge. You might want to increase the number of iterations. Duality gap: 4540.759447371587, tolerance: 1918.2170608202853\n",
      "  model = cd_fast.enet_coordinate_descent(\n"
     ]
    },
    {
     "data": {
      "text/plain": [
       "Lasso()"
      ]
     },
     "execution_count": 738,
     "metadata": {},
     "output_type": "execute_result"
    }
   ],
   "source": [
    "lasso_miami.fit(df_2013_to_2017_miami.drop(columns = 'Yearly_Avg_Zip'), \n",
    "              df_2013_to_2017_miami.Yearly_Avg_Zip)"
   ]
  },
  {
   "cell_type": "code",
   "execution_count": 739,
   "id": "0a7b3055",
   "metadata": {},
   "outputs": [
    {
     "name": "stdout",
     "output_type": "stream",
     "text": [
      "140.25559124705813\n"
     ]
    }
   ],
   "source": [
    "rmse_test_lasso_miami=np.sqrt(\n",
    "    mean_squared_error\n",
    "    (df_2018_miami.Yearly_Avg_Zip, \n",
    "    lasso_miami.predict(df_2018_miami.drop(columns = 'Yearly_Avg_Zip'))\n",
    "    )\n",
    ")\n",
    "print(rmse_test_lasso_miami)"
   ]
  },
  {
   "cell_type": "code",
   "execution_count": null,
   "id": "0d31244b",
   "metadata": {},
   "outputs": [
    {
     "name": "stderr",
     "output_type": "stream",
     "text": [
      "/opt/anaconda3/lib/python3.8/site-packages/sklearn/linear_model/_coordinate_descent.py:529: ConvergenceWarning: Objective did not converge. You might want to increase the number of iterations. Duality gap: 759654.2998474744, tolerance: 0.13608470724398142\n",
      "  model = cd_fast.enet_coordinate_descent(\n",
      "/opt/anaconda3/lib/python3.8/site-packages/sklearn/linear_model/_coordinate_descent.py:529: ConvergenceWarning: Objective did not converge. You might want to increase the number of iterations. Duality gap: 798788.6397840412, tolerance: 0.11474202125058738\n",
      "  model = cd_fast.enet_coordinate_descent(\n",
      "/opt/anaconda3/lib/python3.8/site-packages/sklearn/linear_model/_coordinate_descent.py:529: ConvergenceWarning: Objective did not converge. You might want to increase the number of iterations. Duality gap: 759666.4190494047, tolerance: 0.13280130902857204\n",
      "  model = cd_fast.enet_coordinate_descent(\n",
      "/opt/anaconda3/lib/python3.8/site-packages/sklearn/linear_model/_coordinate_descent.py:529: ConvergenceWarning: Objective did not converge. You might want to increase the number of iterations. Duality gap: 759654.2998474744, tolerance: 1.360847072439814\n",
      "  model = cd_fast.enet_coordinate_descent(\n",
      "/opt/anaconda3/lib/python3.8/site-packages/sklearn/linear_model/_coordinate_descent.py:529: ConvergenceWarning: Objective did not converge. You might want to increase the number of iterations. Duality gap: 798788.6397840412, tolerance: 1.147420212505874\n",
      "  model = cd_fast.enet_coordinate_descent(\n",
      "/opt/anaconda3/lib/python3.8/site-packages/sklearn/linear_model/_coordinate_descent.py:529: ConvergenceWarning: Objective did not converge. You might want to increase the number of iterations. Duality gap: 759666.4190494047, tolerance: 1.3280130902857203\n",
      "  model = cd_fast.enet_coordinate_descent(\n",
      "/opt/anaconda3/lib/python3.8/site-packages/sklearn/linear_model/_coordinate_descent.py:529: ConvergenceWarning: Objective did not converge. You might want to increase the number of iterations. Duality gap: 759654.2998474744, tolerance: 13.608470724398142\n",
      "  model = cd_fast.enet_coordinate_descent(\n",
      "/opt/anaconda3/lib/python3.8/site-packages/sklearn/linear_model/_coordinate_descent.py:529: ConvergenceWarning: Objective did not converge. You might want to increase the number of iterations. Duality gap: 798788.6397840412, tolerance: 11.474202125058738\n",
      "  model = cd_fast.enet_coordinate_descent(\n",
      "/opt/anaconda3/lib/python3.8/site-packages/sklearn/linear_model/_coordinate_descent.py:529: ConvergenceWarning: Objective did not converge. You might want to increase the number of iterations. Duality gap: 759666.4190494047, tolerance: 13.280130902857202\n",
      "  model = cd_fast.enet_coordinate_descent(\n",
      "/opt/anaconda3/lib/python3.8/site-packages/sklearn/linear_model/_coordinate_descent.py:529: ConvergenceWarning: Objective did not converge. You might want to increase the number of iterations. Duality gap: 759654.2998474744, tolerance: 136.08470724398143\n",
      "  model = cd_fast.enet_coordinate_descent(\n",
      "/opt/anaconda3/lib/python3.8/site-packages/sklearn/linear_model/_coordinate_descent.py:529: ConvergenceWarning: Objective did not converge. You might want to increase the number of iterations. Duality gap: 798788.6397840412, tolerance: 114.7420212505874\n",
      "  model = cd_fast.enet_coordinate_descent(\n",
      "/opt/anaconda3/lib/python3.8/site-packages/sklearn/linear_model/_coordinate_descent.py:529: ConvergenceWarning: Objective did not converge. You might want to increase the number of iterations. Duality gap: 759666.4190494047, tolerance: 132.80130902857204\n",
      "  model = cd_fast.enet_coordinate_descent(\n",
      "/opt/anaconda3/lib/python3.8/site-packages/sklearn/linear_model/_coordinate_descent.py:529: ConvergenceWarning: Objective did not converge. You might want to increase the number of iterations. Duality gap: 759654.2998474744, tolerance: 1360.8470724398142\n",
      "  model = cd_fast.enet_coordinate_descent(\n",
      "/opt/anaconda3/lib/python3.8/site-packages/sklearn/linear_model/_coordinate_descent.py:529: ConvergenceWarning: Objective did not converge. You might want to increase the number of iterations. Duality gap: 798788.6397840412, tolerance: 1147.420212505874\n",
      "  model = cd_fast.enet_coordinate_descent(\n",
      "/opt/anaconda3/lib/python3.8/site-packages/sklearn/linear_model/_coordinate_descent.py:529: ConvergenceWarning: Objective did not converge. You might want to increase the number of iterations. Duality gap: 759666.4190494047, tolerance: 1328.0130902857204\n",
      "  model = cd_fast.enet_coordinate_descent(\n",
      "/opt/anaconda3/lib/python3.8/site-packages/sklearn/linear_model/_coordinate_descent.py:529: ConvergenceWarning: Objective did not converge. You might want to increase the number of iterations. Duality gap: 759654.2998474744, tolerance: 13608.470724398141\n",
      "  model = cd_fast.enet_coordinate_descent(\n",
      "/opt/anaconda3/lib/python3.8/site-packages/sklearn/linear_model/_coordinate_descent.py:529: ConvergenceWarning: Objective did not converge. You might want to increase the number of iterations. Duality gap: 798788.6397840412, tolerance: 11474.202125058739\n",
      "  model = cd_fast.enet_coordinate_descent(\n",
      "/opt/anaconda3/lib/python3.8/site-packages/sklearn/linear_model/_coordinate_descent.py:529: ConvergenceWarning: Objective did not converge. You might want to increase the number of iterations. Duality gap: 759666.4190494047, tolerance: 13280.130902857203\n",
      "  model = cd_fast.enet_coordinate_descent(\n",
      "/opt/anaconda3/lib/python3.8/site-packages/sklearn/linear_model/_coordinate_descent.py:529: ConvergenceWarning: Objective did not converge. You might want to increase the number of iterations. Duality gap: 759654.2998474744, tolerance: 136084.70724398142\n",
      "  model = cd_fast.enet_coordinate_descent(\n",
      "/opt/anaconda3/lib/python3.8/site-packages/sklearn/linear_model/_coordinate_descent.py:529: ConvergenceWarning: Objective did not converge. You might want to increase the number of iterations. Duality gap: 798788.6397840412, tolerance: 114742.0212505874\n",
      "  model = cd_fast.enet_coordinate_descent(\n",
      "/opt/anaconda3/lib/python3.8/site-packages/sklearn/linear_model/_coordinate_descent.py:529: ConvergenceWarning: Objective did not converge. You might want to increase the number of iterations. Duality gap: 759666.4190494047, tolerance: 132801.30902857202\n",
      "  model = cd_fast.enet_coordinate_descent(\n",
      "/opt/anaconda3/lib/python3.8/site-packages/sklearn/linear_model/_coordinate_descent.py:529: ConvergenceWarning: Objective did not converge. You might want to increase the number of iterations. Duality gap: 572300.6603422724, tolerance: 0.13608470724398142\n",
      "  model = cd_fast.enet_coordinate_descent(\n",
      "/opt/anaconda3/lib/python3.8/site-packages/sklearn/linear_model/_coordinate_descent.py:529: ConvergenceWarning: Objective did not converge. You might want to increase the number of iterations. Duality gap: 600973.4738293719, tolerance: 0.11474202125058738\n",
      "  model = cd_fast.enet_coordinate_descent(\n",
      "/opt/anaconda3/lib/python3.8/site-packages/sklearn/linear_model/_coordinate_descent.py:529: ConvergenceWarning: Objective did not converge. You might want to increase the number of iterations. Duality gap: 509242.31022264046, tolerance: 0.13280130902857204\n",
      "  model = cd_fast.enet_coordinate_descent(\n",
      "/opt/anaconda3/lib/python3.8/site-packages/sklearn/linear_model/_coordinate_descent.py:529: ConvergenceWarning: Objective did not converge. You might want to increase the number of iterations. Duality gap: 572300.6603422724, tolerance: 1.360847072439814\n",
      "  model = cd_fast.enet_coordinate_descent(\n",
      "/opt/anaconda3/lib/python3.8/site-packages/sklearn/linear_model/_coordinate_descent.py:529: ConvergenceWarning: Objective did not converge. You might want to increase the number of iterations. Duality gap: 600973.4738293719, tolerance: 1.147420212505874\n",
      "  model = cd_fast.enet_coordinate_descent(\n",
      "/opt/anaconda3/lib/python3.8/site-packages/sklearn/linear_model/_coordinate_descent.py:529: ConvergenceWarning: Objective did not converge. You might want to increase the number of iterations. Duality gap: 509242.31022264046, tolerance: 1.3280130902857203\n",
      "  model = cd_fast.enet_coordinate_descent(\n",
      "/opt/anaconda3/lib/python3.8/site-packages/sklearn/linear_model/_coordinate_descent.py:529: ConvergenceWarning: Objective did not converge. You might want to increase the number of iterations. Duality gap: 572300.6603422724, tolerance: 13.608470724398142\n",
      "  model = cd_fast.enet_coordinate_descent(\n",
      "/opt/anaconda3/lib/python3.8/site-packages/sklearn/linear_model/_coordinate_descent.py:529: ConvergenceWarning: Objective did not converge. You might want to increase the number of iterations. Duality gap: 600973.4738293719, tolerance: 11.474202125058738\n",
      "  model = cd_fast.enet_coordinate_descent(\n",
      "/opt/anaconda3/lib/python3.8/site-packages/sklearn/linear_model/_coordinate_descent.py:529: ConvergenceWarning: Objective did not converge. You might want to increase the number of iterations. Duality gap: 509242.31022264046, tolerance: 13.280130902857202\n",
      "  model = cd_fast.enet_coordinate_descent(\n",
      "/opt/anaconda3/lib/python3.8/site-packages/sklearn/linear_model/_coordinate_descent.py:529: ConvergenceWarning: Objective did not converge. You might want to increase the number of iterations. Duality gap: 572300.6603422724, tolerance: 136.08470724398143\n",
      "  model = cd_fast.enet_coordinate_descent(\n",
      "/opt/anaconda3/lib/python3.8/site-packages/sklearn/linear_model/_coordinate_descent.py:529: ConvergenceWarning: Objective did not converge. You might want to increase the number of iterations. Duality gap: 600973.4738293719, tolerance: 114.7420212505874\n",
      "  model = cd_fast.enet_coordinate_descent(\n",
      "/opt/anaconda3/lib/python3.8/site-packages/sklearn/linear_model/_coordinate_descent.py:529: ConvergenceWarning: Objective did not converge. You might want to increase the number of iterations. Duality gap: 509242.31022264046, tolerance: 132.80130902857204\n",
      "  model = cd_fast.enet_coordinate_descent(\n",
      "/opt/anaconda3/lib/python3.8/site-packages/sklearn/linear_model/_coordinate_descent.py:529: ConvergenceWarning: Objective did not converge. You might want to increase the number of iterations. Duality gap: 572300.6603422724, tolerance: 1360.8470724398142\n",
      "  model = cd_fast.enet_coordinate_descent(\n",
      "/opt/anaconda3/lib/python3.8/site-packages/sklearn/linear_model/_coordinate_descent.py:529: ConvergenceWarning: Objective did not converge. You might want to increase the number of iterations. Duality gap: 600973.4738293719, tolerance: 1147.420212505874\n",
      "  model = cd_fast.enet_coordinate_descent(\n",
      "/opt/anaconda3/lib/python3.8/site-packages/sklearn/linear_model/_coordinate_descent.py:529: ConvergenceWarning: Objective did not converge. You might want to increase the number of iterations. Duality gap: 509242.31022264046, tolerance: 1328.0130902857204\n",
      "  model = cd_fast.enet_coordinate_descent(\n",
      "/opt/anaconda3/lib/python3.8/site-packages/sklearn/linear_model/_coordinate_descent.py:529: ConvergenceWarning: Objective did not converge. You might want to increase the number of iterations. Duality gap: 572300.6603422724, tolerance: 13608.470724398141\n",
      "  model = cd_fast.enet_coordinate_descent(\n",
      "/opt/anaconda3/lib/python3.8/site-packages/sklearn/linear_model/_coordinate_descent.py:529: ConvergenceWarning: Objective did not converge. You might want to increase the number of iterations. Duality gap: 600973.4738293719, tolerance: 11474.202125058739\n",
      "  model = cd_fast.enet_coordinate_descent(\n",
      "/opt/anaconda3/lib/python3.8/site-packages/sklearn/linear_model/_coordinate_descent.py:529: ConvergenceWarning: Objective did not converge. You might want to increase the number of iterations. Duality gap: 509242.31022264046, tolerance: 13280.130902857203\n",
      "  model = cd_fast.enet_coordinate_descent(\n",
      "/opt/anaconda3/lib/python3.8/site-packages/sklearn/linear_model/_coordinate_descent.py:529: ConvergenceWarning: Objective did not converge. You might want to increase the number of iterations. Duality gap: 572300.6603422724, tolerance: 136084.70724398142\n",
      "  model = cd_fast.enet_coordinate_descent(\n",
      "/opt/anaconda3/lib/python3.8/site-packages/sklearn/linear_model/_coordinate_descent.py:529: ConvergenceWarning: Objective did not converge. You might want to increase the number of iterations. Duality gap: 600973.4738293719, tolerance: 114742.0212505874\n",
      "  model = cd_fast.enet_coordinate_descent(\n",
      "/opt/anaconda3/lib/python3.8/site-packages/sklearn/linear_model/_coordinate_descent.py:529: ConvergenceWarning: Objective did not converge. You might want to increase the number of iterations. Duality gap: 509242.31022264046, tolerance: 132801.30902857202\n",
      "  model = cd_fast.enet_coordinate_descent(\n",
      "/opt/anaconda3/lib/python3.8/site-packages/sklearn/linear_model/_coordinate_descent.py:529: ConvergenceWarning: Objective did not converge. You might want to increase the number of iterations. Duality gap: 541538.3418049475, tolerance: 0.13608470724398142\n",
      "  model = cd_fast.enet_coordinate_descent(\n"
     ]
    },
    {
     "name": "stderr",
     "output_type": "stream",
     "text": [
      "/opt/anaconda3/lib/python3.8/site-packages/sklearn/linear_model/_coordinate_descent.py:529: ConvergenceWarning: Objective did not converge. You might want to increase the number of iterations. Duality gap: 531949.5138384572, tolerance: 0.11474202125058738\n",
      "  model = cd_fast.enet_coordinate_descent(\n",
      "/opt/anaconda3/lib/python3.8/site-packages/sklearn/linear_model/_coordinate_descent.py:529: ConvergenceWarning: Objective did not converge. You might want to increase the number of iterations. Duality gap: 454786.98421400785, tolerance: 0.13280130902857204\n",
      "  model = cd_fast.enet_coordinate_descent(\n",
      "/opt/anaconda3/lib/python3.8/site-packages/sklearn/linear_model/_coordinate_descent.py:529: ConvergenceWarning: Objective did not converge. You might want to increase the number of iterations. Duality gap: 541538.3418049475, tolerance: 1.360847072439814\n",
      "  model = cd_fast.enet_coordinate_descent(\n",
      "/opt/anaconda3/lib/python3.8/site-packages/sklearn/linear_model/_coordinate_descent.py:529: ConvergenceWarning: Objective did not converge. You might want to increase the number of iterations. Duality gap: 531949.5138384572, tolerance: 1.147420212505874\n",
      "  model = cd_fast.enet_coordinate_descent(\n",
      "/opt/anaconda3/lib/python3.8/site-packages/sklearn/linear_model/_coordinate_descent.py:529: ConvergenceWarning: Objective did not converge. You might want to increase the number of iterations. Duality gap: 454786.98421400785, tolerance: 1.3280130902857203\n",
      "  model = cd_fast.enet_coordinate_descent(\n",
      "/opt/anaconda3/lib/python3.8/site-packages/sklearn/linear_model/_coordinate_descent.py:529: ConvergenceWarning: Objective did not converge. You might want to increase the number of iterations. Duality gap: 541538.3418049475, tolerance: 13.608470724398142\n",
      "  model = cd_fast.enet_coordinate_descent(\n",
      "/opt/anaconda3/lib/python3.8/site-packages/sklearn/linear_model/_coordinate_descent.py:529: ConvergenceWarning: Objective did not converge. You might want to increase the number of iterations. Duality gap: 531949.5138384572, tolerance: 11.474202125058738\n",
      "  model = cd_fast.enet_coordinate_descent(\n",
      "/opt/anaconda3/lib/python3.8/site-packages/sklearn/linear_model/_coordinate_descent.py:529: ConvergenceWarning: Objective did not converge. You might want to increase the number of iterations. Duality gap: 454786.98421400785, tolerance: 13.280130902857202\n",
      "  model = cd_fast.enet_coordinate_descent(\n",
      "/opt/anaconda3/lib/python3.8/site-packages/sklearn/linear_model/_coordinate_descent.py:529: ConvergenceWarning: Objective did not converge. You might want to increase the number of iterations. Duality gap: 541538.3418049475, tolerance: 136.08470724398143\n",
      "  model = cd_fast.enet_coordinate_descent(\n",
      "/opt/anaconda3/lib/python3.8/site-packages/sklearn/linear_model/_coordinate_descent.py:529: ConvergenceWarning: Objective did not converge. You might want to increase the number of iterations. Duality gap: 531949.5138384572, tolerance: 114.7420212505874\n",
      "  model = cd_fast.enet_coordinate_descent(\n",
      "/opt/anaconda3/lib/python3.8/site-packages/sklearn/linear_model/_coordinate_descent.py:529: ConvergenceWarning: Objective did not converge. You might want to increase the number of iterations. Duality gap: 454786.98421400785, tolerance: 132.80130902857204\n",
      "  model = cd_fast.enet_coordinate_descent(\n",
      "/opt/anaconda3/lib/python3.8/site-packages/sklearn/linear_model/_coordinate_descent.py:529: ConvergenceWarning: Objective did not converge. You might want to increase the number of iterations. Duality gap: 541538.3418049475, tolerance: 1360.8470724398142\n",
      "  model = cd_fast.enet_coordinate_descent(\n",
      "/opt/anaconda3/lib/python3.8/site-packages/sklearn/linear_model/_coordinate_descent.py:529: ConvergenceWarning: Objective did not converge. You might want to increase the number of iterations. Duality gap: 531949.5138384572, tolerance: 1147.420212505874\n",
      "  model = cd_fast.enet_coordinate_descent(\n",
      "/opt/anaconda3/lib/python3.8/site-packages/sklearn/linear_model/_coordinate_descent.py:529: ConvergenceWarning: Objective did not converge. You might want to increase the number of iterations. Duality gap: 454786.98421400785, tolerance: 1328.0130902857204\n",
      "  model = cd_fast.enet_coordinate_descent(\n",
      "/opt/anaconda3/lib/python3.8/site-packages/sklearn/linear_model/_coordinate_descent.py:529: ConvergenceWarning: Objective did not converge. You might want to increase the number of iterations. Duality gap: 541538.3418049475, tolerance: 13608.470724398141\n",
      "  model = cd_fast.enet_coordinate_descent(\n",
      "/opt/anaconda3/lib/python3.8/site-packages/sklearn/linear_model/_coordinate_descent.py:529: ConvergenceWarning: Objective did not converge. You might want to increase the number of iterations. Duality gap: 531949.5138384572, tolerance: 11474.202125058739\n",
      "  model = cd_fast.enet_coordinate_descent(\n",
      "/opt/anaconda3/lib/python3.8/site-packages/sklearn/linear_model/_coordinate_descent.py:529: ConvergenceWarning: Objective did not converge. You might want to increase the number of iterations. Duality gap: 454786.98421400785, tolerance: 13280.130902857203\n",
      "  model = cd_fast.enet_coordinate_descent(\n",
      "/opt/anaconda3/lib/python3.8/site-packages/sklearn/linear_model/_coordinate_descent.py:529: ConvergenceWarning: Objective did not converge. You might want to increase the number of iterations. Duality gap: 541538.3418049475, tolerance: 136084.70724398142\n",
      "  model = cd_fast.enet_coordinate_descent(\n",
      "/opt/anaconda3/lib/python3.8/site-packages/sklearn/linear_model/_coordinate_descent.py:529: ConvergenceWarning: Objective did not converge. You might want to increase the number of iterations. Duality gap: 531949.5138384572, tolerance: 114742.0212505874\n",
      "  model = cd_fast.enet_coordinate_descent(\n",
      "/opt/anaconda3/lib/python3.8/site-packages/sklearn/linear_model/_coordinate_descent.py:529: ConvergenceWarning: Objective did not converge. You might want to increase the number of iterations. Duality gap: 454786.98421400785, tolerance: 132801.30902857202\n",
      "  model = cd_fast.enet_coordinate_descent(\n",
      "/opt/anaconda3/lib/python3.8/site-packages/sklearn/linear_model/_coordinate_descent.py:529: ConvergenceWarning: Objective did not converge. You might want to increase the number of iterations. Duality gap: 0.1855856804177165, tolerance: 0.11474202125058738\n",
      "  model = cd_fast.enet_coordinate_descent(\n",
      "/opt/anaconda3/lib/python3.8/site-packages/sklearn/linear_model/_coordinate_descent.py:529: ConvergenceWarning: Objective did not converge. You might want to increase the number of iterations. Duality gap: 1232.7878392389975, tolerance: 0.13280130902857204\n",
      "  model = cd_fast.enet_coordinate_descent(\n",
      "/opt/anaconda3/lib/python3.8/site-packages/sklearn/linear_model/_coordinate_descent.py:529: ConvergenceWarning: Objective did not converge. You might want to increase the number of iterations. Duality gap: 1232.7878392389975, tolerance: 1.3280130902857203\n",
      "  model = cd_fast.enet_coordinate_descent(\n"
     ]
    }
   ],
   "source": [
    "from sklearn.model_selection import GridSearchCV\n",
    "\n",
    "lasso_params = {\n",
    "    \"alpha\": list(np.logspace(-8,2,11))\n",
    "    ,\"max_iter\": [10, 100, 1000, 10000]\n",
    "    , \"tol\": list(np.logspace(-8,0,9))\n",
    "    \n",
    "}\n",
    "\n",
    "lasso_miami_gs = GridSearchCV(lasso_miami, lasso_params, cv=kfold)\n",
    "lasso_miami_gs.fit(df_2013_to_2017_miami.drop(columns = 'Yearly_Avg_Zip'), \n",
    "              df_2013_to_2017_miami.Yearly_Avg_Zip)\n",
    "print(\"The best parameters are: \", lasso_miami_gs.best_params_)\n",
    "lasso_miami_gs.cv_results_['mean_test_score']"
   ]
  },
  {
   "cell_type": "code",
   "execution_count": null,
   "id": "8387d723",
   "metadata": {},
   "outputs": [],
   "source": [
    "print(\"The best parameters are: \", lasso_miami_gs.best_params_)"
   ]
  },
  {
   "cell_type": "code",
   "execution_count": null,
   "id": "84dc5bc5",
   "metadata": {},
   "outputs": [],
   "source": [
    "lasso_miami_gs.score(df_2018_miami.drop(columns = 'Yearly_Avg_Zip'), \n",
    "               df_2018_miami.Yearly_Avg_Zip)"
   ]
  },
  {
   "cell_type": "code",
   "execution_count": null,
   "id": "c4b01835",
   "metadata": {},
   "outputs": [],
   "source": [
    "lasso_miami_tuned=Lasso(**lasso_miami_gs.best_params_)"
   ]
  },
  {
   "cell_type": "code",
   "execution_count": null,
   "id": "1bd59d3f",
   "metadata": {},
   "outputs": [],
   "source": [
    "lasso_miami_tuned.fit(df_2013_to_2017_miami.drop(columns = 'Yearly_Avg_Zip'), \n",
    "              df_2013_to_2017_miami.Yearly_Avg_Zip)"
   ]
  },
  {
   "cell_type": "code",
   "execution_count": null,
   "id": "6e6b97c2",
   "metadata": {},
   "outputs": [],
   "source": [
    "rmse_test_lasso_miami=np.sqrt(\n",
    "    mean_squared_error\n",
    "    (df_2018_miami.Yearly_Avg_Zip, \n",
    "    lasso_miami_tuned.predict(df_2018_miami.drop(columns = 'Yearly_Avg_Zip'))\n",
    "    )\n",
    ")\n",
    "print(rmse_test_lasso_miami)"
   ]
  },
  {
   "cell_type": "code",
   "execution_count": null,
   "id": "5b70ad28",
   "metadata": {},
   "outputs": [],
   "source": [
    "df_2018_miami.Yearly_Avg_Zip.describe()"
   ]
  },
  {
   "cell_type": "markdown",
   "id": "9e6b6d7b",
   "metadata": {},
   "source": [
    "### Cross Validation on the train set (data in 2013-2017)"
   ]
  },
  {
   "cell_type": "code",
   "execution_count": null,
   "id": "cc825b23",
   "metadata": {},
   "outputs": [],
   "source": [
    "X_train, X_test, y_train, y_test = train_test_split(\n",
    "    df_2013_to_2017_miami.drop(columns = 'Yearly_Avg_Zip'), \n",
    "    df_2013_to_2017_miami.Yearly_Avg_Zip, \n",
    "    test_size=0.3, random_state=0)"
   ]
  },
  {
   "cell_type": "code",
   "execution_count": null,
   "id": "7de38e73",
   "metadata": {},
   "outputs": [],
   "source": [
    "lasso_miami_tuned_scores = cross_val_score(lasso_miami_tuned, \n",
    "                                           X_train, y_train, cv=kfold)\n",
    "print(lasso_miami_tuned_scores)\n",
    "np.mean(lasso_miami_tuned_scores)"
   ]
  },
  {
   "cell_type": "code",
   "execution_count": null,
   "id": "77b91d44",
   "metadata": {},
   "outputs": [],
   "source": [
    "lasso_miami_tuned.score(X_test, y_test)"
   ]
  },
  {
   "cell_type": "markdown",
   "id": "703d8be1",
   "metadata": {},
   "source": [
    "### Random Forest"
   ]
  },
  {
   "cell_type": "code",
   "execution_count": null,
   "id": "5bce5519",
   "metadata": {},
   "outputs": [],
   "source": [
    "rf_miami = RandomForestRegressor(random_state=0)\n",
    "rf_miami.fit(df_2013_to_2017_miami.drop(columns = 'Yearly_Avg_Zip'), \n",
    "             df_2013_to_2017_miami.Yearly_Avg_Zip)"
   ]
  },
  {
   "cell_type": "code",
   "execution_count": null,
   "id": "82ffd43c",
   "metadata": {
    "scrolled": true
   },
   "outputs": [],
   "source": [
    "feature_importances_miami = pd.Series(rf_miami.feature_importances_, \n",
    "                                index=df_2013_to_2017_miami.drop(columns = 'Yearly_Avg_Zip').columns)\n",
    "feature_importances_miami=feature_importances_miami.sort_values(ascending=False)\n",
    "feature_importances_miami.head(10)"
   ]
  },
  {
   "cell_type": "markdown",
   "id": "8934c803",
   "metadata": {},
   "source": [
    "## Orlando"
   ]
  },
  {
   "cell_type": "code",
   "execution_count": null,
   "id": "050a6363",
   "metadata": {},
   "outputs": [],
   "source": [
    "df_2013_to_2017_orlando=df_2013_to_2017[\n",
    "    df_2013_to_2017[\"zip_code\"].isin(orlando_zip)]\n",
    "\n",
    "df_2013_to_2017_orlando=df_2013_to_2017_orlando.drop([\"zip_code\",\"year\"],axis=1)\n",
    "#dropping unique identifiers"
   ]
  },
  {
   "cell_type": "code",
   "execution_count": null,
   "id": "f2d490d2",
   "metadata": {},
   "outputs": [],
   "source": [
    "df_2018_orlando=df_2018[df_2018[\"zip_code\"].isin(orlando_zip)]\n",
    "df_2018_orlando=df_2018_orlando.drop([\"zip_code\",\"year\"],axis=1)"
   ]
  },
  {
   "cell_type": "markdown",
   "id": "2aa28040",
   "metadata": {},
   "source": [
    "## Linear Regression"
   ]
  },
  {
   "cell_type": "code",
   "execution_count": null,
   "id": "4dc08993",
   "metadata": {},
   "outputs": [],
   "source": [
    "ols_orlando = linear_model.LinearRegression()\n",
    "ols_orlando.fit(df_2013_to_2017_orlando.drop(columns = 'Yearly_Avg_Zip'), \n",
    "              df_2013_to_2017_orlando.Yearly_Avg_Zip)"
   ]
  },
  {
   "cell_type": "code",
   "execution_count": null,
   "id": "f9bc53ed",
   "metadata": {},
   "outputs": [],
   "source": [
    "ols_orlando.score(df_2018_orlando.drop(columns = 'Yearly_Avg_Zip'), \n",
    "               df_2018_orlando.Yearly_Avg_Zip)"
   ]
  },
  {
   "cell_type": "code",
   "execution_count": null,
   "id": "69cd226a",
   "metadata": {},
   "outputs": [],
   "source": [
    "rmse_test_ols_orlando=np.sqrt(\n",
    "    mean_squared_error\n",
    "    (df_2018_orlando.Yearly_Avg_Zip, \n",
    "    ols_orlando.predict(df_2018_orlando.drop(columns = 'Yearly_Avg_Zip'))\n",
    "    )\n",
    ")\n",
    "print(rmse_test_ols_orlando)"
   ]
  },
  {
   "cell_type": "markdown",
   "id": "29debfd6",
   "metadata": {},
   "source": [
    "## Lasso Regression"
   ]
  },
  {
   "cell_type": "code",
   "execution_count": null,
   "id": "bbde766a",
   "metadata": {},
   "outputs": [],
   "source": [
    "lasso_orlando=Lasso()"
   ]
  },
  {
   "cell_type": "code",
   "execution_count": null,
   "id": "d89d5b01",
   "metadata": {},
   "outputs": [],
   "source": [
    "lasso_orlando.fit(df_2013_to_2017_orlando.drop(columns = 'Yearly_Avg_Zip'), \n",
    "              df_2013_to_2017_orlando.Yearly_Avg_Zip)"
   ]
  },
  {
   "cell_type": "code",
   "execution_count": null,
   "id": "7897454e",
   "metadata": {},
   "outputs": [],
   "source": [
    "rmse_test_lasso_orlando=np.sqrt(\n",
    "    mean_squared_error\n",
    "    (df_2018_orlando.Yearly_Avg_Zip, \n",
    "    lasso_orlando.predict(df_2018_orlando.drop(columns = 'Yearly_Avg_Zip'))\n",
    "    )\n",
    ")\n",
    "print(rmse_test_lasso_orlando)"
   ]
  },
  {
   "cell_type": "code",
   "execution_count": null,
   "id": "dd132e9d",
   "metadata": {},
   "outputs": [],
   "source": [
    "from sklearn.model_selection import GridSearchCV\n",
    "\n",
    "lasso_params = {\n",
    "    \"alpha\": list(np.logspace(-8,2,11))\n",
    "    ,\"max_iter\": [10, 100, 1000, 10000]\n",
    "    , \"tol\": list(np.logspace(-8,0,9))\n",
    "    \n",
    "}\n",
    "\n",
    "lasso_orlando_gs = GridSearchCV(lasso_orlando, lasso_params, cv=kfold)\n",
    "lasso_orlando_gs.fit(df_2013_to_2017_orlando.drop(columns = 'Yearly_Avg_Zip'), \n",
    "              df_2013_to_2017_orlando.Yearly_Avg_Zip)\n",
    "lasso_orlando_gs.cv_results_['mean_test_score']"
   ]
  },
  {
   "cell_type": "code",
   "execution_count": null,
   "id": "3cce80d4",
   "metadata": {},
   "outputs": [],
   "source": [
    "print(\"The best parameters are: \", lasso_orlando_gs.best_params_)"
   ]
  },
  {
   "cell_type": "code",
   "execution_count": null,
   "id": "bcd79aff",
   "metadata": {},
   "outputs": [],
   "source": [
    "lasso_orlando_gs.score(df_2018_orlando.drop(columns = 'Yearly_Avg_Zip'), \n",
    "               df_2018_orlando.Yearly_Avg_Zip)"
   ]
  },
  {
   "cell_type": "code",
   "execution_count": null,
   "id": "531b3080",
   "metadata": {},
   "outputs": [],
   "source": [
    "lasso_orlando_tuned=Lasso(**lasso_orlando_gs.best_params_)"
   ]
  },
  {
   "cell_type": "code",
   "execution_count": null,
   "id": "e7b0279d",
   "metadata": {},
   "outputs": [],
   "source": [
    "lasso_orlando_tuned.fit(df_2013_to_2017_orlando.drop(columns = 'Yearly_Avg_Zip'), \n",
    "              df_2013_to_2017_orlando.Yearly_Avg_Zip)"
   ]
  },
  {
   "cell_type": "code",
   "execution_count": null,
   "id": "ce2b731a",
   "metadata": {},
   "outputs": [],
   "source": [
    "rmse_test_lasso_orlando=np.sqrt(\n",
    "    mean_squared_error\n",
    "    (df_2018_orlando.Yearly_Avg_Zip, \n",
    "    lasso_orlando_tuned.predict(df_2018_orlando.drop(columns = 'Yearly_Avg_Zip'))\n",
    "    )\n",
    ")\n",
    "print(rmse_test_lasso_orlando)"
   ]
  },
  {
   "cell_type": "markdown",
   "id": "b56518d4",
   "metadata": {},
   "source": [
    "### Cross Validation on the train set (data in 2013-2017)"
   ]
  },
  {
   "cell_type": "code",
   "execution_count": null,
   "id": "156aea61",
   "metadata": {},
   "outputs": [],
   "source": [
    "X_train, X_test, y_train, y_test = train_test_split(\n",
    "    df_2013_to_2017_orlando.drop(columns = 'Yearly_Avg_Zip'), \n",
    "    df_2013_to_2017_orlando.Yearly_Avg_Zip, \n",
    "    test_size=0.3, random_state=0)"
   ]
  },
  {
   "cell_type": "code",
   "execution_count": null,
   "id": "e3ab4ff6",
   "metadata": {},
   "outputs": [],
   "source": [
    "lasso_orlando_tuned_scores = cross_val_score(lasso_orlando_tuned, \n",
    "                                           X_train, y_train, cv=kfold)\n",
    "print(lasso_orlando_tuned_scores)\n",
    "np.mean(lasso_orlando_tuned_scores)"
   ]
  },
  {
   "cell_type": "code",
   "execution_count": null,
   "id": "955283fc",
   "metadata": {},
   "outputs": [],
   "source": [
    "lasso_orlando_tuned.score(X_test, y_test)"
   ]
  },
  {
   "cell_type": "markdown",
   "id": "8d4ce96f",
   "metadata": {},
   "source": [
    "### Random Forest"
   ]
  },
  {
   "cell_type": "code",
   "execution_count": null,
   "id": "f3fc97ae",
   "metadata": {},
   "outputs": [],
   "source": [
    "rf_orlando = RandomForestRegressor(random_state=0)\n",
    "rf_orlando.fit(df_2013_to_2017_orlando.drop(columns = 'Yearly_Avg_Zip'), \n",
    "             df_2013_to_2017_orlando.Yearly_Avg_Zip)"
   ]
  },
  {
   "cell_type": "code",
   "execution_count": null,
   "id": "44e67196",
   "metadata": {},
   "outputs": [],
   "source": [
    "feature_importances_orlando = pd.Series(rf_orlando.feature_importances_, \n",
    "                                index=df_2013_to_2017_orlando.drop(columns = 'Yearly_Avg_Zip').columns)\n",
    "feature_importances_orlando=feature_importances_orlando.sort_values(ascending=False)\n",
    "feature_importances_orlando.head(10)"
   ]
  },
  {
   "cell_type": "markdown",
   "id": "776db977",
   "metadata": {},
   "source": [
    "## Tampa"
   ]
  },
  {
   "cell_type": "code",
   "execution_count": null,
   "id": "449a97bf",
   "metadata": {},
   "outputs": [],
   "source": [
    "df_2013_to_2017_tampa=df_2013_to_2017[\n",
    "    df_2013_to_2017[\"zip_code\"].isin(tampa_zip)]\n",
    "\n",
    "df_2013_to_2017_tampa=df_2013_to_2017_tampa.drop([\"zip_code\",\"year\"],axis=1)\n",
    "#dropping unique identifiers"
   ]
  },
  {
   "cell_type": "code",
   "execution_count": null,
   "id": "13e016b8",
   "metadata": {},
   "outputs": [],
   "source": [
    "df_2018_tampa=df_2018[df_2018[\"zip_code\"].isin(tampa_zip)]\n",
    "df_2018_tampa=df_2018_tampa.drop([\"zip_code\",\"year\"],axis=1)"
   ]
  },
  {
   "cell_type": "markdown",
   "id": "c8db021f",
   "metadata": {},
   "source": [
    "### Linear Regression"
   ]
  },
  {
   "cell_type": "code",
   "execution_count": null,
   "id": "ddabc495",
   "metadata": {},
   "outputs": [],
   "source": [
    "ols_tampa = linear_model.LinearRegression()\n",
    "ols_tampa.fit(df_2013_to_2017_tampa.drop(columns = 'Yearly_Avg_Zip'), \n",
    "              df_2013_to_2017_tampa.Yearly_Avg_Zip)"
   ]
  },
  {
   "cell_type": "code",
   "execution_count": null,
   "id": "6b103648",
   "metadata": {},
   "outputs": [],
   "source": [
    "ols_tampa.score(df_2018_tampa.drop(columns = 'Yearly_Avg_Zip'), \n",
    "               df_2018_tampa.Yearly_Avg_Zip)"
   ]
  },
  {
   "cell_type": "code",
   "execution_count": null,
   "id": "8081344b",
   "metadata": {},
   "outputs": [],
   "source": [
    "rmse_test_ols_tampa=np.sqrt(\n",
    "    mean_squared_error\n",
    "    (df_2018_tampa.Yearly_Avg_Zip, \n",
    "    ols_tampa.predict(df_2018_tampa.drop(columns = 'Yearly_Avg_Zip'))\n",
    "    )\n",
    ")\n",
    "print(rmse_test_ols_tampa)"
   ]
  },
  {
   "cell_type": "markdown",
   "id": "22890a02",
   "metadata": {},
   "source": [
    "### Lasso Regression"
   ]
  },
  {
   "cell_type": "code",
   "execution_count": null,
   "id": "1f534ee7",
   "metadata": {},
   "outputs": [],
   "source": [
    "lasso_tampa=Lasso()"
   ]
  },
  {
   "cell_type": "code",
   "execution_count": null,
   "id": "4c13166c",
   "metadata": {},
   "outputs": [],
   "source": [
    "lasso_tampa.fit(df_2013_to_2017_tampa.drop(columns = 'Yearly_Avg_Zip'), \n",
    "              df_2013_to_2017_tampa.Yearly_Avg_Zip)"
   ]
  },
  {
   "cell_type": "code",
   "execution_count": null,
   "id": "e8950818",
   "metadata": {},
   "outputs": [],
   "source": [
    "rmse_test_lasso_tampa=np.sqrt(\n",
    "    mean_squared_error\n",
    "    (df_2018_tampa.Yearly_Avg_Zip, \n",
    "    lasso_tampa.predict(df_2018_tampa.drop(columns = 'Yearly_Avg_Zip'))\n",
    "    )\n",
    ")\n",
    "print(rmse_test_lasso_tampa)"
   ]
  },
  {
   "cell_type": "code",
   "execution_count": null,
   "id": "ac799e53",
   "metadata": {},
   "outputs": [],
   "source": [
    "from sklearn.model_selection import GridSearchCV\n",
    "\n",
    "lasso_params = {\n",
    "    \"alpha\": list(np.logspace(-8,2,11))\n",
    "    ,\"max_iter\": [10, 100, 1000, 10000]\n",
    "    , \"tol\": list(np.logspace(-8,0,9))\n",
    "    \n",
    "}\n",
    "\n",
    "lasso_tampa_gs = GridSearchCV(lasso_tampa, lasso_params, cv=kfold)\n",
    "lasso_tampa_gs.fit(df_2013_to_2017_tampa.drop(columns = 'Yearly_Avg_Zip'), \n",
    "              df_2013_to_2017_tampa.Yearly_Avg_Zip)\n",
    "print(\"The best parameters are: \", lasso_tampa_gs.best_params_)\n",
    "lasso_tampa_gs.cv_results_['mean_test_score']"
   ]
  },
  {
   "cell_type": "code",
   "execution_count": null,
   "id": "17315da4",
   "metadata": {},
   "outputs": [],
   "source": [
    "print(\"The best parameters are: \", lasso_tampa_gs.best_params_)"
   ]
  },
  {
   "cell_type": "code",
   "execution_count": null,
   "id": "c65f3a40",
   "metadata": {},
   "outputs": [],
   "source": [
    "lasso_tampa_gs.score(df_2018_tampa.drop(columns = 'Yearly_Avg_Zip'), \n",
    "               df_2018_tampa.Yearly_Avg_Zip)"
   ]
  },
  {
   "cell_type": "code",
   "execution_count": null,
   "id": "fbed61ca",
   "metadata": {},
   "outputs": [],
   "source": [
    "lasso_tampa_tuned=Lasso(**lasso_tampa_gs.best_params_)"
   ]
  },
  {
   "cell_type": "code",
   "execution_count": null,
   "id": "f0f011e5",
   "metadata": {},
   "outputs": [],
   "source": [
    "lasso_tampa_tuned.fit(df_2013_to_2017_tampa.drop(columns = 'Yearly_Avg_Zip'), \n",
    "              df_2013_to_2017_tampa.Yearly_Avg_Zip)"
   ]
  },
  {
   "cell_type": "code",
   "execution_count": null,
   "id": "eeb09dcf",
   "metadata": {},
   "outputs": [],
   "source": [
    "rmse_test_lasso_tampa=np.sqrt(\n",
    "    mean_squared_error\n",
    "    (df_2018_tampa.Yearly_Avg_Zip, \n",
    "    lasso_tampa_tuned.predict(df_2018_tampa.drop(columns = 'Yearly_Avg_Zip'))\n",
    "    )\n",
    ")\n",
    "print(rmse_test_lasso_tampa)"
   ]
  },
  {
   "cell_type": "markdown",
   "id": "895e243f",
   "metadata": {},
   "source": [
    "### Cross Validation on the train set (data in 2013-2017)"
   ]
  },
  {
   "cell_type": "code",
   "execution_count": null,
   "id": "b73f1f01",
   "metadata": {},
   "outputs": [],
   "source": [
    "X_train, X_test, y_train, y_test = train_test_split(\n",
    "    df_2013_to_2017_tampa.drop(columns = 'Yearly_Avg_Zip'), \n",
    "    df_2013_to_2017_tampa.Yearly_Avg_Zip, \n",
    "    test_size=0.3, random_state=0)"
   ]
  },
  {
   "cell_type": "code",
   "execution_count": null,
   "id": "ff2b2e4c",
   "metadata": {},
   "outputs": [],
   "source": [
    "lasso_tampa_tuned_scores = cross_val_score(lasso_tampa_tuned, \n",
    "                                           X_train, y_train, cv=kfold)\n",
    "print(lasso_tampa_tuned_scores)\n",
    "np.mean(lasso_tampa_tuned_scores)"
   ]
  },
  {
   "cell_type": "code",
   "execution_count": null,
   "id": "03627118",
   "metadata": {},
   "outputs": [],
   "source": [
    "lasso_tampa_tuned.score(X_test, y_test)"
   ]
  },
  {
   "cell_type": "markdown",
   "id": "12f1af20",
   "metadata": {},
   "source": [
    "### Random Forest"
   ]
  },
  {
   "cell_type": "code",
   "execution_count": null,
   "id": "d430e2a2",
   "metadata": {},
   "outputs": [],
   "source": [
    "rf_tampa = RandomForestRegressor(random_state=0)\n",
    "rf_tampa.fit(df_2013_to_2017_tampa.drop(columns = 'Yearly_Avg_Zip'), \n",
    "             df_2013_to_2017_tampa.Yearly_Avg_Zip)"
   ]
  },
  {
   "cell_type": "code",
   "execution_count": null,
   "id": "4cd667e6",
   "metadata": {},
   "outputs": [],
   "source": [
    "feature_importances_tampa = pd.Series(rf_tampa.feature_importances_, \n",
    "                                index=df_2013_to_2017_tampa.drop(columns = 'Yearly_Avg_Zip').columns)\n",
    "feature_importances_tampa=feature_importances_tampa.sort_values(ascending=False)\n",
    "feature_importances_tampa.head(10)"
   ]
  },
  {
   "cell_type": "markdown",
   "id": "ff8423e9",
   "metadata": {},
   "source": [
    "## Jacksonville"
   ]
  },
  {
   "cell_type": "code",
   "execution_count": null,
   "id": "66d7a58c",
   "metadata": {},
   "outputs": [],
   "source": [
    "df_2013_to_2017_jax=df_2013_to_2017[\n",
    "    df_2013_to_2017[\"zip_code\"].isin(jax_zip)]\n",
    "\n",
    "df_2013_to_2017_jax=df_2013_to_2017_jax.drop([\"zip_code\",\"year\"],axis=1)\n",
    "#dropping unique identifiers"
   ]
  },
  {
   "cell_type": "code",
   "execution_count": null,
   "id": "b5c622d4",
   "metadata": {},
   "outputs": [],
   "source": [
    "df_2018_jax=df_2018[df_2018[\"zip_code\"].isin(jax_zip)]\n",
    "df_2018_jax=df_2018_jax.drop([\"zip_code\",\"year\"],axis=1)"
   ]
  },
  {
   "cell_type": "markdown",
   "id": "ce49208c",
   "metadata": {},
   "source": [
    "### Linear Regression"
   ]
  },
  {
   "cell_type": "code",
   "execution_count": null,
   "id": "eb2ff36d",
   "metadata": {},
   "outputs": [],
   "source": [
    "ols_jax = linear_model.LinearRegression()\n",
    "ols_jax.fit(df_2013_to_2017_jax.drop(columns = 'Yearly_Avg_Zip'), \n",
    "              df_2013_to_2017_jax.Yearly_Avg_Zip)"
   ]
  },
  {
   "cell_type": "code",
   "execution_count": null,
   "id": "86fa8141",
   "metadata": {},
   "outputs": [],
   "source": [
    "ols_jax.score(df_2018_jax.drop(columns = 'Yearly_Avg_Zip'), \n",
    "               df_2018_jax.Yearly_Avg_Zip)"
   ]
  },
  {
   "cell_type": "code",
   "execution_count": null,
   "id": "95078f03",
   "metadata": {},
   "outputs": [],
   "source": [
    "rmse_test_ols_jax=np.sqrt(\n",
    "    mean_squared_error\n",
    "    (df_2018_jax.Yearly_Avg_Zip, \n",
    "    ols_jax.predict(df_2018_jax.drop(columns = 'Yearly_Avg_Zip'))\n",
    "    )\n",
    ")\n",
    "print(rmse_test_ols_jax)"
   ]
  },
  {
   "cell_type": "markdown",
   "id": "89f051e8",
   "metadata": {},
   "source": [
    "### Lasso Regression"
   ]
  },
  {
   "cell_type": "code",
   "execution_count": null,
   "id": "f3054924",
   "metadata": {},
   "outputs": [],
   "source": [
    "lasso_jax=Lasso()"
   ]
  },
  {
   "cell_type": "code",
   "execution_count": null,
   "id": "509592a8",
   "metadata": {},
   "outputs": [],
   "source": [
    "lasso_jax.fit(df_2013_to_2017_jax.drop(columns = 'Yearly_Avg_Zip'), \n",
    "              df_2013_to_2017_jax.Yearly_Avg_Zip)"
   ]
  },
  {
   "cell_type": "code",
   "execution_count": null,
   "id": "c0dea58e",
   "metadata": {},
   "outputs": [],
   "source": [
    "rmse_test_lasso_jax=np.sqrt(\n",
    "    mean_squared_error\n",
    "    (df_2018_jax.Yearly_Avg_Zip, \n",
    "    lasso_jax.predict(df_2018_jax.drop(columns = 'Yearly_Avg_Zip'))\n",
    "    )\n",
    ")\n",
    "print(rmse_test_lasso_jax)"
   ]
  },
  {
   "cell_type": "code",
   "execution_count": null,
   "id": "9fe4eca8",
   "metadata": {},
   "outputs": [],
   "source": [
    "from sklearn.model_selection import GridSearchCV\n",
    "\n",
    "lasso_params = {\n",
    "    \"alpha\": list(np.logspace(-8,2,11))\n",
    "    ,\"max_iter\": [10, 100, 1000, 10000]\n",
    "    , \"tol\": list(np.logspace(-8,0,9))\n",
    "    \n",
    "}\n",
    "\n",
    "lasso_jax_gs = GridSearchCV(lasso_jax, lasso_params, cv=kfold)\n",
    "lasso_jax_gs.fit(df_2013_to_2017_jax.drop(columns = 'Yearly_Avg_Zip'), \n",
    "              df_2013_to_2017_jax.Yearly_Avg_Zip)\n",
    "print(\"The best parameters are: \", lasso_jax_gs.best_params_)\n",
    "lasso_jax_gs.cv_results_['mean_test_score']"
   ]
  },
  {
   "cell_type": "code",
   "execution_count": null,
   "id": "289e44c6",
   "metadata": {},
   "outputs": [],
   "source": [
    "print(\"The best parameters are: \", lasso_jax_gs.best_params_)"
   ]
  },
  {
   "cell_type": "code",
   "execution_count": null,
   "id": "e33417cd",
   "metadata": {},
   "outputs": [],
   "source": [
    "lasso_jax_gs.score(df_2018_jax.drop(columns = 'Yearly_Avg_Zip'), \n",
    "               df_2018_jax.Yearly_Avg_Zip)"
   ]
  },
  {
   "cell_type": "code",
   "execution_count": null,
   "id": "8c816e9e",
   "metadata": {},
   "outputs": [],
   "source": [
    "lasso_jax_tuned=Lasso(**lasso_jax_gs.best_params_)"
   ]
  },
  {
   "cell_type": "code",
   "execution_count": null,
   "id": "2ac52465",
   "metadata": {},
   "outputs": [],
   "source": [
    "lasso_jax_tuned.fit(df_2013_to_2017_jax.drop(columns = 'Yearly_Avg_Zip'), \n",
    "              df_2013_to_2017_jax.Yearly_Avg_Zip)"
   ]
  },
  {
   "cell_type": "code",
   "execution_count": null,
   "id": "5d1b939b",
   "metadata": {},
   "outputs": [],
   "source": [
    "rmse_test_lasso_jax=np.sqrt(\n",
    "    mean_squared_error\n",
    "    (df_2018_jax.Yearly_Avg_Zip, \n",
    "    lasso_jax_tuned.predict(df_2018_jax.drop(columns = 'Yearly_Avg_Zip'))\n",
    "    )\n",
    ")\n",
    "print(rmse_test_lasso_jax)"
   ]
  },
  {
   "cell_type": "markdown",
   "id": "69308fc7",
   "metadata": {},
   "source": [
    "### Cross Validation on the train set (data in 2013-2017)"
   ]
  },
  {
   "cell_type": "code",
   "execution_count": null,
   "id": "c94fa4f5",
   "metadata": {},
   "outputs": [],
   "source": [
    "X_train, X_test, y_train, y_test = train_test_split(\n",
    "    df_2013_to_2017_jax.drop(columns = 'Yearly_Avg_Zip'), \n",
    "    df_2013_to_2017_jax.Yearly_Avg_Zip, \n",
    "    test_size=0.3, random_state=0)"
   ]
  },
  {
   "cell_type": "code",
   "execution_count": null,
   "id": "71a90904",
   "metadata": {},
   "outputs": [],
   "source": [
    "lasso_jax_tuned_scores = cross_val_score(lasso_jax_tuned, \n",
    "                                           X_train, y_train, cv=kfold)\n",
    "print(lasso_jax_tuned_scores)\n",
    "np.mean(lasso_jax_tuned_scores)"
   ]
  },
  {
   "cell_type": "code",
   "execution_count": null,
   "id": "baf4757b",
   "metadata": {},
   "outputs": [],
   "source": [
    "lasso_jax_tuned.score(X_test, y_test)"
   ]
  },
  {
   "cell_type": "markdown",
   "id": "c2f6d79e",
   "metadata": {},
   "source": [
    "### Random Forest"
   ]
  },
  {
   "cell_type": "code",
   "execution_count": null,
   "id": "d560f09f",
   "metadata": {},
   "outputs": [],
   "source": [
    "rf_jax = RandomForestRegressor(random_state=0)\n",
    "rf_jax.fit(df_2013_to_2017_jax.drop(columns = 'Yearly_Avg_Zip'), \n",
    "             df_2013_to_2017_jax.Yearly_Avg_Zip)"
   ]
  },
  {
   "cell_type": "code",
   "execution_count": null,
   "id": "acadd972",
   "metadata": {},
   "outputs": [],
   "source": [
    "feature_importances_jax = pd.Series(rf_jax.feature_importances_, \n",
    "                                index=df_2013_to_2017_jax.drop(columns = 'Yearly_Avg_Zip').columns)\n",
    "feature_importances_jax=feature_importances_jax.sort_values(ascending=False)\n",
    "feature_importances_jax.head(10)"
   ]
  },
  {
   "cell_type": "code",
   "execution_count": null,
   "id": "0df0c3fe",
   "metadata": {},
   "outputs": [],
   "source": []
  },
  {
   "cell_type": "code",
   "execution_count": null,
   "id": "973897c1",
   "metadata": {},
   "outputs": [],
   "source": []
  }
 ],
 "metadata": {
  "kernelspec": {
   "display_name": "Python 3",
   "language": "python",
   "name": "python3"
  },
  "language_info": {
   "codemirror_mode": {
    "name": "ipython",
    "version": 3
   },
   "file_extension": ".py",
   "mimetype": "text/x-python",
   "name": "python",
   "nbconvert_exporter": "python",
   "pygments_lexer": "ipython3",
   "version": "3.8.8"
  }
 },
 "nbformat": 4,
 "nbformat_minor": 5
}
