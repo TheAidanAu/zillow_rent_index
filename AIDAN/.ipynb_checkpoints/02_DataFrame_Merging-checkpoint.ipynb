{
 "cells": [
  {
   "cell_type": "code",
   "execution_count": 14,
   "id": "b365b8fd",
   "metadata": {},
   "outputs": [],
   "source": [
    "import numpy as np\n",
    "import pandas as pd"
   ]
  },
  {
   "cell_type": "code",
   "execution_count": 15,
   "id": "b7d9e787",
   "metadata": {},
   "outputs": [],
   "source": [
    "acs_2018 = pd.read_csv('./data/acs/acs_2018.csv')"
   ]
  },
  {
   "cell_type": "code",
   "execution_count": 16,
   "id": "287c55a3",
   "metadata": {},
   "outputs": [],
   "source": [
    "acs_2017 = pd.read_csv('./data/acs/acs_2017.csv')"
   ]
  },
  {
   "cell_type": "code",
   "execution_count": 17,
   "id": "822ca28d",
   "metadata": {},
   "outputs": [],
   "source": [
    "acs_2016 = pd.read_csv('./data/acs/acs_2016.csv')"
   ]
  },
  {
   "cell_type": "code",
   "execution_count": 18,
   "id": "b6a422e4",
   "metadata": {},
   "outputs": [],
   "source": [
    "acs_2015 = pd.read_csv('./data/acs/acs_2015.csv')"
   ]
  },
  {
   "cell_type": "code",
   "execution_count": 19,
   "id": "4009135f",
   "metadata": {},
   "outputs": [],
   "source": [
    "acs_2014 = pd.read_csv('./data/acs/acs_2014.csv')"
   ]
  },
  {
   "cell_type": "code",
   "execution_count": 20,
   "id": "aafdc476",
   "metadata": {},
   "outputs": [],
   "source": [
    "acs_2013 = pd.read_csv('./data/acs/acs_2013.csv')"
   ]
  },
  {
   "cell_type": "code",
   "execution_count": 21,
   "id": "0f234628",
   "metadata": {},
   "outputs": [],
   "source": [
    "acs_2012 = pd.read_csv('./data/acs/acs_2012.csv')"
   ]
  },
  {
   "cell_type": "code",
   "execution_count": 22,
   "id": "6e08e3e1",
   "metadata": {},
   "outputs": [],
   "source": [
    "acs_2011 = pd.read_csv('./data/acs/acs_2011.csv')"
   ]
  },
  {
   "cell_type": "code",
   "execution_count": 34,
   "id": "83e4bf8c",
   "metadata": {},
   "outputs": [
    {
     "data": {
      "text/plain": [
       "(33089, 241)"
      ]
     },
     "execution_count": 34,
     "metadata": {},
     "output_type": "execute_result"
    }
   ],
   "source": [
    "acs_2018.shape"
   ]
  },
  {
   "cell_type": "code",
   "execution_count": 35,
   "id": "b861ce8c",
   "metadata": {},
   "outputs": [
    {
     "data": {
      "text/plain": [
       "(33089, 253)"
      ]
     },
     "execution_count": 35,
     "metadata": {},
     "output_type": "execute_result"
    }
   ],
   "source": [
    "acs_2017.shape"
   ]
  },
  {
   "cell_type": "code",
   "execution_count": 36,
   "id": "15800375",
   "metadata": {},
   "outputs": [
    {
     "data": {
      "text/plain": [
       "(33089, 253)"
      ]
     },
     "execution_count": 36,
     "metadata": {},
     "output_type": "execute_result"
    }
   ],
   "source": [
    "acs_2016.shape"
   ]
  },
  {
   "cell_type": "code",
   "execution_count": 37,
   "id": "c48751a0",
   "metadata": {},
   "outputs": [
    {
     "data": {
      "text/plain": [
       "(33089, 248)"
      ]
     },
     "execution_count": 37,
     "metadata": {},
     "output_type": "execute_result"
    }
   ],
   "source": [
    "acs_2015.shape"
   ]
  },
  {
   "cell_type": "code",
   "execution_count": 38,
   "id": "508a4c7e",
   "metadata": {},
   "outputs": [
    {
     "data": {
      "text/plain": [
       "(33089, 253)"
      ]
     },
     "execution_count": 38,
     "metadata": {},
     "output_type": "execute_result"
    }
   ],
   "source": [
    "acs_2014.shape"
   ]
  },
  {
   "cell_type": "code",
   "execution_count": 39,
   "id": "a256998e",
   "metadata": {},
   "outputs": [
    {
     "data": {
      "text/plain": [
       "(33089, 253)"
      ]
     },
     "execution_count": 39,
     "metadata": {},
     "output_type": "execute_result"
    }
   ],
   "source": [
    "acs_2013.shape"
   ]
  },
  {
   "cell_type": "code",
   "execution_count": 40,
   "id": "9a4e27c8",
   "metadata": {},
   "outputs": [
    {
     "data": {
      "text/plain": [
       "(33089, 253)"
      ]
     },
     "execution_count": 40,
     "metadata": {},
     "output_type": "execute_result"
    }
   ],
   "source": [
    "acs_2012.shape"
   ]
  },
  {
   "cell_type": "code",
   "execution_count": 41,
   "id": "9dba4083",
   "metadata": {},
   "outputs": [
    {
     "data": {
      "text/plain": [
       "(33089, 253)"
      ]
     },
     "execution_count": 41,
     "metadata": {},
     "output_type": "execute_result"
    }
   ],
   "source": [
    "acs_2011.shape"
   ]
  },
  {
   "cell_type": "code",
   "execution_count": null,
   "id": "13304c1e",
   "metadata": {},
   "outputs": [],
   "source": [
    "acs_2011.shape"
   ]
  },
  {
   "cell_type": "code",
   "execution_count": 48,
   "id": "19cb6823",
   "metadata": {},
   "outputs": [],
   "source": [
    "acs_2011[\"year\"]=[2011] * 33089"
   ]
  },
  {
   "cell_type": "code",
   "execution_count": 51,
   "id": "4c481297",
   "metadata": {},
   "outputs": [],
   "source": [
    "acs_2012[\"year\"]=[2012] * 33089\n",
    "acs_2013[\"year\"]=[2013] * 33089\n",
    "acs_2014[\"year\"]=[2014] * 33089\n",
    "acs_2015[\"year\"]=[2015] * 33089\n",
    "acs_2016[\"year\"]=[2016] * 33089\n",
    "acs_2017[\"year\"]=[2017] * 33089\n",
    "acs_2018[\"year\"]=[2018] * 33089"
   ]
  },
  {
   "cell_type": "code",
   "execution_count": 63,
   "id": "273f75f7",
   "metadata": {},
   "outputs": [
    {
     "data": {
      "text/plain": [
       "['geo_id',\n",
       " 'do_date',\n",
       " 'total_pop',\n",
       " 'households',\n",
       " 'male_pop',\n",
       " 'female_pop',\n",
       " 'median_age',\n",
       " 'male_under_5',\n",
       " 'male_5_to_9',\n",
       " 'male_10_to_14',\n",
       " 'male_15_to_17',\n",
       " 'male_18_to_19',\n",
       " 'male_20',\n",
       " 'male_21',\n",
       " 'male_22_to_24',\n",
       " 'male_25_to_29',\n",
       " 'male_30_to_34',\n",
       " 'male_35_to_39',\n",
       " 'male_40_to_44',\n",
       " 'male_45_to_49',\n",
       " 'male_50_to_54',\n",
       " 'male_55_to_59',\n",
       " 'male_65_to_66',\n",
       " 'male_67_to_69',\n",
       " 'male_70_to_74',\n",
       " 'male_75_to_79',\n",
       " 'male_80_to_84',\n",
       " 'male_85_and_over',\n",
       " 'female_under_5',\n",
       " 'female_5_to_9',\n",
       " 'female_10_to_14',\n",
       " 'female_15_to_17',\n",
       " 'female_18_to_19',\n",
       " 'female_20',\n",
       " 'female_21',\n",
       " 'female_22_to_24',\n",
       " 'female_25_to_29',\n",
       " 'female_30_to_34',\n",
       " 'female_35_to_39',\n",
       " 'female_40_to_44',\n",
       " 'female_45_to_49',\n",
       " 'female_50_to_54',\n",
       " 'female_55_to_59',\n",
       " 'female_60_to_61',\n",
       " 'female_62_to_64',\n",
       " 'female_65_to_66',\n",
       " 'female_67_to_69',\n",
       " 'female_70_to_74',\n",
       " 'female_75_to_79',\n",
       " 'female_80_to_84',\n",
       " 'female_85_and_over',\n",
       " 'white_pop',\n",
       " 'population_1_year_and_over',\n",
       " 'population_3_years_over',\n",
       " 'pop_5_years_over',\n",
       " 'pop_15_and_over',\n",
       " 'pop_16_over',\n",
       " 'pop_25_years_over',\n",
       " 'pop_25_64',\n",
       " 'pop_never_married',\n",
       " 'pop_now_married',\n",
       " 'pop_separated',\n",
       " 'pop_widowed',\n",
       " 'pop_divorced',\n",
       " 'not_us_citizen_pop',\n",
       " 'black_pop',\n",
       " 'asian_pop',\n",
       " 'hispanic_pop',\n",
       " 'amerindian_pop',\n",
       " 'other_race_pop',\n",
       " 'two_or_more_races_pop',\n",
       " 'hispanic_any_race',\n",
       " 'not_hispanic_pop',\n",
       " 'asian_male_45_54',\n",
       " 'asian_male_55_64',\n",
       " 'black_male_45_54',\n",
       " 'black_male_55_64',\n",
       " 'hispanic_male_45_54',\n",
       " 'hispanic_male_55_64',\n",
       " 'white_male_45_54',\n",
       " 'white_male_55_64',\n",
       " 'median_income',\n",
       " 'income_per_capita',\n",
       " 'income_less_10000',\n",
       " 'income_10000_14999',\n",
       " 'income_15000_19999',\n",
       " 'income_20000_24999',\n",
       " 'income_25000_29999',\n",
       " 'income_30000_34999',\n",
       " 'income_35000_39999',\n",
       " 'income_40000_44999',\n",
       " 'income_45000_49999',\n",
       " 'income_50000_59999',\n",
       " 'income_60000_74999',\n",
       " 'income_75000_99999',\n",
       " 'income_100000_124999',\n",
       " 'income_125000_149999',\n",
       " 'income_150000_199999',\n",
       " 'income_200000_or_more',\n",
       " 'pop_determined_poverty_status',\n",
       " 'poverty',\n",
       " 'gini_index',\n",
       " 'housing_units',\n",
       " 'renter_occupied_housing_units_paying_cash_median_gross_rent',\n",
       " 'owner_occupied_housing_units_lower_value_quartile',\n",
       " 'owner_occupied_housing_units_median_value',\n",
       " 'owner_occupied_housing_units_upper_value_quartile',\n",
       " 'occupied_housing_units',\n",
       " 'housing_units_renter_occupied',\n",
       " 'vacant_housing_units',\n",
       " 'vacant_housing_units_for_rent',\n",
       " 'vacant_housing_units_for_sale',\n",
       " 'dwellings_1_units_detached',\n",
       " 'dwellings_1_units_attached',\n",
       " 'dwellings_2_units',\n",
       " 'dwellings_3_to_4_units',\n",
       " 'dwellings_5_to_9_units',\n",
       " 'dwellings_10_to_19_units',\n",
       " 'dwellings_20_to_49_units',\n",
       " 'dwellings_50_or_more_units',\n",
       " 'mobile_homes',\n",
       " 'housing_built_2005_or_later',\n",
       " 'housing_built_2000_to_2004',\n",
       " 'housing_built_1939_or_earlier',\n",
       " 'median_year_structure_built',\n",
       " 'married_households',\n",
       " 'nonfamily_households',\n",
       " 'family_households',\n",
       " 'households_public_asst_or_food_stamps',\n",
       " 'male_male_households',\n",
       " 'female_female_households',\n",
       " 'children',\n",
       " 'children_in_single_female_hh',\n",
       " 'median_rent',\n",
       " 'percent_income_spent_on_rent',\n",
       " 'rent_burden_not_computed',\n",
       " 'rent_over_50_percent',\n",
       " 'rent_40_to_50_percent',\n",
       " 'rent_35_to_40_percent',\n",
       " 'rent_30_to_35_percent',\n",
       " 'rent_25_to_30_percent',\n",
       " 'rent_20_to_25_percent',\n",
       " 'rent_15_to_20_percent',\n",
       " 'rent_10_to_15_percent',\n",
       " 'rent_under_10_percent',\n",
       " 'owner_occupied_housing_units',\n",
       " 'million_dollar_housing_units',\n",
       " 'mortgaged_housing_units',\n",
       " 'different_house_year_ago_different_city',\n",
       " 'different_house_year_ago_same_city',\n",
       " 'families_with_young_children',\n",
       " 'two_parent_families_with_young_children',\n",
       " 'two_parents_in_labor_force_families_with_young_children',\n",
       " 'two_parents_father_in_labor_force_families_with_young_children',\n",
       " 'two_parents_mother_in_labor_force_families_with_young_children',\n",
       " 'two_parents_not_in_labor_force_families_with_young_children',\n",
       " 'one_parent_families_with_young_children',\n",
       " 'father_one_parent_families_with_young_children',\n",
       " 'father_in_labor_force_one_parent_families_with_young_children',\n",
       " 'commute_less_10_mins',\n",
       " 'commute_10_14_mins',\n",
       " 'commute_15_19_mins',\n",
       " 'commute_20_24_mins',\n",
       " 'commute_25_29_mins',\n",
       " 'commute_30_34_mins',\n",
       " 'commute_35_44_mins',\n",
       " 'commute_60_more_mins',\n",
       " 'commute_45_59_mins',\n",
       " 'commuters_16_over',\n",
       " 'walked_to_work',\n",
       " 'worked_at_home',\n",
       " 'no_car',\n",
       " 'no_cars',\n",
       " 'one_car',\n",
       " 'two_cars',\n",
       " 'three_cars',\n",
       " 'four_more_cars',\n",
       " 'aggregate_travel_time_to_work',\n",
       " 'commuters_by_public_transportation',\n",
       " 'commuters_by_bus',\n",
       " 'commuters_by_car_truck_van',\n",
       " 'commuters_by_carpool',\n",
       " 'commuters_by_subway_or_elevated',\n",
       " 'commuters_drove_alone',\n",
       " 'group_quarters',\n",
       " 'associates_degree',\n",
       " 'bachelors_degree',\n",
       " 'high_school_diploma',\n",
       " 'less_one_year_college',\n",
       " 'masters_degree',\n",
       " 'one_year_more_college',\n",
       " 'less_than_high_school_graduate',\n",
       " 'high_school_including_ged',\n",
       " 'bachelors_degree_2',\n",
       " 'bachelors_degree_or_higher_25_64',\n",
       " 'graduate_professional_degree',\n",
       " 'some_college_and_associates_degree',\n",
       " 'male_45_64_associates_degree',\n",
       " 'male_45_64_bachelors_degree',\n",
       " 'male_45_64_graduate_degree',\n",
       " 'male_45_64_less_than_9_grade',\n",
       " 'male_45_64_grade_9_12',\n",
       " 'male_45_64_high_school',\n",
       " 'male_45_64_some_college',\n",
       " 'male_45_to_64',\n",
       " 'employed_pop',\n",
       " 'unemployed_pop',\n",
       " 'pop_in_labor_force',\n",
       " 'not_in_labor_force',\n",
       " 'workers_16_and_over',\n",
       " 'armed_forces',\n",
       " 'civilian_labor_force',\n",
       " 'employed_agriculture_forestry_fishing_hunting_mining',\n",
       " 'employed_arts_entertainment_recreation_accommodation_food',\n",
       " 'employed_construction',\n",
       " 'employed_education_health_social',\n",
       " 'employed_finance_insurance_real_estate',\n",
       " 'employed_information',\n",
       " 'employed_manufacturing',\n",
       " 'employed_other_services_not_public_admin',\n",
       " 'employed_public_administration',\n",
       " 'employed_retail_trade',\n",
       " 'employed_science_management_admin_waste',\n",
       " 'employed_transportation_warehousing_utilities',\n",
       " 'employed_wholesale_trade',\n",
       " 'occupation_management_arts',\n",
       " 'occupation_natural_resources_construction_maintenance',\n",
       " 'occupation_production_transportation_material',\n",
       " 'occupation_sales_office',\n",
       " 'occupation_services',\n",
       " 'management_business_sci_arts_employed',\n",
       " 'sales_office_employed',\n",
       " 'in_grades_1_to_4',\n",
       " 'in_grades_5_to_8',\n",
       " 'in_grades_9_to_12',\n",
       " 'in_school',\n",
       " 'in_undergrad_college',\n",
       " 'speak_only_english_at_home',\n",
       " 'speak_spanish_at_home',\n",
       " 'speak_spanish_at_home_low_english',\n",
       " 'zip_code',\n",
       " 'year']"
      ]
     },
     "execution_count": 63,
     "metadata": {},
     "output_type": "execute_result"
    }
   ],
   "source": [
    "acs_2018.columns.tolist()"
   ]
  },
  {
   "cell_type": "code",
   "execution_count": 104,
   "id": "e4c6bd30",
   "metadata": {},
   "outputs": [
    {
     "data": {
      "text/html": [
       "<div>\n",
       "<style scoped>\n",
       "    .dataframe tbody tr th:only-of-type {\n",
       "        vertical-align: middle;\n",
       "    }\n",
       "\n",
       "    .dataframe tbody tr th {\n",
       "        vertical-align: top;\n",
       "    }\n",
       "\n",
       "    .dataframe thead th {\n",
       "        text-align: right;\n",
       "    }\n",
       "</style>\n",
       "<table border=\"1\" class=\"dataframe\">\n",
       "  <thead>\n",
       "    <tr style=\"text-align: right;\">\n",
       "      <th></th>\n",
       "      <th>geo_id</th>\n",
       "      <th>do_date</th>\n",
       "      <th>total_pop</th>\n",
       "      <th>households</th>\n",
       "      <th>male_pop</th>\n",
       "      <th>female_pop</th>\n",
       "      <th>median_age</th>\n",
       "      <th>male_under_5</th>\n",
       "      <th>male_5_to_9</th>\n",
       "      <th>male_10_to_14</th>\n",
       "      <th>...</th>\n",
       "      <th>in_grades_1_to_4</th>\n",
       "      <th>in_grades_5_to_8</th>\n",
       "      <th>in_grades_9_to_12</th>\n",
       "      <th>in_school</th>\n",
       "      <th>in_undergrad_college</th>\n",
       "      <th>speak_only_english_at_home</th>\n",
       "      <th>speak_spanish_at_home</th>\n",
       "      <th>speak_spanish_at_home_low_english</th>\n",
       "      <th>zip_code</th>\n",
       "      <th>year</th>\n",
       "    </tr>\n",
       "  </thead>\n",
       "  <tbody>\n",
       "    <tr>\n",
       "      <th>0</th>\n",
       "      <td>87537</td>\n",
       "      <td>2014-01-01</td>\n",
       "      <td>2510</td>\n",
       "      <td>856</td>\n",
       "      <td>1283</td>\n",
       "      <td>1227</td>\n",
       "      <td>42.1</td>\n",
       "      <td>58</td>\n",
       "      <td>75</td>\n",
       "      <td>87</td>\n",
       "      <td>...</td>\n",
       "      <td>304</td>\n",
       "      <td>171</td>\n",
       "      <td>80</td>\n",
       "      <td>593</td>\n",
       "      <td>20</td>\n",
       "      <td>NaN</td>\n",
       "      <td>NaN</td>\n",
       "      <td>NaN</td>\n",
       "      <td>87537</td>\n",
       "      <td>2018</td>\n",
       "    </tr>\n",
       "    <tr>\n",
       "      <th>1</th>\n",
       "      <td>87017</td>\n",
       "      <td>2014-01-01</td>\n",
       "      <td>346</td>\n",
       "      <td>112</td>\n",
       "      <td>150</td>\n",
       "      <td>196</td>\n",
       "      <td>50.9</td>\n",
       "      <td>0</td>\n",
       "      <td>0</td>\n",
       "      <td>12</td>\n",
       "      <td>...</td>\n",
       "      <td>0</td>\n",
       "      <td>27</td>\n",
       "      <td>15</td>\n",
       "      <td>96</td>\n",
       "      <td>40</td>\n",
       "      <td>NaN</td>\n",
       "      <td>NaN</td>\n",
       "      <td>NaN</td>\n",
       "      <td>87017</td>\n",
       "      <td>2018</td>\n",
       "    </tr>\n",
       "    <tr>\n",
       "      <th>2</th>\n",
       "      <td>87528</td>\n",
       "      <td>2014-01-01</td>\n",
       "      <td>3505</td>\n",
       "      <td>727</td>\n",
       "      <td>1758</td>\n",
       "      <td>1747</td>\n",
       "      <td>27.9</td>\n",
       "      <td>260</td>\n",
       "      <td>194</td>\n",
       "      <td>159</td>\n",
       "      <td>...</td>\n",
       "      <td>293</td>\n",
       "      <td>266</td>\n",
       "      <td>298</td>\n",
       "      <td>1237</td>\n",
       "      <td>138</td>\n",
       "      <td>NaN</td>\n",
       "      <td>NaN</td>\n",
       "      <td>NaN</td>\n",
       "      <td>87528</td>\n",
       "      <td>2018</td>\n",
       "    </tr>\n",
       "    <tr>\n",
       "      <th>3</th>\n",
       "      <td>87533</td>\n",
       "      <td>2014-01-01</td>\n",
       "      <td>133</td>\n",
       "      <td>58</td>\n",
       "      <td>49</td>\n",
       "      <td>84</td>\n",
       "      <td>25.8</td>\n",
       "      <td>0</td>\n",
       "      <td>12</td>\n",
       "      <td>8</td>\n",
       "      <td>...</td>\n",
       "      <td>24</td>\n",
       "      <td>8</td>\n",
       "      <td>7</td>\n",
       "      <td>58</td>\n",
       "      <td>3</td>\n",
       "      <td>NaN</td>\n",
       "      <td>NaN</td>\n",
       "      <td>NaN</td>\n",
       "      <td>87533</td>\n",
       "      <td>2018</td>\n",
       "    </tr>\n",
       "    <tr>\n",
       "      <th>4</th>\n",
       "      <td>87511</td>\n",
       "      <td>2014-01-01</td>\n",
       "      <td>2896</td>\n",
       "      <td>787</td>\n",
       "      <td>1177</td>\n",
       "      <td>1719</td>\n",
       "      <td>36.0</td>\n",
       "      <td>142</td>\n",
       "      <td>63</td>\n",
       "      <td>44</td>\n",
       "      <td>...</td>\n",
       "      <td>263</td>\n",
       "      <td>107</td>\n",
       "      <td>163</td>\n",
       "      <td>1008</td>\n",
       "      <td>279</td>\n",
       "      <td>NaN</td>\n",
       "      <td>NaN</td>\n",
       "      <td>NaN</td>\n",
       "      <td>87511</td>\n",
       "      <td>2018</td>\n",
       "    </tr>\n",
       "  </tbody>\n",
       "</table>\n",
       "<p>5 rows × 236 columns</p>\n",
       "</div>"
      ],
      "text/plain": [
       "   geo_id     do_date  total_pop  households  male_pop  female_pop  \\\n",
       "0   87537  2014-01-01       2510         856      1283        1227   \n",
       "1   87017  2014-01-01        346         112       150         196   \n",
       "2   87528  2014-01-01       3505         727      1758        1747   \n",
       "3   87533  2014-01-01        133          58        49          84   \n",
       "4   87511  2014-01-01       2896         787      1177        1719   \n",
       "\n",
       "   median_age  male_under_5  male_5_to_9  male_10_to_14  ...  \\\n",
       "0        42.1            58           75             87  ...   \n",
       "1        50.9             0            0             12  ...   \n",
       "2        27.9           260          194            159  ...   \n",
       "3        25.8             0           12              8  ...   \n",
       "4        36.0           142           63             44  ...   \n",
       "\n",
       "   in_grades_1_to_4  in_grades_5_to_8  in_grades_9_to_12  in_school  \\\n",
       "0               304               171                 80        593   \n",
       "1                 0                27                 15         96   \n",
       "2               293               266                298       1237   \n",
       "3                24                 8                  7         58   \n",
       "4               263               107                163       1008   \n",
       "\n",
       "   in_undergrad_college  speak_only_english_at_home  speak_spanish_at_home  \\\n",
       "0                    20                         NaN                    NaN   \n",
       "1                    40                         NaN                    NaN   \n",
       "2                   138                         NaN                    NaN   \n",
       "3                     3                         NaN                    NaN   \n",
       "4                   279                         NaN                    NaN   \n",
       "\n",
       "   speak_spanish_at_home_low_english  zip_code  year  \n",
       "0                                NaN     87537  2018  \n",
       "1                                NaN     87017  2018  \n",
       "2                                NaN     87528  2018  \n",
       "3                                NaN     87533  2018  \n",
       "4                                NaN     87511  2018  \n",
       "\n",
       "[5 rows x 236 columns]"
      ]
     },
     "execution_count": 104,
     "metadata": {},
     "output_type": "execute_result"
    }
   ],
   "source": [
    "acs_concat=pd.concat([acs_2018, acs_2017, acs_2016, acs_2015], axis=0, join=\"inner\")\n",
    "acs_concat.head()"
   ]
  },
  {
   "cell_type": "code",
   "execution_count": 105,
   "id": "b72cdc57",
   "metadata": {},
   "outputs": [],
   "source": [
    "acs_concat=acs_concat.drop([\"geo_id\",\"do_date\"], axis=1) #geo_id is the same as zip_code"
   ]
  },
  {
   "cell_type": "code",
   "execution_count": 109,
   "id": "d44298b5",
   "metadata": {},
   "outputs": [],
   "source": [
    "%store -r miami_zip\n",
    "%store -r orlando_zip\n",
    "%store -r tampa_zip\n",
    "%store -r jackvonsille_zip"
   ]
  },
  {
   "cell_type": "code",
   "execution_count": 115,
   "id": "0ef19fbe",
   "metadata": {},
   "outputs": [
    {
     "data": {
      "text/plain": [
       "(304, 235)"
      ]
     },
     "execution_count": 115,
     "metadata": {},
     "output_type": "execute_result"
    }
   ],
   "source": [
    "acs_concat[acs_concat.zip_code.isin(miami_zip+orlando_zip+tampa_zip+jackvonsille_zip)].shape"
   ]
  },
  {
   "cell_type": "code",
   "execution_count": 114,
   "id": "2a8c49a6",
   "metadata": {},
   "outputs": [
    {
     "data": {
      "text/plain": [
       "(204, 235)"
      ]
     },
     "execution_count": 114,
     "metadata": {},
     "output_type": "execute_result"
    }
   ],
   "source": [
    "acs_concat[acs_concat.zip_code.isin(miami_zip)].shape"
   ]
  },
  {
   "cell_type": "code",
   "execution_count": 116,
   "id": "7f3d3a23",
   "metadata": {},
   "outputs": [
    {
     "data": {
      "text/plain": [
       "(32, 235)"
      ]
     },
     "execution_count": 116,
     "metadata": {},
     "output_type": "execute_result"
    }
   ],
   "source": [
    "acs_concat[acs_concat.zip_code.isin(orlando_zip)].shape"
   ]
  },
  {
   "cell_type": "code",
   "execution_count": 117,
   "id": "2feffef1",
   "metadata": {},
   "outputs": [
    {
     "data": {
      "text/plain": [
       "(52, 235)"
      ]
     },
     "execution_count": 117,
     "metadata": {},
     "output_type": "execute_result"
    }
   ],
   "source": [
    "acs_concat[acs_concat.zip_code.isin(tampa_zip)].shape"
   ]
  },
  {
   "cell_type": "code",
   "execution_count": 118,
   "id": "4b022f20",
   "metadata": {},
   "outputs": [
    {
     "data": {
      "text/plain": [
       "(16, 235)"
      ]
     },
     "execution_count": 118,
     "metadata": {},
     "output_type": "execute_result"
    }
   ],
   "source": [
    "acs_concat[acs_concat.zip_code.isin(jackvonsille_zip)].shape"
   ]
  }
 ],
 "metadata": {
  "kernelspec": {
   "display_name": "Python 3",
   "language": "python",
   "name": "python3"
  },
  "language_info": {
   "codemirror_mode": {
    "name": "ipython",
    "version": 3
   },
   "file_extension": ".py",
   "mimetype": "text/x-python",
   "name": "python",
   "nbconvert_exporter": "python",
   "pygments_lexer": "ipython3",
   "version": "3.8.8"
  }
 },
 "nbformat": 4,
 "nbformat_minor": 5
}
