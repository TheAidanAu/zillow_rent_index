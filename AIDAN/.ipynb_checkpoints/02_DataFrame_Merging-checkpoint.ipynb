{
 "cells": [
  {
   "cell_type": "code",
   "execution_count": 128,
   "id": "b365b8fd",
   "metadata": {},
   "outputs": [],
   "source": [
    "import numpy as np\n",
    "import pandas as pd"
   ]
  },
  {
   "cell_type": "code",
   "execution_count": 129,
   "id": "b7d9e787",
   "metadata": {},
   "outputs": [],
   "source": [
    "acs_2018 = pd.read_csv('./data/acs/acs_2018.csv')"
   ]
  },
  {
   "cell_type": "code",
   "execution_count": 130,
   "id": "287c55a3",
   "metadata": {},
   "outputs": [],
   "source": [
    "acs_2017 = pd.read_csv('./data/acs/acs_2017.csv')"
   ]
  },
  {
   "cell_type": "code",
   "execution_count": 131,
   "id": "822ca28d",
   "metadata": {},
   "outputs": [],
   "source": [
    "acs_2016 = pd.read_csv('./data/acs/acs_2016.csv')"
   ]
  },
  {
   "cell_type": "code",
   "execution_count": 132,
   "id": "b6a422e4",
   "metadata": {},
   "outputs": [],
   "source": [
    "acs_2015 = pd.read_csv('./data/acs/acs_2015.csv')"
   ]
  },
  {
   "cell_type": "code",
   "execution_count": null,
   "id": "83e4bf8c",
   "metadata": {},
   "outputs": [],
   "source": [
    "acs_2018.shape"
   ]
  },
  {
   "cell_type": "code",
   "execution_count": null,
   "id": "b861ce8c",
   "metadata": {},
   "outputs": [],
   "source": [
    "acs_2017.shape"
   ]
  },
  {
   "cell_type": "code",
   "execution_count": null,
   "id": "15800375",
   "metadata": {},
   "outputs": [],
   "source": [
    "acs_2016.shape"
   ]
  },
  {
   "cell_type": "code",
   "execution_count": null,
   "id": "c48751a0",
   "metadata": {},
   "outputs": [],
   "source": [
    "acs_2015.shape"
   ]
  },
  {
   "cell_type": "code",
   "execution_count": null,
   "id": "4c481297",
   "metadata": {},
   "outputs": [],
   "source": [
    "acs_2015[\"year\"]=[2015] * 33089\n",
    "acs_2016[\"year\"]=[2016] * 33089\n",
    "acs_2017[\"year\"]=[2017] * 33089\n",
    "acs_2018[\"year\"]=[2018] * 33089"
   ]
  },
  {
   "cell_type": "code",
   "execution_count": null,
   "id": "273f75f7",
   "metadata": {},
   "outputs": [],
   "source": [
    "acs_2018.columns.tolist()"
   ]
  },
  {
   "cell_type": "code",
   "execution_count": null,
   "id": "e4c6bd30",
   "metadata": {},
   "outputs": [],
   "source": [
    "acs_concat=pd.concat([acs_2018, acs_2017, acs_2016, acs_2015], axis=0, join=\"inner\")\n",
    "acs_concat.head()"
   ]
  },
  {
   "cell_type": "code",
   "execution_count": null,
   "id": "b72cdc57",
   "metadata": {},
   "outputs": [],
   "source": [
    "acs_concat=acs_concat.drop([\"geo_id\",\"do_date\"], axis=1) #geo_id is the same as zip_code"
   ]
  },
  {
   "cell_type": "code",
   "execution_count": null,
   "id": "d44298b5",
   "metadata": {},
   "outputs": [],
   "source": [
    "%store -r miami_zip\n",
    "%store -r orlando_zip\n",
    "%store -r tampa_zip\n",
    "%store -r jackvonsille_zip"
   ]
  },
  {
   "cell_type": "code",
   "execution_count": null,
   "id": "52152c1f",
   "metadata": {},
   "outputs": [],
   "source": [
    "acs_concat[acs_concat.zip_code.isin(miami_zip+orlando_zip+tampa_zip+jackvonsille_zip)].shape"
   ]
  },
  {
   "cell_type": "code",
   "execution_count": null,
   "id": "d5f7dc62",
   "metadata": {},
   "outputs": [],
   "source": [
    "acs_concat[acs_concat.zip_code.isin(miami_zip)].shape"
   ]
  },
  {
   "cell_type": "code",
   "execution_count": null,
   "id": "4ff587bd",
   "metadata": {},
   "outputs": [],
   "source": [
    "acs_concat[acs_concat.zip_code.isin(orlando_zip)].shape"
   ]
  },
  {
   "cell_type": "code",
   "execution_count": null,
   "id": "96838516",
   "metadata": {},
   "outputs": [],
   "source": [
    "acs_concat[acs_concat.zip_code.isin(tampa_zip)].shape"
   ]
  },
  {
   "cell_type": "code",
   "execution_count": null,
   "id": "f1927c73",
   "metadata": {},
   "outputs": [],
   "source": [
    "acs_concat[acs_concat.zip_code.isin(jackvonsille_zip)].shape"
   ]
  },
  {
   "cell_type": "code",
   "execution_count": null,
   "id": "026ec7df",
   "metadata": {},
   "outputs": [],
   "source": [
    "acs_concat[acs_concat.zip_code.isin(miami_zip+orlando_zip+tampa_zip+jackvonsille_zip)].describe()"
   ]
  },
  {
   "cell_type": "code",
   "execution_count": null,
   "id": "bffe7dcd",
   "metadata": {},
   "outputs": [],
   "source": [
    "acs_concat[acs_concat.zip_code.isin(miami_zip+orlando_zip+tampa_zip+jackvonsille_zip)].isnull().sum().sort_values(ascending=False)"
   ]
  }
 ],
 "metadata": {
  "kernelspec": {
   "display_name": "Python 3",
   "language": "python",
   "name": "python3"
  },
  "language_info": {
   "codemirror_mode": {
    "name": "ipython",
    "version": 3
   },
   "file_extension": ".py",
   "mimetype": "text/x-python",
   "name": "python",
   "nbconvert_exporter": "python",
   "pygments_lexer": "ipython3",
   "version": "3.8.8"
  }
 },
 "nbformat": 4,
 "nbformat_minor": 5
}
