{
 "cells": [
  {
   "cell_type": "code",
   "execution_count": 1,
   "id": "06d80119",
   "metadata": {},
   "outputs": [],
   "source": [
    "import numpy as np\n",
    "import pandas as pd"
   ]
  },
  {
   "cell_type": "code",
   "execution_count": 2,
   "id": "c6a842b3",
   "metadata": {},
   "outputs": [],
   "source": [
    "zri = pd.read_csv('./data/Zip_Zri_MultiFamilyResidenceRental.csv')"
   ]
  },
  {
   "cell_type": "code",
   "execution_count": 3,
   "id": "0846d79b",
   "metadata": {},
   "outputs": [
    {
     "data": {
      "text/html": [
       "<div>\n",
       "<style scoped>\n",
       "    .dataframe tbody tr th:only-of-type {\n",
       "        vertical-align: middle;\n",
       "    }\n",
       "\n",
       "    .dataframe tbody tr th {\n",
       "        vertical-align: top;\n",
       "    }\n",
       "\n",
       "    .dataframe thead th {\n",
       "        text-align: right;\n",
       "    }\n",
       "</style>\n",
       "<table border=\"1\" class=\"dataframe\">\n",
       "  <thead>\n",
       "    <tr style=\"text-align: right;\">\n",
       "      <th></th>\n",
       "      <th>RegionID</th>\n",
       "      <th>RegionName</th>\n",
       "      <th>City</th>\n",
       "      <th>State</th>\n",
       "      <th>Metro</th>\n",
       "      <th>CountyName</th>\n",
       "      <th>SizeRank</th>\n",
       "      <th>2010-09</th>\n",
       "      <th>2010-10</th>\n",
       "      <th>2010-11</th>\n",
       "      <th>...</th>\n",
       "      <th>2019-04</th>\n",
       "      <th>2019-05</th>\n",
       "      <th>2019-06</th>\n",
       "      <th>2019-07</th>\n",
       "      <th>2019-08</th>\n",
       "      <th>2019-09</th>\n",
       "      <th>2019-10</th>\n",
       "      <th>2019-11</th>\n",
       "      <th>2019-12</th>\n",
       "      <th>2020-01</th>\n",
       "    </tr>\n",
       "  </thead>\n",
       "  <tbody>\n",
       "    <tr>\n",
       "      <th>0</th>\n",
       "      <td>61639</td>\n",
       "      <td>10025</td>\n",
       "      <td>New York</td>\n",
       "      <td>NY</td>\n",
       "      <td>New York-Newark-Jersey City</td>\n",
       "      <td>New York County</td>\n",
       "      <td>1</td>\n",
       "      <td>2930.0</td>\n",
       "      <td>2952.0</td>\n",
       "      <td>2926.0</td>\n",
       "      <td>...</td>\n",
       "      <td>3484.0</td>\n",
       "      <td>3523.0</td>\n",
       "      <td>3573.0</td>\n",
       "      <td>3622.0</td>\n",
       "      <td>3664.0</td>\n",
       "      <td>3698.0</td>\n",
       "      <td>3704.0</td>\n",
       "      <td>3692.0</td>\n",
       "      <td>3715.0</td>\n",
       "      <td>3676.0</td>\n",
       "    </tr>\n",
       "    <tr>\n",
       "      <th>1</th>\n",
       "      <td>84654</td>\n",
       "      <td>60657</td>\n",
       "      <td>Chicago</td>\n",
       "      <td>IL</td>\n",
       "      <td>Chicago-Naperville-Elgin</td>\n",
       "      <td>Cook County</td>\n",
       "      <td>2</td>\n",
       "      <td>1447.0</td>\n",
       "      <td>1465.0</td>\n",
       "      <td>1469.0</td>\n",
       "      <td>...</td>\n",
       "      <td>1731.0</td>\n",
       "      <td>1749.0</td>\n",
       "      <td>1768.0</td>\n",
       "      <td>1787.0</td>\n",
       "      <td>1801.0</td>\n",
       "      <td>1806.0</td>\n",
       "      <td>1789.0</td>\n",
       "      <td>1761.0</td>\n",
       "      <td>1747.0</td>\n",
       "      <td>1731.0</td>\n",
       "    </tr>\n",
       "    <tr>\n",
       "      <th>2</th>\n",
       "      <td>61637</td>\n",
       "      <td>10023</td>\n",
       "      <td>New York</td>\n",
       "      <td>NY</td>\n",
       "      <td>New York-Newark-Jersey City</td>\n",
       "      <td>New York County</td>\n",
       "      <td>3</td>\n",
       "      <td>2797.0</td>\n",
       "      <td>2811.0</td>\n",
       "      <td>2813.0</td>\n",
       "      <td>...</td>\n",
       "      <td>3449.0</td>\n",
       "      <td>3459.0</td>\n",
       "      <td>3479.0</td>\n",
       "      <td>3491.0</td>\n",
       "      <td>3510.0</td>\n",
       "      <td>3521.0</td>\n",
       "      <td>3574.0</td>\n",
       "      <td>3608.0</td>\n",
       "      <td>3561.0</td>\n",
       "      <td>NaN</td>\n",
       "    </tr>\n",
       "    <tr>\n",
       "      <th>3</th>\n",
       "      <td>91982</td>\n",
       "      <td>77494</td>\n",
       "      <td>Katy</td>\n",
       "      <td>TX</td>\n",
       "      <td>Houston-The Woodlands-Sugar Land</td>\n",
       "      <td>Harris County</td>\n",
       "      <td>4</td>\n",
       "      <td>NaN</td>\n",
       "      <td>NaN</td>\n",
       "      <td>NaN</td>\n",
       "      <td>...</td>\n",
       "      <td>1226.0</td>\n",
       "      <td>1250.0</td>\n",
       "      <td>1264.0</td>\n",
       "      <td>1251.0</td>\n",
       "      <td>1246.0</td>\n",
       "      <td>1252.0</td>\n",
       "      <td>1280.0</td>\n",
       "      <td>1310.0</td>\n",
       "      <td>1294.0</td>\n",
       "      <td>1286.0</td>\n",
       "    </tr>\n",
       "    <tr>\n",
       "      <th>4</th>\n",
       "      <td>84616</td>\n",
       "      <td>60614</td>\n",
       "      <td>Chicago</td>\n",
       "      <td>IL</td>\n",
       "      <td>Chicago-Naperville-Elgin</td>\n",
       "      <td>Cook County</td>\n",
       "      <td>5</td>\n",
       "      <td>1437.0</td>\n",
       "      <td>1469.0</td>\n",
       "      <td>1490.0</td>\n",
       "      <td>...</td>\n",
       "      <td>1888.0</td>\n",
       "      <td>1911.0</td>\n",
       "      <td>1934.0</td>\n",
       "      <td>1950.0</td>\n",
       "      <td>1953.0</td>\n",
       "      <td>1952.0</td>\n",
       "      <td>1921.0</td>\n",
       "      <td>1958.0</td>\n",
       "      <td>NaN</td>\n",
       "      <td>1916.0</td>\n",
       "    </tr>\n",
       "  </tbody>\n",
       "</table>\n",
       "<p>5 rows × 120 columns</p>\n",
       "</div>"
      ],
      "text/plain": [
       "   RegionID  RegionName      City State                             Metro  \\\n",
       "0     61639       10025  New York    NY       New York-Newark-Jersey City   \n",
       "1     84654       60657   Chicago    IL          Chicago-Naperville-Elgin   \n",
       "2     61637       10023  New York    NY       New York-Newark-Jersey City   \n",
       "3     91982       77494      Katy    TX  Houston-The Woodlands-Sugar Land   \n",
       "4     84616       60614   Chicago    IL          Chicago-Naperville-Elgin   \n",
       "\n",
       "        CountyName  SizeRank  2010-09  2010-10  2010-11  ...  2019-04  \\\n",
       "0  New York County         1   2930.0   2952.0   2926.0  ...   3484.0   \n",
       "1      Cook County         2   1447.0   1465.0   1469.0  ...   1731.0   \n",
       "2  New York County         3   2797.0   2811.0   2813.0  ...   3449.0   \n",
       "3    Harris County         4      NaN      NaN      NaN  ...   1226.0   \n",
       "4      Cook County         5   1437.0   1469.0   1490.0  ...   1888.0   \n",
       "\n",
       "   2019-05  2019-06  2019-07  2019-08  2019-09  2019-10  2019-11  2019-12  \\\n",
       "0   3523.0   3573.0   3622.0   3664.0   3698.0   3704.0   3692.0   3715.0   \n",
       "1   1749.0   1768.0   1787.0   1801.0   1806.0   1789.0   1761.0   1747.0   \n",
       "2   3459.0   3479.0   3491.0   3510.0   3521.0   3574.0   3608.0   3561.0   \n",
       "3   1250.0   1264.0   1251.0   1246.0   1252.0   1280.0   1310.0   1294.0   \n",
       "4   1911.0   1934.0   1950.0   1953.0   1952.0   1921.0   1958.0      NaN   \n",
       "\n",
       "   2020-01  \n",
       "0   3676.0  \n",
       "1   1731.0  \n",
       "2      NaN  \n",
       "3   1286.0  \n",
       "4   1916.0  \n",
       "\n",
       "[5 rows x 120 columns]"
      ]
     },
     "execution_count": 3,
     "metadata": {},
     "output_type": "execute_result"
    }
   ],
   "source": [
    "zri.head()"
   ]
  },
  {
   "cell_type": "code",
   "execution_count": 6,
   "id": "e84c9c2b",
   "metadata": {},
   "outputs": [],
   "source": [
    "#All counties in Miami metro area \n",
    "miami_counties = [\"Broward County\", \"Miami-Dade County\", \"Palm Beach County\"]\n",
    "\n",
    "#All counties in Orlando metro area \n",
    "orlando_counties = [\"Lake County\", \"Orange County\", \"Osceola County\", \"Seminole County\" ]\n",
    "\n",
    "#All counties in Tampa metro area \n",
    "tampa_counties = [\"Hillsborough County\", \"Pinellas County\"]\n",
    "\n",
    "#All counties in Jacksonville metro area \n",
    "jackvonsille_counties = [\"Duval County\"]"
   ]
  },
  {
   "cell_type": "code",
   "execution_count": 21,
   "id": "28b7d65e",
   "metadata": {},
   "outputs": [
    {
     "name": "stdout",
     "output_type": "stream",
     "text": [
      "Stored 'miami_zip' (list)\n"
     ]
    }
   ],
   "source": [
    "miami_zip=zri[zri.CountyName.isin(miami_counties)].RegionID.unique().tolist()\n",
    "%store miami_zip"
   ]
  },
  {
   "cell_type": "code",
   "execution_count": 22,
   "id": "c4c1ccfa",
   "metadata": {},
   "outputs": [
    {
     "name": "stdout",
     "output_type": "stream",
     "text": [
      "Stored 'orlando_zip' (list)\n"
     ]
    }
   ],
   "source": [
    "orlando_zip=zri[zri.CountyName.isin(orlando_counties)].RegionID.unique().tolist()\n",
    "%store orlando_zip"
   ]
  },
  {
   "cell_type": "code",
   "execution_count": 23,
   "id": "ff2ba85f",
   "metadata": {},
   "outputs": [
    {
     "name": "stdout",
     "output_type": "stream",
     "text": [
      "Stored 'tampa_zip' (list)\n"
     ]
    }
   ],
   "source": [
    "tampa_zip=zri[zri.CountyName.isin(tampa_counties)].RegionID.unique().tolist()\n",
    "%store tampa_zip"
   ]
  },
  {
   "cell_type": "code",
   "execution_count": 24,
   "id": "9964921d",
   "metadata": {},
   "outputs": [
    {
     "name": "stdout",
     "output_type": "stream",
     "text": [
      "Stored 'jackvonsille_zip' (list)\n"
     ]
    }
   ],
   "source": [
    "jackvonsille_zip=zri[zri.CountyName.isin(jackvonsille_counties)].RegionID.unique().tolist()\n",
    "%store jackvonsille_zip"
   ]
  },
  {
   "cell_type": "code",
   "execution_count": null,
   "id": "66017f4b",
   "metadata": {},
   "outputs": [],
   "source": []
  }
 ],
 "metadata": {
  "kernelspec": {
   "display_name": "Python 3",
   "language": "python",
   "name": "python3"
  },
  "language_info": {
   "codemirror_mode": {
    "name": "ipython",
    "version": 3
   },
   "file_extension": ".py",
   "mimetype": "text/x-python",
   "name": "python",
   "nbconvert_exporter": "python",
   "pygments_lexer": "ipython3",
   "version": "3.8.8"
  }
 },
 "nbformat": 4,
 "nbformat_minor": 5
}
