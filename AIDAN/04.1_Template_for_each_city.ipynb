{
 "cells": [
  {
   "cell_type": "code",
   "execution_count": 2,
   "id": "387e76de-3249-44ce-b87c-6ffb04e4606b",
   "metadata": {},
   "outputs": [],
   "source": [
    "import pandas as pd\n",
    "import numpy as np\n",
    "import warnings\n",
    "warnings.filterwarnings('ignore')\n",
    "from sklearn.metrics import mean_squared_error"
   ]
  },
  {
   "cell_type": "code",
   "execution_count": 3,
   "id": "1aadbe76-340f-41ef-abcc-38cb25fc660d",
   "metadata": {},
   "outputs": [],
   "source": [
    "df = pd.read_csv(\"./data/total_df.csv\")"
   ]
  },
  {
   "cell_type": "code",
   "execution_count": 4,
   "id": "f7d2577e-1898-47a4-83eb-9b14785c74d9",
   "metadata": {},
   "outputs": [
    {
     "data": {
      "text/html": [
       "<div>\n",
       "<style scoped>\n",
       "    .dataframe tbody tr th:only-of-type {\n",
       "        vertical-align: middle;\n",
       "    }\n",
       "\n",
       "    .dataframe tbody tr th {\n",
       "        vertical-align: top;\n",
       "    }\n",
       "\n",
       "    .dataframe thead th {\n",
       "        text-align: right;\n",
       "    }\n",
       "</style>\n",
       "<table border=\"1\" class=\"dataframe\">\n",
       "  <thead>\n",
       "    <tr style=\"text-align: right;\">\n",
       "      <th></th>\n",
       "      <th>zip_code</th>\n",
       "      <th>Monthly_Avg_Zip</th>\n",
       "      <th>FL_Unemployment</th>\n",
       "      <th>year</th>\n",
       "      <th>Encoded_Zip</th>\n",
       "      <th>total_pop</th>\n",
       "      <th>households</th>\n",
       "      <th>male_pop</th>\n",
       "      <th>female_pop</th>\n",
       "      <th>median_age</th>\n",
       "      <th>...</th>\n",
       "      <th>occupation_sales_office</th>\n",
       "      <th>occupation_services</th>\n",
       "      <th>management_business_sci_arts_employed</th>\n",
       "      <th>sales_office_employed</th>\n",
       "      <th>in_grades_1_to_4</th>\n",
       "      <th>in_grades_5_to_8</th>\n",
       "      <th>in_grades_9_to_12</th>\n",
       "      <th>in_school</th>\n",
       "      <th>in_undergrad_college</th>\n",
       "      <th>FLSTHPI_Yearly_Avg</th>\n",
       "    </tr>\n",
       "  </thead>\n",
       "  <tbody>\n",
       "    <tr>\n",
       "      <th>0</th>\n",
       "      <td>33160</td>\n",
       "      <td>1866.833333</td>\n",
       "      <td>7.533333</td>\n",
       "      <td>2013</td>\n",
       "      <td>73</td>\n",
       "      <td>37674</td>\n",
       "      <td>19247</td>\n",
       "      <td>18472</td>\n",
       "      <td>19202</td>\n",
       "      <td>49.6</td>\n",
       "      <td>...</td>\n",
       "      <td>4713.0</td>\n",
       "      <td>2773.0</td>\n",
       "      <td>7911.0</td>\n",
       "      <td>4713.0</td>\n",
       "      <td>935</td>\n",
       "      <td>1346</td>\n",
       "      <td>965</td>\n",
       "      <td>6471</td>\n",
       "      <td>2019</td>\n",
       "      <td>291.655</td>\n",
       "    </tr>\n",
       "    <tr>\n",
       "      <th>1</th>\n",
       "      <td>33025</td>\n",
       "      <td>1341.083333</td>\n",
       "      <td>7.533333</td>\n",
       "      <td>2013</td>\n",
       "      <td>41</td>\n",
       "      <td>57766</td>\n",
       "      <td>21206</td>\n",
       "      <td>27852</td>\n",
       "      <td>29914</td>\n",
       "      <td>32.9</td>\n",
       "      <td>...</td>\n",
       "      <td>8948.0</td>\n",
       "      <td>5448.0</td>\n",
       "      <td>10806.0</td>\n",
       "      <td>8948.0</td>\n",
       "      <td>2963</td>\n",
       "      <td>3682</td>\n",
       "      <td>3345</td>\n",
       "      <td>18163</td>\n",
       "      <td>4987</td>\n",
       "      <td>291.655</td>\n",
       "    </tr>\n",
       "    <tr>\n",
       "      <th>2</th>\n",
       "      <td>33139</td>\n",
       "      <td>1842.666667</td>\n",
       "      <td>7.533333</td>\n",
       "      <td>2013</td>\n",
       "      <td>61</td>\n",
       "      <td>38066</td>\n",
       "      <td>20883</td>\n",
       "      <td>22090</td>\n",
       "      <td>15976</td>\n",
       "      <td>38.1</td>\n",
       "      <td>...</td>\n",
       "      <td>4865.0</td>\n",
       "      <td>7164.0</td>\n",
       "      <td>9995.0</td>\n",
       "      <td>4865.0</td>\n",
       "      <td>685</td>\n",
       "      <td>649</td>\n",
       "      <td>379</td>\n",
       "      <td>5387</td>\n",
       "      <td>1906</td>\n",
       "      <td>291.655</td>\n",
       "    </tr>\n",
       "    <tr>\n",
       "      <th>3</th>\n",
       "      <td>32256</td>\n",
       "      <td>947.750000</td>\n",
       "      <td>7.533333</td>\n",
       "      <td>2013</td>\n",
       "      <td>10</td>\n",
       "      <td>40024</td>\n",
       "      <td>18039</td>\n",
       "      <td>18865</td>\n",
       "      <td>21159</td>\n",
       "      <td>32.7</td>\n",
       "      <td>...</td>\n",
       "      <td>6247.0</td>\n",
       "      <td>2597.0</td>\n",
       "      <td>11070.0</td>\n",
       "      <td>6247.0</td>\n",
       "      <td>1638</td>\n",
       "      <td>1598</td>\n",
       "      <td>1629</td>\n",
       "      <td>10962</td>\n",
       "      <td>3429</td>\n",
       "      <td>291.655</td>\n",
       "    </tr>\n",
       "    <tr>\n",
       "      <th>4</th>\n",
       "      <td>33009</td>\n",
       "      <td>1443.416667</td>\n",
       "      <td>7.533333</td>\n",
       "      <td>2013</td>\n",
       "      <td>36</td>\n",
       "      <td>39889</td>\n",
       "      <td>19125</td>\n",
       "      <td>19256</td>\n",
       "      <td>20633</td>\n",
       "      <td>47.1</td>\n",
       "      <td>...</td>\n",
       "      <td>4958.0</td>\n",
       "      <td>3977.0</td>\n",
       "      <td>5087.0</td>\n",
       "      <td>4958.0</td>\n",
       "      <td>1335</td>\n",
       "      <td>1020</td>\n",
       "      <td>1249</td>\n",
       "      <td>6495</td>\n",
       "      <td>1885</td>\n",
       "      <td>291.655</td>\n",
       "    </tr>\n",
       "  </tbody>\n",
       "</table>\n",
       "<p>5 rows × 219 columns</p>\n",
       "</div>"
      ],
      "text/plain": [
       "   zip_code  Monthly_Avg_Zip  FL_Unemployment  year  Encoded_Zip  total_pop  \\\n",
       "0     33160      1866.833333         7.533333  2013           73      37674   \n",
       "1     33025      1341.083333         7.533333  2013           41      57766   \n",
       "2     33139      1842.666667         7.533333  2013           61      38066   \n",
       "3     32256       947.750000         7.533333  2013           10      40024   \n",
       "4     33009      1443.416667         7.533333  2013           36      39889   \n",
       "\n",
       "   households  male_pop  female_pop  median_age  ...  occupation_sales_office  \\\n",
       "0       19247     18472       19202        49.6  ...                   4713.0   \n",
       "1       21206     27852       29914        32.9  ...                   8948.0   \n",
       "2       20883     22090       15976        38.1  ...                   4865.0   \n",
       "3       18039     18865       21159        32.7  ...                   6247.0   \n",
       "4       19125     19256       20633        47.1  ...                   4958.0   \n",
       "\n",
       "   occupation_services  management_business_sci_arts_employed  \\\n",
       "0               2773.0                                 7911.0   \n",
       "1               5448.0                                10806.0   \n",
       "2               7164.0                                 9995.0   \n",
       "3               2597.0                                11070.0   \n",
       "4               3977.0                                 5087.0   \n",
       "\n",
       "   sales_office_employed  in_grades_1_to_4  in_grades_5_to_8  \\\n",
       "0                 4713.0               935              1346   \n",
       "1                 8948.0              2963              3682   \n",
       "2                 4865.0               685               649   \n",
       "3                 6247.0              1638              1598   \n",
       "4                 4958.0              1335              1020   \n",
       "\n",
       "   in_grades_9_to_12  in_school  in_undergrad_college  FLSTHPI_Yearly_Avg  \n",
       "0                965       6471                  2019             291.655  \n",
       "1               3345      18163                  4987             291.655  \n",
       "2                379       5387                  1906             291.655  \n",
       "3               1629      10962                  3429             291.655  \n",
       "4               1249       6495                  1885             291.655  \n",
       "\n",
       "[5 rows x 219 columns]"
      ]
     },
     "execution_count": 4,
     "metadata": {},
     "output_type": "execute_result"
    }
   ],
   "source": [
    "df.head()"
   ]
  },
  {
   "cell_type": "code",
   "execution_count": 5,
   "id": "5ecf9ad2-fa91-4e92-b500-b8f61a42cbb7",
   "metadata": {},
   "outputs": [
    {
     "data": {
      "text/plain": [
       "array([2013, 2014, 2015, 2016, 2017, 2018])"
      ]
     },
     "execution_count": 5,
     "metadata": {},
     "output_type": "execute_result"
    }
   ],
   "source": [
    "df.year.unique()"
   ]
  },
  {
   "cell_type": "code",
   "execution_count": 6,
   "id": "1768c649-8b73-4d97-bdb8-c988ab6e70d4",
   "metadata": {},
   "outputs": [
    {
     "data": {
      "text/plain": [
       "(645, 219)"
      ]
     },
     "execution_count": 6,
     "metadata": {},
     "output_type": "execute_result"
    }
   ],
   "source": [
    "df.shape"
   ]
  },
  {
   "cell_type": "code",
   "execution_count": 7,
   "id": "fa261870-3d3d-4dd8-a3c9-0c3aa7035047",
   "metadata": {
    "scrolled": false
   },
   "outputs": [
    {
     "data": {
      "text/plain": [
       "['zip_code',\n",
       " 'Monthly_Avg_Zip',\n",
       " 'FL_Unemployment',\n",
       " 'year',\n",
       " 'Encoded_Zip',\n",
       " 'total_pop',\n",
       " 'households',\n",
       " 'male_pop',\n",
       " 'female_pop',\n",
       " 'median_age',\n",
       " 'male_under_5',\n",
       " 'male_5_to_9',\n",
       " 'male_10_to_14',\n",
       " 'male_15_to_17',\n",
       " 'male_18_to_19',\n",
       " 'male_20',\n",
       " 'male_21',\n",
       " 'male_22_to_24',\n",
       " 'male_25_to_29',\n",
       " 'male_30_to_34',\n",
       " 'male_35_to_39',\n",
       " 'male_40_to_44',\n",
       " 'male_45_to_49',\n",
       " 'male_50_to_54',\n",
       " 'male_55_to_59',\n",
       " 'male_65_to_66',\n",
       " 'male_67_to_69',\n",
       " 'male_70_to_74',\n",
       " 'male_75_to_79',\n",
       " 'male_80_to_84',\n",
       " 'male_85_and_over',\n",
       " 'female_under_5',\n",
       " 'female_5_to_9',\n",
       " 'female_10_to_14',\n",
       " 'female_15_to_17',\n",
       " 'female_18_to_19',\n",
       " 'female_20',\n",
       " 'female_21',\n",
       " 'female_22_to_24',\n",
       " 'female_25_to_29',\n",
       " 'female_30_to_34',\n",
       " 'female_35_to_39',\n",
       " 'female_40_to_44',\n",
       " 'female_45_to_49',\n",
       " 'female_50_to_54',\n",
       " 'female_55_to_59',\n",
       " 'female_60_to_61',\n",
       " 'female_62_to_64',\n",
       " 'female_65_to_66',\n",
       " 'female_67_to_69',\n",
       " 'female_70_to_74',\n",
       " 'female_75_to_79',\n",
       " 'female_80_to_84',\n",
       " 'female_85_and_over',\n",
       " 'population_1_year_and_over',\n",
       " 'population_3_years_over',\n",
       " 'pop_16_over',\n",
       " 'pop_25_years_over',\n",
       " 'pop_25_64',\n",
       " 'not_us_citizen_pop',\n",
       " 'other_race_pop',\n",
       " 'two_or_more_races_pop',\n",
       " 'median_income',\n",
       " 'income_per_capita',\n",
       " 'income_less_10000',\n",
       " 'income_10000_14999',\n",
       " 'income_15000_19999',\n",
       " 'income_20000_24999',\n",
       " 'income_25000_29999',\n",
       " 'income_30000_34999',\n",
       " 'income_35000_39999',\n",
       " 'income_40000_44999',\n",
       " 'income_45000_49999',\n",
       " 'income_50000_59999',\n",
       " 'income_60000_74999',\n",
       " 'income_75000_99999',\n",
       " 'income_100000_124999',\n",
       " 'income_125000_149999',\n",
       " 'income_150000_199999',\n",
       " 'income_200000_or_more',\n",
       " 'pop_determined_poverty_status',\n",
       " 'poverty',\n",
       " 'gini_index',\n",
       " 'housing_units',\n",
       " 'renter_occupied_housing_units_paying_cash_median_gross_rent',\n",
       " 'owner_occupied_housing_units_lower_value_quartile',\n",
       " 'owner_occupied_housing_units_median_value',\n",
       " 'owner_occupied_housing_units_upper_value_quartile',\n",
       " 'occupied_housing_units',\n",
       " 'housing_units_renter_occupied',\n",
       " 'vacant_housing_units',\n",
       " 'vacant_housing_units_for_rent',\n",
       " 'vacant_housing_units_for_sale',\n",
       " 'dwellings_1_units_detached',\n",
       " 'dwellings_1_units_attached',\n",
       " 'dwellings_2_units',\n",
       " 'dwellings_3_to_4_units',\n",
       " 'dwellings_5_to_9_units',\n",
       " 'dwellings_10_to_19_units',\n",
       " 'dwellings_20_to_49_units',\n",
       " 'dwellings_50_or_more_units',\n",
       " 'mobile_homes',\n",
       " 'housing_built_2005_or_later',\n",
       " 'housing_built_2000_to_2004',\n",
       " 'housing_built_1939_or_earlier',\n",
       " 'median_year_structure_built',\n",
       " 'married_households',\n",
       " 'nonfamily_households',\n",
       " 'family_households',\n",
       " 'households_public_asst_or_food_stamps',\n",
       " 'male_male_households',\n",
       " 'female_female_households',\n",
       " 'children',\n",
       " 'children_in_single_female_hh',\n",
       " 'median_rent',\n",
       " 'percent_income_spent_on_rent',\n",
       " 'rent_burden_not_computed',\n",
       " 'rent_over_50_percent',\n",
       " 'rent_40_to_50_percent',\n",
       " 'rent_35_to_40_percent',\n",
       " 'rent_30_to_35_percent',\n",
       " 'rent_25_to_30_percent',\n",
       " 'rent_20_to_25_percent',\n",
       " 'rent_15_to_20_percent',\n",
       " 'rent_10_to_15_percent',\n",
       " 'rent_under_10_percent',\n",
       " 'owner_occupied_housing_units',\n",
       " 'million_dollar_housing_units',\n",
       " 'mortgaged_housing_units',\n",
       " 'different_house_year_ago_different_city',\n",
       " 'different_house_year_ago_same_city',\n",
       " 'families_with_young_children',\n",
       " 'two_parent_families_with_young_children',\n",
       " 'two_parents_in_labor_force_families_with_young_children',\n",
       " 'two_parents_father_in_labor_force_families_with_young_children',\n",
       " 'two_parents_mother_in_labor_force_families_with_young_children',\n",
       " 'two_parents_not_in_labor_force_families_with_young_children',\n",
       " 'one_parent_families_with_young_children',\n",
       " 'father_one_parent_families_with_young_children',\n",
       " 'father_in_labor_force_one_parent_families_with_young_children',\n",
       " 'commute_less_10_mins',\n",
       " 'commute_10_14_mins',\n",
       " 'commute_15_19_mins',\n",
       " 'commute_20_24_mins',\n",
       " 'commute_25_29_mins',\n",
       " 'commute_30_34_mins',\n",
       " 'commute_35_44_mins',\n",
       " 'commute_60_more_mins',\n",
       " 'commute_45_59_mins',\n",
       " 'commuters_16_over',\n",
       " 'walked_to_work',\n",
       " 'worked_at_home',\n",
       " 'no_car',\n",
       " 'no_cars',\n",
       " 'one_car',\n",
       " 'two_cars',\n",
       " 'three_cars',\n",
       " 'four_more_cars',\n",
       " 'aggregate_travel_time_to_work',\n",
       " 'commuters_by_public_transportation',\n",
       " 'commuters_by_bus',\n",
       " 'commuters_by_car_truck_van',\n",
       " 'commuters_by_carpool',\n",
       " 'commuters_by_subway_or_elevated',\n",
       " 'commuters_drove_alone',\n",
       " 'group_quarters',\n",
       " 'associates_degree',\n",
       " 'bachelors_degree',\n",
       " 'high_school_diploma',\n",
       " 'less_one_year_college',\n",
       " 'masters_degree',\n",
       " 'one_year_more_college',\n",
       " 'less_than_high_school_graduate',\n",
       " 'high_school_including_ged',\n",
       " 'bachelors_degree_2',\n",
       " 'bachelors_degree_or_higher_25_64',\n",
       " 'graduate_professional_degree',\n",
       " 'some_college_and_associates_degree',\n",
       " 'male_45_64_associates_degree',\n",
       " 'male_45_64_bachelors_degree',\n",
       " 'male_45_64_graduate_degree',\n",
       " 'male_45_64_less_than_9_grade',\n",
       " 'male_45_64_grade_9_12',\n",
       " 'male_45_64_high_school',\n",
       " 'male_45_64_some_college',\n",
       " 'male_45_to_64',\n",
       " 'employed_pop',\n",
       " 'unemployed_pop',\n",
       " 'pop_in_labor_force',\n",
       " 'not_in_labor_force',\n",
       " 'workers_16_and_over',\n",
       " 'armed_forces',\n",
       " 'civilian_labor_force',\n",
       " 'employed_agriculture_forestry_fishing_hunting_mining',\n",
       " 'employed_arts_entertainment_recreation_accommodation_food',\n",
       " 'employed_construction',\n",
       " 'employed_education_health_social',\n",
       " 'employed_finance_insurance_real_estate',\n",
       " 'employed_information',\n",
       " 'employed_manufacturing',\n",
       " 'employed_other_services_not_public_admin',\n",
       " 'employed_public_administration',\n",
       " 'employed_retail_trade',\n",
       " 'employed_science_management_admin_waste',\n",
       " 'employed_transportation_warehousing_utilities',\n",
       " 'employed_wholesale_trade',\n",
       " 'occupation_management_arts',\n",
       " 'occupation_natural_resources_construction_maintenance',\n",
       " 'occupation_production_transportation_material',\n",
       " 'occupation_sales_office',\n",
       " 'occupation_services',\n",
       " 'management_business_sci_arts_employed',\n",
       " 'sales_office_employed',\n",
       " 'in_grades_1_to_4',\n",
       " 'in_grades_5_to_8',\n",
       " 'in_grades_9_to_12',\n",
       " 'in_school',\n",
       " 'in_undergrad_college',\n",
       " 'FLSTHPI_Yearly_Avg']"
      ]
     },
     "execution_count": 7,
     "metadata": {},
     "output_type": "execute_result"
    }
   ],
   "source": [
    "df.columns.tolist()"
   ]
  },
  {
   "cell_type": "markdown",
   "id": "6dc45fc1",
   "metadata": {},
   "source": [
    "# Remove Features That Can Cause Leakage"
   ]
  },
  {
   "cell_type": "code",
   "execution_count": 8,
   "id": "b38e0b9f",
   "metadata": {},
   "outputs": [],
   "source": [
    "df=df.drop([\n",
    "    'renter_occupied_housing_units_paying_cash_median_gross_rent', \n",
    "    'median_rent', \n",
    "    'percent_income_spent_on_rent', \n",
    "    'rent_burden_not_computed', \n",
    "    'rent_over_50_percent',\n",
    "    'rent_40_to_50_percent',\n",
    "    'rent_35_to_40_percent',\n",
    "    'rent_30_to_35_percent',\n",
    "    'rent_25_to_30_percent',\n",
    "    'rent_20_to_25_percent',\n",
    "    'rent_15_to_20_percent',\n",
    "    'rent_10_to_15_percent',\n",
    "    'rent_under_10_percent'], axis=1\n",
    ")"
   ]
  },
  {
   "cell_type": "markdown",
   "id": "2717a3da",
   "metadata": {},
   "source": [
    "# Remove duplicate columns"
   ]
  },
  {
   "cell_type": "code",
   "execution_count": 9,
   "id": "747de0d9",
   "metadata": {},
   "outputs": [],
   "source": [
    "def getDuplicateColumns(df):\n",
    "    '''\n",
    "    Get a list of duplicate columns.\n",
    "    It will iterate over all the columns in dataframe and find the columns whose contents are duplicate.\n",
    "    :param df: Dataframe object\n",
    "    :return: List of columns whose contents are duplicates.\n",
    "    '''\n",
    "    duplicateColumnNames = set()\n",
    "    # Iterate over all the columns in dataframe\n",
    "    for x in range(df.shape[1]):\n",
    "        # Select column at xth index.\n",
    "        col = df.iloc[:, x]\n",
    "        # Iterate over all the columns in DataFrame from (x+1)th index till end\n",
    "        for y in range(x + 1, df.shape[1]):\n",
    "            # Select column at yth index.\n",
    "            otherCol = df.iloc[:, y]\n",
    "            # Check if two columns at x 7 y index are equal\n",
    "            if col.equals(otherCol):\n",
    "                duplicateColumnNames.add(df.columns.values[y])\n",
    "    return list(duplicateColumnNames)\n",
    "#from https://thispointer.com/how-to-find-drop-duplicate-columns-in-a-dataframe-python-pandas/"
   ]
  },
  {
   "cell_type": "code",
   "execution_count": 10,
   "id": "0c3738c8",
   "metadata": {},
   "outputs": [
    {
     "data": {
      "text/plain": [
       "['sales_office_employed',\n",
       " 'management_business_sci_arts_employed',\n",
       " 'occupied_housing_units']"
      ]
     },
     "execution_count": 10,
     "metadata": {},
     "output_type": "execute_result"
    }
   ],
   "source": [
    "dup_cols=getDuplicateColumns(df)\n",
    "dup_cols"
   ]
  },
  {
   "cell_type": "code",
   "execution_count": 11,
   "id": "0c170298",
   "metadata": {},
   "outputs": [],
   "source": [
    "df=df.drop(dup_cols, axis=1)"
   ]
  },
  {
   "cell_type": "markdown",
   "id": "93ff473a",
   "metadata": {},
   "source": [
    "# Standardization/Standard Scaling"
   ]
  },
  {
   "cell_type": "code",
   "execution_count": 12,
   "id": "236b0268",
   "metadata": {},
   "outputs": [],
   "source": [
    "df_preprocess=df.drop([\"zip_code\", \"year\", \"Monthly_Avg_Zip\"], axis=1)"
   ]
  },
  {
   "cell_type": "code",
   "execution_count": 13,
   "id": "0b7f9b15",
   "metadata": {},
   "outputs": [],
   "source": [
    "df_train=pd.DataFrame()"
   ]
  },
  {
   "cell_type": "code",
   "execution_count": 14,
   "id": "0268fd80",
   "metadata": {},
   "outputs": [],
   "source": [
    "from sklearn.preprocessing import StandardScaler\n",
    "standard=StandardScaler() #give each column the same range of values and centered around 0\n",
    "standard.fit(df_preprocess)\n",
    "df_train=pd.DataFrame(standard.transform(df_preprocess), \n",
    "                      index=df_preprocess.index, \n",
    "                      columns=df_preprocess.columns)"
   ]
  },
  {
   "cell_type": "code",
   "execution_count": 15,
   "id": "762b24a7",
   "metadata": {},
   "outputs": [
    {
     "data": {
      "text/html": [
       "<div>\n",
       "<style scoped>\n",
       "    .dataframe tbody tr th:only-of-type {\n",
       "        vertical-align: middle;\n",
       "    }\n",
       "\n",
       "    .dataframe tbody tr th {\n",
       "        vertical-align: top;\n",
       "    }\n",
       "\n",
       "    .dataframe thead th {\n",
       "        text-align: right;\n",
       "    }\n",
       "</style>\n",
       "<table border=\"1\" class=\"dataframe\">\n",
       "  <thead>\n",
       "    <tr style=\"text-align: right;\">\n",
       "      <th></th>\n",
       "      <th>FL_Unemployment</th>\n",
       "      <th>Encoded_Zip</th>\n",
       "      <th>total_pop</th>\n",
       "      <th>households</th>\n",
       "      <th>male_pop</th>\n",
       "      <th>female_pop</th>\n",
       "      <th>median_age</th>\n",
       "      <th>male_under_5</th>\n",
       "      <th>male_5_to_9</th>\n",
       "      <th>male_10_to_14</th>\n",
       "      <th>...</th>\n",
       "      <th>occupation_natural_resources_construction_maintenance</th>\n",
       "      <th>occupation_production_transportation_material</th>\n",
       "      <th>occupation_sales_office</th>\n",
       "      <th>occupation_services</th>\n",
       "      <th>in_grades_1_to_4</th>\n",
       "      <th>in_grades_5_to_8</th>\n",
       "      <th>in_grades_9_to_12</th>\n",
       "      <th>in_school</th>\n",
       "      <th>in_undergrad_college</th>\n",
       "      <th>FLSTHPI_Yearly_Avg</th>\n",
       "    </tr>\n",
       "  </thead>\n",
       "  <tbody>\n",
       "    <tr>\n",
       "      <th>0</th>\n",
       "      <td>2.005619</td>\n",
       "      <td>0.068493</td>\n",
       "      <td>0.094607</td>\n",
       "      <td>1.184796</td>\n",
       "      <td>0.119190</td>\n",
       "      <td>0.071695</td>\n",
       "      <td>1.608587</td>\n",
       "      <td>-0.790637</td>\n",
       "      <td>-0.602021</td>\n",
       "      <td>0.123111</td>\n",
       "      <td>...</td>\n",
       "      <td>-0.581888</td>\n",
       "      <td>-0.347586</td>\n",
       "      <td>0.028752</td>\n",
       "      <td>-0.462638</td>\n",
       "      <td>-0.731641</td>\n",
       "      <td>-0.282780</td>\n",
       "      <td>-0.695893</td>\n",
       "      <td>-0.481108</td>\n",
       "      <td>-0.180243</td>\n",
       "      <td>-1.675376</td>\n",
       "    </tr>\n",
       "    <tr>\n",
       "      <th>1</th>\n",
       "      <td>2.005619</td>\n",
       "      <td>-0.719515</td>\n",
       "      <td>1.416572</td>\n",
       "      <td>1.604604</td>\n",
       "      <td>1.419377</td>\n",
       "      <td>1.400375</td>\n",
       "      <td>-1.041677</td>\n",
       "      <td>1.691040</td>\n",
       "      <td>1.698190</td>\n",
       "      <td>2.346499</td>\n",
       "      <td>...</td>\n",
       "      <td>0.118390</td>\n",
       "      <td>0.925189</td>\n",
       "      <td>1.984141</td>\n",
       "      <td>0.905133</td>\n",
       "      <td>1.357065</td>\n",
       "      <td>2.146299</td>\n",
       "      <td>1.566783</td>\n",
       "      <td>1.933062</td>\n",
       "      <td>1.853966</td>\n",
       "      <td>-1.675376</td>\n",
       "    </tr>\n",
       "    <tr>\n",
       "      <th>2</th>\n",
       "      <td>2.005619</td>\n",
       "      <td>-0.227010</td>\n",
       "      <td>0.120399</td>\n",
       "      <td>1.535386</td>\n",
       "      <td>0.620691</td>\n",
       "      <td>-0.328448</td>\n",
       "      <td>-0.216445</td>\n",
       "      <td>-0.209889</td>\n",
       "      <td>-0.826005</td>\n",
       "      <td>-1.200140</td>\n",
       "      <td>...</td>\n",
       "      <td>-0.497730</td>\n",
       "      <td>-0.654671</td>\n",
       "      <td>0.098934</td>\n",
       "      <td>1.782551</td>\n",
       "      <td>-0.989125</td>\n",
       "      <td>-1.007552</td>\n",
       "      <td>-1.253006</td>\n",
       "      <td>-0.704932</td>\n",
       "      <td>-0.257691</td>\n",
       "      <td>-1.675376</td>\n",
       "    </tr>\n",
       "    <tr>\n",
       "      <th>3</th>\n",
       "      <td>2.005619</td>\n",
       "      <td>-1.482898</td>\n",
       "      <td>0.249227</td>\n",
       "      <td>0.925925</td>\n",
       "      <td>0.173665</td>\n",
       "      <td>0.314434</td>\n",
       "      <td>-1.073416</td>\n",
       "      <td>-0.041390</td>\n",
       "      <td>0.144594</td>\n",
       "      <td>0.165586</td>\n",
       "      <td>...</td>\n",
       "      <td>-0.562147</td>\n",
       "      <td>-0.720828</td>\n",
       "      <td>0.737032</td>\n",
       "      <td>-0.552630</td>\n",
       "      <td>-0.007598</td>\n",
       "      <td>-0.020739</td>\n",
       "      <td>-0.064626</td>\n",
       "      <td>0.446196</td>\n",
       "      <td>0.786143</td>\n",
       "      <td>-1.675376</td>\n",
       "    </tr>\n",
       "    <tr>\n",
       "      <th>4</th>\n",
       "      <td>2.005619</td>\n",
       "      <td>-0.842641</td>\n",
       "      <td>0.240344</td>\n",
       "      <td>1.158652</td>\n",
       "      <td>0.227863</td>\n",
       "      <td>0.249191</td>\n",
       "      <td>1.211841</td>\n",
       "      <td>0.169643</td>\n",
       "      <td>-0.322437</td>\n",
       "      <td>-0.373517</td>\n",
       "      <td>...</td>\n",
       "      <td>-0.214086</td>\n",
       "      <td>-0.419667</td>\n",
       "      <td>0.141874</td>\n",
       "      <td>0.152987</td>\n",
       "      <td>-0.319668</td>\n",
       "      <td>-0.621770</td>\n",
       "      <td>-0.425893</td>\n",
       "      <td>-0.476152</td>\n",
       "      <td>-0.272084</td>\n",
       "      <td>-1.675376</td>\n",
       "    </tr>\n",
       "  </tbody>\n",
       "</table>\n",
       "<p>5 rows × 200 columns</p>\n",
       "</div>"
      ],
      "text/plain": [
       "   FL_Unemployment  Encoded_Zip  total_pop  households  male_pop  female_pop  \\\n",
       "0         2.005619     0.068493   0.094607    1.184796  0.119190    0.071695   \n",
       "1         2.005619    -0.719515   1.416572    1.604604  1.419377    1.400375   \n",
       "2         2.005619    -0.227010   0.120399    1.535386  0.620691   -0.328448   \n",
       "3         2.005619    -1.482898   0.249227    0.925925  0.173665    0.314434   \n",
       "4         2.005619    -0.842641   0.240344    1.158652  0.227863    0.249191   \n",
       "\n",
       "   median_age  male_under_5  male_5_to_9  male_10_to_14  ...  \\\n",
       "0    1.608587     -0.790637    -0.602021       0.123111  ...   \n",
       "1   -1.041677      1.691040     1.698190       2.346499  ...   \n",
       "2   -0.216445     -0.209889    -0.826005      -1.200140  ...   \n",
       "3   -1.073416     -0.041390     0.144594       0.165586  ...   \n",
       "4    1.211841      0.169643    -0.322437      -0.373517  ...   \n",
       "\n",
       "   occupation_natural_resources_construction_maintenance  \\\n",
       "0                                          -0.581888       \n",
       "1                                           0.118390       \n",
       "2                                          -0.497730       \n",
       "3                                          -0.562147       \n",
       "4                                          -0.214086       \n",
       "\n",
       "   occupation_production_transportation_material  occupation_sales_office  \\\n",
       "0                                      -0.347586                 0.028752   \n",
       "1                                       0.925189                 1.984141   \n",
       "2                                      -0.654671                 0.098934   \n",
       "3                                      -0.720828                 0.737032   \n",
       "4                                      -0.419667                 0.141874   \n",
       "\n",
       "   occupation_services  in_grades_1_to_4  in_grades_5_to_8  in_grades_9_to_12  \\\n",
       "0            -0.462638         -0.731641         -0.282780          -0.695893   \n",
       "1             0.905133          1.357065          2.146299           1.566783   \n",
       "2             1.782551         -0.989125         -1.007552          -1.253006   \n",
       "3            -0.552630         -0.007598         -0.020739          -0.064626   \n",
       "4             0.152987         -0.319668         -0.621770          -0.425893   \n",
       "\n",
       "   in_school  in_undergrad_college  FLSTHPI_Yearly_Avg  \n",
       "0  -0.481108             -0.180243           -1.675376  \n",
       "1   1.933062              1.853966           -1.675376  \n",
       "2  -0.704932             -0.257691           -1.675376  \n",
       "3   0.446196              0.786143           -1.675376  \n",
       "4  -0.476152             -0.272084           -1.675376  \n",
       "\n",
       "[5 rows x 200 columns]"
      ]
     },
     "execution_count": 15,
     "metadata": {},
     "output_type": "execute_result"
    }
   ],
   "source": [
    "df_train.head()"
   ]
  },
  {
   "cell_type": "code",
   "execution_count": 16,
   "id": "232461bb",
   "metadata": {},
   "outputs": [],
   "source": [
    "df_train[\"zip_code\"]=df[\"zip_code\"]\n",
    "df_train[\"year\"]=df[\"year\"]\n",
    "df_train[\"Monthly_Avg_Zip\"]=df[\"Monthly_Avg_Zip\"]"
   ]
  },
  {
   "cell_type": "code",
   "execution_count": 17,
   "id": "02b499bb",
   "metadata": {},
   "outputs": [
    {
     "data": {
      "text/html": [
       "<div>\n",
       "<style scoped>\n",
       "    .dataframe tbody tr th:only-of-type {\n",
       "        vertical-align: middle;\n",
       "    }\n",
       "\n",
       "    .dataframe tbody tr th {\n",
       "        vertical-align: top;\n",
       "    }\n",
       "\n",
       "    .dataframe thead th {\n",
       "        text-align: right;\n",
       "    }\n",
       "</style>\n",
       "<table border=\"1\" class=\"dataframe\">\n",
       "  <thead>\n",
       "    <tr style=\"text-align: right;\">\n",
       "      <th></th>\n",
       "      <th>FL_Unemployment</th>\n",
       "      <th>Encoded_Zip</th>\n",
       "      <th>total_pop</th>\n",
       "      <th>households</th>\n",
       "      <th>male_pop</th>\n",
       "      <th>female_pop</th>\n",
       "      <th>median_age</th>\n",
       "      <th>male_under_5</th>\n",
       "      <th>male_5_to_9</th>\n",
       "      <th>male_10_to_14</th>\n",
       "      <th>...</th>\n",
       "      <th>occupation_services</th>\n",
       "      <th>in_grades_1_to_4</th>\n",
       "      <th>in_grades_5_to_8</th>\n",
       "      <th>in_grades_9_to_12</th>\n",
       "      <th>in_school</th>\n",
       "      <th>in_undergrad_college</th>\n",
       "      <th>FLSTHPI_Yearly_Avg</th>\n",
       "      <th>zip_code</th>\n",
       "      <th>year</th>\n",
       "      <th>Monthly_Avg_Zip</th>\n",
       "    </tr>\n",
       "  </thead>\n",
       "  <tbody>\n",
       "    <tr>\n",
       "      <th>0</th>\n",
       "      <td>2.005619</td>\n",
       "      <td>0.068493</td>\n",
       "      <td>0.094607</td>\n",
       "      <td>1.184796</td>\n",
       "      <td>0.119190</td>\n",
       "      <td>0.071695</td>\n",
       "      <td>1.608587</td>\n",
       "      <td>-0.790637</td>\n",
       "      <td>-0.602021</td>\n",
       "      <td>0.123111</td>\n",
       "      <td>...</td>\n",
       "      <td>-0.462638</td>\n",
       "      <td>-0.731641</td>\n",
       "      <td>-0.282780</td>\n",
       "      <td>-0.695893</td>\n",
       "      <td>-0.481108</td>\n",
       "      <td>-0.180243</td>\n",
       "      <td>-1.675376</td>\n",
       "      <td>33160</td>\n",
       "      <td>2013</td>\n",
       "      <td>1866.833333</td>\n",
       "    </tr>\n",
       "    <tr>\n",
       "      <th>1</th>\n",
       "      <td>2.005619</td>\n",
       "      <td>-0.719515</td>\n",
       "      <td>1.416572</td>\n",
       "      <td>1.604604</td>\n",
       "      <td>1.419377</td>\n",
       "      <td>1.400375</td>\n",
       "      <td>-1.041677</td>\n",
       "      <td>1.691040</td>\n",
       "      <td>1.698190</td>\n",
       "      <td>2.346499</td>\n",
       "      <td>...</td>\n",
       "      <td>0.905133</td>\n",
       "      <td>1.357065</td>\n",
       "      <td>2.146299</td>\n",
       "      <td>1.566783</td>\n",
       "      <td>1.933062</td>\n",
       "      <td>1.853966</td>\n",
       "      <td>-1.675376</td>\n",
       "      <td>33025</td>\n",
       "      <td>2013</td>\n",
       "      <td>1341.083333</td>\n",
       "    </tr>\n",
       "    <tr>\n",
       "      <th>2</th>\n",
       "      <td>2.005619</td>\n",
       "      <td>-0.227010</td>\n",
       "      <td>0.120399</td>\n",
       "      <td>1.535386</td>\n",
       "      <td>0.620691</td>\n",
       "      <td>-0.328448</td>\n",
       "      <td>-0.216445</td>\n",
       "      <td>-0.209889</td>\n",
       "      <td>-0.826005</td>\n",
       "      <td>-1.200140</td>\n",
       "      <td>...</td>\n",
       "      <td>1.782551</td>\n",
       "      <td>-0.989125</td>\n",
       "      <td>-1.007552</td>\n",
       "      <td>-1.253006</td>\n",
       "      <td>-0.704932</td>\n",
       "      <td>-0.257691</td>\n",
       "      <td>-1.675376</td>\n",
       "      <td>33139</td>\n",
       "      <td>2013</td>\n",
       "      <td>1842.666667</td>\n",
       "    </tr>\n",
       "    <tr>\n",
       "      <th>3</th>\n",
       "      <td>2.005619</td>\n",
       "      <td>-1.482898</td>\n",
       "      <td>0.249227</td>\n",
       "      <td>0.925925</td>\n",
       "      <td>0.173665</td>\n",
       "      <td>0.314434</td>\n",
       "      <td>-1.073416</td>\n",
       "      <td>-0.041390</td>\n",
       "      <td>0.144594</td>\n",
       "      <td>0.165586</td>\n",
       "      <td>...</td>\n",
       "      <td>-0.552630</td>\n",
       "      <td>-0.007598</td>\n",
       "      <td>-0.020739</td>\n",
       "      <td>-0.064626</td>\n",
       "      <td>0.446196</td>\n",
       "      <td>0.786143</td>\n",
       "      <td>-1.675376</td>\n",
       "      <td>32256</td>\n",
       "      <td>2013</td>\n",
       "      <td>947.750000</td>\n",
       "    </tr>\n",
       "    <tr>\n",
       "      <th>4</th>\n",
       "      <td>2.005619</td>\n",
       "      <td>-0.842641</td>\n",
       "      <td>0.240344</td>\n",
       "      <td>1.158652</td>\n",
       "      <td>0.227863</td>\n",
       "      <td>0.249191</td>\n",
       "      <td>1.211841</td>\n",
       "      <td>0.169643</td>\n",
       "      <td>-0.322437</td>\n",
       "      <td>-0.373517</td>\n",
       "      <td>...</td>\n",
       "      <td>0.152987</td>\n",
       "      <td>-0.319668</td>\n",
       "      <td>-0.621770</td>\n",
       "      <td>-0.425893</td>\n",
       "      <td>-0.476152</td>\n",
       "      <td>-0.272084</td>\n",
       "      <td>-1.675376</td>\n",
       "      <td>33009</td>\n",
       "      <td>2013</td>\n",
       "      <td>1443.416667</td>\n",
       "    </tr>\n",
       "  </tbody>\n",
       "</table>\n",
       "<p>5 rows × 203 columns</p>\n",
       "</div>"
      ],
      "text/plain": [
       "   FL_Unemployment  Encoded_Zip  total_pop  households  male_pop  female_pop  \\\n",
       "0         2.005619     0.068493   0.094607    1.184796  0.119190    0.071695   \n",
       "1         2.005619    -0.719515   1.416572    1.604604  1.419377    1.400375   \n",
       "2         2.005619    -0.227010   0.120399    1.535386  0.620691   -0.328448   \n",
       "3         2.005619    -1.482898   0.249227    0.925925  0.173665    0.314434   \n",
       "4         2.005619    -0.842641   0.240344    1.158652  0.227863    0.249191   \n",
       "\n",
       "   median_age  male_under_5  male_5_to_9  male_10_to_14  ...  \\\n",
       "0    1.608587     -0.790637    -0.602021       0.123111  ...   \n",
       "1   -1.041677      1.691040     1.698190       2.346499  ...   \n",
       "2   -0.216445     -0.209889    -0.826005      -1.200140  ...   \n",
       "3   -1.073416     -0.041390     0.144594       0.165586  ...   \n",
       "4    1.211841      0.169643    -0.322437      -0.373517  ...   \n",
       "\n",
       "   occupation_services  in_grades_1_to_4  in_grades_5_to_8  in_grades_9_to_12  \\\n",
       "0            -0.462638         -0.731641         -0.282780          -0.695893   \n",
       "1             0.905133          1.357065          2.146299           1.566783   \n",
       "2             1.782551         -0.989125         -1.007552          -1.253006   \n",
       "3            -0.552630         -0.007598         -0.020739          -0.064626   \n",
       "4             0.152987         -0.319668         -0.621770          -0.425893   \n",
       "\n",
       "   in_school  in_undergrad_college  FLSTHPI_Yearly_Avg  zip_code  year  \\\n",
       "0  -0.481108             -0.180243           -1.675376     33160  2013   \n",
       "1   1.933062              1.853966           -1.675376     33025  2013   \n",
       "2  -0.704932             -0.257691           -1.675376     33139  2013   \n",
       "3   0.446196              0.786143           -1.675376     32256  2013   \n",
       "4  -0.476152             -0.272084           -1.675376     33009  2013   \n",
       "\n",
       "   Monthly_Avg_Zip  \n",
       "0      1866.833333  \n",
       "1      1341.083333  \n",
       "2      1842.666667  \n",
       "3       947.750000  \n",
       "4      1443.416667  \n",
       "\n",
       "[5 rows x 203 columns]"
      ]
     },
     "execution_count": 17,
     "metadata": {},
     "output_type": "execute_result"
    }
   ],
   "source": [
    "df_train.head()"
   ]
  },
  {
   "cell_type": "markdown",
   "id": "64f37115",
   "metadata": {},
   "source": [
    "# Feature Selection (Forward Stepwise)"
   ]
  },
  {
   "cell_type": "code",
   "execution_count": 18,
   "id": "6010873d",
   "metadata": {},
   "outputs": [],
   "source": [
    "def forward_selection(data, target, significance_level=0.05):\n",
    "    import statsmodels.api as sm\n",
    "    initial_features = data.columns.tolist()\n",
    "    best_features = []\n",
    "    while (len(initial_features)>0):\n",
    "        remaining_features = list(set(initial_features)-set(best_features))\n",
    "        new_pval = pd.Series(index=remaining_features)\n",
    "        for new_column in remaining_features:\n",
    "            model = sm.OLS(target, sm.add_constant(data[best_features+[new_column]])).fit()\n",
    "            new_pval[new_column] = model.pvalues[new_column]\n",
    "        min_p_value = new_pval.min()\n",
    "        if(min_p_value<significance_level):\n",
    "            best_features.append(new_pval.idxmin())\n",
    "        else:\n",
    "            break\n",
    "    return best_features\n",
    "#from here \n",
    "#https://www.analyticsvidhya.com/blog/2020/10/a-comprehensive-guide-to-feature-selection-using-wrapper-methods-in-python/"
   ]
  },
  {
   "cell_type": "code",
   "execution_count": 19,
   "id": "19c7e397",
   "metadata": {},
   "outputs": [],
   "source": [
    "forward_selected_features=forward_selection(df_train.drop(columns = 'Monthly_Avg_Zip'), \n",
    "                                            df_train.Monthly_Avg_Zip, \n",
    "                                            significance_level=0.05)"
   ]
  },
  {
   "cell_type": "code",
   "execution_count": 20,
   "id": "e6677514",
   "metadata": {},
   "outputs": [],
   "source": [
    "forward_selected_features=sorted(forward_selected_features)\n",
    "forward_selected_features.extend(\n",
    "    [\"zip_code\", \"year\", \"Monthly_Avg_Zip\"])"
   ]
  },
  {
   "cell_type": "code",
   "execution_count": 21,
   "id": "405e1a26",
   "metadata": {},
   "outputs": [
    {
     "data": {
      "text/plain": [
       "['FLSTHPI_Yearly_Avg',\n",
       " 'FL_Unemployment',\n",
       " 'children',\n",
       " 'children_in_single_female_hh',\n",
       " 'commute_10_14_mins',\n",
       " 'commute_35_44_mins',\n",
       " 'commute_45_59_mins',\n",
       " 'commute_less_10_mins',\n",
       " 'commuters_by_bus',\n",
       " 'different_house_year_ago_same_city',\n",
       " 'dwellings_20_to_49_units',\n",
       " 'dwellings_50_or_more_units',\n",
       " 'dwellings_5_to_9_units',\n",
       " 'employed_arts_entertainment_recreation_accommodation_food',\n",
       " 'employed_public_administration',\n",
       " 'employed_transportation_warehousing_utilities',\n",
       " 'female_50_to_54',\n",
       " 'female_5_to_9',\n",
       " 'female_60_to_61',\n",
       " 'female_62_to_64',\n",
       " 'female_65_to_66',\n",
       " 'gini_index',\n",
       " 'group_quarters',\n",
       " 'households_public_asst_or_food_stamps',\n",
       " 'housing_units',\n",
       " 'in_grades_5_to_8',\n",
       " 'income_100000_124999',\n",
       " 'income_125000_149999',\n",
       " 'income_150000_199999',\n",
       " 'income_15000_19999',\n",
       " 'income_200000_or_more',\n",
       " 'income_30000_34999',\n",
       " 'income_40000_44999',\n",
       " 'income_50000_59999',\n",
       " 'less_one_year_college',\n",
       " 'male_15_to_17',\n",
       " 'male_25_to_29',\n",
       " 'male_35_to_39',\n",
       " 'male_45_64_associates_degree',\n",
       " 'male_45_64_grade_9_12',\n",
       " 'male_45_64_less_than_9_grade',\n",
       " 'male_5_to_9',\n",
       " 'male_85_and_over',\n",
       " 'male_male_households',\n",
       " 'married_households',\n",
       " 'median_year_structure_built',\n",
       " 'mortgaged_housing_units',\n",
       " 'not_us_citizen_pop',\n",
       " 'occupation_sales_office',\n",
       " 'owner_occupied_housing_units',\n",
       " 'owner_occupied_housing_units_median_value',\n",
       " 'pop_25_years_over',\n",
       " 'some_college_and_associates_degree',\n",
       " 'two_parents_father_in_labor_force_families_with_young_children',\n",
       " 'two_parents_mother_in_labor_force_families_with_young_children',\n",
       " 'unemployed_pop',\n",
       " 'vacant_housing_units_for_rent',\n",
       " 'walked_to_work',\n",
       " 'zip_code',\n",
       " 'year',\n",
       " 'Monthly_Avg_Zip']"
      ]
     },
     "execution_count": 21,
     "metadata": {},
     "output_type": "execute_result"
    }
   ],
   "source": [
    "forward_selected_features"
   ]
  },
  {
   "cell_type": "code",
   "execution_count": 22,
   "id": "0961dcc2",
   "metadata": {},
   "outputs": [],
   "source": [
    "df_train_final=pd.DataFrame()"
   ]
  },
  {
   "cell_type": "code",
   "execution_count": 23,
   "id": "5c4361b4",
   "metadata": {},
   "outputs": [],
   "source": [
    "for feature in forward_selected_features:\n",
    "    df_train_final[feature]=df_train[feature]"
   ]
  },
  {
   "cell_type": "code",
   "execution_count": 24,
   "id": "175ffdba",
   "metadata": {},
   "outputs": [
    {
     "data": {
      "text/html": [
       "<div>\n",
       "<style scoped>\n",
       "    .dataframe tbody tr th:only-of-type {\n",
       "        vertical-align: middle;\n",
       "    }\n",
       "\n",
       "    .dataframe tbody tr th {\n",
       "        vertical-align: top;\n",
       "    }\n",
       "\n",
       "    .dataframe thead th {\n",
       "        text-align: right;\n",
       "    }\n",
       "</style>\n",
       "<table border=\"1\" class=\"dataframe\">\n",
       "  <thead>\n",
       "    <tr style=\"text-align: right;\">\n",
       "      <th></th>\n",
       "      <th>FLSTHPI_Yearly_Avg</th>\n",
       "      <th>FL_Unemployment</th>\n",
       "      <th>children</th>\n",
       "      <th>children_in_single_female_hh</th>\n",
       "      <th>commute_10_14_mins</th>\n",
       "      <th>commute_35_44_mins</th>\n",
       "      <th>commute_45_59_mins</th>\n",
       "      <th>commute_less_10_mins</th>\n",
       "      <th>commuters_by_bus</th>\n",
       "      <th>different_house_year_ago_same_city</th>\n",
       "      <th>...</th>\n",
       "      <th>pop_25_years_over</th>\n",
       "      <th>some_college_and_associates_degree</th>\n",
       "      <th>two_parents_father_in_labor_force_families_with_young_children</th>\n",
       "      <th>two_parents_mother_in_labor_force_families_with_young_children</th>\n",
       "      <th>unemployed_pop</th>\n",
       "      <th>vacant_housing_units_for_rent</th>\n",
       "      <th>walked_to_work</th>\n",
       "      <th>zip_code</th>\n",
       "      <th>year</th>\n",
       "      <th>Monthly_Avg_Zip</th>\n",
       "    </tr>\n",
       "  </thead>\n",
       "  <tbody>\n",
       "    <tr>\n",
       "      <th>0</th>\n",
       "      <td>-1.675376</td>\n",
       "      <td>2.005619</td>\n",
       "      <td>-0.604674</td>\n",
       "      <td>-0.787676</td>\n",
       "      <td>-0.226279</td>\n",
       "      <td>2.314692</td>\n",
       "      <td>0.775059</td>\n",
       "      <td>-0.283637</td>\n",
       "      <td>-0.042198</td>\n",
       "      <td>-0.761251</td>\n",
       "      <td>...</td>\n",
       "      <td>0.541535</td>\n",
       "      <td>0.383085</td>\n",
       "      <td>0.339590</td>\n",
       "      <td>-0.248349</td>\n",
       "      <td>-0.412005</td>\n",
       "      <td>1.612705</td>\n",
       "      <td>0.303524</td>\n",
       "      <td>33160</td>\n",
       "      <td>2013</td>\n",
       "      <td>1866.833333</td>\n",
       "    </tr>\n",
       "    <tr>\n",
       "      <th>1</th>\n",
       "      <td>-1.675376</td>\n",
       "      <td>2.005619</td>\n",
       "      <td>1.821540</td>\n",
       "      <td>1.470348</td>\n",
       "      <td>0.892614</td>\n",
       "      <td>2.283387</td>\n",
       "      <td>2.167135</td>\n",
       "      <td>0.289622</td>\n",
       "      <td>-0.120738</td>\n",
       "      <td>0.660936</td>\n",
       "      <td>...</td>\n",
       "      <td>1.213586</td>\n",
       "      <td>1.883253</td>\n",
       "      <td>0.692808</td>\n",
       "      <td>-0.213120</td>\n",
       "      <td>1.801816</td>\n",
       "      <td>2.143672</td>\n",
       "      <td>-0.503603</td>\n",
       "      <td>33025</td>\n",
       "      <td>2013</td>\n",
       "      <td>1341.083333</td>\n",
       "    </tr>\n",
       "    <tr>\n",
       "      <th>2</th>\n",
       "      <td>-1.675376</td>\n",
       "      <td>2.005619</td>\n",
       "      <td>-0.851691</td>\n",
       "      <td>-0.942912</td>\n",
       "      <td>3.052789</td>\n",
       "      <td>0.157246</td>\n",
       "      <td>-0.599016</td>\n",
       "      <td>3.642101</td>\n",
       "      <td>1.428648</td>\n",
       "      <td>1.816176</td>\n",
       "      <td>...</td>\n",
       "      <td>0.591249</td>\n",
       "      <td>0.157775</td>\n",
       "      <td>-0.029120</td>\n",
       "      <td>0.720441</td>\n",
       "      <td>-0.469948</td>\n",
       "      <td>2.936081</td>\n",
       "      <td>9.543007</td>\n",
       "      <td>33139</td>\n",
       "      <td>2013</td>\n",
       "      <td>1842.666667</td>\n",
       "    </tr>\n",
       "    <tr>\n",
       "      <th>3</th>\n",
       "      <td>-1.675376</td>\n",
       "      <td>2.005619</td>\n",
       "      <td>-0.009587</td>\n",
       "      <td>-0.380379</td>\n",
       "      <td>2.120162</td>\n",
       "      <td>-0.884955</td>\n",
       "      <td>-0.875031</td>\n",
       "      <td>1.673790</td>\n",
       "      <td>-0.677661</td>\n",
       "      <td>2.861721</td>\n",
       "      <td>...</td>\n",
       "      <td>0.201552</td>\n",
       "      <td>0.256348</td>\n",
       "      <td>1.538673</td>\n",
       "      <td>-0.036977</td>\n",
       "      <td>0.216179</td>\n",
       "      <td>0.569637</td>\n",
       "      <td>-0.412270</td>\n",
       "      <td>32256</td>\n",
       "      <td>2013</td>\n",
       "      <td>947.750000</td>\n",
       "    </tr>\n",
       "    <tr>\n",
       "      <th>4</th>\n",
       "      <td>-1.675376</td>\n",
       "      <td>2.005619</td>\n",
       "      <td>-0.399941</td>\n",
       "      <td>-0.187782</td>\n",
       "      <td>-0.932540</td>\n",
       "      <td>0.564213</td>\n",
       "      <td>0.041019</td>\n",
       "      <td>-0.704511</td>\n",
       "      <td>0.329083</td>\n",
       "      <td>0.312677</td>\n",
       "      <td>...</td>\n",
       "      <td>0.647456</td>\n",
       "      <td>0.471171</td>\n",
       "      <td>-0.317272</td>\n",
       "      <td>0.051095</td>\n",
       "      <td>1.025553</td>\n",
       "      <td>0.014412</td>\n",
       "      <td>-0.225357</td>\n",
       "      <td>33009</td>\n",
       "      <td>2013</td>\n",
       "      <td>1443.416667</td>\n",
       "    </tr>\n",
       "  </tbody>\n",
       "</table>\n",
       "<p>5 rows × 61 columns</p>\n",
       "</div>"
      ],
      "text/plain": [
       "   FLSTHPI_Yearly_Avg  FL_Unemployment  children  \\\n",
       "0           -1.675376         2.005619 -0.604674   \n",
       "1           -1.675376         2.005619  1.821540   \n",
       "2           -1.675376         2.005619 -0.851691   \n",
       "3           -1.675376         2.005619 -0.009587   \n",
       "4           -1.675376         2.005619 -0.399941   \n",
       "\n",
       "   children_in_single_female_hh  commute_10_14_mins  commute_35_44_mins  \\\n",
       "0                     -0.787676           -0.226279            2.314692   \n",
       "1                      1.470348            0.892614            2.283387   \n",
       "2                     -0.942912            3.052789            0.157246   \n",
       "3                     -0.380379            2.120162           -0.884955   \n",
       "4                     -0.187782           -0.932540            0.564213   \n",
       "\n",
       "   commute_45_59_mins  commute_less_10_mins  commuters_by_bus  \\\n",
       "0            0.775059             -0.283637         -0.042198   \n",
       "1            2.167135              0.289622         -0.120738   \n",
       "2           -0.599016              3.642101          1.428648   \n",
       "3           -0.875031              1.673790         -0.677661   \n",
       "4            0.041019             -0.704511          0.329083   \n",
       "\n",
       "   different_house_year_ago_same_city  ...  pop_25_years_over  \\\n",
       "0                           -0.761251  ...           0.541535   \n",
       "1                            0.660936  ...           1.213586   \n",
       "2                            1.816176  ...           0.591249   \n",
       "3                            2.861721  ...           0.201552   \n",
       "4                            0.312677  ...           0.647456   \n",
       "\n",
       "   some_college_and_associates_degree  \\\n",
       "0                            0.383085   \n",
       "1                            1.883253   \n",
       "2                            0.157775   \n",
       "3                            0.256348   \n",
       "4                            0.471171   \n",
       "\n",
       "   two_parents_father_in_labor_force_families_with_young_children  \\\n",
       "0                                           0.339590                \n",
       "1                                           0.692808                \n",
       "2                                          -0.029120                \n",
       "3                                           1.538673                \n",
       "4                                          -0.317272                \n",
       "\n",
       "   two_parents_mother_in_labor_force_families_with_young_children  \\\n",
       "0                                          -0.248349                \n",
       "1                                          -0.213120                \n",
       "2                                           0.720441                \n",
       "3                                          -0.036977                \n",
       "4                                           0.051095                \n",
       "\n",
       "   unemployed_pop  vacant_housing_units_for_rent  walked_to_work  zip_code  \\\n",
       "0       -0.412005                       1.612705        0.303524     33160   \n",
       "1        1.801816                       2.143672       -0.503603     33025   \n",
       "2       -0.469948                       2.936081        9.543007     33139   \n",
       "3        0.216179                       0.569637       -0.412270     32256   \n",
       "4        1.025553                       0.014412       -0.225357     33009   \n",
       "\n",
       "   year  Monthly_Avg_Zip  \n",
       "0  2013      1866.833333  \n",
       "1  2013      1341.083333  \n",
       "2  2013      1842.666667  \n",
       "3  2013       947.750000  \n",
       "4  2013      1443.416667  \n",
       "\n",
       "[5 rows x 61 columns]"
      ]
     },
     "execution_count": 24,
     "metadata": {},
     "output_type": "execute_result"
    }
   ],
   "source": [
    "df_train_final.head()"
   ]
  },
  {
   "cell_type": "code",
   "execution_count": 25,
   "id": "a68f2dbe",
   "metadata": {},
   "outputs": [],
   "source": [
    "df_2013_to_2017=df_train_final[df_train_final[\"year\"].isin(\n",
    "    [2013,2014,2015,2016,2017])]"
   ]
  },
  {
   "cell_type": "code",
   "execution_count": 26,
   "id": "5f3c41a4",
   "metadata": {},
   "outputs": [],
   "source": [
    "df_2018=df_train_final[df_train_final[\"year\"]==2018]"
   ]
  },
  {
   "cell_type": "code",
   "execution_count": 27,
   "id": "b849979c",
   "metadata": {},
   "outputs": [
    {
     "data": {
      "text/plain": [
       "(518, 61)"
      ]
     },
     "execution_count": 27,
     "metadata": {},
     "output_type": "execute_result"
    }
   ],
   "source": [
    "df_2013_to_2017.shape"
   ]
  },
  {
   "cell_type": "code",
   "execution_count": 28,
   "id": "2cf3baa4",
   "metadata": {},
   "outputs": [
    {
     "data": {
      "text/plain": [
       "(127, 61)"
      ]
     },
     "execution_count": 28,
     "metadata": {},
     "output_type": "execute_result"
    }
   ],
   "source": [
    "df_2018.shape"
   ]
  },
  {
   "cell_type": "markdown",
   "id": "94bcd1f0",
   "metadata": {},
   "source": [
    "## Linear Models on the 4 Biggest Metro Areas in FL"
   ]
  },
  {
   "cell_type": "code",
   "execution_count": 29,
   "id": "6407dad5",
   "metadata": {},
   "outputs": [],
   "source": [
    "from sklearn.linear_model import LinearRegression, Ridge, Lasso, ElasticNet\n",
    "from sklearn.ensemble import RandomForestRegressor\n",
    "from sklearn.model_selection import train_test_split, cross_val_score, RandomizedSearchCV, GridSearchCV"
   ]
  },
  {
   "cell_type": "code",
   "execution_count": 30,
   "id": "a2683b97",
   "metadata": {},
   "outputs": [],
   "source": [
    "from sklearn.model_selection import KFold\n",
    "kfold = KFold(n_splits=3, shuffle=True, random_state=0)"
   ]
  },
  {
   "cell_type": "code",
   "execution_count": 31,
   "id": "d526133f",
   "metadata": {},
   "outputs": [],
   "source": [
    "from sklearn import linear_model\n",
    "from sklearn.linear_model import LinearRegression "
   ]
  },
  {
   "cell_type": "code",
   "execution_count": 32,
   "id": "b25932d2",
   "metadata": {},
   "outputs": [],
   "source": [
    "%store -r miami_zip\n",
    "%store -r orlando_zip\n",
    "%store -r tampa_zip\n",
    "%store -r jax_zip"
   ]
  },
  {
   "cell_type": "markdown",
   "id": "71f35106",
   "metadata": {},
   "source": [
    "## Miami"
   ]
  },
  {
   "cell_type": "code",
   "execution_count": 33,
   "id": "f7bbac34",
   "metadata": {
    "scrolled": true
   },
   "outputs": [],
   "source": [
    "df_2013_to_2017_miami=df_2013_to_2017[\n",
    "    df_2013_to_2017[\"zip_code\"].isin(miami_zip)]\n",
    "\n",
    "df_2013_to_2017_miami=df_2013_to_2017_miami.drop([\"zip_code\",\"year\"],axis=1)\n",
    "#dropping unique identifiers"
   ]
  },
  {
   "cell_type": "code",
   "execution_count": 34,
   "id": "77d0f5c6",
   "metadata": {},
   "outputs": [],
   "source": [
    "df_2018_miami=df_2018[df_2018[\"zip_code\"].isin(miami_zip)]\n",
    "df_2018_miami=df_2018_miami.drop([\"zip_code\",\"year\"],axis=1)"
   ]
  },
  {
   "cell_type": "markdown",
   "id": "a924134b",
   "metadata": {},
   "source": [
    "### Linear Regression"
   ]
  },
  {
   "cell_type": "code",
   "execution_count": 35,
   "id": "bab6b491",
   "metadata": {},
   "outputs": [
    {
     "data": {
      "text/plain": [
       "LinearRegression()"
      ]
     },
     "execution_count": 35,
     "metadata": {},
     "output_type": "execute_result"
    }
   ],
   "source": [
    "ols_miami = linear_model.LinearRegression()\n",
    "ols_miami.fit(df_2013_to_2017_miami.drop(columns = 'Monthly_Avg_Zip'), \n",
    "              df_2013_to_2017_miami.Monthly_Avg_Zip)"
   ]
  },
  {
   "cell_type": "code",
   "execution_count": 36,
   "id": "16fd0579",
   "metadata": {},
   "outputs": [
    {
     "data": {
      "text/plain": [
       "0.7440131637259504"
      ]
     },
     "execution_count": 36,
     "metadata": {},
     "output_type": "execute_result"
    }
   ],
   "source": [
    "ols_miami.score(df_2018_miami.drop(columns = 'Monthly_Avg_Zip'), \n",
    "               df_2018_miami.Monthly_Avg_Zip)"
   ]
  },
  {
   "cell_type": "code",
   "execution_count": 37,
   "id": "10b0e1e5",
   "metadata": {
    "scrolled": true
   },
   "outputs": [
    {
     "name": "stdout",
     "output_type": "stream",
     "text": [
      "122.1203309008359\n"
     ]
    }
   ],
   "source": [
    "rmse_test_ols_miami=np.sqrt(\n",
    "    mean_squared_error\n",
    "    (df_2018_miami.Monthly_Avg_Zip, \n",
    "    ols_miami.predict(df_2018_miami.drop(columns = 'Monthly_Avg_Zip'))\n",
    "    )\n",
    ")\n",
    "print(rmse_test_ols_miami)"
   ]
  },
  {
   "cell_type": "markdown",
   "id": "189e1f5b",
   "metadata": {},
   "source": [
    "### Lasso Regression"
   ]
  },
  {
   "cell_type": "code",
   "execution_count": 38,
   "id": "537d7033",
   "metadata": {},
   "outputs": [],
   "source": [
    "lasso_miami=Lasso()"
   ]
  },
  {
   "cell_type": "code",
   "execution_count": 39,
   "id": "2abd6797",
   "metadata": {},
   "outputs": [
    {
     "data": {
      "text/plain": [
       "Lasso()"
      ]
     },
     "execution_count": 39,
     "metadata": {},
     "output_type": "execute_result"
    }
   ],
   "source": [
    "lasso_miami.fit(df_2013_to_2017_miami.drop(columns = 'Monthly_Avg_Zip'), \n",
    "              df_2013_to_2017_miami.Monthly_Avg_Zip)"
   ]
  },
  {
   "cell_type": "code",
   "execution_count": 40,
   "id": "228f3ddb",
   "metadata": {},
   "outputs": [
    {
     "name": "stdout",
     "output_type": "stream",
     "text": [
      "140.25559124705813\n"
     ]
    }
   ],
   "source": [
    "rmse_test_lasso_miami=np.sqrt(\n",
    "    mean_squared_error\n",
    "    (df_2018_miami.Monthly_Avg_Zip, \n",
    "    lasso_miami.predict(df_2018_miami.drop(columns = 'Monthly_Avg_Zip'))\n",
    "    )\n",
    ")\n",
    "print(rmse_test_lasso_miami)"
   ]
  },
  {
   "cell_type": "code",
   "execution_count": 41,
   "id": "bac2ad57",
   "metadata": {},
   "outputs": [
    {
     "name": "stdout",
     "output_type": "stream",
     "text": [
      "The best parameters are:  {'alpha': 0.1, 'max_iter': 1000, 'tol': 0.01}\n"
     ]
    },
    {
     "data": {
      "text/plain": [
       "array([0.81847577, 0.81847577, 0.81847577, 0.81847577, 0.81847577,\n",
       "       0.81847577, 0.81847577, 0.80198907, 0.77985742, 0.83232658,\n",
       "       0.83232658, 0.83232658, 0.83232658, 0.83232658, 0.83232658,\n",
       "       0.83232658, 0.80198907, 0.77985742, 0.84458969, 0.84458969,\n",
       "       0.84458969, 0.84458969, 0.84458969, 0.84458969, 0.84458969,\n",
       "       0.80198907, 0.77985742, 0.84367913, 0.84367913, 0.84367913,\n",
       "       0.84367913, 0.84367913, 0.84367913, 0.84367913, 0.80198907,\n",
       "       0.77985742, 0.81847577, 0.81847577, 0.81847577, 0.81847577,\n",
       "       0.81847577, 0.81847577, 0.81847577, 0.80198907, 0.77985742,\n",
       "       0.83232658, 0.83232658, 0.83232658, 0.83232658, 0.83232658,\n",
       "       0.83232658, 0.83232658, 0.80198907, 0.77985742, 0.84458969,\n",
       "       0.84458969, 0.84458969, 0.84458969, 0.84458969, 0.84458969,\n",
       "       0.84458969, 0.80198907, 0.77985742, 0.84367913, 0.84367913,\n",
       "       0.84367913, 0.84367913, 0.84367913, 0.84367913, 0.84367913,\n",
       "       0.80198907, 0.77985742, 0.81847578, 0.81847578, 0.81847578,\n",
       "       0.81847578, 0.81847578, 0.81847578, 0.81847578, 0.80198908,\n",
       "       0.77985742, 0.83232661, 0.83232661, 0.83232661, 0.83232661,\n",
       "       0.83232661, 0.83232661, 0.83232661, 0.80198908, 0.77985742,\n",
       "       0.84458971, 0.84458971, 0.84458971, 0.84458971, 0.84458971,\n",
       "       0.84458971, 0.84458971, 0.80198908, 0.77985742, 0.84367915,\n",
       "       0.84367915, 0.84367915, 0.84367915, 0.84367915, 0.84367915,\n",
       "       0.84367917, 0.80198908, 0.77985742, 0.81847584, 0.81847584,\n",
       "       0.81847584, 0.81847584, 0.81847584, 0.81847584, 0.81847584,\n",
       "       0.80198912, 0.77985743, 0.83232689, 0.83232689, 0.83232689,\n",
       "       0.83232689, 0.83232689, 0.83232689, 0.83232689, 0.80198912,\n",
       "       0.77985743, 0.84458989, 0.84458989, 0.84458989, 0.84458989,\n",
       "       0.84458989, 0.84458989, 0.84458989, 0.80198912, 0.77985743,\n",
       "       0.84367931, 0.84367931, 0.84367931, 0.84367931, 0.84367931,\n",
       "       0.84367933, 0.84367923, 0.80198912, 0.77985743, 0.8184764 ,\n",
       "       0.8184764 , 0.8184764 , 0.8184764 , 0.8184764 , 0.8184764 ,\n",
       "       0.8184764 , 0.80198953, 0.77985749, 0.83232972, 0.83232972,\n",
       "       0.83232972, 0.83232972, 0.83232972, 0.83232972, 0.83232972,\n",
       "       0.80198953, 0.77985749, 0.84459169, 0.84459169, 0.84459169,\n",
       "       0.84459169, 0.84459169, 0.84459169, 0.84459169, 0.80198953,\n",
       "       0.77985749, 0.84368091, 0.84368091, 0.84368092, 0.84368094,\n",
       "       0.84368092, 0.8436806 , 0.84368106, 0.80198953, 0.77985749,\n",
       "       0.81848201, 0.81848201, 0.81848201, 0.81848201, 0.81848201,\n",
       "       0.81848201, 0.81848201, 0.80199363, 0.77985812, 0.83235797,\n",
       "       0.83235797, 0.83235797, 0.83235797, 0.83235797, 0.83235797,\n",
       "       0.83235797, 0.80199363, 0.77985812, 0.84460959, 0.84460959,\n",
       "       0.84460959, 0.84460959, 0.84460959, 0.84460959, 0.84460959,\n",
       "       0.80199363, 0.77985812, 0.84369687, 0.84369689, 0.84369688,\n",
       "       0.84369666, 0.84369648, 0.84369868, 0.84370453, 0.80199363,\n",
       "       0.77985812, 0.81853777, 0.81853777, 0.81853777, 0.81853777,\n",
       "       0.81853777, 0.81853777, 0.81853777, 0.80203451, 0.77986428,\n",
       "       0.83263902, 0.83263902, 0.83263902, 0.83263902, 0.83263902,\n",
       "       0.83263902, 0.83263902, 0.80203451, 0.77986428, 0.84479168,\n",
       "       0.84479168, 0.84479168, 0.84479168, 0.84479168, 0.84479168,\n",
       "       0.84479168, 0.80203451, 0.77986428, 0.84384464, 0.84384468,\n",
       "       0.84384434, 0.84384466, 0.84384912, 0.84385166, 0.84377849,\n",
       "       0.80203451, 0.77986428, 0.81905716, 0.81905716, 0.81905716,\n",
       "       0.81905716, 0.81905716, 0.81905716, 0.81905716, 0.80121858,\n",
       "       0.77991377, 0.83523668, 0.83523668, 0.83523668, 0.83523668,\n",
       "       0.83523668, 0.83523668, 0.83523668, 0.80121858, 0.77991377,\n",
       "       0.84559174, 0.84559174, 0.84559174, 0.84559174, 0.84559174,\n",
       "       0.84559174, 0.84586115, 0.80121858, 0.77991377, 0.84501203,\n",
       "       0.84501202, 0.84501213, 0.84501175, 0.84500566, 0.84501732,\n",
       "       0.84586115, 0.80121858, 0.77991377, 0.82035291, 0.82035291,\n",
       "       0.82035291, 0.82035291, 0.82035291, 0.82035291, 0.82035291,\n",
       "       0.80333254, 0.77984959, 0.84010626, 0.84010626, 0.84010626,\n",
       "       0.84010626, 0.84010626, 0.84010626, 0.84010626, 0.80333254,\n",
       "       0.77984959, 0.83759482, 0.83759482, 0.83759482, 0.83759482,\n",
       "       0.83759511, 0.83788684, 0.83559814, 0.80333254, 0.77984959,\n",
       "       0.83760909, 0.83760905, 0.83760931, 0.83760973, 0.83759881,\n",
       "       0.83788684, 0.83559814, 0.80333254, 0.77984959, 0.75033954,\n",
       "       0.75033954, 0.75033954, 0.75033954, 0.75033954, 0.75033954,\n",
       "       0.75033954, 0.74435236, 0.74065598, 0.75065369, 0.75065369,\n",
       "       0.75065369, 0.75065405, 0.75066456, 0.75041882, 0.75310835,\n",
       "       0.74435236, 0.74065598, 0.75065082, 0.7506508 , 0.75065096,\n",
       "       0.75064928, 0.75066456, 0.75041882, 0.75310835, 0.74435236,\n",
       "       0.74065598, 0.75065082, 0.7506508 , 0.75065096, 0.75064928,\n",
       "       0.75066456, 0.75041882, 0.75310835, 0.74435236, 0.74065598,\n",
       "       0.3235261 , 0.3235261 , 0.3235261 , 0.32352609, 0.32352582,\n",
       "       0.32352466, 0.32350714, 0.32163854, 0.31023623, 0.3235261 ,\n",
       "       0.3235261 , 0.3235261 , 0.32352609, 0.32352582, 0.32352466,\n",
       "       0.32350714, 0.32163854, 0.31023623, 0.3235261 , 0.3235261 ,\n",
       "       0.3235261 , 0.32352609, 0.32352582, 0.32352466, 0.32350714,\n",
       "       0.32163854, 0.31023623, 0.3235261 , 0.3235261 , 0.3235261 ,\n",
       "       0.32352609, 0.32352582, 0.32352466, 0.32350714, 0.32163854,\n",
       "       0.31023623])"
      ]
     },
     "execution_count": 41,
     "metadata": {},
     "output_type": "execute_result"
    }
   ],
   "source": [
    "from sklearn.model_selection import GridSearchCV\n",
    "\n",
    "lasso_params = {\n",
    "    \"alpha\": list(np.logspace(-8,2,11))\n",
    "    ,\"max_iter\": [10, 100, 1000, 10000]\n",
    "    , \"tol\": list(np.logspace(-8,0,9))\n",
    "    \n",
    "}\n",
    "\n",
    "lasso_miami_gs = GridSearchCV(lasso_miami, lasso_params, cv=kfold)\n",
    "lasso_miami_gs.fit(df_2013_to_2017_miami.drop(columns = 'Monthly_Avg_Zip'), \n",
    "              df_2013_to_2017_miami.Monthly_Avg_Zip)\n",
    "print(\"The best parameters are: \", lasso_miami_gs.best_params_)\n",
    "lasso_miami_gs.cv_results_['mean_test_score']"
   ]
  },
  {
   "cell_type": "code",
   "execution_count": 42,
   "id": "f1d763ee",
   "metadata": {},
   "outputs": [
    {
     "name": "stdout",
     "output_type": "stream",
     "text": [
      "The best parameters are:  {'alpha': 0.1, 'max_iter': 1000, 'tol': 0.01}\n"
     ]
    }
   ],
   "source": [
    "print(\"The best parameters are: \", lasso_miami_gs.best_params_)"
   ]
  },
  {
   "cell_type": "code",
   "execution_count": 43,
   "id": "a801c38b",
   "metadata": {},
   "outputs": [
    {
     "data": {
      "text/plain": [
       "0.7448921061493472"
      ]
     },
     "execution_count": 43,
     "metadata": {},
     "output_type": "execute_result"
    }
   ],
   "source": [
    "lasso_miami_gs.score(df_2018_miami.drop(columns = 'Monthly_Avg_Zip'), \n",
    "               df_2018_miami.Monthly_Avg_Zip)"
   ]
  },
  {
   "cell_type": "code",
   "execution_count": 44,
   "id": "910f9e19",
   "metadata": {},
   "outputs": [],
   "source": [
    "lasso_miami_tuned=Lasso(**lasso_miami_gs.best_params_)"
   ]
  },
  {
   "cell_type": "code",
   "execution_count": 45,
   "id": "b12d589c",
   "metadata": {},
   "outputs": [
    {
     "data": {
      "text/plain": [
       "Lasso(alpha=0.1, tol=0.01)"
      ]
     },
     "execution_count": 45,
     "metadata": {},
     "output_type": "execute_result"
    }
   ],
   "source": [
    "lasso_miami_tuned.fit(df_2013_to_2017_miami.drop(columns = 'Monthly_Avg_Zip'), \n",
    "              df_2013_to_2017_miami.Monthly_Avg_Zip)"
   ]
  },
  {
   "cell_type": "code",
   "execution_count": 46,
   "id": "b3a0524b",
   "metadata": {},
   "outputs": [
    {
     "name": "stdout",
     "output_type": "stream",
     "text": [
      "121.91049777804491\n"
     ]
    }
   ],
   "source": [
    "rmse_test_lasso_miami=np.sqrt(\n",
    "    mean_squared_error\n",
    "    (df_2018_miami.Monthly_Avg_Zip, \n",
    "    lasso_miami_tuned.predict(df_2018_miami.drop(columns = 'Monthly_Avg_Zip'))\n",
    "    )\n",
    ")\n",
    "print(rmse_test_lasso_miami)"
   ]
  },
  {
   "cell_type": "code",
   "execution_count": 47,
   "id": "028ddaac",
   "metadata": {},
   "outputs": [
    {
     "data": {
      "text/plain": [
       "count      66.000000\n",
       "mean     1705.161780\n",
       "std       243.217290\n",
       "min      1316.166667\n",
       "25%      1513.875000\n",
       "50%      1677.041667\n",
       "75%      1815.833333\n",
       "max      2294.250000\n",
       "Name: Monthly_Avg_Zip, dtype: float64"
      ]
     },
     "execution_count": 47,
     "metadata": {},
     "output_type": "execute_result"
    }
   ],
   "source": [
    "df_2018_miami.Monthly_Avg_Zip.describe()"
   ]
  },
  {
   "cell_type": "markdown",
   "id": "f08f1c10",
   "metadata": {},
   "source": [
    "### Cross Validation on the train set (data in 2013-2017)"
   ]
  },
  {
   "cell_type": "code",
   "execution_count": 48,
   "id": "d1a8d668",
   "metadata": {},
   "outputs": [],
   "source": [
    "X_train, X_test, y_train, y_test = train_test_split(\n",
    "    df_2013_to_2017_miami.drop(columns = 'Monthly_Avg_Zip'), \n",
    "    df_2013_to_2017_miami.Monthly_Avg_Zip, \n",
    "    test_size=0.3, random_state=0)"
   ]
  },
  {
   "cell_type": "code",
   "execution_count": 49,
   "id": "1b3067e4",
   "metadata": {},
   "outputs": [
    {
     "name": "stdout",
     "output_type": "stream",
     "text": [
      "[0.82115597 0.637582   0.78441048]\n"
     ]
    },
    {
     "data": {
      "text/plain": [
       "0.7477161499442477"
      ]
     },
     "execution_count": 49,
     "metadata": {},
     "output_type": "execute_result"
    }
   ],
   "source": [
    "lasso_miami_tuned_scores = cross_val_score(lasso_miami_tuned, \n",
    "                                           X_train, y_train, cv=kfold)\n",
    "print(lasso_miami_tuned_scores)\n",
    "np.mean(lasso_miami_tuned_scores)"
   ]
  },
  {
   "cell_type": "code",
   "execution_count": 50,
   "id": "05b1cf66",
   "metadata": {},
   "outputs": [
    {
     "data": {
      "text/plain": [
       "0.9038964602349625"
      ]
     },
     "execution_count": 50,
     "metadata": {},
     "output_type": "execute_result"
    }
   ],
   "source": [
    "lasso_miami_tuned.score(X_test, y_test)"
   ]
  },
  {
   "cell_type": "markdown",
   "id": "602cb8e9",
   "metadata": {},
   "source": [
    "### Random Forest"
   ]
  },
  {
   "cell_type": "code",
   "execution_count": 51,
   "id": "62d03575",
   "metadata": {},
   "outputs": [
    {
     "data": {
      "text/plain": [
       "RandomForestRegressor(random_state=0)"
      ]
     },
     "execution_count": 51,
     "metadata": {},
     "output_type": "execute_result"
    }
   ],
   "source": [
    "rf_miami = RandomForestRegressor(random_state=0)\n",
    "rf_miami.fit(df_2013_to_2017_miami.drop(columns = 'Monthly_Avg_Zip'), \n",
    "             df_2013_to_2017_miami.Monthly_Avg_Zip)"
   ]
  },
  {
   "cell_type": "code",
   "execution_count": 52,
   "id": "558e2848",
   "metadata": {
    "scrolled": true
   },
   "outputs": [
    {
     "data": {
      "text/plain": [
       "owner_occupied_housing_units_median_value    0.454522\n",
       "income_200000_or_more                        0.043426\n",
       "commute_less_10_mins                         0.032211\n",
       "male_male_households                         0.028593\n",
       "not_us_citizen_pop                           0.027744\n",
       "gini_index                                   0.025381\n",
       "dwellings_50_or_more_units                   0.024946\n",
       "dwellings_5_to_9_units                       0.023235\n",
       "children_in_single_female_hh                 0.022425\n",
       "male_35_to_39                                0.019737\n",
       "dtype: float64"
      ]
     },
     "execution_count": 52,
     "metadata": {},
     "output_type": "execute_result"
    }
   ],
   "source": [
    "feature_importances_miami = pd.Series(rf_miami.feature_importances_, \n",
    "                                index=df_2013_to_2017_miami.drop(columns = 'Monthly_Avg_Zip').columns)\n",
    "feature_importances_miami=feature_importances_miami.sort_values(ascending=False)\n",
    "feature_importances_miami.head(10)"
   ]
  }
 ],
 "metadata": {
  "kernelspec": {
   "display_name": "Python 3",
   "language": "python",
   "name": "python3"
  },
  "language_info": {
   "codemirror_mode": {
    "name": "ipython",
    "version": 3
   },
   "file_extension": ".py",
   "mimetype": "text/x-python",
   "name": "python",
   "nbconvert_exporter": "python",
   "pygments_lexer": "ipython3",
   "version": "3.8.8"
  }
 },
 "nbformat": 4,
 "nbformat_minor": 5
}
