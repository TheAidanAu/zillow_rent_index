{
 "cells": [
  {
   "cell_type": "markdown",
   "id": "71f35106",
   "metadata": {},
   "source": [
    "## Miami"
   ]
  },
  {
   "cell_type": "code",
   "execution_count": 53,
   "id": "f7bbac34",
   "metadata": {
    "scrolled": true
   },
   "outputs": [],
   "source": [
    "df_2013_to_2017_miami=df_2013_to_2017[\n",
    "    df_2013_to_2017[\"zip_code\"].isin(miami_zip)]\n",
    "\n",
    "df_2013_to_2017_miami=df_2013_to_2017_miami.drop([\"zip_code\",\"year\"],axis=1)\n",
    "#dropping unique identifiers"
   ]
  },
  {
   "cell_type": "code",
   "execution_count": 54,
   "id": "77d0f5c6",
   "metadata": {},
   "outputs": [],
   "source": [
    "df_2018_miami=df_2018[df_2018[\"zip_code\"].isin(miami_zip)]\n",
    "df_2018_miami=df_2018_miami.drop([\"zip_code\",\"year\"],axis=1)"
   ]
  },
  {
   "cell_type": "markdown",
   "id": "a924134b",
   "metadata": {},
   "source": [
    "### Linear Regression"
   ]
  },
  {
   "cell_type": "code",
   "execution_count": 55,
   "id": "bab6b491",
   "metadata": {},
   "outputs": [
    {
     "data": {
      "text/plain": [
       "LinearRegression()"
      ]
     },
     "execution_count": 55,
     "metadata": {},
     "output_type": "execute_result"
    }
   ],
   "source": [
    "ols_miami = linear_model.LinearRegression()\n",
    "ols_miami.fit(df_2013_to_2017_miami.drop(columns = 'Monthly_Avg_Zip'), \n",
    "              df_2013_to_2017_miami.Monthly_Avg_Zip)"
   ]
  },
  {
   "cell_type": "code",
   "execution_count": 56,
   "id": "16fd0579",
   "metadata": {},
   "outputs": [
    {
     "data": {
      "text/plain": [
       "0.7440131637259504"
      ]
     },
     "execution_count": 56,
     "metadata": {},
     "output_type": "execute_result"
    }
   ],
   "source": [
    "ols_miami.score(df_2018_miami.drop(columns = 'Monthly_Avg_Zip'), \n",
    "               df_2018_miami.Monthly_Avg_Zip)"
   ]
  },
  {
   "cell_type": "code",
   "execution_count": 57,
   "id": "10b0e1e5",
   "metadata": {
    "scrolled": true
   },
   "outputs": [
    {
     "name": "stdout",
     "output_type": "stream",
     "text": [
      "122.1203309008359\n"
     ]
    }
   ],
   "source": [
    "rmse_test_ols_miami=np.sqrt(\n",
    "    mean_squared_error\n",
    "    (df_2018_miami.Monthly_Avg_Zip, \n",
    "    ols_miami.predict(df_2018_miami.drop(columns = 'Monthly_Avg_Zip'))\n",
    "    )\n",
    ")\n",
    "print(rmse_test_ols_miami)"
   ]
  },
  {
   "cell_type": "markdown",
   "id": "189e1f5b",
   "metadata": {},
   "source": [
    "### Lasso Regression"
   ]
  },
  {
   "cell_type": "code",
   "execution_count": 58,
   "id": "537d7033",
   "metadata": {},
   "outputs": [],
   "source": [
    "lasso_miami=Lasso()"
   ]
  },
  {
   "cell_type": "code",
   "execution_count": 59,
   "id": "2abd6797",
   "metadata": {},
   "outputs": [
    {
     "data": {
      "text/plain": [
       "Lasso()"
      ]
     },
     "execution_count": 59,
     "metadata": {},
     "output_type": "execute_result"
    }
   ],
   "source": [
    "lasso_miami.fit(df_2013_to_2017_miami.drop(columns = 'Monthly_Avg_Zip'), \n",
    "              df_2013_to_2017_miami.Monthly_Avg_Zip)"
   ]
  },
  {
   "cell_type": "code",
   "execution_count": 60,
   "id": "228f3ddb",
   "metadata": {},
   "outputs": [
    {
     "name": "stdout",
     "output_type": "stream",
     "text": [
      "140.25559124705813\n"
     ]
    }
   ],
   "source": [
    "rmse_test_lasso_miami=np.sqrt(\n",
    "    mean_squared_error\n",
    "    (df_2018_miami.Monthly_Avg_Zip, \n",
    "    lasso_miami.predict(df_2018_miami.drop(columns = 'Monthly_Avg_Zip'))\n",
    "    )\n",
    ")\n",
    "print(rmse_test_lasso_miami)"
   ]
  },
  {
   "cell_type": "code",
   "execution_count": 61,
   "id": "bac2ad57",
   "metadata": {},
   "outputs": [
    {
     "name": "stdout",
     "output_type": "stream",
     "text": [
      "The best parameters are:  {'alpha': 0.1, 'max_iter': 1000, 'tol': 0.01}\n"
     ]
    }
   ],
   "source": [
    "from sklearn.model_selection import GridSearchCV\n",
    "\n",
    "lasso_params = {\n",
    "    \"alpha\": list(np.logspace(-8,2,11))\n",
    "    ,\"max_iter\": [10, 100, 1000, 10000]\n",
    "    , \"tol\": list(np.logspace(-8,0,9))\n",
    "    \n",
    "}\n",
    "\n",
    "lasso_miami_gs = GridSearchCV(lasso_miami, lasso_params, cv=kfold)\n",
    "lasso_miami_gs.fit(df_2013_to_2017_miami.drop(columns = 'Monthly_Avg_Zip'), \n",
    "              df_2013_to_2017_miami.Monthly_Avg_Zip)\n",
    "print(\"The best parameters are: \", lasso_miami_gs.best_params_)"
   ]
  },
  {
   "cell_type": "code",
   "execution_count": 62,
   "id": "f1d763ee",
   "metadata": {},
   "outputs": [
    {
     "name": "stdout",
     "output_type": "stream",
     "text": [
      "The best parameters are:  {'alpha': 0.1, 'max_iter': 1000, 'tol': 0.01}\n"
     ]
    }
   ],
   "source": [
    "print(\"The best parameters are: \", lasso_miami_gs.best_params_)"
   ]
  },
  {
   "cell_type": "code",
   "execution_count": 63,
   "id": "a801c38b",
   "metadata": {},
   "outputs": [
    {
     "data": {
      "text/plain": [
       "0.7448921061493472"
      ]
     },
     "execution_count": 63,
     "metadata": {},
     "output_type": "execute_result"
    }
   ],
   "source": [
    "lasso_miami_gs.score(df_2018_miami.drop(columns = 'Monthly_Avg_Zip'), \n",
    "               df_2018_miami.Monthly_Avg_Zip)"
   ]
  },
  {
   "cell_type": "code",
   "execution_count": 64,
   "id": "910f9e19",
   "metadata": {},
   "outputs": [],
   "source": [
    "lasso_miami_tuned=Lasso(**lasso_miami_gs.best_params_)"
   ]
  },
  {
   "cell_type": "code",
   "execution_count": 65,
   "id": "b12d589c",
   "metadata": {},
   "outputs": [
    {
     "data": {
      "text/plain": [
       "Lasso(alpha=0.1, tol=0.01)"
      ]
     },
     "execution_count": 65,
     "metadata": {},
     "output_type": "execute_result"
    }
   ],
   "source": [
    "lasso_miami_tuned.fit(df_2013_to_2017_miami.drop(columns = 'Monthly_Avg_Zip'), \n",
    "              df_2013_to_2017_miami.Monthly_Avg_Zip)"
   ]
  },
  {
   "cell_type": "code",
   "execution_count": 66,
   "id": "b3a0524b",
   "metadata": {},
   "outputs": [
    {
     "name": "stdout",
     "output_type": "stream",
     "text": [
      "121.91049777804491\n"
     ]
    }
   ],
   "source": [
    "rmse_test_lasso_miami=np.sqrt(\n",
    "    mean_squared_error\n",
    "    (df_2018_miami.Monthly_Avg_Zip, \n",
    "    lasso_miami_tuned.predict(df_2018_miami.drop(columns = 'Monthly_Avg_Zip'))\n",
    "    )\n",
    ")\n",
    "print(rmse_test_lasso_miami)"
   ]
  },
  {
   "cell_type": "code",
   "execution_count": 67,
   "id": "028ddaac",
   "metadata": {},
   "outputs": [
    {
     "data": {
      "text/plain": [
       "count      66.000000\n",
       "mean     1705.161780\n",
       "std       243.217290\n",
       "min      1316.166667\n",
       "25%      1513.875000\n",
       "50%      1677.041667\n",
       "75%      1815.833333\n",
       "max      2294.250000\n",
       "Name: Monthly_Avg_Zip, dtype: float64"
      ]
     },
     "execution_count": 67,
     "metadata": {},
     "output_type": "execute_result"
    }
   ],
   "source": [
    "df_2018_miami.Monthly_Avg_Zip.describe()"
   ]
  },
  {
   "cell_type": "markdown",
   "id": "f08f1c10",
   "metadata": {},
   "source": [
    "### Cross Validation on the train set (data in 2013-2017)"
   ]
  },
  {
   "cell_type": "code",
   "execution_count": 68,
   "id": "d1a8d668",
   "metadata": {},
   "outputs": [],
   "source": [
    "X_train, X_test, y_train, y_test = train_test_split(\n",
    "    df_2013_to_2017_miami.drop(columns = 'Monthly_Avg_Zip'), \n",
    "    df_2013_to_2017_miami.Monthly_Avg_Zip, \n",
    "    test_size=0.3, random_state=0)"
   ]
  },
  {
   "cell_type": "code",
   "execution_count": 69,
   "id": "1b3067e4",
   "metadata": {},
   "outputs": [
    {
     "name": "stdout",
     "output_type": "stream",
     "text": [
      "[0.82115597 0.637582   0.78441048]\n"
     ]
    },
    {
     "data": {
      "text/plain": [
       "0.7477161499442477"
      ]
     },
     "execution_count": 69,
     "metadata": {},
     "output_type": "execute_result"
    }
   ],
   "source": [
    "lasso_miami_tuned_scores = cross_val_score(lasso_miami_tuned, \n",
    "                                           X_train, y_train, cv=kfold)\n",
    "print(lasso_miami_tuned_scores)\n",
    "np.mean(lasso_miami_tuned_scores)"
   ]
  },
  {
   "cell_type": "code",
   "execution_count": 70,
   "id": "05b1cf66",
   "metadata": {},
   "outputs": [
    {
     "data": {
      "text/plain": [
       "0.9038964602349625"
      ]
     },
     "execution_count": 70,
     "metadata": {},
     "output_type": "execute_result"
    }
   ],
   "source": [
    "lasso_miami_tuned.score(X_test, y_test)"
   ]
  },
  {
   "cell_type": "markdown",
   "id": "602cb8e9",
   "metadata": {},
   "source": [
    "### Random Forest"
   ]
  },
  {
   "cell_type": "code",
   "execution_count": 71,
   "id": "62d03575",
   "metadata": {},
   "outputs": [
    {
     "data": {
      "text/plain": [
       "RandomForestRegressor(random_state=0)"
      ]
     },
     "execution_count": 71,
     "metadata": {},
     "output_type": "execute_result"
    }
   ],
   "source": [
    "rf_miami = RandomForestRegressor(random_state=0)\n",
    "rf_miami.fit(df_2013_to_2017_miami.drop(columns = 'Monthly_Avg_Zip'), \n",
    "             df_2013_to_2017_miami.Monthly_Avg_Zip)"
   ]
  },
  {
   "cell_type": "code",
   "execution_count": 72,
   "id": "558e2848",
   "metadata": {
    "scrolled": true
   },
   "outputs": [
    {
     "data": {
      "text/plain": [
       "owner_occupied_housing_units_median_value    0.454522\n",
       "income_200000_or_more                        0.043426\n",
       "commute_less_10_mins                         0.032211\n",
       "male_male_households                         0.028593\n",
       "not_us_citizen_pop                           0.027744\n",
       "gini_index                                   0.025381\n",
       "dwellings_50_or_more_units                   0.024946\n",
       "dwellings_5_to_9_units                       0.023235\n",
       "children_in_single_female_hh                 0.022425\n",
       "male_35_to_39                                0.019737\n",
       "dtype: float64"
      ]
     },
     "execution_count": 72,
     "metadata": {},
     "output_type": "execute_result"
    }
   ],
   "source": [
    "feature_importances_miami = pd.Series(rf_miami.feature_importances_, \n",
    "                                index=df_2013_to_2017_miami.drop(columns = 'Monthly_Avg_Zip').columns)\n",
    "feature_importances_miami=feature_importances_miami.sort_values(ascending=False)\n",
    "feature_importances_miami.head(10)"
   ]
  }
 ],
 "metadata": {
  "kernelspec": {
   "display_name": "Python 3",
   "language": "python",
   "name": "python3"
  },
  "language_info": {
   "codemirror_mode": {
    "name": "ipython",
    "version": 3
   },
   "file_extension": ".py",
   "mimetype": "text/x-python",
   "name": "python",
   "nbconvert_exporter": "python",
   "pygments_lexer": "ipython3",
   "version": "3.8.8"
  }
 },
 "nbformat": 4,
 "nbformat_minor": 5
}
