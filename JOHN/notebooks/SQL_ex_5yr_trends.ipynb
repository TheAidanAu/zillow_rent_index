{
 "cells": [
  {
   "cell_type": "code",
   "execution_count": 1,
   "id": "401a14fe",
   "metadata": {},
   "outputs": [],
   "source": [
    "import numpy as np\n",
    "import pandas as pd\n",
    "from matplotlib import pyplot as plt\n",
    "plt.style.use('ggplot')\n",
    "%matplotlib inline\n",
    "import seaborn as sns\n",
    "sns.set_style(\"ticks\")"
   ]
  },
  {
   "cell_type": "code",
   "execution_count": 2,
   "id": "67afc2fb",
   "metadata": {},
   "outputs": [
    {
     "name": "stdout",
     "output_type": "stream",
     "text": [
      "./projdec9-key.json\n"
     ]
    }
   ],
   "source": [
    "import os\n",
    "from google.cloud import bigquery\n",
    "\n",
    "os.environ['GOOGLE_APPLICATION_CREDENTIALS'] = './projdec9-key.json'\n",
    "client = bigquery.Client()\n",
    "print(os.environ['GOOGLE_APPLICATION_CREDENTIALS'])"
   ]
  },
  {
   "cell_type": "code",
   "execution_count": 3,
   "id": "bea5b3e8",
   "metadata": {},
   "outputs": [],
   "source": [
    "%load_ext google.cloud.bigquery"
   ]
  },
  {
   "cell_type": "code",
   "execution_count": 4,
   "id": "d7be3990",
   "metadata": {
    "scrolled": true
   },
   "outputs": [
    {
     "name": "stderr",
     "output_type": "stream",
     "text": [
      "Query complete after 0.03s: 100%|██████████| 1/1 [00:00<00:00, 125.69query/s]                          \n",
      "Downloading: 100%|██████████| 52/52 [00:01<00:00, 35.16rows/s]\n"
     ]
    }
   ],
   "source": [
    "%%bigquery acs_state_2018_5yr\n",
    "SELECT *\n",
    "FROM\n",
    "    `bigquery-public-data.census_bureau_acs.state_2018_5yr`"
   ]
  },
  {
   "cell_type": "code",
   "execution_count": 5,
   "id": "a9914132",
   "metadata": {},
   "outputs": [
    {
     "name": "stderr",
     "output_type": "stream",
     "text": [
      "Query complete after 0.01s: 100%|██████████| 1/1 [00:00<00:00, 103.90query/s]                          \n",
      "Downloading: 100%|██████████| 52/52 [00:01<00:00, 31.01rows/s]\n"
     ]
    }
   ],
   "source": [
    "%%bigquery acs_state_2017_5yr\n",
    "SELECT *\n",
    "FROM\n",
    "    `bigquery-public-data.census_bureau_acs.state_2017_5yr`"
   ]
  },
  {
   "cell_type": "code",
   "execution_count": 6,
   "id": "4ae3afd7",
   "metadata": {},
   "outputs": [
    {
     "name": "stderr",
     "output_type": "stream",
     "text": [
      "Query complete after 0.03s: 100%|██████████| 1/1 [00:00<00:00, 24.99query/s]                           \n",
      "Downloading: 100%|██████████| 52/52 [00:01<00:00, 29.10rows/s]\n"
     ]
    }
   ],
   "source": [
    "%%bigquery acs_state_2016_5yr\n",
    "SELECT *\n",
    "FROM\n",
    "    `bigquery-public-data.census_bureau_acs.state_2016_5yr`"
   ]
  },
  {
   "cell_type": "code",
   "execution_count": 7,
   "id": "15d49fc8",
   "metadata": {},
   "outputs": [
    {
     "name": "stderr",
     "output_type": "stream",
     "text": [
      "Query complete after 0.12s: 100%|██████████| 1/1 [00:00<00:00,  8.98query/s]                                   \n",
      "Downloading: 100%|██████████| 52/52 [00:01<00:00, 29.02rows/s]\n"
     ]
    }
   ],
   "source": [
    "%%bigquery acs_state_2015_5yr\n",
    "SELECT *\n",
    "FROM\n",
    "    `bigquery-public-data.census_bureau_acs.state_2015_5yr`"
   ]
  },
  {
   "cell_type": "code",
   "execution_count": 8,
   "id": "355d0acd",
   "metadata": {},
   "outputs": [
    {
     "name": "stderr",
     "output_type": "stream",
     "text": [
      "Query complete after 0.02s: 100%|██████████| 1/1 [00:00<00:00, 57.83query/s]                           \n",
      "Downloading: 100%|██████████| 52/52 [00:01<00:00, 28.24rows/s]\n"
     ]
    }
   ],
   "source": [
    "%%bigquery acs_state_2014_5yr\n",
    "SELECT *\n",
    "FROM\n",
    "    `bigquery-public-data.census_bureau_acs.state_2014_5yr`"
   ]
  },
  {
   "cell_type": "code",
   "execution_count": 9,
   "id": "1a528949",
   "metadata": {},
   "outputs": [
    {
     "name": "stderr",
     "output_type": "stream",
     "text": [
      "Query complete after 0.02s: 100%|██████████| 1/1 [00:00<00:00, 45.10query/s]                           \n",
      "Downloading: 100%|██████████| 52/52 [00:02<00:00, 22.30rows/s]\n"
     ]
    }
   ],
   "source": [
    "%%bigquery acs_state_2013_5yr\n",
    "SELECT *\n",
    "FROM\n",
    "    `bigquery-public-data.census_bureau_acs.state_2013_5yr`"
   ]
  },
  {
   "cell_type": "code",
   "execution_count": 12,
   "id": "429d747f",
   "metadata": {},
   "outputs": [
    {
     "data": {
      "text/plain": [
       "27955.287541953297"
      ]
     },
     "execution_count": 12,
     "metadata": {},
     "output_type": "execute_result"
    }
   ],
   "source": [
    "total_pop_2013 = acs_state_2013_5yr['total_pop'].sum()\n",
    "mean_income_2013 =  ((acs_state_2013_5yr['income_per_capita'] *\n",
    "                      acs_state_2013_5yr['total_pop']).sum()) / total_pop_2013\n",
    "mean_income_2013"
   ]
  },
  {
   "cell_type": "code",
   "execution_count": 13,
   "id": "5ab18196",
   "metadata": {},
   "outputs": [
    {
     "data": {
      "text/plain": [
       "28357.46949418087"
      ]
     },
     "execution_count": 13,
     "metadata": {},
     "output_type": "execute_result"
    }
   ],
   "source": [
    "total_pop_2014 = acs_state_2014_5yr['total_pop'].sum()\n",
    "mean_income_2014 =  ((acs_state_2014_5yr['income_per_capita'] *\n",
    "                      acs_state_2014_5yr['total_pop']).sum()) / total_pop_2014\n",
    "mean_income_2014"
   ]
  },
  {
   "cell_type": "code",
   "execution_count": 14,
   "id": "a991153d",
   "metadata": {},
   "outputs": [
    {
     "data": {
      "text/plain": [
       "28733.508955179845"
      ]
     },
     "execution_count": 14,
     "metadata": {},
     "output_type": "execute_result"
    }
   ],
   "source": [
    "total_pop_2015 = acs_state_2015_5yr['total_pop'].sum()\n",
    "mean_income_2015 =  ((acs_state_2015_5yr['income_per_capita'] *\n",
    "                      acs_state_2015_5yr['total_pop']).sum()) / total_pop_2015\n",
    "mean_income_2015"
   ]
  },
  {
   "cell_type": "code",
   "execution_count": 15,
   "id": "5856ecf7",
   "metadata": {},
   "outputs": [
    {
     "data": {
      "text/plain": [
       "29630.344572893406"
      ]
     },
     "execution_count": 15,
     "metadata": {},
     "output_type": "execute_result"
    }
   ],
   "source": [
    "total_pop_2016 = acs_state_2016_5yr['total_pop'].sum()\n",
    "mean_income_2016 =  ((acs_state_2016_5yr['income_per_capita'] *\n",
    "                      acs_state_2016_5yr['total_pop']).sum()) / total_pop_2016\n",
    "mean_income_2016"
   ]
  },
  {
   "cell_type": "code",
   "execution_count": 16,
   "id": "075c581e",
   "metadata": {},
   "outputs": [
    {
     "data": {
      "text/plain": [
       "30973.195787022523"
      ]
     },
     "execution_count": 16,
     "metadata": {},
     "output_type": "execute_result"
    }
   ],
   "source": [
    "total_pop_2017 = acs_state_2017_5yr['total_pop'].sum()\n",
    "mean_income_2017 =  ((acs_state_2017_5yr['income_per_capita'] *\n",
    "                      acs_state_2017_5yr['total_pop']).sum()) / total_pop_2017\n",
    "mean_income_2017"
   ]
  },
  {
   "cell_type": "code",
   "execution_count": 17,
   "id": "786ecbb9",
   "metadata": {},
   "outputs": [
    {
     "data": {
      "text/plain": [
       "32411.262103872632"
      ]
     },
     "execution_count": 17,
     "metadata": {},
     "output_type": "execute_result"
    }
   ],
   "source": [
    "total_pop_2018 = acs_state_2018_5yr['total_pop'].sum()\n",
    "mean_income_2018 =  ((acs_state_2018_5yr['income_per_capita'] *\n",
    "                      acs_state_2018_5yr['total_pop']).sum()) / total_pop_2018\n",
    "mean_income_2018"
   ]
  },
  {
   "cell_type": "code",
   "execution_count": 19,
   "id": "e8bb4b82",
   "metadata": {},
   "outputs": [
    {
     "data": {
      "text/plain": [
       "[0.014386614754865492,\n",
       " 0.013260684669911751,\n",
       " 0.03121218571363825,\n",
       " 0.045320134932132786,\n",
       " 0.04642938128627479]"
      ]
     },
     "execution_count": 19,
     "metadata": {},
     "output_type": "execute_result"
    }
   ],
   "source": [
    "income_levels = [\n",
    "    mean_income_2013,\n",
    "    mean_income_2014,\n",
    "    mean_income_2015,\n",
    "    mean_income_2016,\n",
    "    mean_income_2017,\n",
    "    mean_income_2018\n",
    "]\n",
    "\n",
    "income_pct_change = []\n",
    "for i in range(len(income_levels) - 1):\n",
    "    income_pct_change.append( (income_levels[i+1] - income_levels[i]) / income_levels[i] )\n",
    "\n",
    "income_pct_change"
   ]
  },
  {
   "cell_type": "code",
   "execution_count": 31,
   "id": "e6dde9a0",
   "metadata": {},
   "outputs": [],
   "source": [
    "tx_2018 = acs_state_2018_5yr[acs_state_2018_5yr['geo_id']=='48']\n",
    "tx_2017 = acs_state_2017_5yr[acs_state_2017_5yr['geo_id']=='48']\n",
    "tx_2016 = acs_state_2016_5yr[acs_state_2016_5yr['geo_id']=='48']\n",
    "tx_2015 = acs_state_2015_5yr[acs_state_2015_5yr['geo_id']=='48']\n",
    "tx_2014 = acs_state_2014_5yr[acs_state_2014_5yr['geo_id']=='48']\n",
    "tx_2013 = acs_state_2013_5yr[acs_state_2013_5yr['geo_id']=='48']"
   ]
  },
  {
   "cell_type": "code",
   "execution_count": 33,
   "id": "e2a3ffac",
   "metadata": {},
   "outputs": [
    {
     "data": {
      "text/plain": [
       "[51    26019.0\n",
       " Name: income_per_capita, dtype: float64,\n",
       " 0    26513.0\n",
       " Name: income_per_capita, dtype: float64,\n",
       " 1    26999.0\n",
       " Name: income_per_capita, dtype: float64,\n",
       " 3    27828.0\n",
       " Name: income_per_capita, dtype: float64,\n",
       " 5    28985.0\n",
       " Name: income_per_capita, dtype: float64,\n",
       " 3    30143.0\n",
       " Name: income_per_capita, dtype: float64]"
      ]
     },
     "execution_count": 33,
     "metadata": {},
     "output_type": "execute_result"
    }
   ],
   "source": [
    "tx_income_levels = [\n",
    "    tx_2013['income_per_capita'],\n",
    "    tx_2014['income_per_capita'],\n",
    "    tx_2015['income_per_capita'],\n",
    "    tx_2016['income_per_capita'],\n",
    "    tx_2017['income_per_capita'],\n",
    "    tx_2018['income_per_capita'],\n",
    "]\n",
    "tx_income_levels\n",
    "\n"
   ]
  },
  {
   "cell_type": "code",
   "execution_count": 38,
   "id": "97e47a86",
   "metadata": {},
   "outputs": [
    {
     "data": {
      "text/plain": [
       "[0    NaN\n",
       " 51   NaN\n",
       " Name: income_per_capita, dtype: float64,\n",
       " 0   NaN\n",
       " 1   NaN\n",
       " Name: income_per_capita, dtype: float64,\n",
       " 1   NaN\n",
       " 3   NaN\n",
       " Name: income_per_capita, dtype: float64,\n",
       " 3   NaN\n",
       " 5   NaN\n",
       " Name: income_per_capita, dtype: float64,\n",
       " 3   NaN\n",
       " 5   NaN\n",
       " Name: income_per_capita, dtype: float64]"
      ]
     },
     "execution_count": 38,
     "metadata": {},
     "output_type": "execute_result"
    }
   ],
   "source": [
    "tx_income_pct_change = []\n",
    "for i in range(len(income_levels) - 1):\n",
    "    tx_income_pct_change.append( (tx_income_levels[i+1] - tx_income_levels[i]) / tx_income_levels[i] )\n",
    "\n",
    "tx_income_pct_change"
   ]
  },
  {
   "cell_type": "code",
   "execution_count": 36,
   "id": "59e60d4d",
   "metadata": {},
   "outputs": [],
   "source": [
    "ca_2018 = acs_state_2018_5yr[acs_state_2018_5yr['geo_id']=='06']\n",
    "ca_2017 = acs_state_2017_5yr[acs_state_2017_5yr['geo_id']=='06']\n",
    "ca_2016 = acs_state_2016_5yr[acs_state_2016_5yr['geo_id']=='06']\n",
    "ca_2015 = acs_state_2015_5yr[acs_state_2015_5yr['geo_id']=='06']\n",
    "ca_2014 = acs_state_2014_5yr[acs_state_2014_5yr['geo_id']=='06']\n",
    "ca_2013 = acs_state_2013_5yr[acs_state_2013_5yr['geo_id']=='06']"
   ]
  },
  {
   "cell_type": "code",
   "execution_count": 37,
   "id": "1ef0f20d",
   "metadata": {},
   "outputs": [
    {
     "data": {
      "text/plain": [
       "[25    29527.0\n",
       " Name: income_per_capita, dtype: float64,\n",
       " 27    29906.0\n",
       " Name: income_per_capita, dtype: float64,\n",
       " 27    30318.0\n",
       " Name: income_per_capita, dtype: float64,\n",
       " 28    31458.0\n",
       " Name: income_per_capita, dtype: float64,\n",
       " 26    33128.0\n",
       " Name: income_per_capita, dtype: float64,\n",
       " 27    35021.0\n",
       " Name: income_per_capita, dtype: float64]"
      ]
     },
     "execution_count": 37,
     "metadata": {},
     "output_type": "execute_result"
    }
   ],
   "source": [
    "ca_income_levels = [\n",
    "    ca_2013['income_per_capita'],\n",
    "    ca_2014['income_per_capita'],\n",
    "    ca_2015['income_per_capita'],\n",
    "    ca_2016['income_per_capita'],\n",
    "    ca_2017['income_per_capita'],\n",
    "    ca_2018['income_per_capita'],\n",
    "]\n",
    "ca_income_levels"
   ]
  },
  {
   "cell_type": "code",
   "execution_count": null,
   "id": "d4e4aa7c",
   "metadata": {},
   "outputs": [],
   "source": [
    "ca_income_pct_change = []\n",
    "for i in range(len(income_levels) - 1):\n",
    "    ca_income_pct_change.append( (income_levels[i+1] - income_levels[i]) / income_levels[i] )\n",
    "\n",
    "ca_income_pct_change"
   ]
  },
  {
   "cell_type": "code",
   "execution_count": 27,
   "id": "5c5330f2",
   "metadata": {},
   "outputs": [],
   "source": [
    "ny_2018 = acs_state_2018_5yr[acs_state_2018_5yr['geo_id']=='36']\n",
    "ny_2017 = acs_state_2017_5yr[acs_state_2017_5yr['geo_id']=='36']\n",
    "ny_2016 = acs_state_2016_5yr[acs_state_2016_5yr['geo_id']=='36']\n",
    "ny_2015 = acs_state_2015_5yr[acs_state_2015_5yr['geo_id']=='36']\n",
    "ny_2014 = acs_state_2014_5yr[acs_state_2014_5yr['geo_id']=='36']\n",
    "ny_2013 = acs_state_2013_5yr[acs_state_2013_5yr['geo_id']=='36']"
   ]
  },
  {
   "cell_type": "code",
   "execution_count": 28,
   "id": "9060f88b",
   "metadata": {},
   "outputs": [],
   "source": [
    "fl_2018 = acs_state_2018_5yr[acs_state_2018_5yr['geo_id']=='12']\n",
    "fl_2017 = acs_state_2017_5yr[acs_state_2017_5yr['geo_id']=='12']\n",
    "fl_2016 = acs_state_2016_5yr[acs_state_2016_5yr['geo_id']=='12']\n",
    "fl_2015 = acs_state_2015_5yr[acs_state_2015_5yr['geo_id']=='12']\n",
    "fl_2014 = acs_state_2014_5yr[acs_state_2014_5yr['geo_id']=='12']\n",
    "fl_2013 = acs_state_2013_5yr[acs_state_2013_5yr['geo_id']=='12']"
   ]
  }
 ],
 "metadata": {
  "kernelspec": {
   "display_name": "Python 3",
   "language": "python",
   "name": "python3"
  },
  "language_info": {
   "codemirror_mode": {
    "name": "ipython",
    "version": 3
   },
   "file_extension": ".py",
   "mimetype": "text/x-python",
   "name": "python",
   "nbconvert_exporter": "python",
   "pygments_lexer": "ipython3",
   "version": "3.8.8"
  }
 },
 "nbformat": 4,
 "nbformat_minor": 5
}
