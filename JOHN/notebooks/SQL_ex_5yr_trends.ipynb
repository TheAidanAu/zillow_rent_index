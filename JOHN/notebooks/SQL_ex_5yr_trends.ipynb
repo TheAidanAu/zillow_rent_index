{
 "cells": [
  {
   "cell_type": "code",
   "execution_count": 1,
   "id": "21f24935",
   "metadata": {},
   "outputs": [],
   "source": [
    "import numpy as np\n",
    "import pandas as pd\n",
    "from matplotlib import pyplot as plt\n",
    "plt.style.use('ggplot')\n",
    "%matplotlib inline\n",
    "import seaborn as sns\n",
    "sns.set_style(\"ticks\")"
   ]
  },
  {
   "cell_type": "code",
   "execution_count": 2,
   "id": "a70897cd",
   "metadata": {},
   "outputs": [
    {
     "name": "stdout",
     "output_type": "stream",
     "text": [
      "./projdec9-key.json\n"
     ]
    }
   ],
   "source": [
    "import os\n",
    "from google.cloud import bigquery\n",
    "\n",
    "os.environ['GOOGLE_APPLICATION_CREDENTIALS'] = './projdec9-key.json'\n",
    "client = bigquery.Client()\n",
    "print(os.environ['GOOGLE_APPLICATION_CREDENTIALS'])"
   ]
  },
  {
   "cell_type": "code",
   "execution_count": 3,
   "id": "5dfe3b15",
   "metadata": {},
   "outputs": [],
   "source": [
    "%load_ext google.cloud.bigquery"
   ]
  },
  {
   "cell_type": "code",
   "execution_count": 4,
   "id": "3eec8a69",
   "metadata": {
    "scrolled": true
   },
   "outputs": [
    {
     "name": "stderr",
     "output_type": "stream",
     "text": [
      "Query complete after 0.03s: 100%|██████████| 1/1 [00:00<00:00, 125.69query/s]                          \n",
      "Downloading: 100%|██████████| 52/52 [00:01<00:00, 35.16rows/s]\n"
     ]
    }
   ],
   "source": [
    "%%bigquery acs_state_2018_5yr\n",
    "SELECT *\n",
    "FROM\n",
    "    `bigquery-public-data.census_bureau_acs.state_2018_5yr`"
   ]
  },
  {
   "cell_type": "code",
   "execution_count": 5,
   "id": "eedc2044",
   "metadata": {},
   "outputs": [
    {
     "name": "stderr",
     "output_type": "stream",
     "text": [
      "Query complete after 0.01s: 100%|██████████| 1/1 [00:00<00:00, 103.90query/s]                          \n",
      "Downloading: 100%|██████████| 52/52 [00:01<00:00, 31.01rows/s]\n"
     ]
    }
   ],
   "source": [
    "%%bigquery acs_state_2017_5yr\n",
    "SELECT *\n",
    "FROM\n",
    "    `bigquery-public-data.census_bureau_acs.state_2017_5yr`"
   ]
  },
  {
   "cell_type": "code",
   "execution_count": 6,
   "id": "1e7b575b",
   "metadata": {},
   "outputs": [
    {
     "name": "stderr",
     "output_type": "stream",
     "text": [
      "Query complete after 0.03s: 100%|██████████| 1/1 [00:00<00:00, 24.99query/s]                           \n",
      "Downloading: 100%|██████████| 52/52 [00:01<00:00, 29.10rows/s]\n"
     ]
    }
   ],
   "source": [
    "%%bigquery acs_state_2016_5yr\n",
    "SELECT *\n",
    "FROM\n",
    "    `bigquery-public-data.census_bureau_acs.state_2016_5yr`"
   ]
  },
  {
   "cell_type": "code",
   "execution_count": 7,
   "id": "574a9a78",
   "metadata": {},
   "outputs": [
    {
     "name": "stderr",
     "output_type": "stream",
     "text": [
      "Query complete after 0.12s: 100%|██████████| 1/1 [00:00<00:00,  8.98query/s]                                   \n",
      "Downloading: 100%|██████████| 52/52 [00:01<00:00, 29.02rows/s]\n"
     ]
    }
   ],
   "source": [
    "%%bigquery acs_state_2015_5yr\n",
    "SELECT *\n",
    "FROM\n",
    "    `bigquery-public-data.census_bureau_acs.state_2015_5yr`"
   ]
  },
  {
   "cell_type": "code",
   "execution_count": 8,
   "id": "db010865",
   "metadata": {},
   "outputs": [
    {
     "name": "stderr",
     "output_type": "stream",
     "text": [
      "Query complete after 0.02s: 100%|██████████| 1/1 [00:00<00:00, 57.83query/s]                           \n",
      "Downloading: 100%|██████████| 52/52 [00:01<00:00, 28.24rows/s]\n"
     ]
    }
   ],
   "source": [
    "%%bigquery acs_state_2014_5yr\n",
    "SELECT *\n",
    "FROM\n",
    "    `bigquery-public-data.census_bureau_acs.state_2014_5yr`"
   ]
  },
  {
   "cell_type": "code",
   "execution_count": 9,
   "id": "0e2fa6b5",
   "metadata": {},
   "outputs": [
    {
     "name": "stderr",
     "output_type": "stream",
     "text": [
      "Query complete after 0.02s: 100%|██████████| 1/1 [00:00<00:00, 45.10query/s]                           \n",
      "Downloading: 100%|██████████| 52/52 [00:02<00:00, 22.30rows/s]\n"
     ]
    }
   ],
   "source": [
    "%%bigquery acs_state_2013_5yr\n",
    "SELECT *\n",
    "FROM\n",
    "    `bigquery-public-data.census_bureau_acs.state_2013_5yr`"
   ]
  },
  {
   "cell_type": "code",
   "execution_count": 12,
   "id": "3058749d",
   "metadata": {},
   "outputs": [
    {
     "data": {
      "text/plain": [
       "27955.287541953297"
      ]
     },
     "execution_count": 12,
     "metadata": {},
     "output_type": "execute_result"
    }
   ],
   "source": [
    "total_pop_2013 = acs_state_2013_5yr['total_pop'].sum()\n",
    "mean_income_2013 =  ((acs_state_2013_5yr['income_per_capita'] *\n",
    "                      acs_state_2013_5yr['total_pop']).sum()) / total_pop_2013\n",
    "mean_income_2013"
   ]
  },
  {
   "cell_type": "code",
   "execution_count": 13,
   "id": "d3dc61c5",
   "metadata": {},
   "outputs": [
    {
     "data": {
      "text/plain": [
       "28357.46949418087"
      ]
     },
     "execution_count": 13,
     "metadata": {},
     "output_type": "execute_result"
    }
   ],
   "source": [
    "total_pop_2014 = acs_state_2014_5yr['total_pop'].sum()\n",
    "mean_income_2014 =  ((acs_state_2014_5yr['income_per_capita'] *\n",
    "                      acs_state_2014_5yr['total_pop']).sum()) / total_pop_2014\n",
    "mean_income_2014"
   ]
  },
  {
   "cell_type": "code",
   "execution_count": 14,
   "id": "4becbdf6",
   "metadata": {},
   "outputs": [
    {
     "data": {
      "text/plain": [
       "28733.508955179845"
      ]
     },
     "execution_count": 14,
     "metadata": {},
     "output_type": "execute_result"
    }
   ],
   "source": [
    "total_pop_2015 = acs_state_2015_5yr['total_pop'].sum()\n",
    "mean_income_2015 =  ((acs_state_2015_5yr['income_per_capita'] *\n",
    "                      acs_state_2015_5yr['total_pop']).sum()) / total_pop_2015\n",
    "mean_income_2015"
   ]
  },
  {
   "cell_type": "code",
   "execution_count": 15,
   "id": "bb303db9",
   "metadata": {},
   "outputs": [
    {
     "data": {
      "text/plain": [
       "29630.344572893406"
      ]
     },
     "execution_count": 15,
     "metadata": {},
     "output_type": "execute_result"
    }
   ],
   "source": [
    "total_pop_2016 = acs_state_2016_5yr['total_pop'].sum()\n",
    "mean_income_2016 =  ((acs_state_2016_5yr['income_per_capita'] *\n",
    "                      acs_state_2016_5yr['total_pop']).sum()) / total_pop_2016\n",
    "mean_income_2016"
   ]
  },
  {
   "cell_type": "code",
   "execution_count": 16,
   "id": "7b1a9bf9",
   "metadata": {},
   "outputs": [
    {
     "data": {
      "text/plain": [
       "30973.195787022523"
      ]
     },
     "execution_count": 16,
     "metadata": {},
     "output_type": "execute_result"
    }
   ],
   "source": [
    "total_pop_2017 = acs_state_2017_5yr['total_pop'].sum()\n",
    "mean_income_2017 =  ((acs_state_2017_5yr['income_per_capita'] *\n",
    "                      acs_state_2017_5yr['total_pop']).sum()) / total_pop_2017\n",
    "mean_income_2017"
   ]
  },
  {
   "cell_type": "code",
   "execution_count": 17,
   "id": "f140a699",
   "metadata": {},
   "outputs": [
    {
     "data": {
      "text/plain": [
       "32411.262103872632"
      ]
     },
     "execution_count": 17,
     "metadata": {},
     "output_type": "execute_result"
    }
   ],
   "source": [
    "total_pop_2018 = acs_state_2018_5yr['total_pop'].sum()\n",
    "mean_income_2018 =  ((acs_state_2018_5yr['income_per_capita'] *\n",
    "                      acs_state_2018_5yr['total_pop']).sum()) / total_pop_2018\n",
    "mean_income_2018"
   ]
  },
  {
   "cell_type": "code",
   "execution_count": 19,
   "id": "f36be7a3",
   "metadata": {},
   "outputs": [
    {
     "data": {
      "text/plain": [
       "[0.014386614754865492,\n",
       " 0.013260684669911751,\n",
       " 0.03121218571363825,\n",
       " 0.045320134932132786,\n",
       " 0.04642938128627479]"
      ]
     },
     "execution_count": 19,
     "metadata": {},
     "output_type": "execute_result"
    }
   ],
   "source": [
    "income_levels = [\n",
    "    mean_income_2013,\n",
    "    mean_income_2014,\n",
    "    mean_income_2015,\n",
    "    mean_income_2016,\n",
    "    mean_income_2017,\n",
    "    mean_income_2018\n",
    "]\n",
    "\n",
    "income_pct_change = []\n",
    "for i in range(len(income_levels) - 1):\n",
    "    income_pct_change.append( (income_levels[i+1] - income_levels[i]) / income_levels[i] )\n",
    "\n",
    "income_pct_change"
   ]
  }
 ],
 "metadata": {
  "kernelspec": {
   "display_name": "Python 3",
   "language": "python",
   "name": "python3"
  },
  "language_info": {
   "codemirror_mode": {
    "name": "ipython",
    "version": 3
   },
   "file_extension": ".py",
   "mimetype": "text/x-python",
   "name": "python",
   "nbconvert_exporter": "python",
   "pygments_lexer": "ipython3",
   "version": "3.8.8"
  }
 },
 "nbformat": 4,
 "nbformat_minor": 5
}
