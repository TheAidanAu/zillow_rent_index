{
 "cells": [
  {
   "cell_type": "code",
   "execution_count": 1,
   "id": "4339f75f",
   "metadata": {},
   "outputs": [],
   "source": [
    "import numpy as np\n",
    "import pandas as pd\n",
    "from matplotlib import pyplot as plt\n",
    "plt.style.use('ggplot')\n",
    "%matplotlib inline\n",
    "import seaborn as sns\n",
    "sns.set_style(\"ticks\")"
   ]
  },
  {
   "cell_type": "code",
   "execution_count": 2,
   "id": "ffd334a0",
   "metadata": {},
   "outputs": [
    {
     "name": "stdout",
     "output_type": "stream",
     "text": [
      "SQL_ex_1.ipynb\tSQL_ex_5yr_trends.ipynb  zips.ipynb  zips-small.ipynb\r\n"
     ]
    }
   ],
   "source": [
    "! ls "
   ]
  },
  {
   "cell_type": "code",
   "execution_count": 3,
   "id": "15151f41",
   "metadata": {},
   "outputs": [
    {
     "data": {
      "text/plain": [
       "(array(['32701', '32703', '32707', '32708', '32709', '32714', '32730',\n",
       "        '32732', '32746', '32750', '32751', '32765', '32766', '32773',\n",
       "        '32779', '32789', '32792', '32801', '32803', '32804', '32805',\n",
       "        '32806', '32807', '32808', '32809', '32810', '32811', '32812',\n",
       "        '32814', '32817', '32818', '32819', '32820', '32821', '32822',\n",
       "        '32824', '32825', '32826', '32827', '32828', '32829', '32830',\n",
       "        '32831', '32832', '32833', '32835', '32836', '32837', '32839',\n",
       "        '33848', '33896', '34734', '34741', '34743', '34744', '34746',\n",
       "        '34747', '34758', '34760', '34761', '34769', '34771', '34772',\n",
       "        '34773', '34786', '34787'], dtype='<U5'),\n",
       " 66,\n",
       " 66)"
      ]
     },
     "execution_count": 3,
     "metadata": {},
     "output_type": "execute_result"
    }
   ],
   "source": [
    "OrlandoZips = np.loadtxt(\"../zips/OrlandoZips25mi.txt\", dtype=str)\n",
    "OrlandoZipsSet = set(OrlandoZips)\n",
    "OrlandoZips, len(OrlandoZips), len(OrlandoZipsSet)"
   ]
  },
  {
   "cell_type": "code",
   "execution_count": 4,
   "id": "ac328907",
   "metadata": {},
   "outputs": [
    {
     "data": {
      "text/plain": [
       "(array(['33004', '33009', '33010', '33012', '33013', '33014', '33015',\n",
       "        '33016', '33018', '33019', '33020', '33021', '33023', '33024',\n",
       "        '33025', '33026', '33027', '33028', '33029', '33031', '33032',\n",
       "        '33033', '33039', '33054', '33055', '33056', '33109', '33122',\n",
       "        '33125', '33126', '33127', '33128', '33129', '33130', '33131',\n",
       "        '33132', '33133', '33134', '33135', '33136', '33137', '33138',\n",
       "        '33139', '33140', '33141', '33142', '33143', '33144', '33145',\n",
       "        '33146', '33147', '33149', '33150', '33154', '33155', '33156',\n",
       "        '33157', '33158', '33160', '33161', '33162', '33165', '33166',\n",
       "        '33167', '33168', '33169', '33170', '33172', '33173', '33174',\n",
       "        '33175', '33176', '33177', '33178', '33179', '33180', '33181',\n",
       "        '33182', '33183', '33184', '33185', '33186', '33187', '33189',\n",
       "        '33190', '33193', '33194', '33196', '33301', '33312', '33314',\n",
       "        '33315', '33316', '33317', '33324', '33325', '33328', '33330',\n",
       "        '33331', '33332'], dtype='<U5'),\n",
       " 100,\n",
       " 100)"
      ]
     },
     "execution_count": 4,
     "metadata": {},
     "output_type": "execute_result"
    }
   ],
   "source": [
    "MiamiZips = np.loadtxt(\"../zips/MiamiZips25mi.txt\", dtype=str)\n",
    "MiamiZipsSet = set(MiamiZips)\n",
    "MiamiZips, len(MiamiZips), len(MiamiZipsSet)"
   ]
  },
  {
   "cell_type": "code",
   "execution_count": 5,
   "id": "e25ff106",
   "metadata": {},
   "outputs": [
    {
     "data": {
      "text/plain": [
       "(array(['32003', '32009', '32011', '32034', '32065', '32073', '32082',\n",
       "        '32097', '32202', '32204', '32205', '32206', '32207', '32208',\n",
       "        '32209', '32210', '32211', '32212', '32216', '32217', '32218',\n",
       "        '32219', '32220', '32221', '32222', '32223', '32224', '32225',\n",
       "        '32226', '32227', '32228', '32233', '32234', '32244', '32246',\n",
       "        '32250', '32254', '32256', '32257', '32258', '32259', '32266',\n",
       "        '32277'], dtype='<U5'),\n",
       " 43,\n",
       " 43)"
      ]
     },
     "execution_count": 5,
     "metadata": {},
     "output_type": "execute_result"
    }
   ],
   "source": [
    "JacksonvilleZips = np.loadtxt(\"../zips/JacksonvilleZips25mi.txt\", dtype=str)\n",
    "JacksonvilleZipsSet = set(JacksonvilleZips)\n",
    "JacksonvilleZips, len(JacksonvilleZips), len(JacksonvilleZipsSet)"
   ]
  },
  {
   "cell_type": "code",
   "execution_count": 6,
   "id": "7ce7ddda",
   "metadata": {},
   "outputs": [
    {
     "data": {
      "text/plain": [
       "(array(['33503', '33510', '33511', '33527', '33534', '33543', '33544',\n",
       "        '33547', '33548', '33549', '33556', '33558', '33559', '33563',\n",
       "        '33565', '33566', '33567', '33569', '33570', '33572', '33573',\n",
       "        '33578', '33579', '33584', '33592', '33594', '33596', '33598',\n",
       "        '33602', '33603', '33604', '33605', '33606', '33607', '33609',\n",
       "        '33610', '33611', '33612', '33613', '33614', '33615', '33616',\n",
       "        '33617', '33618', '33619', '33620', '33621', '33624', '33625',\n",
       "        '33626', '33629', '33634', '33635', '33637', '33647', '33701',\n",
       "        '33702', '33703', '33704', '33705', '33706', '33707', '33708',\n",
       "        '33709', '33710', '33711', '33712', '33713', '33714', '33715',\n",
       "        '33716', '33744', '33755', '33756', '33759', '33760', '33761',\n",
       "        '33762', '33763', '33764', '33765', '33767', '33770', '33771',\n",
       "        '33772', '33773', '33774', '33776', '33777', '33778', '33781',\n",
       "        '33782', '33785', '33786', '34219', '34638', '34639', '34653',\n",
       "        '34655', '34677', '34681', '34683', '34684', '34685', '34688',\n",
       "        '34689', '34690', '34695', '34698'], dtype='<U5'),\n",
       " 109,\n",
       " 109)"
      ]
     },
     "execution_count": 6,
     "metadata": {},
     "output_type": "execute_result"
    }
   ],
   "source": [
    "TampaZips = np.loadtxt(\"../zips/TampaZips25mi.txt\", dtype=str)\n",
    "TampaZipsSet = set(TampaZips)\n",
    "TampaZips, len(TampaZips), len(TampaZipsSet)"
   ]
  },
  {
   "cell_type": "code",
   "execution_count": 7,
   "id": "b8887455",
   "metadata": {},
   "outputs": [
    {
     "data": {
      "text/plain": [
       "166"
      ]
     },
     "execution_count": 7,
     "metadata": {},
     "output_type": "execute_result"
    }
   ],
   "source": [
    "CombinedSet = ( OrlandoZipsSet | MiamiZipsSet )\n",
    "len(CombinedSet)"
   ]
  },
  {
   "cell_type": "code",
   "execution_count": 8,
   "id": "70493a6c",
   "metadata": {},
   "outputs": [
    {
     "data": {
      "text/plain": [
       "209"
      ]
     },
     "execution_count": 8,
     "metadata": {},
     "output_type": "execute_result"
    }
   ],
   "source": [
    "CombinedSet = ( CombinedSet | JacksonvilleZipsSet )\n",
    "len(CombinedSet)"
   ]
  },
  {
   "cell_type": "code",
   "execution_count": 9,
   "id": "cb42243d",
   "metadata": {},
   "outputs": [
    {
     "data": {
      "text/plain": [
       "318"
      ]
     },
     "execution_count": 9,
     "metadata": {},
     "output_type": "execute_result"
    }
   ],
   "source": [
    "CombinedSet = ( CombinedSet | TampaZipsSet )\n",
    "len(CombinedSet)\n",
    "# TampaIntersection = (CombinedSet & TampaZipsSet )\n",
    "# len(TampaIntersection), TampaIntersection"
   ]
  },
  {
   "cell_type": "code",
   "execution_count": 10,
   "id": "85dac9a9",
   "metadata": {},
   "outputs": [],
   "source": [
    "## For the 25 mi radius, all zip codes are pairwise disjoint between the 4 metros"
   ]
  }
 ],
 "metadata": {
  "kernelspec": {
   "display_name": "Python 3",
   "language": "python",
   "name": "python3"
  },
  "language_info": {
   "codemirror_mode": {
    "name": "ipython",
    "version": 3
   },
   "file_extension": ".py",
   "mimetype": "text/x-python",
   "name": "python",
   "nbconvert_exporter": "python",
   "pygments_lexer": "ipython3",
   "version": "3.8.8"
  }
 },
 "nbformat": 4,
 "nbformat_minor": 5
}
