{
 "cells": [
  {
   "cell_type": "code",
   "execution_count": 2,
   "id": "4339f75f",
   "metadata": {},
   "outputs": [],
   "source": [
    "import numpy as np\n",
    "import pandas as pd\n",
    "from matplotlib import pyplot as plt\n",
    "plt.style.use('ggplot')\n",
    "%matplotlib inline\n",
    "import seaborn as sns\n",
    "sns.set_style(\"ticks\")"
   ]
  },
  {
   "cell_type": "code",
   "execution_count": 5,
   "id": "ffd334a0",
   "metadata": {},
   "outputs": [
    {
     "name": "stdout",
     "output_type": "stream",
     "text": [
      "projdec9-key.json  SQL_ex_1.ipynb  SQL_ex_5yr_trends.ipynb  zips.ipynb\r\n"
     ]
    }
   ],
   "source": [
    "! ls "
   ]
  },
  {
   "cell_type": "code",
   "execution_count": 4,
   "id": "15151f41",
   "metadata": {},
   "outputs": [
    {
     "data": {
      "text/plain": [
       "array(['32141', '32168', '32701', '32703', '32707', '32708', '32709',\n",
       "       '32712', '32713', '32714', '32725', '32726', '32730', '32732',\n",
       "       '32735', '32736', '32738', '32746', '32750', '32751', '32754',\n",
       "       '32757', '32759', '32763', '32764', '32765', '32766', '32771',\n",
       "       '32773', '32776', '32778', '32779', '32780', '32784', '32789',\n",
       "       '32792', '32796', '32798', '32801', '32803', '32804', '32805',\n",
       "       '32806', '32807', '32808', '32809', '32810', '32811', '32812',\n",
       "       '32814', '32817', '32818', '32819', '32820', '32821', '32822',\n",
       "       '32824', '32825', '32826', '32827', '32828', '32829', '32830',\n",
       "       '32831', '32832', '32833', '32835', '32836', '32837', '32839',\n",
       "       '32901', '32904', '32907', '32908', '32909', '32920', '32922',\n",
       "       '32925', '32926', '32927', '32931', '32934', '32935', '32937',\n",
       "       '32940', '32952', '32953', '32955', '33514', '33597', '33801',\n",
       "       '33803', '33805', '33809', '33810', '33812', '33815', '33823',\n",
       "       '33830', '33837', '33838', '33839', '33844', '33848', '33849',\n",
       "       '33850', '33851', '33859', '33868', '33877', '33880', '33881',\n",
       "       '33884', '33896', '33897', '33898', '34705', '34711', '34714',\n",
       "       '34715', '34731', '34734', '34736', '34737', '34739', '34741',\n",
       "       '34743', '34744', '34746', '34747', '34748', '34753', '34756',\n",
       "       '34758', '34759', '34760', '34761', '34762', '34769', '34771',\n",
       "       '34772', '34773', '34786', '34787', '34788', '34797'], dtype='<U5')"
      ]
     },
     "execution_count": 4,
     "metadata": {},
     "output_type": "execute_result"
    }
   ],
   "source": [
    "OrlandoZips = np.loadtxt(\"../zips/OrlandoZips50mi.txt\", dtype=str)\n",
    "OrlandoZips"
   ]
  }
 ],
 "metadata": {
  "kernelspec": {
   "display_name": "Python 3",
   "language": "python",
   "name": "python3"
  },
  "language_info": {
   "codemirror_mode": {
    "name": "ipython",
    "version": 3
   },
   "file_extension": ".py",
   "mimetype": "text/x-python",
   "name": "python",
   "nbconvert_exporter": "python",
   "pygments_lexer": "ipython3",
   "version": "3.8.8"
  }
 },
 "nbformat": 4,
 "nbformat_minor": 5
}
