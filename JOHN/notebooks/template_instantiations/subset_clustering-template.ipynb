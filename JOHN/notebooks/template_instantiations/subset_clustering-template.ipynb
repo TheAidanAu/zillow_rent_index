{
 "cells": [
  {
   "cell_type": "code",
   "execution_count": 1,
   "id": "ac77862b",
   "metadata": {},
   "outputs": [],
   "source": [
    "import numpy as np\n",
    "import pandas as pd\n",
    "import json\n",
    "\n",
    "from sklearn.preprocessing import MinMaxScaler, normalize\n",
    "from sklearn.cluster import KMeans, AgglomerativeClustering\n"
   ]
  },
  {
   "cell_type": "code",
   "execution_count": null,
   "id": "b7af5f58",
   "metadata": {},
   "outputs": [],
   "source": [
    "pd.__version__"
   ]
  },
  {
   "cell_type": "code",
   "execution_count": null,
   "id": "01cf5e6c",
   "metadata": {},
   "outputs": [],
   "source": [
    "%matplotlib inline\n",
    "import plotly.express as px\n",
    "import matplotlib.pyplot as plt\n",
    "\n",
    "import dataframe_image as dfi"
   ]
  },
  {
   "cell_type": "code",
   "execution_count": null,
   "id": "15e9555c",
   "metadata": {},
   "outputs": [],
   "source": [
    "with open('../../data/fl_florida_zip_codes_geo.min.json', 'r') as f:\n",
    "    fla_shapefiles = json.load(f)"
   ]
  },
  {
   "cell_type": "code",
   "execution_count": null,
   "id": "65bcebcd",
   "metadata": {
    "scrolled": true
   },
   "outputs": [],
   "source": [
    "total_df = pd.read_csv('../../data/total_df2.csv')\n",
    "total_df_col_set = set(total_df.columns)\n",
    "total_df_col_set"
   ]
  },
  {
   "cell_type": "code",
   "execution_count": null,
   "id": "91d62b1c",
   "metadata": {},
   "outputs": [],
   "source": [
    "total_df = total_df.set_index('zip_code')\n",
    "total_df.shape"
   ]
  },
  {
   "cell_type": "code",
   "execution_count": null,
   "id": "a61cfe9a",
   "metadata": {},
   "outputs": [],
   "source": [
    "cluster_subset_cols = ['million_dollar_housing_units', 'unemployed_pop', \n",
    "        'median_income', 'poverty', \n",
    "        'median_rent', 'percent_income_spent_on_rent']"
   ]
  },
  {
   "cell_type": "code",
   "execution_count": null,
   "id": "66e401fd",
   "metadata": {},
   "outputs": [],
   "source": [
    "subset_df = total_df[cluster_subset_cols]\n",
    "subset_df.shape"
   ]
  },
  {
   "cell_type": "code",
   "execution_count": null,
   "id": "bee1c05e",
   "metadata": {},
   "outputs": [],
   "source": [
    "%cd ../../images\n",
    "subdir = \"tetris\"\n",
    "!mkdir \"tetris\"\n",
    "%cd ../notebooks/template_instantiations"
   ]
  },
  {
   "cell_type": "code",
   "execution_count": null,
   "id": "ad6b2b0c",
   "metadata": {},
   "outputs": [],
   "source": [
    "######### K Means"
   ]
  },
  {
   "cell_type": "code",
   "execution_count": null,
   "id": "7f863ff0",
   "metadata": {},
   "outputs": [],
   "source": []
  },
  {
   "cell_type": "code",
   "execution_count": null,
   "id": "0e3b41b6",
   "metadata": {},
   "outputs": [],
   "source": [
    "km = KMeans(n_clusters = 3).fit(subset_df)"
   ]
  },
  {
   "cell_type": "code",
   "execution_count": null,
   "id": "fc1ab8a5",
   "metadata": {
    "scrolled": true
   },
   "outputs": [],
   "source": [
    "km_subset_df = subset_df.copy()\n",
    "km_subset_df['km_cluster'] = km.labels_\n",
    "km_subset_df"
   ]
  },
  {
   "cell_type": "code",
   "execution_count": null,
   "id": "5ac34e84",
   "metadata": {},
   "outputs": [],
   "source": [
    "total_merge_km = pd.merge(total_df, km_subset_df, on = km_subset_df.columns.tolist()[:-1] + ['zip_code'])"
   ]
  },
  {
   "cell_type": "code",
   "execution_count": null,
   "id": "66e3850d",
   "metadata": {
    "scrolled": true
   },
   "outputs": [],
   "source": [
    "total_merge_km"
   ]
  },
  {
   "cell_type": "code",
   "execution_count": null,
   "id": "9de4df26",
   "metadata": {},
   "outputs": [],
   "source": [
    "total_merge_km_group_by_cluster = total_merge_km.groupby('km_cluster')['median_pct_increase']\\\n",
    "    .aggregate(['mean'])\n",
    "\n",
    "total_merge_km_group_by_cluster = total_merge_km_group_by_cluster.style\\\n",
    "    .hide_columns()\\\n",
    "    .set_caption(\n",
    "    \"Median YOY Rent Change By Cluster, KMeans\"\n",
    ")\n",
    "\n",
    "total_merge_km_group_by_cluster"
   ]
  },
  {
   "cell_type": "code",
   "execution_count": null,
   "id": "0edb3cca",
   "metadata": {},
   "outputs": [],
   "source": [
    "image_name = \"km_numbers.png\"\n",
    "dfi.export(total_merge_km_group_by_cluster,\"../../images/\" + subdir + \"/\" + image_name)"
   ]
  },
  {
   "cell_type": "code",
   "execution_count": null,
   "id": "5c747e5e",
   "metadata": {},
   "outputs": [],
   "source": [
    "total_merge_km.reset_index(inplace=True)\n",
    "total_merge_km = total_merge_km.rename(columns = {'index':'zipcode'})"
   ]
  },
  {
   "cell_type": "code",
   "execution_count": null,
   "id": "b832870d",
   "metadata": {
    "scrolled": true
   },
   "outputs": [],
   "source": [
    "# fig = px.choropleth_mapbox(total_merge_km, geojson=fla_shapefiles, locations='zip_code', color='km_cluster',\n",
    "#                            featureidkey='properties.ZCTA5CE10',\n",
    "#                            color_continuous_scale=\"Viridis\",\n",
    "#                            mapbox_style=\"carto-positron\",\n",
    "#                            zoom=7.2, center = {\"lat\": 26.2, \"lon\": -81.0 },\n",
    "#                            opacity=0.5,\n",
    "#                           )\n",
    "# fig.update_layout(margin={\"r\":0,\"t\":0,\"l\":0,\"b\":0})\n",
    "# fig.show()"
   ]
  },
  {
   "cell_type": "code",
   "execution_count": null,
   "id": "cd3ff2ba",
   "metadata": {},
   "outputs": [],
   "source": [
    "image_name = \"km_map.png\"\n",
    "fig.write_image(\"../../images/\" + subdir + \"/\" + image_name)"
   ]
  },
  {
   "cell_type": "code",
   "execution_count": null,
   "id": "9d5139c3",
   "metadata": {},
   "outputs": [],
   "source": [
    "\n",
    "cluster_0_km = total_merge_km[total_merge_km['km_cluster'] == 0]\n",
    "cluster_1_km = total_merge_km[total_merge_km['km_cluster'] == 1]\n",
    "cluster_2_km = total_merge_km[total_merge_km['km_cluster'] == 2]\n"
   ]
  },
  {
   "cell_type": "code",
   "execution_count": null,
   "id": "0589ac62",
   "metadata": {},
   "outputs": [],
   "source": [
    "image_name = \"km_scatter.png\"\n",
    "plt.figure()\n",
    "plt.scatter(cluster_0_km['median_income'], cluster_0_km.Monthly_Avg_Zip, color=\"blue\", label='0')\n",
    "plt.scatter(cluster_1_km['median_income'], cluster_1_km.Monthly_Avg_Zip, color=\"orange\", label='1')\n",
    "plt.scatter(cluster_2_km['median_income'], cluster_2_km.Monthly_Avg_Zip, color=\"green\", label='2')\n",
    "plt.xlabel('Income per Capita')\n",
    "plt.ylabel('Monthly Average Rent')\n",
    "plt.legend()\n",
    "plt.title('Income per capita vs. Monthly Average Rent')\n",
    "plt.savefig(\"../../images/\" + subdir + \"/\" + image_name,  bbox_inches='tight')\n",
    "plt.show()"
   ]
  },
  {
   "cell_type": "code",
   "execution_count": null,
   "id": "adca5f8e",
   "metadata": {},
   "outputs": [],
   "source": []
  },
  {
   "cell_type": "code",
   "execution_count": null,
   "id": "b24e8bd8",
   "metadata": {},
   "outputs": [],
   "source": [
    "########## agglomerative clustering ######"
   ]
  },
  {
   "cell_type": "code",
   "execution_count": null,
   "id": "a636d70e",
   "metadata": {},
   "outputs": [],
   "source": []
  },
  {
   "cell_type": "code",
   "execution_count": null,
   "id": "2f377cc7",
   "metadata": {},
   "outputs": [],
   "source": [
    "norm_subset_df = pd.DataFrame(normalize(subset_df,axis=0),columns=subset_df.columns)"
   ]
  },
  {
   "cell_type": "code",
   "execution_count": null,
   "id": "2f5a5197",
   "metadata": {},
   "outputs": [],
   "source": [
    "norm_subset_df"
   ]
  },
  {
   "cell_type": "code",
   "execution_count": null,
   "id": "c3e2a5df",
   "metadata": {},
   "outputs": [],
   "source": [
    "ag = AgglomerativeClustering()\n",
    "ag.set_params(n_clusters=3)\n",
    "ag.fit(norm_subset_df)\n",
    "\n",
    "ag_subset_df = subset_df.copy()\n",
    "ag_subset_df['cluster'] = ag.labels_\n",
    "ag_subset_df"
   ]
  },
  {
   "cell_type": "code",
   "execution_count": null,
   "id": "61497ccc",
   "metadata": {},
   "outputs": [],
   "source": [
    "total_merge_ag = pd.merge(total_df, ag_subset_df, on = ag_subset_df.columns.tolist()[:-1] + ['zip_code'])\n",
    "total_merge_ag"
   ]
  },
  {
   "cell_type": "code",
   "execution_count": null,
   "id": "d3a08228",
   "metadata": {},
   "outputs": [],
   "source": [
    "total_merge_ag_group_by_cluster = total_merge_ag.groupby('cluster')['median_pct_increase']\\\n",
    "    .aggregate(['mean'])\n",
    "\n",
    "total_merge_ag_group_by_cluster = total_merge_ag_group_by_cluster.style\\\n",
    "    .hide_columns()\\\n",
    "    .set_caption(\n",
    "    \"Median YOY Rent Change By Cluster, Agglomerative\"\n",
    ")\n",
    "\n",
    "total_merge_ag_group_by_cluster"
   ]
  },
  {
   "cell_type": "code",
   "execution_count": null,
   "id": "2c0dbdc6",
   "metadata": {},
   "outputs": [],
   "source": [
    "image_name = \"ag_numbers\"\n",
    "dfi.export(total_merge_ag_group_by_cluster,\"../../images/\" + subdir + \"/\" + image_name)"
   ]
  },
  {
   "cell_type": "code",
   "execution_count": null,
   "id": "8e5397ef",
   "metadata": {},
   "outputs": [],
   "source": [
    "total_merge_ag.reset_index(inplace=True)\n",
    "total_merge_ag = total_merge_ag.rename(columns = {'index':'zipcode'})"
   ]
  },
  {
   "cell_type": "code",
   "execution_count": null,
   "id": "b0b78b4e",
   "metadata": {},
   "outputs": [],
   "source": [
    "# fig = px.choropleth_mapbox(total_merge_ag, geojson=fla_shapefiles, locations='zip_code', color='cluster',\n",
    "#                            featureidkey='properties.ZCTA5CE10',\n",
    "#                            color_continuous_scale=\"Viridis\",\n",
    "#                            mapbox_style=\"carto-positron\",\n",
    "#                            zoom=7.2, center = {\"lat\": 26.2, \"lon\": -81.0 },\n",
    "#                            opacity=0.5,\n",
    "#                           )\n",
    "# fig.update_layout(margin={\"r\":0,\"t\":0,\"l\":0,\"b\":0})\n",
    "# fig.show()"
   ]
  },
  {
   "cell_type": "code",
   "execution_count": null,
   "id": "79a463bd",
   "metadata": {},
   "outputs": [],
   "source": [
    "image_name = \"ag_map.png\"\n",
    "fig.write_image(\"../../images/\" + subdir + \"/\" + image_name)"
   ]
  },
  {
   "cell_type": "code",
   "execution_count": null,
   "id": "f65942f3",
   "metadata": {},
   "outputs": [],
   "source": [
    "cluster_0_ag = total_merge_ag[total_merge_ag['cluster'] == 0]\n",
    "cluster_1_ag = total_merge_ag[total_merge_ag['cluster'] == 1]\n",
    "cluster_2_ag = total_merge_ag[total_merge_ag['cluster'] == 2]"
   ]
  },
  {
   "cell_type": "code",
   "execution_count": null,
   "id": "9bcd6992",
   "metadata": {},
   "outputs": [],
   "source": [
    "image_name = \"ag_scatter.png\"\n",
    "plt.figure()\n",
    "plt.scatter(cluster_0_ag['median_income'], cluster_0_ag.Monthly_Avg_Zip, color='blue', label='0' )\n",
    "plt.scatter(cluster_1_ag['median_income'], cluster_1_ag.Monthly_Avg_Zip, color='orange', label='1')\n",
    "plt.scatter(cluster_2_ag['median_income'], cluster_2_ag.Monthly_Avg_Zip, color='green', label='2')\n",
    "plt.xlabel('Income per Capita')\n",
    "plt.ylabel('Monthly Average Rent')\n",
    "plt.legend()\n",
    "plt.title('Income per capita vs. Monthly Average Rent')\n",
    "plt.savefig(\"../../images/\" + subdir + \"/\" + image_name,  bbox_inches='tight')\n",
    "plt.show()"
   ]
  }
 ],
 "metadata": {
  "kernelspec": {
   "display_name": "Python 3",
   "language": "python",
   "name": "python3"
  },
  "language_info": {
   "codemirror_mode": {
    "name": "ipython",
    "version": 3
   },
   "file_extension": ".py",
   "mimetype": "text/x-python",
   "name": "python",
   "nbconvert_exporter": "python",
   "pygments_lexer": "ipython3",
   "version": "3.8.8"
  }
 },
 "nbformat": 4,
 "nbformat_minor": 5
}
