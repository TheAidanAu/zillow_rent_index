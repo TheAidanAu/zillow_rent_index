{
 "cells": [
  {
   "cell_type": "code",
   "execution_count": 1,
   "id": "ac77862b",
   "metadata": {},
   "outputs": [],
   "source": [
    "import numpy as np\n",
    "import pandas as pd\n",
    "import json\n",
    "\n",
    "from sklearn.preprocessing import MinMaxScaler, normalize\n",
    "from sklearn.cluster import KMeans, AgglomerativeClustering\n"
   ]
  },
  {
   "cell_type": "code",
   "execution_count": 2,
   "id": "b7af5f58",
   "metadata": {},
   "outputs": [
    {
     "data": {
      "text/plain": [
       "'1.3.5'"
      ]
     },
     "execution_count": 2,
     "metadata": {},
     "output_type": "execute_result"
    }
   ],
   "source": [
    "pd.__version__"
   ]
  },
  {
   "cell_type": "code",
   "execution_count": 3,
   "id": "01cf5e6c",
   "metadata": {},
   "outputs": [],
   "source": [
    "%matplotlib inline\n",
    "import plotly.express as px\n",
    "import matplotlib.pyplot as plt\n",
    "\n",
    "import dataframe_image as dfi"
   ]
  },
  {
   "cell_type": "code",
   "execution_count": 4,
   "id": "15e9555c",
   "metadata": {},
   "outputs": [],
   "source": [
    "with open('../../data/fl_florida_zip_codes_geo.min.json', 'r') as f:\n",
    "    fla_shapefiles = json.load(f)"
   ]
  },
  {
   "cell_type": "code",
   "execution_count": 9,
   "id": "65bcebcd",
   "metadata": {
    "scrolled": true
   },
   "outputs": [
    {
     "data": {
      "text/plain": [
       "{'FLSTHPI_Yearly_Avg',\n",
       " 'FL_Unemployment',\n",
       " 'Monthly_Avg_Zip',\n",
       " 'aggregate_travel_time_to_work',\n",
       " 'armed_forces',\n",
       " 'associates_degree',\n",
       " 'bachelors_degree',\n",
       " 'bachelors_degree_2',\n",
       " 'bachelors_degree_or_higher_25_64',\n",
       " 'children',\n",
       " 'children_in_single_female_hh',\n",
       " 'civilian_labor_force',\n",
       " 'commute_10_14_mins',\n",
       " 'commute_15_19_mins',\n",
       " 'commute_20_24_mins',\n",
       " 'commute_25_29_mins',\n",
       " 'commute_30_34_mins',\n",
       " 'commute_35_44_mins',\n",
       " 'commute_45_59_mins',\n",
       " 'commute_60_more_mins',\n",
       " 'commute_less_10_mins',\n",
       " 'commuters_16_over',\n",
       " 'commuters_by_bus',\n",
       " 'commuters_by_car_truck_van',\n",
       " 'commuters_by_carpool',\n",
       " 'commuters_by_public_transportation',\n",
       " 'commuters_by_subway_or_elevated',\n",
       " 'commuters_drove_alone',\n",
       " 'different_house_year_ago_different_city',\n",
       " 'different_house_year_ago_same_city',\n",
       " 'dwellings_10_to_19_units',\n",
       " 'dwellings_1_units_attached',\n",
       " 'dwellings_1_units_detached',\n",
       " 'dwellings_20_to_49_units',\n",
       " 'dwellings_2_units',\n",
       " 'dwellings_3_to_4_units',\n",
       " 'dwellings_50_or_more_units',\n",
       " 'dwellings_5_to_9_units',\n",
       " 'employed_agriculture_forestry_fishing_hunting_mining',\n",
       " 'employed_arts_entertainment_recreation_accommodation_food',\n",
       " 'employed_construction',\n",
       " 'employed_education_health_social',\n",
       " 'employed_finance_insurance_real_estate',\n",
       " 'employed_information',\n",
       " 'employed_manufacturing',\n",
       " 'employed_other_services_not_public_admin',\n",
       " 'employed_pop',\n",
       " 'employed_public_administration',\n",
       " 'employed_retail_trade',\n",
       " 'employed_science_management_admin_waste',\n",
       " 'employed_transportation_warehousing_utilities',\n",
       " 'employed_wholesale_trade',\n",
       " 'families_with_young_children',\n",
       " 'family_households',\n",
       " 'father_in_labor_force_one_parent_families_with_young_children',\n",
       " 'father_one_parent_families_with_young_children',\n",
       " 'female_10_to_14',\n",
       " 'female_15_to_17',\n",
       " 'female_18_to_19',\n",
       " 'female_20',\n",
       " 'female_21',\n",
       " 'female_22_to_24',\n",
       " 'female_25_to_29',\n",
       " 'female_30_to_34',\n",
       " 'female_35_to_39',\n",
       " 'female_40_to_44',\n",
       " 'female_45_to_49',\n",
       " 'female_50_to_54',\n",
       " 'female_55_to_59',\n",
       " 'female_5_to_9',\n",
       " 'female_60_to_61',\n",
       " 'female_62_to_64',\n",
       " 'female_65_to_66',\n",
       " 'female_67_to_69',\n",
       " 'female_70_to_74',\n",
       " 'female_75_to_79',\n",
       " 'female_80_to_84',\n",
       " 'female_85_and_over',\n",
       " 'female_female_households',\n",
       " 'female_pop',\n",
       " 'female_under_5',\n",
       " 'four_more_cars',\n",
       " 'gini_index',\n",
       " 'graduate_professional_degree',\n",
       " 'group_quarters',\n",
       " 'high_school_diploma',\n",
       " 'high_school_including_ged',\n",
       " 'households',\n",
       " 'households_public_asst_or_food_stamps',\n",
       " 'housing_built_1939_or_earlier',\n",
       " 'housing_built_2000_to_2004',\n",
       " 'housing_built_2005_or_later',\n",
       " 'housing_units',\n",
       " 'housing_units_renter_occupied',\n",
       " 'in_grades_1_to_4',\n",
       " 'in_grades_5_to_8',\n",
       " 'in_grades_9_to_12',\n",
       " 'in_school',\n",
       " 'in_undergrad_college',\n",
       " 'income_100000_124999',\n",
       " 'income_10000_14999',\n",
       " 'income_125000_149999',\n",
       " 'income_150000_199999',\n",
       " 'income_15000_19999',\n",
       " 'income_200000_or_more',\n",
       " 'income_20000_24999',\n",
       " 'income_25000_29999',\n",
       " 'income_30000_34999',\n",
       " 'income_35000_39999',\n",
       " 'income_40000_44999',\n",
       " 'income_45000_49999',\n",
       " 'income_50000_59999',\n",
       " 'income_60000_74999',\n",
       " 'income_75000_99999',\n",
       " 'income_less_10000',\n",
       " 'income_per_capita',\n",
       " 'less_one_year_college',\n",
       " 'less_than_high_school_graduate',\n",
       " 'male_10_to_14',\n",
       " 'male_15_to_17',\n",
       " 'male_18_to_19',\n",
       " 'male_20',\n",
       " 'male_21',\n",
       " 'male_22_to_24',\n",
       " 'male_25_to_29',\n",
       " 'male_30_to_34',\n",
       " 'male_35_to_39',\n",
       " 'male_40_to_44',\n",
       " 'male_45_64_associates_degree',\n",
       " 'male_45_64_bachelors_degree',\n",
       " 'male_45_64_grade_9_12',\n",
       " 'male_45_64_graduate_degree',\n",
       " 'male_45_64_high_school',\n",
       " 'male_45_64_less_than_9_grade',\n",
       " 'male_45_64_some_college',\n",
       " 'male_45_to_49',\n",
       " 'male_45_to_64',\n",
       " 'male_50_to_54',\n",
       " 'male_55_to_59',\n",
       " 'male_5_to_9',\n",
       " 'male_65_to_66',\n",
       " 'male_67_to_69',\n",
       " 'male_70_to_74',\n",
       " 'male_75_to_79',\n",
       " 'male_80_to_84',\n",
       " 'male_85_and_over',\n",
       " 'male_male_households',\n",
       " 'male_pop',\n",
       " 'male_under_5',\n",
       " 'management_business_sci_arts_employed',\n",
       " 'married_households',\n",
       " 'masters_degree',\n",
       " 'median_age',\n",
       " 'median_income',\n",
       " 'median_pct_increase',\n",
       " 'median_rent',\n",
       " 'median_year_structure_built',\n",
       " 'million_dollar_housing_units',\n",
       " 'mobile_homes',\n",
       " 'mortgaged_housing_units',\n",
       " 'no_car',\n",
       " 'no_cars',\n",
       " 'nonfamily_households',\n",
       " 'not_in_labor_force',\n",
       " 'not_us_citizen_pop',\n",
       " 'occupation_management_arts',\n",
       " 'occupation_natural_resources_construction_maintenance',\n",
       " 'occupation_production_transportation_material',\n",
       " 'occupation_sales_office',\n",
       " 'occupation_services',\n",
       " 'occupied_housing_units',\n",
       " 'one_car',\n",
       " 'one_parent_families_with_young_children',\n",
       " 'one_year_more_college',\n",
       " 'other_race_pop',\n",
       " 'owner_occupied_housing_units',\n",
       " 'owner_occupied_housing_units_lower_value_quartile',\n",
       " 'owner_occupied_housing_units_median_value',\n",
       " 'owner_occupied_housing_units_upper_value_quartile',\n",
       " 'percent_income_spent_on_rent',\n",
       " 'pop_16_over',\n",
       " 'pop_25_64',\n",
       " 'pop_25_years_over',\n",
       " 'pop_determined_poverty_status',\n",
       " 'pop_in_labor_force',\n",
       " 'population_1_year_and_over',\n",
       " 'population_3_years_over',\n",
       " 'poverty',\n",
       " 'rent_10_to_15_percent',\n",
       " 'rent_15_to_20_percent',\n",
       " 'rent_20_to_25_percent',\n",
       " 'rent_25_to_30_percent',\n",
       " 'rent_30_to_35_percent',\n",
       " 'rent_35_to_40_percent',\n",
       " 'rent_40_to_50_percent',\n",
       " 'rent_burden_not_computed',\n",
       " 'rent_over_50_percent',\n",
       " 'rent_under_10_percent',\n",
       " 'renter_occupied_housing_units_paying_cash_median_gross_rent',\n",
       " 'sales_office_employed',\n",
       " 'some_college_and_associates_degree',\n",
       " 'three_cars',\n",
       " 'total_pop',\n",
       " 'two_cars',\n",
       " 'two_or_more_races_pop',\n",
       " 'two_parent_families_with_young_children',\n",
       " 'two_parents_father_in_labor_force_families_with_young_children',\n",
       " 'two_parents_in_labor_force_families_with_young_children',\n",
       " 'two_parents_mother_in_labor_force_families_with_young_children',\n",
       " 'two_parents_not_in_labor_force_families_with_young_children',\n",
       " 'unemployed_pop',\n",
       " 'vacant_housing_units',\n",
       " 'vacant_housing_units_for_rent',\n",
       " 'vacant_housing_units_for_sale',\n",
       " 'walked_to_work',\n",
       " 'worked_at_home',\n",
       " 'workers_16_and_over',\n",
       " 'year',\n",
       " 'zip_code'}"
      ]
     },
     "execution_count": 9,
     "metadata": {},
     "output_type": "execute_result"
    }
   ],
   "source": [
    "total_df = pd.read_csv('../../data/total_df2.csv')\n",
    "total_df_col_set = set(total_df.columns)\n",
    "total_df_col_set"
   ]
  },
  {
   "cell_type": "code",
   "execution_count": null,
   "id": "91d62b1c",
   "metadata": {},
   "outputs": [],
   "source": [
    "total_df = total_df.set_index('zip_code')\n",
    "total_df.shape"
   ]
  },
  {
   "cell_type": "code",
   "execution_count": null,
   "id": "a61cfe9a",
   "metadata": {},
   "outputs": [],
   "source": [
    "cluster_subset_cols = ['million_dollar_housing_units', 'unemployed_pop', \n",
    "        'median_income', 'poverty', \n",
    "        'median_rent', 'percent_income_spent_on_rent']"
   ]
  },
  {
   "cell_type": "code",
   "execution_count": null,
   "id": "66e401fd",
   "metadata": {},
   "outputs": [],
   "source": [
    "subset_df = total_df[cluster_subset_cols]\n",
    "subset_df.shape"
   ]
  },
  {
   "cell_type": "code",
   "execution_count": null,
   "id": "bee1c05e",
   "metadata": {},
   "outputs": [],
   "source": [
    "%cd ../../images\n",
    "subdir = \"subset4\"\n",
    "!mkdir subset4\n",
    "%cd ../notebooks/template_instantiations"
   ]
  },
  {
   "cell_type": "code",
   "execution_count": null,
   "id": "ad6b2b0c",
   "metadata": {},
   "outputs": [],
   "source": [
    "######### K Means"
   ]
  },
  {
   "cell_type": "code",
   "execution_count": null,
   "id": "7f863ff0",
   "metadata": {},
   "outputs": [],
   "source": []
  },
  {
   "cell_type": "code",
   "execution_count": null,
   "id": "0e3b41b6",
   "metadata": {},
   "outputs": [],
   "source": [
    "km = KMeans(n_clusters = 3).fit(subset_df)"
   ]
  },
  {
   "cell_type": "code",
   "execution_count": null,
   "id": "fc1ab8a5",
   "metadata": {
    "scrolled": true
   },
   "outputs": [],
   "source": [
    "km_subset_df = subset_df.copy()\n",
    "km_subset_df['km_cluster'] = km.labels_\n",
    "km_subset_df"
   ]
  },
  {
   "cell_type": "code",
   "execution_count": null,
   "id": "5ac34e84",
   "metadata": {},
   "outputs": [],
   "source": [
    "total_merge_km = pd.merge(total_df, km_subset_df, on = km_subset_df.columns.tolist()[:-1] + ['zip_code'])"
   ]
  },
  {
   "cell_type": "code",
   "execution_count": null,
   "id": "66e3850d",
   "metadata": {
    "scrolled": true
   },
   "outputs": [],
   "source": [
    "total_merge_km"
   ]
  },
  {
   "cell_type": "code",
   "execution_count": null,
   "id": "9de4df26",
   "metadata": {},
   "outputs": [],
   "source": [
    "total_merge_km_group_by_cluster = total_merge_km.groupby('km_cluster')['median_pct_increase']\\\n",
    "    .aggregate(['mean'])\n",
    "\n",
    "total_merge_km_group_by_cluster = total_merge_km_group_by_cluster.style\\\n",
    "    .hide_columns()\\\n",
    "    .set_caption(\n",
    "    \"Median YOY Rent Change By Cluster, KMeans\"\n",
    ")\n",
    "\n",
    "total_merge_km_group_by_cluster"
   ]
  },
  {
   "cell_type": "code",
   "execution_count": null,
   "id": "0edb3cca",
   "metadata": {},
   "outputs": [],
   "source": [
    "image_name = \"km_numbers.png\"\n",
    "dfi.export(total_merge_km_group_by_cluster,\"../../images/\" + subdir + \"/\" + image_name)"
   ]
  },
  {
   "cell_type": "code",
   "execution_count": null,
   "id": "5c747e5e",
   "metadata": {},
   "outputs": [],
   "source": [
    "total_merge_km.reset_index(inplace=True)\n",
    "total_merge_km = total_merge_km.rename(columns = {'index':'zipcode'})"
   ]
  },
  {
   "cell_type": "code",
   "execution_count": null,
   "id": "b832870d",
   "metadata": {
    "scrolled": true
   },
   "outputs": [],
   "source": [
    "# fig = px.choropleth_mapbox(total_merge_km, geojson=fla_shapefiles, locations='zip_code', color='km_cluster',\n",
    "#                            featureidkey='properties.ZCTA5CE10',\n",
    "#                            color_continuous_scale=\"Viridis\",\n",
    "#                            mapbox_style=\"carto-positron\",\n",
    "#                            zoom=7.2, center = {\"lat\": 26.2, \"lon\": -81.0 },\n",
    "#                            opacity=0.5,\n",
    "#                           )\n",
    "# fig.update_layout(margin={\"r\":0,\"t\":0,\"l\":0,\"b\":0})\n",
    "# fig.show()"
   ]
  },
  {
   "cell_type": "code",
   "execution_count": null,
   "id": "cd3ff2ba",
   "metadata": {},
   "outputs": [],
   "source": [
    "image_name = \"km_map.png\"\n",
    "fig.write_image(\"../../images/\" + subdir + \"/\" + image_name)"
   ]
  },
  {
   "cell_type": "code",
   "execution_count": null,
   "id": "9d5139c3",
   "metadata": {},
   "outputs": [],
   "source": [
    "\n",
    "cluster_0_km = total_merge_km[total_merge_km['km_cluster'] == 0]\n",
    "cluster_1_km = total_merge_km[total_merge_km['km_cluster'] == 1]\n",
    "cluster_2_km = total_merge_km[total_merge_km['km_cluster'] == 2]\n"
   ]
  },
  {
   "cell_type": "code",
   "execution_count": null,
   "id": "0589ac62",
   "metadata": {},
   "outputs": [],
   "source": [
    "image_name = \"km_scatter.png\"\n",
    "plt.figure()\n",
    "plt.scatter(cluster_0_km['median_income'], cluster_0_km.Monthly_Avg_Zip, color=\"blue\", label='0')\n",
    "plt.scatter(cluster_1_km['median_income'], cluster_1_km.Monthly_Avg_Zip, color=\"orange\", label='1')\n",
    "plt.scatter(cluster_2_km['median_income'], cluster_2_km.Monthly_Avg_Zip, color=\"green\", label='2')\n",
    "plt.xlabel('Income per Capita')\n",
    "plt.ylabel('Monthly Average Rent')\n",
    "plt.legend()\n",
    "plt.title('Income per capita vs. Monthly Average Rent')\n",
    "plt.savefig(\"../../images/\" + subdir + \"/\" + image_name,  bbox_inches='tight')\n",
    "plt.show()"
   ]
  },
  {
   "cell_type": "code",
   "execution_count": null,
   "id": "adca5f8e",
   "metadata": {},
   "outputs": [],
   "source": []
  },
  {
   "cell_type": "code",
   "execution_count": null,
   "id": "b24e8bd8",
   "metadata": {},
   "outputs": [],
   "source": [
    "########## agglomerative clustering ######"
   ]
  },
  {
   "cell_type": "code",
   "execution_count": null,
   "id": "a636d70e",
   "metadata": {},
   "outputs": [],
   "source": []
  },
  {
   "cell_type": "code",
   "execution_count": null,
   "id": "2f377cc7",
   "metadata": {},
   "outputs": [],
   "source": [
    "norm_subset_df = pd.DataFrame(normalize(subset_df,axis=0),columns=subset_df.columns)"
   ]
  },
  {
   "cell_type": "code",
   "execution_count": null,
   "id": "2f5a5197",
   "metadata": {},
   "outputs": [],
   "source": [
    "norm_subset_df"
   ]
  },
  {
   "cell_type": "code",
   "execution_count": null,
   "id": "c3e2a5df",
   "metadata": {},
   "outputs": [],
   "source": [
    "ag = AgglomerativeClustering()\n",
    "ag.set_params(n_clusters=3)\n",
    "ag.fit(norm_subset_df)\n",
    "\n",
    "ag_subset_df = subset_df.copy()\n",
    "ag_subset_df['cluster'] = ag.labels_\n",
    "ag_subset_df"
   ]
  },
  {
   "cell_type": "code",
   "execution_count": null,
   "id": "61497ccc",
   "metadata": {},
   "outputs": [],
   "source": [
    "total_merge_ag = pd.merge(total_df, ag_subset_df, on = ag_subset_df.columns.tolist()[:-1] + ['zip_code'])\n",
    "total_merge_ag"
   ]
  },
  {
   "cell_type": "code",
   "execution_count": null,
   "id": "d3a08228",
   "metadata": {},
   "outputs": [],
   "source": [
    "total_merge_ag_group_by_cluster = total_merge_ag.groupby('cluster')['median_pct_increase']\\\n",
    "    .aggregate(['mean'])\n",
    "\n",
    "total_merge_ag_group_by_cluster = total_merge_ag_group_by_cluster.style\\\n",
    "    .hide_columns()\\\n",
    "    .set_caption(\n",
    "    \"Median YOY Rent Change By Cluster, Agglomerative\"\n",
    ")\n",
    "\n",
    "total_merge_ag_group_by_cluster"
   ]
  },
  {
   "cell_type": "code",
   "execution_count": null,
   "id": "2c0dbdc6",
   "metadata": {},
   "outputs": [],
   "source": [
    "image_name = \"ag_numbers\"\n",
    "dfi.export(total_merge_ag_group_by_cluster,\"../../images/\" + subdir + \"/\" + image_name)"
   ]
  },
  {
   "cell_type": "code",
   "execution_count": null,
   "id": "8e5397ef",
   "metadata": {},
   "outputs": [],
   "source": [
    "total_merge_ag.reset_index(inplace=True)\n",
    "total_merge_ag = total_merge_ag.rename(columns = {'index':'zipcode'})"
   ]
  },
  {
   "cell_type": "code",
   "execution_count": null,
   "id": "b0b78b4e",
   "metadata": {},
   "outputs": [],
   "source": [
    "# fig = px.choropleth_mapbox(total_merge_ag, geojson=fla_shapefiles, locations='zip_code', color='cluster',\n",
    "#                            featureidkey='properties.ZCTA5CE10',\n",
    "#                            color_continuous_scale=\"Viridis\",\n",
    "#                            mapbox_style=\"carto-positron\",\n",
    "#                            zoom=7.2, center = {\"lat\": 26.2, \"lon\": -81.0 },\n",
    "#                            opacity=0.5,\n",
    "#                           )\n",
    "# fig.update_layout(margin={\"r\":0,\"t\":0,\"l\":0,\"b\":0})\n",
    "# fig.show()"
   ]
  },
  {
   "cell_type": "code",
   "execution_count": null,
   "id": "79a463bd",
   "metadata": {},
   "outputs": [],
   "source": [
    "image_name = \"ag_map.png\"\n",
    "fig.write_image(\"../../images/\" + subdir + \"/\" + image_name)"
   ]
  },
  {
   "cell_type": "code",
   "execution_count": null,
   "id": "f65942f3",
   "metadata": {},
   "outputs": [],
   "source": [
    "cluster_0_ag = total_merge_ag[total_merge_ag['cluster'] == 0]\n",
    "cluster_1_ag = total_merge_ag[total_merge_ag['cluster'] == 1]\n",
    "cluster_2_ag = total_merge_ag[total_merge_ag['cluster'] == 2]"
   ]
  },
  {
   "cell_type": "code",
   "execution_count": null,
   "id": "9bcd6992",
   "metadata": {},
   "outputs": [],
   "source": [
    "image_name = \"ag_scatter.png\"\n",
    "plt.figure()\n",
    "plt.scatter(cluster_0_ag['median_income'], cluster_0_ag.Monthly_Avg_Zip, color='blue', label='0' )\n",
    "plt.scatter(cluster_1_ag['median_income'], cluster_1_ag.Monthly_Avg_Zip, color='orange', label='1')\n",
    "plt.scatter(cluster_2_ag['median_income'], cluster_2_ag.Monthly_Avg_Zip, color='green', label='2')\n",
    "plt.xlabel('Income per Capita')\n",
    "plt.ylabel('Monthly Average Rent')\n",
    "plt.legend()\n",
    "plt.title('Income per capita vs. Monthly Average Rent')\n",
    "plt.savefig(\"../../images/\" + subdir + \"/\" + image_name,  bbox_inches='tight')\n",
    "plt.show()"
   ]
  }
 ],
 "metadata": {
  "kernelspec": {
   "display_name": "Python 3",
   "language": "python",
   "name": "python3"
  },
  "language_info": {
   "codemirror_mode": {
    "name": "ipython",
    "version": 3
   },
   "file_extension": ".py",
   "mimetype": "text/x-python",
   "name": "python",
   "nbconvert_exporter": "python",
   "pygments_lexer": "ipython3",
   "version": "3.8.8"
  }
 },
 "nbformat": 4,
 "nbformat_minor": 5
}
